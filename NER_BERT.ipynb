{
  "cells": [
    {
      "cell_type": "code",
      "execution_count": 75,
      "metadata": {
        "id": "nG7y09JobLQk",
        "colab": {
          "base_uri": "https://localhost:8080/"
        },
        "outputId": "35d247ad-9b00-4e0c-98ed-79674929b17c"
      },
      "outputs": [
        {
          "output_type": "stream",
          "name": "stdout",
          "text": [
            "Requirement already satisfied: torch in /usr/local/lib/python3.10/dist-packages (2.0.1+cu118)\n",
            "Requirement already satisfied: torchvision in /usr/local/lib/python3.10/dist-packages (0.15.2+cu118)\n",
            "Requirement already satisfied: torchaudio in /usr/local/lib/python3.10/dist-packages (2.0.2+cu118)\n",
            "Requirement already satisfied: filelock in /usr/local/lib/python3.10/dist-packages (from torch) (3.12.2)\n",
            "Requirement already satisfied: typing-extensions in /usr/local/lib/python3.10/dist-packages (from torch) (4.7.1)\n",
            "Requirement already satisfied: sympy in /usr/local/lib/python3.10/dist-packages (from torch) (1.11.1)\n",
            "Requirement already satisfied: networkx in /usr/local/lib/python3.10/dist-packages (from torch) (3.1)\n",
            "Requirement already satisfied: jinja2 in /usr/local/lib/python3.10/dist-packages (from torch) (3.1.2)\n",
            "Requirement already satisfied: triton==2.0.0 in /usr/local/lib/python3.10/dist-packages (from torch) (2.0.0)\n",
            "Requirement already satisfied: cmake in /usr/local/lib/python3.10/dist-packages (from triton==2.0.0->torch) (3.25.2)\n",
            "Requirement already satisfied: lit in /usr/local/lib/python3.10/dist-packages (from triton==2.0.0->torch) (16.0.6)\n",
            "Requirement already satisfied: numpy in /usr/local/lib/python3.10/dist-packages (from torchvision) (1.22.4)\n",
            "Requirement already satisfied: requests in /usr/local/lib/python3.10/dist-packages (from torchvision) (2.27.1)\n",
            "Requirement already satisfied: pillow!=8.3.*,>=5.3.0 in /usr/local/lib/python3.10/dist-packages (from torchvision) (8.4.0)\n",
            "Requirement already satisfied: MarkupSafe>=2.0 in /usr/local/lib/python3.10/dist-packages (from jinja2->torch) (2.1.3)\n",
            "Requirement already satisfied: urllib3<1.27,>=1.21.1 in /usr/local/lib/python3.10/dist-packages (from requests->torchvision) (1.26.16)\n",
            "Requirement already satisfied: certifi>=2017.4.17 in /usr/local/lib/python3.10/dist-packages (from requests->torchvision) (2023.5.7)\n",
            "Requirement already satisfied: charset-normalizer~=2.0.0 in /usr/local/lib/python3.10/dist-packages (from requests->torchvision) (2.0.12)\n",
            "Requirement already satisfied: idna<4,>=2.5 in /usr/local/lib/python3.10/dist-packages (from requests->torchvision) (3.4)\n",
            "Requirement already satisfied: mpmath>=0.19 in /usr/local/lib/python3.10/dist-packages (from sympy->torch) (1.3.0)\n",
            "Requirement already satisfied: transformers[torch] in /usr/local/lib/python3.10/dist-packages (4.30.2)\n",
            "Requirement already satisfied: filelock in /usr/local/lib/python3.10/dist-packages (from transformers[torch]) (3.12.2)\n",
            "Requirement already satisfied: huggingface-hub<1.0,>=0.14.1 in /usr/local/lib/python3.10/dist-packages (from transformers[torch]) (0.16.4)\n",
            "Requirement already satisfied: numpy>=1.17 in /usr/local/lib/python3.10/dist-packages (from transformers[torch]) (1.22.4)\n",
            "Requirement already satisfied: packaging>=20.0 in /usr/local/lib/python3.10/dist-packages (from transformers[torch]) (23.1)\n",
            "Requirement already satisfied: pyyaml>=5.1 in /usr/local/lib/python3.10/dist-packages (from transformers[torch]) (6.0)\n",
            "Requirement already satisfied: regex!=2019.12.17 in /usr/local/lib/python3.10/dist-packages (from transformers[torch]) (2022.10.31)\n",
            "Requirement already satisfied: requests in /usr/local/lib/python3.10/dist-packages (from transformers[torch]) (2.27.1)\n",
            "Requirement already satisfied: tokenizers!=0.11.3,<0.14,>=0.11.1 in /usr/local/lib/python3.10/dist-packages (from transformers[torch]) (0.13.3)\n",
            "Requirement already satisfied: safetensors>=0.3.1 in /usr/local/lib/python3.10/dist-packages (from transformers[torch]) (0.3.1)\n",
            "Requirement already satisfied: tqdm>=4.27 in /usr/local/lib/python3.10/dist-packages (from transformers[torch]) (4.65.0)\n",
            "Requirement already satisfied: torch!=1.12.0,>=1.9 in /usr/local/lib/python3.10/dist-packages (from transformers[torch]) (2.0.1+cu118)\n",
            "Requirement already satisfied: accelerate>=0.20.2 in /usr/local/lib/python3.10/dist-packages (from transformers[torch]) (0.21.0)\n",
            "Requirement already satisfied: psutil in /usr/local/lib/python3.10/dist-packages (from accelerate>=0.20.2->transformers[torch]) (5.9.5)\n",
            "Requirement already satisfied: fsspec in /usr/local/lib/python3.10/dist-packages (from huggingface-hub<1.0,>=0.14.1->transformers[torch]) (2023.6.0)\n",
            "Requirement already satisfied: typing-extensions>=3.7.4.3 in /usr/local/lib/python3.10/dist-packages (from huggingface-hub<1.0,>=0.14.1->transformers[torch]) (4.7.1)\n",
            "Requirement already satisfied: sympy in /usr/local/lib/python3.10/dist-packages (from torch!=1.12.0,>=1.9->transformers[torch]) (1.11.1)\n",
            "Requirement already satisfied: networkx in /usr/local/lib/python3.10/dist-packages (from torch!=1.12.0,>=1.9->transformers[torch]) (3.1)\n",
            "Requirement already satisfied: jinja2 in /usr/local/lib/python3.10/dist-packages (from torch!=1.12.0,>=1.9->transformers[torch]) (3.1.2)\n",
            "Requirement already satisfied: triton==2.0.0 in /usr/local/lib/python3.10/dist-packages (from torch!=1.12.0,>=1.9->transformers[torch]) (2.0.0)\n",
            "Requirement already satisfied: cmake in /usr/local/lib/python3.10/dist-packages (from triton==2.0.0->torch!=1.12.0,>=1.9->transformers[torch]) (3.25.2)\n",
            "Requirement already satisfied: lit in /usr/local/lib/python3.10/dist-packages (from triton==2.0.0->torch!=1.12.0,>=1.9->transformers[torch]) (16.0.6)\n",
            "Requirement already satisfied: urllib3<1.27,>=1.21.1 in /usr/local/lib/python3.10/dist-packages (from requests->transformers[torch]) (1.26.16)\n",
            "Requirement already satisfied: certifi>=2017.4.17 in /usr/local/lib/python3.10/dist-packages (from requests->transformers[torch]) (2023.5.7)\n",
            "Requirement already satisfied: charset-normalizer~=2.0.0 in /usr/local/lib/python3.10/dist-packages (from requests->transformers[torch]) (2.0.12)\n",
            "Requirement already satisfied: idna<4,>=2.5 in /usr/local/lib/python3.10/dist-packages (from requests->transformers[torch]) (3.4)\n",
            "Requirement already satisfied: MarkupSafe>=2.0 in /usr/local/lib/python3.10/dist-packages (from jinja2->torch!=1.12.0,>=1.9->transformers[torch]) (2.1.3)\n",
            "Requirement already satisfied: mpmath>=0.19 in /usr/local/lib/python3.10/dist-packages (from sympy->torch!=1.12.0,>=1.9->transformers[torch]) (1.3.0)\n",
            "Collecting accelerate==0.20.1\n",
            "  Downloading accelerate-0.20.1-py3-none-any.whl (227 kB)\n",
            "\u001b[2K     \u001b[90m━━━━━━━━━━━━━━━━━━━━━━━━━━━━━━━━━━━━━━━\u001b[0m \u001b[32m227.5/227.5 kB\u001b[0m \u001b[31m4.1 MB/s\u001b[0m eta \u001b[36m0:00:00\u001b[0m\n",
            "\u001b[?25hRequirement already satisfied: numpy>=1.17 in /usr/local/lib/python3.10/dist-packages (from accelerate==0.20.1) (1.22.4)\n",
            "Requirement already satisfied: packaging>=20.0 in /usr/local/lib/python3.10/dist-packages (from accelerate==0.20.1) (23.1)\n",
            "Requirement already satisfied: psutil in /usr/local/lib/python3.10/dist-packages (from accelerate==0.20.1) (5.9.5)\n",
            "Requirement already satisfied: pyyaml in /usr/local/lib/python3.10/dist-packages (from accelerate==0.20.1) (6.0)\n",
            "Requirement already satisfied: torch>=1.6.0 in /usr/local/lib/python3.10/dist-packages (from accelerate==0.20.1) (2.0.1+cu118)\n",
            "Requirement already satisfied: filelock in /usr/local/lib/python3.10/dist-packages (from torch>=1.6.0->accelerate==0.20.1) (3.12.2)\n",
            "Requirement already satisfied: typing-extensions in /usr/local/lib/python3.10/dist-packages (from torch>=1.6.0->accelerate==0.20.1) (4.7.1)\n",
            "Requirement already satisfied: sympy in /usr/local/lib/python3.10/dist-packages (from torch>=1.6.0->accelerate==0.20.1) (1.11.1)\n",
            "Requirement already satisfied: networkx in /usr/local/lib/python3.10/dist-packages (from torch>=1.6.0->accelerate==0.20.1) (3.1)\n",
            "Requirement already satisfied: jinja2 in /usr/local/lib/python3.10/dist-packages (from torch>=1.6.0->accelerate==0.20.1) (3.1.2)\n",
            "Requirement already satisfied: triton==2.0.0 in /usr/local/lib/python3.10/dist-packages (from torch>=1.6.0->accelerate==0.20.1) (2.0.0)\n",
            "Requirement already satisfied: cmake in /usr/local/lib/python3.10/dist-packages (from triton==2.0.0->torch>=1.6.0->accelerate==0.20.1) (3.25.2)\n",
            "Requirement already satisfied: lit in /usr/local/lib/python3.10/dist-packages (from triton==2.0.0->torch>=1.6.0->accelerate==0.20.1) (16.0.6)\n",
            "Requirement already satisfied: MarkupSafe>=2.0 in /usr/local/lib/python3.10/dist-packages (from jinja2->torch>=1.6.0->accelerate==0.20.1) (2.1.3)\n",
            "Requirement already satisfied: mpmath>=0.19 in /usr/local/lib/python3.10/dist-packages (from sympy->torch>=1.6.0->accelerate==0.20.1) (1.3.0)\n",
            "Installing collected packages: accelerate\n",
            "  Attempting uninstall: accelerate\n",
            "    Found existing installation: accelerate 0.21.0\n",
            "    Uninstalling accelerate-0.21.0:\n",
            "      Successfully uninstalled accelerate-0.21.0\n",
            "Successfully installed accelerate-0.20.1\n"
          ]
        }
      ],
      "source": [
        "%pip install transformers datasets tokenizers seqeval -q\n",
        "%pip install torch torchvision torchaudio\n",
        "%pip install transformers[torch]\n",
        "%pip install accelerate==0.20.1"
      ]
    },
    {
      "cell_type": "code",
      "source": [
        "import numpy as np\n",
        "from datasets import Dataset, DatasetDict\n",
        "from transformers import BertTokenizerFast, DataCollatorForTokenClassification, AutoModelForTokenClassification\n",
        "from transformers import TrainingArguments, Trainer"
      ],
      "metadata": {
        "id": "BDmlov93_542"
      },
      "execution_count": 78,
      "outputs": []
    },
    {
      "cell_type": "code",
      "execution_count": 10,
      "metadata": {
        "id": "m0ILSDG2a_Pq"
      },
      "outputs": [],
      "source": [
        "import json\n",
        "\n",
        "with open(\"annotations.json\", \"r\") as json_file:\n",
        "  data = json.load(json_file)"
      ]
    },
    {
      "cell_type": "code",
      "execution_count": 11,
      "metadata": {
        "colab": {
          "base_uri": "https://localhost:8080/"
        },
        "id": "lY9tmXctbM3e",
        "outputId": "ca321477-cc06-4320-fef7-677b5e8a7a6a"
      },
      "outputs": [
        {
          "output_type": "execute_result",
          "data": {
            "text/plain": [
              "[[18, 26, 'B-ORG'],\n",
              " [27, 34, 'I-ORG'],\n",
              " [35, 41, 'B-MISC'],\n",
              " [42, 46, 'I-MISC'],\n",
              " [47, 51, 'I-MISC'],\n",
              " [52, 55, 'I-MISC'],\n",
              " [58, 62, 'B-LOC'],\n",
              " [63, 68, 'I-LOC'],\n",
              " [69, 74, 'I-LOC'],\n",
              " [75, 78, 'I-LOC']]"
            ]
          },
          "metadata": {},
          "execution_count": 11
        }
      ],
      "source": [
        "data['annotations'][0][1]['entities'][0:10]"
      ]
    },
    {
      "cell_type": "markdown",
      "metadata": {
        "id": "bObE21Unqxzc"
      },
      "source": [
        "## Transform annotations to huggingface datadict"
      ]
    },
    {
      "cell_type": "code",
      "execution_count": 12,
      "metadata": {
        "colab": {
          "base_uri": "https://localhost:8080/"
        },
        "id": "tfyEnKDsRr-t",
        "outputId": "b71a29ac-af39-4af4-c6a7-f0408c5497f8"
      },
      "outputs": [
        {
          "output_type": "stream",
          "name": "stdout",
          "text": [
            "{'Inveniam': 'B-ORG', 'Private': 'I-ORG', 'Equity': 'B-MISC', 'Fund': 'I-ORG', 'Demo': 'I-MISC', 'IV.': 'I-MISC', '8500': 'B-LOC', 'World': 'I-LOC', 'Trade': 'I-LOC', 'New': 'B-LOC', 'York': 'I-LOC', '10022': 'I-LOC', 'January': 'B-DATE', '1': 'I-DATE', '2019': 'I-DATE', 'Maria': 'B-PER', 'Sharapova': 'B-PER', '31': 'B-LOC', 'Blandford': 'I-LOC', 'Street': 'I-LOC', 'London': 'I-LOC', 'IV': 'I-MISC', 'Delaware': 'B-ORG', 'limited': 'B-MISC', 'partnership': 'I-AGRE', 'letter': 'B-AGRE', 'agreement': 'I-AGRE', '\"Letter': 'B-AGRE', 'Agreement\"': 'I-AGRE', '\"Investor\"': 'B-MISC', 'Amended': 'B-AGRE', 'Restated': 'I-AGRE', 'Limited': 'B-MISC', 'Partnership': 'I-AGRE', 'Agreement': 'I-AGRE', 'August': 'B-DATE', '27': 'I-DATE', '2021': 'I-DATE', '\"Limited': 'B-AGRE', 'Subscription': 'I-AGRE', 'Investor': 'B-MISC', '\"Subscription': 'B-AGRE', '$': 'B-CURR', '50,000,000': 'I-CURR', '\"Capital': 'B-AGRE', 'Commitment\"': 'I-AGRE', 'Capital': 'I-MISC', 'Partners': 'I-MISC', 'GP': 'I-ORG', 'L.L.C.': 'I-ORG', 'liability': 'I-ORG', 'company': 'I-ORG', '\"General': 'B-MISC', 'Partner\"': 'I-MISC', '0.85': 'B-MISC', '%': 'I-MISC', 'General': 'B-MISC', 'Partner': 'I-MISC', 'Other': 'B-AGRE', 'Agreements': 'I-AGRE', 'Comparable': 'B-MISC', 'Investors': 'B-MISC', '\"Sister': 'B-ORG', 'Fund\"': 'I-ORG', 'Overseas': 'B-MISC', 'L.P.': 'B-MISC', '\"SFRO': 'B-ORG', 'Feeder\"': 'I-ORG', 'Agreements\"': 'I-MISC', 'Letter': 'B-AGRE', '30': 'B-TIME', 'days': 'I-TIME', 'Agreement.': 'I-AGRE', 'Third': 'B-MISC', 'Party': 'I-MISC', 'DOC': 'B-MISC', 'ID': 'I-MISC', '36972123.18': 'I-MISC', 'Sister': 'B-ORG', 'SFRO': 'B-ORG', 'Feeder': 'I-ORG', 'Advisory': 'B-ORG', 'Board': 'I-ORG', \"Investor's\": 'B-AGRE', '\"Comparable': 'B-MISC', 'Investor\"': 'I-MISC', 'twenty-five': 'B-MISC', 'percent': 'I-MISC', '25': 'B-MISC', 'U.S.': 'B-LOC', '\"Other': 'B-MISC', 'partners': 'I-MISC', 'Feeder.': 'I-ORG', '\"Third': 'B-MISC', 'Management': 'B-ORG', 'Company': 'I-ORG', 'co-manager': 'B-PER', 'co-adviser': 'B-PER', 'investment': 'B-ORG', 'committee': 'I-ORG', '50': 'I-CURR', 'million': 'I-CURR', 'Commitment': 'I-MISC', 'Section': 'B-MISC', '3': 'I-MISC', 'Commitments': 'I-MISC', 'Agreements.': 'I-AGRE', 'Board.': 'I-ORG', '5.6': 'I-MISC', '\"Advisory': 'B-ORG', 'Board\"': 'I-ORG', '5': 'I-MISC', 'Partner.': 'I-MISC', '14.2': 'I-MISC', 'indemnification': 'B-AGRE', 'Fund.': 'I-ORG', 'Lockheed': 'B-MISC', \"Partner's\": 'I-MISC', 'anti-money': 'B-MISC', 'laundering': 'I-MISC', 'AML': 'B-MISC', 'know': 'B-MISC', 'your': 'I-MISC', 'customer': 'I-MISC', 'KYC': 'B-MISC'}\n",
            "['EXECUTION', 'VERSION', 'Inveniam', 'Private', 'Equity', 'Fund', 'Demo', 'IV.', '.', '8500', 'World', 'Trade', 'New', 'York,', 'New', 'York', '10022', 'January', '1,', '2019', 'Maria', 'Sharapova', '31', 'Blandford', 'Street', 'London,', 'W1U', '3DN', 'Ladies', 'and', 'Gentlemen:', 'RE:', 'Inveniam', 'Private', 'Equity', 'Fund', 'Demo', 'IV,', 'a', 'Delaware', 'limited', 'partnership', '(the', '\"Fund\")', 'This', 'letter', 'agreement', '(this', '\"Letter', 'Agreement\")', 'is', 'entered', 'into', 'in', 'connection', 'with', 'the', 'purchase', 'by', 'Sharapova', '(the', '\"Investor\")', 'of', 'a', 'limited', 'partnership', 'interest', 'in', 'the', 'Fund.', 'Capitalized', 'terms', 'used', 'and', 'not', 'defined', 'herein', 'shall', 'have', 'the', 'meanings', 'given', 'to', 'them', 'in', 'the', 'Fourth', 'Amended', 'and', 'Restated', 'Limited', 'Partnership', 'Agreement', 'of', 'the', 'Fund', 'dated', 'as', 'of', 'August', '27,', '2021', '(the', '\"Limited', 'Partnership', 'Agreement\"),', 'the', 'Subscription', 'Agreement', 'between', 'the', 'Investor', 'and', 'the', 'Fund', 'dated', 'as', 'of', 'the', 'date', 'hereof', '(the', '\"Subscription', 'Agreement\"),', 'including', 'any', 'amendments', 'and', 'supplements', 'to', 'all', 'of', 'the', 'foregoing', '(collectively,', 'the', '\"Fund', 'Documents\").', 'In', 'consideration', 'for', 'the', 'Investor', 'making', 'an', 'aggregate', 'capital', 'commitment', 'of', 'at', 'least', '$50,000,000', 'as', 'of', 'the', 'date', 'hereof', '(the', '\"Capital', 'Commitment\"),', 'Inveniam', 'Capital', 'Partners', 'GP,', 'L.L.C.,', 'a', 'Delaware', 'limited', 'liability', 'company', '(the', '\"General', 'Partner\"),', 'in', 'its', 'capacity', 'as', 'the', 'general', 'partner', 'of', 'the', 'Fund,', 'agrees', 'with', 'the', 'Investor', 'as', 'follows:', '1.', 'Reduced', 'Management', 'Fee', 'Rate.', 'If', 'the', 'Investor', 'has', 'submitted', 'a', 'withdrawal', 'request', 'and', 'the', 'amount', 'of', 'such', 'withdrawal', 'request', 'has', 'not', 'been', 'fully', 'paid', 'to', 'the', 'Investor', 'by', 'the', 'January', '1,', '2019', 'of', 'the', 'applicable', 'Withdrawal', 'Date,', 'the', 'Management', 'Fee', 'charged', 'to', 'the', 'Investor', 'with', 'respect', 'to', 'the', 'amount', 'that', 'has', 'not', 'been', 'paid', 'will', 'be', 'reduced', 'in', 'accordance', 'with', 'the', 'following', 'schedule', 'until', 'any', 'such', 'unsatisfied', 'withdrawal', 'request', 'will', 'be', '0.85%', 'Page', '2', '-2-', '2.', 'Most', 'Favored', 'Nation.', 'The', 'General', 'Partner', 'shall', 'disclose', 'to', 'the', 'Investor', 'any', 'and', 'all', 'Other', 'Agreements', '(which', 'may', 'be', 'redacted', 'to', 'remove', 'identifying', 'information)', 'with', 'Comparable', 'Investors', 'admitted', 'to', 'the', 'Fund,', 'Inveniam', 'Private', 'Equity', 'Fund', 'Demo', 'IV.', '(the', '\"Sister', 'Fund\")', 'and/or', 'AC', 'Partners', 'Overseas', 'Partners,', 'L.P.', '(the', '\"SFRO', 'Feeder\")', 'entered', 'into', 'after', 'the', 'date', 'hereof', '(all', 'such', 'Other', 'Agreements', 'with', 'Comparable', 'Investors,', '\"Applicable', 'Other', 'Agreements\"),', 'and,', 'to', 'the', 'extent', 'any', 'Applicable', 'Other', 'Agreement', 'entered', 'into', 'with', 'any', 'Comparable', 'Investor', 'has', 'the', 'effect', 'of', 'establishing', 'rights', 'or', 'otherwise', 'benefiting', 'such', 'other', 'Comparable', 'Investor', 'in', 'a', 'manner', 'more', 'favorable', 'to', 'such', 'Comparable', 'Investor', 'than', 'the', 'rights', 'and', 'benefits', 'established', 'in', 'favor', 'of', 'the', 'Investor', 'by', 'this', 'Letter', 'Agreement', 'and', 'the', 'Limited', 'Partnership', 'Agreement,', 'the', 'Investor', 'shall,', 'upon', 'request', 'to', 'the', 'General', 'Partner', 'made', 'within', '30', 'days', 'of', 'being', 'notified', 'of', 'the', 'terms', 'of', 'such', 'Applicable', 'Other', 'Agreements,', 'receive', 'the', 'same', 'rights', 'and', 'benefits', 'of', 'such', 'Applicable', 'Other', 'Agreement', '(the', '\"Relevant', 'Terms\")', 'and', 'are', 'so', 'requested,', 'but', 'only', 'if', 'the', 'Investor', 'agrees', 'to', 'be', 'bound', 'by', 'the', 'obligations', 'or', 'restrictions', 'in', 'such', 'Applicable', 'Other', 'Agreement', 'directly', 'relating', 'to', 'the', 'Relevant', 'Terms;', 'provided,', 'however,', 'that', 'Relevant', 'Terms', 'shall', 'exclude', 'any', '\"most', 'favored', 'nation\"', 'rights', 'granted', 'in', 'any', 'Applicable', 'Other', 'Agreement.', 'For', 'the', 'avoidance', 'of', 'doubt,', 'Relevant', 'Terms', 'do', 'not', 'include', 'rights', 'or', 'benefits', 'that', '(1)', 'are', 'granted', 'to', 'any', 'Third', 'Party', 'Investor', 'in', 'connection', 'with', 'such', 'Third', 'Party', \"Investor's\", 'legal,', 'regulatory', 'or', 'tax', 'status', 'that', 'is', 'not', 'DOC', 'ID', '-', '36972123.18', '-3-', 'Page', '3', 'shared', 'by,', 'nor', 'applicable', 'to,', 'the', 'Investor', 'or', 'is', 'otherwise', 'based', 'upon', 'laws,', 'rules', 'or', 'regulations', 'applicable', 'to', 'such', 'Third', 'Party', 'Investor', 'to', 'which', 'the', 'Investor', 'is', 'not', 'also', 'subject,', '(2)', 'are', 'granted', 'based', 'on', 'a', 'requirement', 'under', 'a', 'formal', 'written', 'policy', 'of', 'such', 'Third', 'Party', 'Investor', 'unrelated', 'to', 'its', 'investment', 'in', 'the', 'Fund,', 'the', 'Sister', 'Fund', 'or', 'the', 'SFRO', 'Feeder,', 'to', 'which', 'the', 'Investor', 'is', 'also', 'not', 'subject,', '(3)', 'relate', 'to', 'any', 'representation', 'by', 'such', 'Third', 'Party', 'Investor', 'on,', 'or', 'any', 'observer', 'rights', 'with', 'respect', 'to,', 'the', 'Advisory', 'Board', '(including,', 'without', 'limitation,', 'designation', 'of', 'a', 'representative', 'to', 'serve', 'as', 'a', 'member', 'of', 'the', 'Advisory', 'Board', 'or', 'attend', 'meetings', 'of', 'the', 'Advisory', 'Board', 'or', 'receive', 'or', 'have', 'access', 'to', 'any', 'materials', 'provided', 'to', 'the', 'Advisory', 'Board),', 'unless', 'the', 'Limited', 'Partner', 'to', 'which', 'such', 'Applicable', 'Other', 'Agreement', 'is', 'disclosed', 'has', 'also', 'designated', 'a', 'member', 'of', 'the', 'Advisory', 'Board', 'or', '(4)', 'are', 'based', 'upon', 'such', 'Third', 'Party', \"Investor's\", 'place', 'of', 'organization', 'or', 'headquarters', 'or', 'organizational', 'form', '(in', 'each', 'case,', 'if', 'different', 'from', 'that', 'of', 'the', 'Investor).', 'As', 'used', 'herein,', 'the', 'following', 'terms', 'shall', 'have', 'the', 'following', 'meanings:', '\"Comparable', 'Investor\"', 'shall', 'mean', 'any', 'Third', 'Party', 'Investor', 'having', 'a', 'Capital', 'Commitment', 'to', 'the', 'Fund,', 'the', 'Sister', 'Fund', 'or', 'the', 'SFRO', 'Feeder', 'equal', 'to', 'or', 'less', 'than', 'the', \"Investor's\", 'aggregate', 'Capital', 'Commitment', 'to', 'the', 'Fund,', 'the', 'Sister', 'Fund', 'or', 'the', 'SFRO', 'Feeder;', 'provided', 'that', 'for', 'purposes', 'of', 'determining', 'whether', 'any', 'Third', 'Party', 'Investor', 'is', 'a', 'Comparable', 'Investor,', 'the', 'investment', 'of', 'such', 'Third', 'Party', 'Investor', 'in', 'the', 'Fund,', 'the', 'Sister', 'Fund', 'or', 'the', 'SFRO', 'Feeder', 'may,', 'in', 'the', 'discretion', 'of', 'the', 'General', 'Partner,', 'be', 'aggregated', 'with', 'the', 'aggregate', 'amount', 'of', 'Capital', 'Commitments', 'to', 'the', 'Fund,', 'the', 'Sister', 'Fund', 'or', 'the', 'SFRO', 'Feeder', 'by', 'any', 'Affiliates', 'thereof', 'and', 'any', 'other', 'related', 'Persons', 'thereof', '(including', 'any', 'such', 'Persons', 'treated', 'as', 'affiliated', 'or', 'related', 'for', 'such', 'purposes', 'as', 'a', 'result', 'of', 'being', 'clients', 'of,', 'or', 'otherwise', 'managed', 'or', 'advised', 'by,', 'the', 'same', 'Person', 'or', 'by', 'an', 'Affiliate', 'thereof)', 'and', 'the', 'aggregate', 'amount', 'of', 'any', 'requested', 'subscription', 'amounts', 'of', 'the', 'Third', 'Party', 'Investor', 'or', 'any', 'of', 'the', 'foregoing', 'which', 'were', 'not', 'accepted', 'due', 'to', 'legal', 'or', 'regulatory', 'limitations', '(including,', 'without', 'limitation,', 'in', 'order', 'to', 'ensure', 'that', 'the', 'aggregate', 'direct', 'and', 'indirect', 'Capital', 'Commitments', 'by', 'all', 'Benefit', 'Plan', 'Investors', 'to', 'the', 'Fund,', 'the', 'Sister', 'Fund', 'or', 'the', 'SFRO', 'Feeder', 'are', 'less', 'than', 'twenty-five', 'percent', '(25%)', 'of', 'the', 'total', 'Capital', 'Commitments', 'to', 'such', 'vehicle),', 'in', 'each', 'case,', 'to', 'the', 'extent', 'deemed', 'to', 'have', 'been', 'made', 'by', 'such', 'Third', 'Party', 'Investor', 'for', 'purposes', 'of', 'its', 'Other', 'Agreement', 'as', 'so', 'designated', 'therein;', 'A', 'Third', 'Party', 'Investor', 'that', 'has', 'materially', 'less', 'U.S.', 'ownership', 'than', 'another', 'Third', 'Party', 'Investor', 'will', 'not', 'be', 'considered', 'a', 'Comparable', 'Investor', 'with', 'respect', 'to', 'such', 'other', 'Third', 'Party', 'Investor', 'solely', 'for', 'economic', 'purposes.', 'For', 'example,', 'a', 'Third', 'Party', 'Investor', 'making', 'a', 'Capital', 'Commitment', 'comprised', 'of', '25%', 'more', 'U.S.', 'ownership', 'than', 'another', 'Third', 'Party', 'Investor', 'making', 'a', 'Capital', 'Commitment', 'of', 'the', 'same', 'size', 'would', 'not', 'be', 'considered', 'Comparable', 'Investors', 'for', 'economic', 'purposes.', '\"Other', 'Agreements\"', 'shall', 'mean', 'side', 'letters', 'or', 'similar', 'agreements', 'with', 'Limited', 'Partners', 'of', 'the', 'Fund,', 'the', 'limited', 'partners', 'of', 'the', 'Sister', 'Fund', 'or', 'the', 'limited', 'partners', 'of', 'the', 'SFRO', 'Feeder.', '\"Third', 'Party', 'Investor\"', 'means', 'any', 'Person', 'that', 'subscribes', 'to', 'or', 'invests', 'in', 'the', 'Fund,', 'the', 'Sister', 'Fund', 'or', 'the', 'SFRO', 'Feeder', 'other', 'than:', '(i)', 'any', 'current', 'or', 'former', '(x)', 'member,', 'partner,', 'director,', 'officer,', 'employee,', 'principal,', 'or', 'consultant', '(provided', 'such', 'consultant', 'is', 'generally', 'subject', 'to', 'AC', \"Partners'\", 'compliance', 'policies)', 'of', 'the', 'General', 'Partner,', 'the', 'Management', 'Company', 'or', 'any', 'of', 'their', 'Affiliates,', 'or', '(y)', 'any', 'Related', 'Investor,', 'or', 'other', 'account,', 'trust,', 'partnership', 'or', 'entity', 'primarily', 'for', 'the', 'benefit', 'of', 'any', 'of', 'the', 'foregoing', 'or', 'any', 'of', 'their', 'families;', '(ii)', 'any', 'Person', '(or', 'any', 'Persons', 'DOC', 'ID', '-', '36972123.18', '-4-', 'Page', '4', 'affiliated', 'with', 'or', 'related', 'to', 'such', 'Person)', 'including,', 'without', 'limitation,', 'one', 'individual', 'who', 'may', 'assist', 'in', 'raising', 'capital', 'through', 'such', \"individual's\", \"employer's\", 'private', 'client', 'platform', '(subject', 'to', 'applicable', 'law', 'and', 'such', \"individual's\", \"employer's\", 'policies', 'and', 'procedures', 'around', 'making', 'such', 'investments)', 'that', 'is', 'a', 'current', 'or', 'former', 'joint', 'venture', 'partner', 'or', 'strategic', 'partner', 'of,', 'or', 'co-manager', 'or', 'co-adviser', 'with,', 'the', 'General', 'Partner,', 'the', 'Management', 'Company', 'or', 'any', 'of', 'their', 'Affiliates,', '(iii)', 'any', 'Person', '(or', 'any', 'Persons', 'affiliated', 'with', 'or', 'related', 'to', 'such', 'Person)', 'currently', 'or', 'previously', 'serving', 'or', 'having', 'representatives', 'on', 'any', 'investment', 'committee', '(or', 'similar', 'body', 'or', 'structure', 'exercising', 'investment', 'discretion)', 'of', 'the', 'Fund,', 'the', 'Sister', 'Fund', 'or', 'of', 'any', 'investment', 'fund,', 'vehicle', 'or', 'account', 'co-managed', 'or', 'co-advised', 'by', 'the', 'General', 'Partner,', 'the', 'Management', 'Company', 'or', 'any', 'of', 'their', 'Affiliates,', 'or', '(iv)', 'any', 'subsequent', 'successor,', 'heir', 'or', 'assign', 'of', 'the', 'foregoing.', '3.', 'Capital', 'Commitments', 'by', 'Benefit', 'Plan', 'Investors.', 'The', 'parties', 'hereto', 'acknowledge', 'that', 'the', 'Investor', 'has', 'submitted', 'a', 'Subscription', 'Agreement', 'on', 'or', 'prior', 'to', 'the', 'date', 'hereof', 'requesting', 'an', 'aggregate', 'Capital', 'Commitment', 'of', '$50', 'million', '(the', '\"Requested', 'Commitment\"),', 'and', 'the', 'Investor', 'shall', 'be', 'deemed', 'to', 'have', 'such', 'Capital', 'Commitment', 'for', 'purposes', 'of', 'this', 'Letter', 'Agreement.', 'Notwithstanding', 'the', 'foregoing,', 'the', 'parties', 'hereto', 'agree', 'that,', 'in', 'the', 'sole', 'discretion', 'of', 'the', 'General', 'Partner,', 'the', 'Fund', 'shall', 'accept', 'less', 'than', 'the', 'full', 'amount', 'of', 'the', \"Investor's\", 'Requested', 'Commitment', 'on', 'the', 'date', 'hereof', 'in', 'order', 'to', 'ensure', 'that', 'the', 'aggregate', 'direct', 'and', 'indirect', 'capital', 'commitments', 'by', 'all', 'Benefit', 'Plan', 'Investors', 'to', 'the', 'Fund', 'are', 'less', 'than', '25%', 'of', 'the', 'total', 'capital', 'commitments', 'to', 'the', 'Fund', '(excluding', 'any', 'capital', 'commitments', 'by', 'the', 'General', 'Partner', 'or', 'its', 'Affiliates', 'to', 'the', 'Fund', 'or', 'the', 'SFRO', 'Feeder).', 'In', 'such', 'event,', 'at', 'each', 'subsequent', 'Closing', 'following', 'the', 'date', 'hereof,', 'the', 'General', 'Partner', 'shall', 'accept', 'additional', 'portions', 'of', 'the', 'remaining', 'Requested', 'Commitment', 'of', 'the', 'Investor', '(each,', 'an', '\"Adjustment\")', 'if', 'and', 'to', 'the', 'extent', 'that', 'the', 'General', 'Partner,', 'in', 'its', 'sole', 'discretion,', 'determines', 'that', 'doing', 'so', 'would', 'not', 'cause', 'the', 'aggregate', 'direct', 'and', 'indirect', 'capital', 'commitments', 'by', 'all', 'Benefit', 'Plan', 'Investors', 'to', 'the', 'Fund', 'to', 'exceed', '25%', 'of', 'the', 'total', 'capital', 'commitments', 'to', 'the', 'Fund', '(excluding', 'any', 'capital', 'commitments', 'by', 'the', 'General', 'Partner', 'or', 'its', 'Affiliates', 'to', 'the', 'Fund', 'or', 'the', 'SFRO', 'Feeder).', 'Such', 'Adjustments', 'shall', 'be', 'accepted', 'by', 'the', 'General', 'Partner', 'on', 'not', 'less', 'than', 'a', 'pro', 'rata', 'basis', 'with', 'any', 'similar', 'adjustments', 'for', 'any', 'other', 'Benefit', 'Plan', 'Investors', 'whose', 'requested', 'Capital', 'Commitment', 'was', 'not', 'accepted', 'in', 'full', 'on', 'or', 'prior', 'to', 'the', 'date', 'hereof.', 'Notwithstanding', 'the', 'foregoing,', 'at', 'one', 'or', 'more', 'subsequent', 'Closings,', 'the', 'General', 'Partner', 'may', 'admit', 'any', 'other', 'Benefit', 'Plan', 'Investor', 'as', 'a', 'Limited', 'Partner', 'and', 'enter', 'into', 'an', 'Other', 'Agreement', 'with', 'such', 'Benefit', 'Plan', 'Investor', 'that', 'provides', 'for', 'the', 'acceptance', 'of', 'such', 'Benefit', 'Plan', \"Investor's\", 'Capital', 'Commitment', 'on', 'a', 'similarly', 'conditional', 'basis,', 'provided', 'that', 'the', \"Fund's\", 'acceptance', 'of', 'such', 'Benefit', 'Plan', \"Investor's\", 'Capital', 'Commitment', 'in', 'full', 'is', 'only', 'to', 'the', 'extent', 'that', 'such', 'Capital', 'Commitment', 'is', 'later', 'in', 'priority', 'to', 'the', 'acceptance', 'of', 'the', \"Investor's\", 'Requested', 'Commitment.', 'Other', 'than', 'as', 'set', 'forth', 'in', 'this', 'Section', '3,', 'the', 'General', 'Partner', 'shall', 'not', 'accept', 'Capital', 'Commitments', 'from', 'any', 'Benefit', 'Plan', 'Investors', 'until', 'such', 'time', 'as', 'the', 'entire', 'amount', 'of', 'the', 'Requested', 'Commitment', 'has', 'been', 'accepted.', 'For', 'the', 'avoidance', 'of', 'doubt,', '(i)', 'the', 'Requested', 'Commitment', 'shall', 'be', 'irrevocable', 'by', 'the', 'Investor', 'and', '(ii)', 'the', 'Investor', 'shall', 'be', 'obligated', 'to', 'fund', 'each', 'portion', 'of', 'the', 'Requested', 'Commitment', 'that', 'is', 'accepted', 'by', 'the', 'Fund', 'at', 'each', 'subsequent', 'Closing.', 'Further,', 'for', 'purposes', 'of', 'determining', 'the', 'Lock-Up', 'and', 'the', 'Commitment', 'Lock-Up', 'Expiration', 'Date', 'applicable', 'to', 'the', \"Investor's\", 'Capital', 'Commitment,', 'the', 'Investor', 'shall', 'be', 'deemed', 'to', 'have', 'made', 'its', 'entire', 'Capital', 'Commitment', 'as', 'of', 'the', 'date', 'hereof.', 'DOC', 'ID', '-', '36972123.18', '-5-', 'Page', '5', '4.', 'Other', 'Agreements.', 'For', 'so', 'long', 'as', 'the', 'Investor', 'holds', 'an', 'Interest', 'in', 'the', 'Fund,', 'to', 'the', 'extent', 'that', 'any', 'Other', 'Agreement', 'is', 'entered', 'into', 'with', 'a', 'Third', 'Party', 'Investor', 'with', 'respect', 'to', 'its', 'interest', 'in', 'the', 'Fund,', 'and', 'a', 'copy', 'of', 'such', 'Other', 'Agreement', 'is', 'not', 'required', 'to', 'be', 'provided', 'to', 'the', 'Investor', 'pursuant', 'to', 'Section', '2', 'above,', 'then', 'in', 'such', 'event,', 'the', 'General', 'Partner', 'shall', 'provide', 'to', 'the', 'Investor', 'a', 'copy', 'of', 'such', 'Other', 'Agreement', '(which', 'such', 'copy', 'may', 'be', 'redacted', 'for', 'any', 'identifying', 'information', 'with', 'respect', 'to', 'the', 'Third', 'Party', 'Investor', 'or', 'any', 'other', 'information', 'not', 'relevant', 'hereto)', 'unless', 'the', 'General', 'Partner', 'is', 'otherwise', 'restricted', 'by', 'confidentiality', 'or', 'non-', 'disclosure', 'obligations', 'with', 'respect', 'to', 'the', 'provision', 'of', 'such', 'Other', 'Agreement.', '5.', 'Advisory', 'Board.', 'In', 'consideration', 'of', 'the', \"Investor's\", 'admission', 'as', 'a', 'Limited', 'Partner', 'and', 'for', 'so', 'long', 'as', 'the', 'Investor', 'is', 'a', 'Limited', 'Partner', 'in', 'the', 'Fund', 'and', 'maintains', 'a', 'Capital', 'Commitment', 'of', 'at', 'least', '$50', 'million', '(or', 'such', 'lesser', 'aggregate', 'amount', 'of', 'the', \"Investor's\", 'Capital', 'Commitment', 'that', 'has', 'been', 'accepted', 'by', 'the', 'General', 'Partner', 'in', 'accordance', 'with', 'Section', '3', 'above', 'as', 'of', 'the', 'relevant', 'date),', 'and', 'is', 'not', 'a', 'Defaulting', 'Limited', 'Partner,', 'the', 'General', 'Partner', 'agrees', 'that', 'the', 'Investor', 'shall', 'be', 'entitled', 'to', 'designate', 'one', 'member', 'to', 'serve', 'on', 'a', 'committee', 'of', 'the', 'Fund', 'established', 'pursuant', 'to', 'Section', '5.6', 'of', 'the', 'Limited', 'Partnership', 'Agreement', '(the', '\"Advisory', 'Board\").', 'The', 'appointment', 'of', 'an', 'Advisory', 'Board', 'member', 'pursuant', 'to', 'this', 'Section', '5', 'shall', 'be', 'effective', 'upon', 'written', 'notice', 'from', 'the', 'Investor', 'to', 'the', 'Fund', 'of', 'the', 'name', 'and', 'contact', 'information', 'of', 'the', 'individual', 'so', 'appointed.', 'If', 'the', 'individual', 'appointed', 'pursuant', 'this', 'Section', '5', 'to', 'act', 'as', 'the', 'Advisory', 'Board', 'member', 'is', 'no', 'longer', 'affiliated', 'with', 'the', 'Investor,', 'or', 'no', 'longer', 'able', 'or', 'willing', 'to', 'act', 'as', 'the', 'Advisory', 'Board', 'member,', 'the', 'Investor', 'shall', 'provide', 'prompt', 'written', 'notice', 'thereof', 'to', 'the', 'Fund', 'and', 'such', 'Advisory', 'Board', 'member', 'shall', 'automatically', 'be', 'removed.', 'The', 'Investor', 'shall', 'be', 'entitled', 'to', 'remove', 'or', 'replace', 'any', 'Advisory', 'Board', 'member', 'at', 'any', 'time', 'pursuant', 'to', 'prior', 'written', 'notice', 'provided', 'by', 'the', 'Investor', 'to', 'the', 'General', 'Partner.', 'The', 'Investor', 'acknowledges', 'that', 'the', 'Advisory', 'Board', 'member', 'shall', 'be', 'bound', 'by', 'the', 'confidentiality', 'provisions', 'described', 'in', 'Section', '14.2', 'of', 'the', 'Limited', 'Partnership', 'Agreement.', 'The', 'Advisory', 'Board', 'may', 'act', 'on', 'behalf', 'of', 'the', 'Fund', 'and', 'the', 'Sister', 'Fund', 'if', 'requested', 'by', 'the', 'General', 'Partner,', 'provided', 'that', 'in', 'the', 'event', 'the', 'Advisory', 'Board', 'acts', 'on', 'behalf', 'of', 'the', 'Sister', 'Fund,', 'the', 'Advisory', 'Board', 'representative', 'appointed', 'by', 'the', 'Investor', 'shall', 'be', 'indemnified', 'pursuant', 'to', 'a', 'separate', 'indemnification', 'agreement', 'between', 'such', 'Advisory', 'Board', 'representative', 'and', 'the', 'Sister', 'Fund.', '6.', 'Transfers.', 'In', 'connection', 'with', 'any', 'proposed', 'transfer', 'by', 'the', 'Investor', 'of', 'all', 'or', 'a', 'portion', 'of', 'its', 'Interest', 'in', 'the', 'Fund', 'to', 'a', 'Lockheed', 'Party', '(as', 'defined', 'below),', 'at', 'the', 'request', 'of', 'the', 'Investor,', 'the', 'General', 'Partner', 'shall', 'not', 'unreasonably', 'withhold', 'its', 'written', 'consent', 'to', 'such', 'transfer', 'and', 'the', \"transferee's\", 'substitution', 'as', 'a', 'Limited', 'Partner,', 'as', 'required', 'by', 'the', 'Subscription', 'Agreement;', 'provided', '(a)', 'such', 'transfer', 'will', 'not', 'result', 'in', 'a', 'violation', 'of', 'any', 'applicable', 'laws,', 'rules', 'or', 'regulations', 'or', 'have', 'any', 'material', 'adverse', 'impact', '(whether', 'legal,', 'financial,', 'tax,', 'regulatory,', 'or', 'otherwise)', 'on', 'the', 'Fund,', 'the', 'Management', 'Company', 'or', 'the', 'General', 'Partner,', 'as', 'determined', 'by', 'the', 'General', 'Partner,', '(b)', 'such', 'transferee', 'is', 'not', 'a', 'competitor', 'of', '(directly', 'or', 'indirectly)', 'or', 'otherwise', 'affiliated', 'with', 'any', 'competitor', 'of', 'the', 'Fund,', 'the', 'General', 'Partner,', 'the', 'Management', 'Company', 'or', 'their', 'respective', 'Affiliates,', 'as', 'determined', 'in', 'good', 'faith', 'by', 'the', 'General', 'Partner,', '(c)', 'such', 'transferee', 'is', 'determined', 'to', 'be', 'sufficiently', 'creditworthy', 'to', 'assume', 'the', 'Limited', \"Partner's\", 'obligations', 'with', 'respect', 'to', 'the', 'Interest', 'being', 'transferred', 'and', 'clears', 'any', 'anti-money', 'laundering', '(AML),', 'know', 'your', 'customer', '(KYC)', 'and', 'similar', 'reviews', 'conducted', 'by', 'or', 'on', 'behalf', 'of', 'the', 'Fund', 'or', 'its', 'administrator', 'and', 'consistent', 'with', 'their', 'policies', 'and', 'procedures,', 'and', '(d)', 'such', 'transfer', 'is', 'documented', 'in', 'writing', 'in', 'a', 'form', 'reasonably', 'DOC', 'ID', '-', '36972123.18', '-6-', 'Page', '6', 'acceptable', 'to', 'the', 'General', 'Partner', 'and', 'such', 'transferee', 'makes', 'such', 'representations,', 'warranties,', 'covenants', 'and', 'undertakings', 'as', 'may', 'be', 'reasonably', 'required', 'by', 'the', 'General', 'Partner', 'in', 'connection', 'with', 'such', 'transfer,', 'including', 'representations,', 'warranties,', 'covenants', 'and', 'undertakings', 'comparable', 'to', 'those', 'included', 'in', 'the', \"Investor's\", 'Subscription', 'Agreement.', 'The', 'rights', 'and', 'obligations', 'arising', 'under', 'this', 'Letter', 'Agreement', 'may', 'be', 'assigned', 'by', 'the', 'Investor', 'to', 'any', 'such', 'transferee,', 'and', 'will', 'apply', 'equally', 'to', 'such', 'transferee,', 'in', 'connection', 'with', 'such', 'transfer;', 'provided,', 'however,', 'that', 'the', 'rights', 'arising']\n",
            "[0, 0, 1, 2, 15, 2, 16, 16, 0, 11, 12, 12, 11, 0, 11, 12, 12, 3, 0, 4, 7, 7, 11, 12, 12, 0, 0, 0, 0, 0, 0, 0, 1, 2, 15, 2, 16, 0, 0, 1, 15, 14, 0, 0, 0, 13, 14, 0, 13, 0, 0, 0, 0, 0, 0, 0, 0, 0, 0, 7, 0, 0, 0, 0, 15, 14, 0, 0, 0, 2, 0, 0, 0, 0, 0, 0, 0, 0, 0, 0, 0, 0, 0, 0, 0, 0, 0, 13, 0, 14, 15, 14, 14, 0, 0, 2, 0, 0, 0, 3, 0, 4, 0, 13, 14, 0, 0, 14, 14, 0, 0, 15, 0, 0, 2, 0, 0, 0, 0, 0, 0, 0, 13, 0, 0, 0, 0, 0, 0, 0, 0, 0, 0, 0, 0, 0, 0, 0, 0, 0, 0, 0, 15, 0, 0, 0, 0, 0, 0, 0, 0, 0, 0, 0, 0, 0, 0, 0, 13, 0, 1, 16, 16, 0, 0, 0, 1, 15, 2, 2, 0, 15, 0, 0, 0, 0, 0, 0, 0, 0, 0, 0, 0, 0, 0, 0, 15, 0, 0, 0, 0, 1, 0, 0, 0, 0, 15, 0, 0, 0, 0, 0, 0, 0, 0, 0, 0, 0, 0, 0, 0, 0, 0, 0, 0, 0, 15, 0, 0, 3, 0, 4, 0, 0, 0, 0, 0, 0, 1, 0, 0, 0, 0, 15, 0, 0, 0, 0, 0, 0, 0, 0, 0, 0, 0, 0, 0, 0, 0, 0, 0, 0, 0, 0, 0, 0, 0, 0, 0, 0, 0, 0, 0, 0, 0, 0, 0, 0, 0, 0, 15, 16, 0, 0, 0, 0, 15, 0, 0, 0, 13, 14, 0, 0, 0, 0, 0, 0, 0, 0, 0, 15, 15, 0, 0, 0, 0, 1, 2, 15, 2, 16, 16, 0, 1, 0, 0, 0, 16, 15, 0, 15, 0, 1, 0, 0, 0, 0, 0, 0, 0, 0, 0, 13, 14, 0, 15, 0, 0, 13, 0, 0, 0, 0, 0, 0, 0, 13, 14, 0, 0, 0, 0, 15, 15, 0, 0, 0, 0, 0, 0, 0, 0, 0, 0, 0, 15, 15, 0, 0, 0, 0, 0, 0, 0, 15, 15, 0, 0, 0, 0, 0, 0, 0, 0, 0, 0, 15, 0, 0, 13, 14, 0, 0, 15, 14, 0, 0, 15, 0, 0, 0, 0, 0, 15, 16, 0, 0, 5, 6, 0, 0, 0, 0, 0, 0, 0, 0, 0, 13, 0, 0, 0, 0, 0, 0, 0, 0, 0, 0, 13, 14, 0, 0, 0, 0, 0, 0, 0, 0, 0, 0, 0, 15, 0, 0, 0, 0, 0, 0, 0, 0, 0, 0, 0, 0, 13, 14, 0, 0, 0, 0, 0, 0, 0, 0, 0, 0, 0, 0, 0, 0, 0, 0, 0, 0, 0, 0, 0, 0, 13, 14, 0, 0, 0, 0, 0, 0, 0, 0, 0, 0, 0, 0, 0, 0, 0, 0, 0, 0, 0, 15, 16, 15, 0, 0, 0, 0, 15, 16, 13, 0, 0, 0, 0, 0, 0, 0, 0, 15, 16, 0, 16, 0, 0, 16, 0, 0, 0, 0, 0, 0, 15, 0, 0, 0, 0, 0, 0, 0, 0, 0, 0, 0, 0, 15, 16, 15, 0, 0, 0, 15, 0, 0, 0, 0, 0, 0, 0, 0, 0, 0, 0, 0, 0, 0, 0, 0, 0, 0, 15, 16, 15, 0, 0, 0, 1, 0, 0, 0, 0, 1, 2, 0, 0, 1, 0, 0, 0, 0, 15, 0, 0, 0, 0, 0, 0, 0, 0, 0, 0, 0, 15, 16, 15, 0, 0, 0, 0, 0, 0, 0, 0, 0, 1, 2, 0, 0, 0, 0, 0, 0, 0, 0, 0, 0, 0, 0, 0, 0, 1, 2, 0, 0, 0, 0, 0, 1, 2, 0, 0, 0, 0, 0, 0, 0, 0, 0, 0, 0, 1, 0, 0, 0, 15, 16, 0, 0, 0, 0, 13, 14, 0, 0, 0, 0, 0, 0, 0, 0, 0, 1, 2, 0, 0, 0, 0, 0, 0, 15, 16, 13, 0, 0, 0, 0, 0, 0, 0, 0, 0, 0, 0, 0, 0, 0, 0, 0, 0, 0, 0, 0, 0, 0, 0, 0, 0, 0, 0, 0, 0, 15, 16, 0, 0, 0, 15, 16, 15, 0, 0, 16, 16, 0, 0, 0, 0, 1, 2, 0, 0, 1, 2, 0, 0, 0, 0, 0, 0, 13, 0, 16, 16, 0, 0, 0, 0, 1, 2, 0, 0, 1, 0, 0, 0, 0, 0, 0, 0, 0, 0, 15, 16, 15, 0, 0, 15, 0, 0, 1, 0, 0, 15, 16, 15, 0, 0, 0, 0, 1, 2, 0, 0, 1, 2, 0, 0, 0, 0, 0, 0, 15, 0, 0, 0, 0, 0, 0, 0, 0, 16, 16, 0, 0, 0, 0, 1, 2, 0, 0, 1, 2, 0, 0, 0, 0, 0, 0, 0, 0, 0, 0, 0, 0, 0, 0, 0, 0, 0, 0, 0, 0, 0, 0, 0, 0, 0, 0, 0, 0, 0, 0, 0, 0, 0, 0, 0, 0, 0, 0, 0, 0, 0, 0, 0, 0, 0, 0, 0, 0, 0, 0, 0, 0, 0, 0, 15, 16, 15, 0, 0, 0, 0, 0, 0, 0, 0, 0, 0, 0, 0, 0, 0, 0, 0, 0, 0, 0, 0, 0, 0, 0, 0, 0, 0, 0, 0, 16, 16, 0, 0, 0, 0, 15, 0, 0, 0, 0, 1, 2, 0, 0, 1, 2, 0, 0, 0, 15, 16, 0, 0, 0, 0, 16, 16, 0, 0, 0, 0, 0, 0, 0, 0, 0, 0, 0, 0, 0, 0, 0, 0, 15, 16, 15, 0, 0, 0, 0, 13, 14, 0, 0, 0, 0, 0, 15, 16, 15, 0, 0, 0, 0, 11, 0, 0, 0, 15, 16, 15, 0, 0, 0, 0, 0, 15, 15, 0, 0, 0, 0, 0, 15, 16, 15, 0, 0, 0, 0, 0, 0, 0, 15, 16, 15, 0, 0, 16, 16, 0, 0, 0, 0, 11, 0, 0, 0, 15, 16, 15, 0, 0, 16, 16, 0, 0, 0, 0, 0, 0, 0, 0, 15, 15, 0, 0, 0, 15, 16, 0, 0, 0, 0, 0, 0, 0, 0, 15, 16, 0, 0, 0, 0, 15, 16, 0, 0, 1, 2, 0, 0, 15, 16, 0, 0, 1, 2, 15, 16, 16, 0, 0, 0, 0, 0, 0, 0, 0, 0, 0, 0, 0, 1, 2, 0, 0, 1, 2, 0, 0, 0, 0, 0, 0, 0, 0, 0, 0, 0, 0, 0, 0, 0, 0, 0, 0, 0, 0, 0, 0, 0, 0, 0, 0, 0, 0, 0, 15, 0, 0, 1, 2, 0, 0, 0, 0, 0, 0, 0, 0, 0, 0, 0, 0, 0, 0, 14, 0, 0, 0, 0, 0, 0, 0, 0, 0, 0, 0, 0, 0, 0, 0, 0, 0, 0, 0, 0, 0, 0, 15, 16, 0, 16, 0, 0, 0, 0, 0, 0, 0, 0, 0, 0, 0, 0, 0, 0, 0, 0, 0, 0, 0, 0, 0, 0, 0, 0, 0, 0, 0, 0, 0, 0, 0, 0, 0, 0, 0, 0, 0, 0, 0, 0, 0, 0, 0, 0, 0, 0, 0, 0, 0, 0, 0, 0, 0, 0, 0, 0, 0, 7, 0, 7, 0, 0, 15, 0, 0, 1, 2, 0, 0, 0, 0, 0, 0, 0, 0, 0, 0, 0, 0, 0, 0, 0, 0, 0, 0, 0, 0, 0, 0, 0, 0, 0, 0, 0, 1, 2, 0, 0, 0, 0, 0, 0, 1, 0, 0, 0, 0, 0, 1, 2, 0, 0, 0, 1, 0, 0, 0, 0, 0, 0, 0, 0, 0, 15, 0, 0, 1, 2, 0, 0, 0, 0, 0, 0, 0, 0, 0, 0, 0, 0, 0, 0, 0, 0, 0, 16, 16, 0, 0, 0, 0, 0, 0, 0, 0, 0, 0, 15, 0, 0, 0, 14, 14, 0, 0, 0, 0, 0, 0, 0, 0, 0, 0, 16, 16, 0, 0, 10, 0, 0, 0, 0, 0, 15, 0, 0, 0, 0, 0, 0, 16, 16, 0, 0, 0, 0, 13, 14, 0, 0, 0, 0, 0, 0, 0, 0, 0, 0, 0, 0, 0, 0, 15, 0, 0, 2, 0, 0, 0, 0, 0, 0, 0, 0, 0, 13, 0, 16, 0, 0, 0, 0, 0, 0, 0, 0, 0, 0, 0, 0, 0, 0, 0, 0, 0, 0, 0, 0, 15, 0, 0, 2, 0, 0, 0, 0, 0, 0, 0, 0, 0, 0, 0, 2, 0, 0, 0, 0, 0, 0, 15, 16, 0, 0, 0, 0, 0, 2, 0, 0, 1, 0, 0, 0, 0, 0, 0, 0, 0, 0, 0, 0, 0, 0, 15, 16, 0, 0, 0, 0, 0, 0, 0, 0, 16, 0, 0, 15, 0, 0, 0, 0, 0, 0, 0, 0, 0, 0, 15, 0, 0, 0, 0, 0, 0, 0, 0, 0, 0, 0, 0, 0, 0, 0, 0, 0, 0, 0, 0, 0, 0, 0, 15, 0, 0, 2, 0, 0, 0, 0, 0, 0, 0, 0, 0, 0, 2, 0, 0, 0, 0, 0, 0, 15, 16, 0, 0, 0, 0, 0, 2, 0, 0, 1, 0, 0, 0, 0, 0, 0, 0, 0, 15, 16, 0, 0, 0, 0, 0, 0, 0, 0, 0, 0, 0, 0, 0, 0, 0, 0, 0, 15, 0, 0, 16, 16, 0, 0, 0, 0, 0, 0, 0, 0, 0, 0, 0, 0, 0, 0, 0, 0, 0, 0, 0, 0, 0, 0, 15, 16, 0, 0, 0, 0, 0, 0, 15, 0, 0, 15, 16, 0, 0, 0, 0, 13, 14, 0, 0, 0, 0, 15, 0, 0, 0, 0, 0, 0, 0, 0, 0, 13, 16, 16, 0, 0, 0, 0, 0, 0, 0, 0, 0, 0, 0, 0, 0, 0, 13, 16, 16, 0, 0, 0, 0, 0, 0, 0, 0, 0, 16, 16, 0, 0, 0, 0, 0, 0, 0, 0, 0, 13, 0, 0, 13, 0, 0, 0, 0, 0, 0, 15, 0, 0, 15, 16, 0, 0, 0, 16, 16, 0, 0, 0, 0, 15, 0, 0, 0, 0, 0, 0, 0, 0, 0, 0, 16, 0, 0, 0, 0, 0, 0, 0, 0, 0, 0, 0, 16, 0, 0, 0, 0, 0, 15, 0, 0, 0, 15, 0, 0, 0, 0, 0, 0, 0, 0, 0, 0, 16, 0, 0, 0, 0, 0, 2, 0, 0, 0, 0, 0, 0, 0, 0, 0, 0, 0, 0, 0, 16, 0, 0, 0, 0, 0, 0, 13, 16, 0, 0, 15, 0, 0, 0, 0, 0, 0, 0, 0, 16, 16, 0, 0, 0, 0, 0, 15, 16, 0, 16, 0, 0, 16, 0, 13, 14, 0, 0, 0, 0, 0, 15, 0, 0, 0, 0, 0, 0, 0, 0, 0, 0, 0, 13, 14, 0, 0, 0, 0, 0, 15, 16, 15, 0, 0, 0, 0, 0, 0, 0, 0, 0, 0, 0, 0, 0, 13, 14, 0, 0, 0, 0, 0, 0, 0, 0, 15, 0, 0, 15, 0, 0, 0, 0, 0, 0, 0, 15, 16, 0, 0, 0, 0, 15, 0, 0, 0, 0, 13, 14, 0, 0, 0, 0, 0, 0, 0, 0, 0, 0, 0, 0, 0, 0, 15, 16, 15, 0, 0, 0, 0, 0, 0, 0, 0, 0, 15, 16, 0, 0, 0, 0, 0, 0, 0, 0, 0, 0, 0, 0, 0, 0, 0, 0, 13, 14, 0, 1, 2, 0, 0, 0, 0, 13, 0, 0, 0, 15, 16, 0, 0, 0, 0, 0, 0, 15, 0, 0, 15, 16, 0, 0, 2, 0, 0, 0, 16, 16, 0, 0, 0, 0, 10, 0, 0, 0, 0, 0, 0, 0, 13, 16, 16, 0, 0, 0, 0, 0, 0, 15, 16, 0, 0, 0, 15, 16, 0, 0, 0, 0, 0, 0, 0, 0, 0, 0, 0, 15, 0, 0, 15, 16, 0, 0, 0, 15, 0, 0, 0, 0, 0, 0, 0, 0, 0, 0, 0, 2, 0, 0, 2, 0, 0, 0, 15, 16, 0, 0, 15, 14, 14, 0, 1, 0, 0, 0, 0, 0, 1, 2, 0, 0, 0, 0, 15, 16, 0, 0, 0, 0, 0, 0, 0, 0, 15, 0, 0, 2, 0, 0, 0, 0, 0, 0, 0, 0, 0, 0, 0, 0, 0, 0, 0, 0, 0, 15, 16, 0, 0, 0, 0, 1, 2, 0, 0, 0, 0, 0, 0, 0, 0, 0, 0, 0, 0, 0, 0, 0, 0, 0, 0, 1, 2, 0, 0, 15, 0, 0, 0, 0, 0, 0, 0, 0, 2, 0, 0, 1, 2, 0, 0, 0, 0, 0, 0, 15, 0, 0, 0, 0, 0, 0, 0, 0, 1, 2, 0, 0, 0, 0, 0, 0, 0, 0, 0, 0, 0, 0, 15, 0, 0, 15, 16, 0, 15, 0, 0, 0, 1, 2, 0, 0, 0, 0, 0, 0, 0, 0, 0, 0, 15, 16, 0, 0, 15, 14, 14, 0, 1, 2, 0, 0, 0, 0, 0, 0, 2, 0, 0, 1, 2, 0, 0, 0, 0, 15, 0, 0, 0, 0, 0, 0, 0, 1, 2, 0, 0, 0, 0, 0, 1, 0, 0, 1, 2, 0, 0, 0, 0, 15, 0, 0, 0, 0, 0, 0, 0, 13, 14, 0, 0, 1, 2, 0, 0, 0, 1, 2, 0, 0, 0, 0, 0, 0, 0, 0, 0, 0, 15, 0, 0, 0, 0, 0, 0, 0, 0, 0, 0, 2, 0, 0, 15, 16, 0, 0, 0, 0, 0, 0, 0, 0, 0, 0, 15, 16, 0, 0, 0, 0, 0, 0, 0, 0, 0, 0, 0, 0, 0, 0, 0, 0, 15, 0, 0, 0, 0, 0, 14, 0, 0, 0, 0, 0, 0, 0, 0, 0, 0, 0, 0, 0, 0, 0, 0, 0, 0, 0, 0, 0, 0, 0, 0, 0, 0, 0, 0, 0, 0, 0, 0, 0, 0, 0, 1, 2, 0, 0, 15, 0, 0, 0, 0, 0, 15, 0, 0, 0, 0, 0, 0, 0, 0, 0, 0, 0, 0, 0, 0, 0, 0, 0, 0, 0, 0, 0, 0, 15, 0, 0, 1, 2, 0, 0, 0, 0, 0, 0, 0, 0, 0, 0, 0, 15, 0, 0, 0, 0, 0, 0, 0, 0, 0, 0, 0, 0, 0, 15, 16, 0, 0, 0, 0, 0, 0, 0, 0, 0, 0, 0, 15, 16, 0, 15, 16, 16, 0, 0, 0, 0, 0, 0, 0, 0, 0, 0, 0, 2, 0, 0, 0, 0, 0, 0, 0, 0, 0, 0, 0, 0, 0, 0, 0, 0, 0, 0, 0, 0, 0, 0, 15, 16, 0, 16, 0, 0, 0, 0, 0, 0, 15, 16, 0, 0, 0, 0, 0, 0, 0, 0, 0, 0, 0, 0, 0, 0, 0, 0, 0, 15, 16, 0, 0, 0, 0, 0, 0, 0, 0, 0, 0, 0, 0, 0, 0, 0, 0, 0, 13, 14, 14, 0, 0, 0, 0, 0, 0, 0, 13, 14, 0, 0, 0, 0, 0, 15, 0, 0, 0, 0, 0, 0, 0, 0, 0, 0, 0, 0, 0, 0, 0, 0, 0, 0, 0, 0, 0, 0]\n"
          ]
        }
      ],
      "source": [
        "text = data[\"annotations\"][0][0]\n",
        "tags = data[\"annotations\"][0][1][\"entities\"]\n",
        "classes = data[\"classes\"]\n",
        "\n",
        "classes_dict = {}\n",
        "for i in range(len(classes)):\n",
        "  classes_dict[classes[i]] = i\n",
        "\n",
        "# print(classes_dict)\n",
        "\n",
        "tokens = []\n",
        "named_tags = []\n",
        "\n",
        "for tag in tags:\n",
        "  tokens.append(text[tag[0]:tag[1]])\n",
        "  named_tags.append(tag[2])\n",
        "\n",
        "\n",
        "anno_dict = dict(zip(tokens, named_tags))\n",
        "print(anno_dict)\n",
        "\n",
        "all_tokens = text.split(\" \")\n",
        "named_labels = []\n",
        "numbered_labels = []\n",
        "\n",
        "for token in all_tokens:\n",
        "  if token not in anno_dict:\n",
        "    named_labels.append(\"NONE\")\n",
        "  else:\n",
        "    named_labels.append(anno_dict[token])\n",
        "\n",
        "for label in named_labels:\n",
        "  numbered_labels.append(classes_dict[label])\n",
        "\n",
        "print(all_tokens)\n",
        "# print(named_labels)\n",
        "print(numbered_labels)"
      ]
    },
    {
      "cell_type": "code",
      "execution_count": 13,
      "metadata": {
        "colab": {
          "base_uri": "https://localhost:8080/"
        },
        "id": "KftkrqVERtU_",
        "outputId": "df0601df-11fb-4175-d8df-7a4d89531273"
      },
      "outputs": [
        {
          "output_type": "stream",
          "name": "stdout",
          "text": [
            "[['EXECUTION', 'VERSION', 'Inveniam', 'Private', 'Equity', 'Fund', 'Demo', 'IV.', '.', '8500', 'World'], ['Trade', 'New', 'York,', 'New', 'York', '10022', 'January', '1,', '2019', 'Maria'], ['Sharapova', '31', 'Blandford', 'Street', 'London,', 'W1U', '3DN', 'Ladies', 'and', 'Gentlemen:'], ['RE:', 'Inveniam', 'Private', 'Equity', 'Fund', 'Demo', 'IV,', 'a', 'Delaware', 'limited'], ['partnership', '(the', '\"Fund\")', 'This', 'letter', 'agreement', '(this', '\"Letter', 'Agreement\")', 'is'], ['entered', 'into', 'in', 'connection', 'with', 'the', 'purchase', 'by', 'Sharapova', '(the'], ['\"Investor\")', 'of', 'a', 'limited', 'partnership', 'interest', 'in', 'the', 'Fund.', 'Capitalized'], ['terms', 'used', 'and', 'not', 'defined', 'herein', 'shall', 'have', 'the', 'meanings'], ['given', 'to', 'them', 'in', 'the', 'Fourth', 'Amended', 'and', 'Restated', 'Limited'], ['Partnership', 'Agreement', 'of', 'the', 'Fund', 'dated', 'as', 'of', 'August', '27,'], ['2021', '(the', '\"Limited', 'Partnership', 'Agreement\"),', 'the', 'Subscription', 'Agreement', 'between', 'the'], ['Investor', 'and', 'the', 'Fund', 'dated', 'as', 'of', 'the', 'date', 'hereof'], ['(the', '\"Subscription', 'Agreement\"),', 'including', 'any', 'amendments', 'and', 'supplements', 'to', 'all'], ['of', 'the', 'foregoing', '(collectively,', 'the', '\"Fund', 'Documents\").', 'In', 'consideration', 'for'], ['the', 'Investor', 'making', 'an', 'aggregate', 'capital', 'commitment', 'of', 'at', 'least'], ['$50,000,000', 'as', 'of', 'the', 'date', 'hereof', '(the', '\"Capital', 'Commitment\"),', 'Inveniam'], ['Capital', 'Partners', 'GP,', 'L.L.C.,', 'a', 'Delaware', 'limited', 'liability', 'company', '(the'], ['\"General', 'Partner\"),', 'in', 'its', 'capacity', 'as', 'the', 'general', 'partner', 'of'], ['the', 'Fund,', 'agrees', 'with', 'the', 'Investor', 'as', 'follows:', '1.', 'Reduced'], ['Management', 'Fee', 'Rate.', 'If', 'the', 'Investor', 'has', 'submitted', 'a', 'withdrawal'], ['request', 'and', 'the', 'amount', 'of', 'such', 'withdrawal', 'request', 'has', 'not'], ['been', 'fully', 'paid', 'to', 'the', 'Investor', 'by', 'the', 'January', '1,'], ['2019', 'of', 'the', 'applicable', 'Withdrawal', 'Date,', 'the', 'Management', 'Fee', 'charged'], ['to', 'the', 'Investor', 'with', 'respect', 'to', 'the', 'amount', 'that', 'has'], ['not', 'been', 'paid', 'will', 'be', 'reduced', 'in', 'accordance', 'with', 'the'], ['following', 'schedule', 'until', 'any', 'such', 'unsatisfied', 'withdrawal', 'request', 'will', 'be'], ['0.85%', 'Page', '2', '-2-', '2.', 'Most', 'Favored', 'Nation.', 'The', 'General'], ['Partner', 'shall', 'disclose', 'to', 'the', 'Investor', 'any', 'and', 'all', 'Other'], ['Agreements', '(which', 'may', 'be', 'redacted', 'to', 'remove', 'identifying', 'information)', 'with'], ['Comparable', 'Investors', 'admitted', 'to', 'the', 'Fund,', 'Inveniam', 'Private', 'Equity', 'Fund'], ['Demo', 'IV.', '(the', '\"Sister', 'Fund\")', 'and/or', 'AC', 'Partners', 'Overseas', 'Partners,'], ['L.P.', '(the', '\"SFRO', 'Feeder\")', 'entered', 'into', 'after', 'the', 'date', 'hereof'], ['(all', 'such', 'Other', 'Agreements', 'with', 'Comparable', 'Investors,', '\"Applicable', 'Other', 'Agreements\"),'], ['and,', 'to', 'the', 'extent', 'any', 'Applicable', 'Other', 'Agreement', 'entered', 'into'], ['with', 'any', 'Comparable', 'Investor', 'has', 'the', 'effect', 'of', 'establishing', 'rights'], ['or', 'otherwise', 'benefiting', 'such', 'other', 'Comparable', 'Investor', 'in', 'a', 'manner'], ['more', 'favorable', 'to', 'such', 'Comparable', 'Investor', 'than', 'the', 'rights', 'and'], ['benefits', 'established', 'in', 'favor', 'of', 'the', 'Investor', 'by', 'this', 'Letter'], ['Agreement', 'and', 'the', 'Limited', 'Partnership', 'Agreement,', 'the', 'Investor', 'shall,', 'upon'], ['request', 'to', 'the', 'General', 'Partner', 'made', 'within', '30', 'days', 'of'], ['being', 'notified', 'of', 'the', 'terms', 'of', 'such', 'Applicable', 'Other', 'Agreements,'], ['receive', 'the', 'same', 'rights', 'and', 'benefits', 'of', 'such', 'Applicable', 'Other'], ['Agreement', '(the', '\"Relevant', 'Terms\")', 'and', 'are', 'so', 'requested,', 'but', 'only'], ['if', 'the', 'Investor', 'agrees', 'to', 'be', 'bound', 'by', 'the', 'obligations'], ['or', 'restrictions', 'in', 'such', 'Applicable', 'Other', 'Agreement', 'directly', 'relating', 'to'], ['the', 'Relevant', 'Terms;', 'provided,', 'however,', 'that', 'Relevant', 'Terms', 'shall', 'exclude'], ['any', '\"most', 'favored', 'nation\"', 'rights', 'granted', 'in', 'any', 'Applicable', 'Other'], ['Agreement.', 'For', 'the', 'avoidance', 'of', 'doubt,', 'Relevant', 'Terms', 'do', 'not'], ['include', 'rights', 'or', 'benefits', 'that', '(1)', 'are', 'granted', 'to', 'any'], ['Third', 'Party', 'Investor', 'in', 'connection', 'with', 'such', 'Third', 'Party', \"Investor's\"], ['legal,', 'regulatory', 'or', 'tax', 'status', 'that', 'is', 'not', 'DOC', 'ID'], ['-', '36972123.18', '-3-', 'Page', '3', 'shared', 'by,', 'nor', 'applicable', 'to,'], ['the', 'Investor', 'or', 'is', 'otherwise', 'based', 'upon', 'laws,', 'rules', 'or'], ['regulations', 'applicable', 'to', 'such', 'Third', 'Party', 'Investor', 'to', 'which', 'the'], ['Investor', 'is', 'not', 'also', 'subject,', '(2)', 'are', 'granted', 'based', 'on'], ['a', 'requirement', 'under', 'a', 'formal', 'written', 'policy', 'of', 'such', 'Third'], ['Party', 'Investor', 'unrelated', 'to', 'its', 'investment', 'in', 'the', 'Fund,', 'the'], ['Sister', 'Fund', 'or', 'the', 'SFRO', 'Feeder,', 'to', 'which', 'the', 'Investor'], ['is', 'also', 'not', 'subject,', '(3)', 'relate', 'to', 'any', 'representation', 'by'], ['such', 'Third', 'Party', 'Investor', 'on,', 'or', 'any', 'observer', 'rights', 'with'], ['respect', 'to,', 'the', 'Advisory', 'Board', '(including,', 'without', 'limitation,', 'designation', 'of'], ['a', 'representative', 'to', 'serve', 'as', 'a', 'member', 'of', 'the', 'Advisory'], ['Board', 'or', 'attend', 'meetings', 'of', 'the', 'Advisory', 'Board', 'or', 'receive'], ['or', 'have', 'access', 'to', 'any', 'materials', 'provided', 'to', 'the', 'Advisory'], ['Board),', 'unless', 'the', 'Limited', 'Partner', 'to', 'which', 'such', 'Applicable', 'Other'], ['Agreement', 'is', 'disclosed', 'has', 'also', 'designated', 'a', 'member', 'of', 'the'], ['Advisory', 'Board', 'or', '(4)', 'are', 'based', 'upon', 'such', 'Third', 'Party'], [\"Investor's\", 'place', 'of', 'organization', 'or', 'headquarters', 'or', 'organizational', 'form', '(in'], ['each', 'case,', 'if', 'different', 'from', 'that', 'of', 'the', 'Investor).', 'As'], ['used', 'herein,', 'the', 'following', 'terms', 'shall', 'have', 'the', 'following', 'meanings:'], ['\"Comparable', 'Investor\"', 'shall', 'mean', 'any', 'Third', 'Party', 'Investor', 'having', 'a'], ['Capital', 'Commitment', 'to', 'the', 'Fund,', 'the', 'Sister', 'Fund', 'or', 'the'], ['SFRO', 'Feeder', 'equal', 'to', 'or', 'less', 'than', 'the', \"Investor's\", 'aggregate'], ['Capital', 'Commitment', 'to', 'the', 'Fund,', 'the', 'Sister', 'Fund', 'or', 'the'], ['SFRO', 'Feeder;', 'provided', 'that', 'for', 'purposes', 'of', 'determining', 'whether', 'any'], ['Third', 'Party', 'Investor', 'is', 'a', 'Comparable', 'Investor,', 'the', 'investment', 'of'], ['such', 'Third', 'Party', 'Investor', 'in', 'the', 'Fund,', 'the', 'Sister', 'Fund'], ['or', 'the', 'SFRO', 'Feeder', 'may,', 'in', 'the', 'discretion', 'of', 'the'], ['General', 'Partner,', 'be', 'aggregated', 'with', 'the', 'aggregate', 'amount', 'of', 'Capital'], ['Commitments', 'to', 'the', 'Fund,', 'the', 'Sister', 'Fund', 'or', 'the', 'SFRO'], ['Feeder', 'by', 'any', 'Affiliates', 'thereof', 'and', 'any', 'other', 'related', 'Persons'], ['thereof', '(including', 'any', 'such', 'Persons', 'treated', 'as', 'affiliated', 'or', 'related'], ['for', 'such', 'purposes', 'as', 'a', 'result', 'of', 'being', 'clients', 'of,'], ['or', 'otherwise', 'managed', 'or', 'advised', 'by,', 'the', 'same', 'Person', 'or'], ['by', 'an', 'Affiliate', 'thereof)', 'and', 'the', 'aggregate', 'amount', 'of', 'any'], ['requested', 'subscription', 'amounts', 'of', 'the', 'Third', 'Party', 'Investor', 'or', 'any'], ['of', 'the', 'foregoing', 'which', 'were', 'not', 'accepted', 'due', 'to', 'legal'], ['or', 'regulatory', 'limitations', '(including,', 'without', 'limitation,', 'in', 'order', 'to', 'ensure'], ['that', 'the', 'aggregate', 'direct', 'and', 'indirect', 'Capital', 'Commitments', 'by', 'all'], ['Benefit', 'Plan', 'Investors', 'to', 'the', 'Fund,', 'the', 'Sister', 'Fund', 'or'], ['the', 'SFRO', 'Feeder', 'are', 'less', 'than', 'twenty-five', 'percent', '(25%)', 'of'], ['the', 'total', 'Capital', 'Commitments', 'to', 'such', 'vehicle),', 'in', 'each', 'case,'], ['to', 'the', 'extent', 'deemed', 'to', 'have', 'been', 'made', 'by', 'such'], ['Third', 'Party', 'Investor', 'for', 'purposes', 'of', 'its', 'Other', 'Agreement', 'as'], ['so', 'designated', 'therein;', 'A', 'Third', 'Party', 'Investor', 'that', 'has', 'materially'], ['less', 'U.S.', 'ownership', 'than', 'another', 'Third', 'Party', 'Investor', 'will', 'not'], ['be', 'considered', 'a', 'Comparable', 'Investor', 'with', 'respect', 'to', 'such', 'other'], ['Third', 'Party', 'Investor', 'solely', 'for', 'economic', 'purposes.', 'For', 'example,', 'a'], ['Third', 'Party', 'Investor', 'making', 'a', 'Capital', 'Commitment', 'comprised', 'of', '25%'], ['more', 'U.S.', 'ownership', 'than', 'another', 'Third', 'Party', 'Investor', 'making', 'a'], ['Capital', 'Commitment', 'of', 'the', 'same', 'size', 'would', 'not', 'be', 'considered'], ['Comparable', 'Investors', 'for', 'economic', 'purposes.', '\"Other', 'Agreements\"', 'shall', 'mean', 'side'], ['letters', 'or', 'similar', 'agreements', 'with', 'Limited', 'Partners', 'of', 'the', 'Fund,'], ['the', 'limited', 'partners', 'of', 'the', 'Sister', 'Fund', 'or', 'the', 'limited'], ['partners', 'of', 'the', 'SFRO', 'Feeder.', '\"Third', 'Party', 'Investor\"', 'means', 'any'], ['Person', 'that', 'subscribes', 'to', 'or', 'invests', 'in', 'the', 'Fund,', 'the'], ['Sister', 'Fund', 'or', 'the', 'SFRO', 'Feeder', 'other', 'than:', '(i)', 'any'], ['current', 'or', 'former', '(x)', 'member,', 'partner,', 'director,', 'officer,', 'employee,', 'principal,'], ['or', 'consultant', '(provided', 'such', 'consultant', 'is', 'generally', 'subject', 'to', 'AC'], [\"Partners'\", 'compliance', 'policies)', 'of', 'the', 'General', 'Partner,', 'the', 'Management', 'Company'], ['or', 'any', 'of', 'their', 'Affiliates,', 'or', '(y)', 'any', 'Related', 'Investor,'], ['or', 'other', 'account,', 'trust,', 'partnership', 'or', 'entity', 'primarily', 'for', 'the'], ['benefit', 'of', 'any', 'of', 'the', 'foregoing', 'or', 'any', 'of', 'their'], ['families;', '(ii)', 'any', 'Person', '(or', 'any', 'Persons', 'DOC', 'ID', '-'], ['36972123.18', '-4-', 'Page', '4', 'affiliated', 'with', 'or', 'related', 'to', 'such'], ['Person)', 'including,', 'without', 'limitation,', 'one', 'individual', 'who', 'may', 'assist', 'in'], ['raising', 'capital', 'through', 'such', \"individual's\", \"employer's\", 'private', 'client', 'platform', '(subject'], ['to', 'applicable', 'law', 'and', 'such', \"individual's\", \"employer's\", 'policies', 'and', 'procedures'], ['around', 'making', 'such', 'investments)', 'that', 'is', 'a', 'current', 'or', 'former'], ['joint', 'venture', 'partner', 'or', 'strategic', 'partner', 'of,', 'or', 'co-manager', 'or'], ['co-adviser', 'with,', 'the', 'General', 'Partner,', 'the', 'Management', 'Company', 'or', 'any'], ['of', 'their', 'Affiliates,', '(iii)', 'any', 'Person', '(or', 'any', 'Persons', 'affiliated'], ['with', 'or', 'related', 'to', 'such', 'Person)', 'currently', 'or', 'previously', 'serving'], ['or', 'having', 'representatives', 'on', 'any', 'investment', 'committee', '(or', 'similar', 'body'], ['or', 'structure', 'exercising', 'investment', 'discretion)', 'of', 'the', 'Fund,', 'the', 'Sister'], ['Fund', 'or', 'of', 'any', 'investment', 'fund,', 'vehicle', 'or', 'account', 'co-managed'], ['or', 'co-advised', 'by', 'the', 'General', 'Partner,', 'the', 'Management', 'Company', 'or'], ['any', 'of', 'their', 'Affiliates,', 'or', '(iv)', 'any', 'subsequent', 'successor,', 'heir'], ['or', 'assign', 'of', 'the', 'foregoing.', '3.', 'Capital', 'Commitments', 'by', 'Benefit'], ['Plan', 'Investors.', 'The', 'parties', 'hereto', 'acknowledge', 'that', 'the', 'Investor', 'has'], ['submitted', 'a', 'Subscription', 'Agreement', 'on', 'or', 'prior', 'to', 'the', 'date'], ['hereof', 'requesting', 'an', 'aggregate', 'Capital', 'Commitment', 'of', '$50', 'million', '(the'], ['\"Requested', 'Commitment\"),', 'and', 'the', 'Investor', 'shall', 'be', 'deemed', 'to', 'have'], ['such', 'Capital', 'Commitment', 'for', 'purposes', 'of', 'this', 'Letter', 'Agreement.', 'Notwithstanding'], ['the', 'foregoing,', 'the', 'parties', 'hereto', 'agree', 'that,', 'in', 'the', 'sole'], ['discretion', 'of', 'the', 'General', 'Partner,', 'the', 'Fund', 'shall', 'accept', 'less'], ['than', 'the', 'full', 'amount', 'of', 'the', \"Investor's\", 'Requested', 'Commitment', 'on'], ['the', 'date', 'hereof', 'in', 'order', 'to', 'ensure', 'that', 'the', 'aggregate'], ['direct', 'and', 'indirect', 'capital', 'commitments', 'by', 'all', 'Benefit', 'Plan', 'Investors'], ['to', 'the', 'Fund', 'are', 'less', 'than', '25%', 'of', 'the', 'total'], ['capital', 'commitments', 'to', 'the', 'Fund', '(excluding', 'any', 'capital', 'commitments', 'by'], ['the', 'General', 'Partner', 'or', 'its', 'Affiliates', 'to', 'the', 'Fund', 'or'], ['the', 'SFRO', 'Feeder).', 'In', 'such', 'event,', 'at', 'each', 'subsequent', 'Closing'], ['following', 'the', 'date', 'hereof,', 'the', 'General', 'Partner', 'shall', 'accept', 'additional'], ['portions', 'of', 'the', 'remaining', 'Requested', 'Commitment', 'of', 'the', 'Investor', '(each,'], ['an', '\"Adjustment\")', 'if', 'and', 'to', 'the', 'extent', 'that', 'the', 'General'], ['Partner,', 'in', 'its', 'sole', 'discretion,', 'determines', 'that', 'doing', 'so', 'would'], ['not', 'cause', 'the', 'aggregate', 'direct', 'and', 'indirect', 'capital', 'commitments', 'by'], ['all', 'Benefit', 'Plan', 'Investors', 'to', 'the', 'Fund', 'to', 'exceed', '25%'], ['of', 'the', 'total', 'capital', 'commitments', 'to', 'the', 'Fund', '(excluding', 'any'], ['capital', 'commitments', 'by', 'the', 'General', 'Partner', 'or', 'its', 'Affiliates', 'to'], ['the', 'Fund', 'or', 'the', 'SFRO', 'Feeder).', 'Such', 'Adjustments', 'shall', 'be'], ['accepted', 'by', 'the', 'General', 'Partner', 'on', 'not', 'less', 'than', 'a'], ['pro', 'rata', 'basis', 'with', 'any', 'similar', 'adjustments', 'for', 'any', 'other'], ['Benefit', 'Plan', 'Investors', 'whose', 'requested', 'Capital', 'Commitment', 'was', 'not', 'accepted'], ['in', 'full', 'on', 'or', 'prior', 'to', 'the', 'date', 'hereof.', 'Notwithstanding'], ['the', 'foregoing,', 'at', 'one', 'or', 'more', 'subsequent', 'Closings,', 'the', 'General'], ['Partner', 'may', 'admit', 'any', 'other', 'Benefit', 'Plan', 'Investor', 'as', 'a'], ['Limited', 'Partner', 'and', 'enter', 'into', 'an', 'Other', 'Agreement', 'with', 'such'], ['Benefit', 'Plan', 'Investor', 'that', 'provides', 'for', 'the', 'acceptance', 'of', 'such'], ['Benefit', 'Plan', \"Investor's\", 'Capital', 'Commitment', 'on', 'a', 'similarly', 'conditional', 'basis,'], ['provided', 'that', 'the', \"Fund's\", 'acceptance', 'of', 'such', 'Benefit', 'Plan', \"Investor's\"], ['Capital', 'Commitment', 'in', 'full', 'is', 'only', 'to', 'the', 'extent', 'that'], ['such', 'Capital', 'Commitment', 'is', 'later', 'in', 'priority', 'to', 'the', 'acceptance'], ['of', 'the', \"Investor's\", 'Requested', 'Commitment.', 'Other', 'than', 'as', 'set', 'forth'], ['in', 'this', 'Section', '3,', 'the', 'General', 'Partner', 'shall', 'not', 'accept'], ['Capital', 'Commitments', 'from', 'any', 'Benefit', 'Plan', 'Investors', 'until', 'such', 'time'], ['as', 'the', 'entire', 'amount', 'of', 'the', 'Requested', 'Commitment', 'has', 'been'], ['accepted.', 'For', 'the', 'avoidance', 'of', 'doubt,', '(i)', 'the', 'Requested', 'Commitment'], ['shall', 'be', 'irrevocable', 'by', 'the', 'Investor', 'and', '(ii)', 'the', 'Investor'], ['shall', 'be', 'obligated', 'to', 'fund', 'each', 'portion', 'of', 'the', 'Requested'], ['Commitment', 'that', 'is', 'accepted', 'by', 'the', 'Fund', 'at', 'each', 'subsequent'], ['Closing.', 'Further,', 'for', 'purposes', 'of', 'determining', 'the', 'Lock-Up', 'and', 'the'], ['Commitment', 'Lock-Up', 'Expiration', 'Date', 'applicable', 'to', 'the', \"Investor's\", 'Capital', 'Commitment,'], ['the', 'Investor', 'shall', 'be', 'deemed', 'to', 'have', 'made', 'its', 'entire'], ['Capital', 'Commitment', 'as', 'of', 'the', 'date', 'hereof.', 'DOC', 'ID', '-'], ['36972123.18', '-5-', 'Page', '5', '4.', 'Other', 'Agreements.', 'For', 'so', 'long'], ['as', 'the', 'Investor', 'holds', 'an', 'Interest', 'in', 'the', 'Fund,', 'to'], ['the', 'extent', 'that', 'any', 'Other', 'Agreement', 'is', 'entered', 'into', 'with'], ['a', 'Third', 'Party', 'Investor', 'with', 'respect', 'to', 'its', 'interest', 'in'], ['the', 'Fund,', 'and', 'a', 'copy', 'of', 'such', 'Other', 'Agreement', 'is'], ['not', 'required', 'to', 'be', 'provided', 'to', 'the', 'Investor', 'pursuant', 'to'], ['Section', '2', 'above,', 'then', 'in', 'such', 'event,', 'the', 'General', 'Partner'], ['shall', 'provide', 'to', 'the', 'Investor', 'a', 'copy', 'of', 'such', 'Other'], ['Agreement', '(which', 'such', 'copy', 'may', 'be', 'redacted', 'for', 'any', 'identifying'], ['information', 'with', 'respect', 'to', 'the', 'Third', 'Party', 'Investor', 'or', 'any'], ['other', 'information', 'not', 'relevant', 'hereto)', 'unless', 'the', 'General', 'Partner', 'is'], ['otherwise', 'restricted', 'by', 'confidentiality', 'or', 'non-', 'disclosure', 'obligations', 'with', 'respect'], ['to', 'the', 'provision', 'of', 'such', 'Other', 'Agreement.', '5.', 'Advisory', 'Board.'], ['In', 'consideration', 'of', 'the', \"Investor's\", 'admission', 'as', 'a', 'Limited', 'Partner'], ['and', 'for', 'so', 'long', 'as', 'the', 'Investor', 'is', 'a', 'Limited'], ['Partner', 'in', 'the', 'Fund', 'and', 'maintains', 'a', 'Capital', 'Commitment', 'of'], ['at', 'least', '$50', 'million', '(or', 'such', 'lesser', 'aggregate', 'amount', 'of'], ['the', \"Investor's\", 'Capital', 'Commitment', 'that', 'has', 'been', 'accepted', 'by', 'the'], ['General', 'Partner', 'in', 'accordance', 'with', 'Section', '3', 'above', 'as', 'of'], ['the', 'relevant', 'date),', 'and', 'is', 'not', 'a', 'Defaulting', 'Limited', 'Partner,'], ['the', 'General', 'Partner', 'agrees', 'that', 'the', 'Investor', 'shall', 'be', 'entitled'], ['to', 'designate', 'one', 'member', 'to', 'serve', 'on', 'a', 'committee', 'of'], ['the', 'Fund', 'established', 'pursuant', 'to', 'Section', '5.6', 'of', 'the', 'Limited'], ['Partnership', 'Agreement', '(the', '\"Advisory', 'Board\").', 'The', 'appointment', 'of', 'an', 'Advisory'], ['Board', 'member', 'pursuant', 'to', 'this', 'Section', '5', 'shall', 'be', 'effective'], ['upon', 'written', 'notice', 'from', 'the', 'Investor', 'to', 'the', 'Fund', 'of'], ['the', 'name', 'and', 'contact', 'information', 'of', 'the', 'individual', 'so', 'appointed.'], ['If', 'the', 'individual', 'appointed', 'pursuant', 'this', 'Section', '5', 'to', 'act'], ['as', 'the', 'Advisory', 'Board', 'member', 'is', 'no', 'longer', 'affiliated', 'with'], ['the', 'Investor,', 'or', 'no', 'longer', 'able', 'or', 'willing', 'to', 'act'], ['as', 'the', 'Advisory', 'Board', 'member,', 'the', 'Investor', 'shall', 'provide', 'prompt'], ['written', 'notice', 'thereof', 'to', 'the', 'Fund', 'and', 'such', 'Advisory', 'Board'], ['member', 'shall', 'automatically', 'be', 'removed.', 'The', 'Investor', 'shall', 'be', 'entitled'], ['to', 'remove', 'or', 'replace', 'any', 'Advisory', 'Board', 'member', 'at', 'any'], ['time', 'pursuant', 'to', 'prior', 'written', 'notice', 'provided', 'by', 'the', 'Investor'], ['to', 'the', 'General', 'Partner.', 'The', 'Investor', 'acknowledges', 'that', 'the', 'Advisory'], ['Board', 'member', 'shall', 'be', 'bound', 'by', 'the', 'confidentiality', 'provisions', 'described'], ['in', 'Section', '14.2', 'of', 'the', 'Limited', 'Partnership', 'Agreement.', 'The', 'Advisory'], ['Board', 'may', 'act', 'on', 'behalf', 'of', 'the', 'Fund', 'and', 'the'], ['Sister', 'Fund', 'if', 'requested', 'by', 'the', 'General', 'Partner,', 'provided', 'that'], ['in', 'the', 'event', 'the', 'Advisory', 'Board', 'acts', 'on', 'behalf', 'of'], ['the', 'Sister', 'Fund,', 'the', 'Advisory', 'Board', 'representative', 'appointed', 'by', 'the'], ['Investor', 'shall', 'be', 'indemnified', 'pursuant', 'to', 'a', 'separate', 'indemnification', 'agreement'], ['between', 'such', 'Advisory', 'Board', 'representative', 'and', 'the', 'Sister', 'Fund.', '6.'], ['Transfers.', 'In', 'connection', 'with', 'any', 'proposed', 'transfer', 'by', 'the', 'Investor'], ['of', 'all', 'or', 'a', 'portion', 'of', 'its', 'Interest', 'in', 'the'], ['Fund', 'to', 'a', 'Lockheed', 'Party', '(as', 'defined', 'below),', 'at', 'the'], ['request', 'of', 'the', 'Investor,', 'the', 'General', 'Partner', 'shall', 'not', 'unreasonably'], ['withhold', 'its', 'written', 'consent', 'to', 'such', 'transfer', 'and', 'the', \"transferee's\"], ['substitution', 'as', 'a', 'Limited', 'Partner,', 'as', 'required', 'by', 'the', 'Subscription'], ['Agreement;', 'provided', '(a)', 'such', 'transfer', 'will', 'not', 'result', 'in', 'a'], ['violation', 'of', 'any', 'applicable', 'laws,', 'rules', 'or', 'regulations', 'or', 'have'], ['any', 'material', 'adverse', 'impact', '(whether', 'legal,', 'financial,', 'tax,', 'regulatory,', 'or'], ['otherwise)', 'on', 'the', 'Fund,', 'the', 'Management', 'Company', 'or', 'the', 'General'], ['Partner,', 'as', 'determined', 'by', 'the', 'General', 'Partner,', '(b)', 'such', 'transferee'], ['is', 'not', 'a', 'competitor', 'of', '(directly', 'or', 'indirectly)', 'or', 'otherwise'], ['affiliated', 'with', 'any', 'competitor', 'of', 'the', 'Fund,', 'the', 'General', 'Partner,'], ['the', 'Management', 'Company', 'or', 'their', 'respective', 'Affiliates,', 'as', 'determined', 'in'], ['good', 'faith', 'by', 'the', 'General', 'Partner,', '(c)', 'such', 'transferee', 'is'], ['determined', 'to', 'be', 'sufficiently', 'creditworthy', 'to', 'assume', 'the', 'Limited', \"Partner's\"], ['obligations', 'with', 'respect', 'to', 'the', 'Interest', 'being', 'transferred', 'and', 'clears'], ['any', 'anti-money', 'laundering', '(AML),', 'know', 'your', 'customer', '(KYC)', 'and', 'similar'], ['reviews', 'conducted', 'by', 'or', 'on', 'behalf', 'of', 'the', 'Fund', 'or'], ['its', 'administrator', 'and', 'consistent', 'with', 'their', 'policies', 'and', 'procedures,', 'and'], ['(d)', 'such', 'transfer', 'is', 'documented', 'in', 'writing', 'in', 'a', 'form'], ['reasonably', 'DOC', 'ID', '-', '36972123.18', '-6-', 'Page', '6', 'acceptable', 'to'], ['the', 'General', 'Partner', 'and', 'such', 'transferee', 'makes', 'such', 'representations,', 'warranties,'], ['covenants', 'and', 'undertakings', 'as', 'may', 'be', 'reasonably', 'required', 'by', 'the'], ['General', 'Partner', 'in', 'connection', 'with', 'such', 'transfer,', 'including', 'representations,', 'warranties,'], ['covenants', 'and', 'undertakings', 'comparable', 'to', 'those', 'included', 'in', 'the', \"Investor's\"], ['Subscription', 'Agreement.', 'The', 'rights', 'and', 'obligations', 'arising', 'under', 'this', 'Letter'], ['Agreement', 'may', 'be', 'assigned', 'by', 'the', 'Investor', 'to', 'any', 'such'], ['transferee,', 'and', 'will', 'apply', 'equally', 'to', 'such', 'transferee,', 'in', 'connection'], ['with', 'such', 'transfer;', 'provided,', 'however,', 'that', 'the', 'rights', 'arising']]\n",
            "[[0, 0, 1, 2, 15, 2, 16, 16, 0, 11, 12], [12, 11, 0, 11, 12, 12, 3, 0, 4, 7], [7, 11, 12, 12, 0, 0, 0, 0, 0, 0], [0, 1, 2, 15, 2, 16, 0, 0, 1, 15], [14, 0, 0, 0, 13, 14, 0, 13, 0, 0], [0, 0, 0, 0, 0, 0, 0, 0, 7, 0], [0, 0, 0, 15, 14, 0, 0, 0, 2, 0], [0, 0, 0, 0, 0, 0, 0, 0, 0, 0], [0, 0, 0, 0, 0, 0, 13, 0, 14, 15], [14, 14, 0, 0, 2, 0, 0, 0, 3, 0], [4, 0, 13, 14, 0, 0, 14, 14, 0, 0], [15, 0, 0, 2, 0, 0, 0, 0, 0, 0], [0, 13, 0, 0, 0, 0, 0, 0, 0, 0], [0, 0, 0, 0, 0, 0, 0, 0, 0, 0], [0, 15, 0, 0, 0, 0, 0, 0, 0, 0], [0, 0, 0, 0, 0, 0, 0, 13, 0, 1], [16, 16, 0, 0, 0, 1, 15, 2, 2, 0], [15, 0, 0, 0, 0, 0, 0, 0, 0, 0], [0, 0, 0, 0, 0, 15, 0, 0, 0, 0], [1, 0, 0, 0, 0, 15, 0, 0, 0, 0], [0, 0, 0, 0, 0, 0, 0, 0, 0, 0], [0, 0, 0, 0, 0, 15, 0, 0, 3, 0], [4, 0, 0, 0, 0, 0, 0, 1, 0, 0], [0, 0, 15, 0, 0, 0, 0, 0, 0, 0], [0, 0, 0, 0, 0, 0, 0, 0, 0, 0], [0, 0, 0, 0, 0, 0, 0, 0, 0, 0], [0, 0, 0, 0, 0, 0, 0, 0, 0, 15], [16, 0, 0, 0, 0, 15, 0, 0, 0, 13], [14, 0, 0, 0, 0, 0, 0, 0, 0, 0], [15, 15, 0, 0, 0, 0, 1, 2, 15, 2], [16, 16, 0, 1, 0, 0, 0, 16, 15, 0], [15, 0, 1, 0, 0, 0, 0, 0, 0, 0], [0, 0, 13, 14, 0, 15, 0, 0, 13, 0], [0, 0, 0, 0, 0, 0, 13, 14, 0, 0], [0, 0, 15, 15, 0, 0, 0, 0, 0, 0], [0, 0, 0, 0, 0, 15, 15, 0, 0, 0], [0, 0, 0, 0, 15, 15, 0, 0, 0, 0], [0, 0, 0, 0, 0, 0, 15, 0, 0, 13], [14, 0, 0, 15, 14, 0, 0, 15, 0, 0], [0, 0, 0, 15, 16, 0, 0, 5, 6, 0], [0, 0, 0, 0, 0, 0, 0, 0, 13, 0], [0, 0, 0, 0, 0, 0, 0, 0, 0, 13], [14, 0, 0, 0, 0, 0, 0, 0, 0, 0], [0, 0, 15, 0, 0, 0, 0, 0, 0, 0], [0, 0, 0, 0, 0, 13, 14, 0, 0, 0], [0, 0, 0, 0, 0, 0, 0, 0, 0, 0], [0, 0, 0, 0, 0, 0, 0, 0, 0, 13], [14, 0, 0, 0, 0, 0, 0, 0, 0, 0], [0, 0, 0, 0, 0, 0, 0, 0, 0, 0], [15, 16, 15, 0, 0, 0, 0, 15, 16, 13], [0, 0, 0, 0, 0, 0, 0, 0, 15, 16], [0, 16, 0, 0, 16, 0, 0, 0, 0, 0], [0, 15, 0, 0, 0, 0, 0, 0, 0, 0], [0, 0, 0, 0, 15, 16, 15, 0, 0, 0], [15, 0, 0, 0, 0, 0, 0, 0, 0, 0], [0, 0, 0, 0, 0, 0, 0, 0, 0, 15], [16, 15, 0, 0, 0, 1, 0, 0, 0, 0], [1, 2, 0, 0, 1, 0, 0, 0, 0, 15], [0, 0, 0, 0, 0, 0, 0, 0, 0, 0], [0, 15, 16, 15, 0, 0, 0, 0, 0, 0], [0, 0, 0, 1, 2, 0, 0, 0, 0, 0], [0, 0, 0, 0, 0, 0, 0, 0, 0, 1], [2, 0, 0, 0, 0, 0, 1, 2, 0, 0], [0, 0, 0, 0, 0, 0, 0, 0, 0, 1], [0, 0, 0, 15, 16, 0, 0, 0, 0, 13], [14, 0, 0, 0, 0, 0, 0, 0, 0, 0], [1, 2, 0, 0, 0, 0, 0, 0, 15, 16], [13, 0, 0, 0, 0, 0, 0, 0, 0, 0], [0, 0, 0, 0, 0, 0, 0, 0, 0, 0], [0, 0, 0, 0, 0, 0, 0, 0, 0, 0], [15, 16, 0, 0, 0, 15, 16, 15, 0, 0], [16, 16, 0, 0, 0, 0, 1, 2, 0, 0], [1, 2, 0, 0, 0, 0, 0, 0, 13, 0], [16, 16, 0, 0, 0, 0, 1, 2, 0, 0], [1, 0, 0, 0, 0, 0, 0, 0, 0, 0], [15, 16, 15, 0, 0, 15, 0, 0, 1, 0], [0, 15, 16, 15, 0, 0, 0, 0, 1, 2], [0, 0, 1, 2, 0, 0, 0, 0, 0, 0], [15, 0, 0, 0, 0, 0, 0, 0, 0, 16], [16, 0, 0, 0, 0, 1, 2, 0, 0, 1], [2, 0, 0, 0, 0, 0, 0, 0, 0, 0], [0, 0, 0, 0, 0, 0, 0, 0, 0, 0], [0, 0, 0, 0, 0, 0, 0, 0, 0, 0], [0, 0, 0, 0, 0, 0, 0, 0, 0, 0], [0, 0, 0, 0, 0, 0, 0, 0, 0, 0], [0, 0, 0, 0, 0, 15, 16, 15, 0, 0], [0, 0, 0, 0, 0, 0, 0, 0, 0, 0], [0, 0, 0, 0, 0, 0, 0, 0, 0, 0], [0, 0, 0, 0, 0, 0, 16, 16, 0, 0], [0, 0, 15, 0, 0, 0, 0, 1, 2, 0], [0, 1, 2, 0, 0, 0, 15, 16, 0, 0], [0, 0, 16, 16, 0, 0, 0, 0, 0, 0], [0, 0, 0, 0, 0, 0, 0, 0, 0, 0], [15, 16, 15, 0, 0, 0, 0, 13, 14, 0], [0, 0, 0, 0, 15, 16, 15, 0, 0, 0], [0, 11, 0, 0, 0, 15, 16, 15, 0, 0], [0, 0, 0, 15, 15, 0, 0, 0, 0, 0], [15, 16, 15, 0, 0, 0, 0, 0, 0, 0], [15, 16, 15, 0, 0, 16, 16, 0, 0, 0], [0, 11, 0, 0, 0, 15, 16, 15, 0, 0], [16, 16, 0, 0, 0, 0, 0, 0, 0, 0], [15, 15, 0, 0, 0, 15, 16, 0, 0, 0], [0, 0, 0, 0, 0, 15, 16, 0, 0, 0], [0, 15, 16, 0, 0, 1, 2, 0, 0, 15], [16, 0, 0, 1, 2, 15, 16, 16, 0, 0], [0, 0, 0, 0, 0, 0, 0, 0, 0, 0], [1, 2, 0, 0, 1, 2, 0, 0, 0, 0], [0, 0, 0, 0, 0, 0, 0, 0, 0, 0], [0, 0, 0, 0, 0, 0, 0, 0, 0, 0], [0, 0, 0, 0, 0, 15, 0, 0, 1, 2], [0, 0, 0, 0, 0, 0, 0, 0, 0, 0], [0, 0, 0, 0, 14, 0, 0, 0, 0, 0], [0, 0, 0, 0, 0, 0, 0, 0, 0, 0], [0, 0, 0, 0, 0, 0, 0, 15, 16, 0], [16, 0, 0, 0, 0, 0, 0, 0, 0, 0], [0, 0, 0, 0, 0, 0, 0, 0, 0, 0], [0, 0, 0, 0, 0, 0, 0, 0, 0, 0], [0, 0, 0, 0, 0, 0, 0, 0, 0, 0], [0, 0, 0, 0, 0, 0, 0, 0, 0, 0], [0, 0, 0, 0, 0, 0, 0, 0, 7, 0], [7, 0, 0, 15, 0, 0, 1, 2, 0, 0], [0, 0, 0, 0, 0, 0, 0, 0, 0, 0], [0, 0, 0, 0, 0, 0, 0, 0, 0, 0], [0, 0, 0, 0, 0, 1, 2, 0, 0, 0], [0, 0, 0, 1, 0, 0, 0, 0, 0, 1], [2, 0, 0, 0, 1, 0, 0, 0, 0, 0], [0, 0, 0, 0, 15, 0, 0, 1, 2, 0], [0, 0, 0, 0, 0, 0, 0, 0, 0, 0], [0, 0, 0, 0, 0, 0, 16, 16, 0, 0], [0, 0, 0, 0, 0, 0, 0, 0, 15, 0], [0, 0, 14, 14, 0, 0, 0, 0, 0, 0], [0, 0, 0, 0, 16, 16, 0, 0, 10, 0], [0, 0, 0, 0, 15, 0, 0, 0, 0, 0], [0, 16, 16, 0, 0, 0, 0, 13, 14, 0], [0, 0, 0, 0, 0, 0, 0, 0, 0, 0], [0, 0, 0, 15, 0, 0, 2, 0, 0, 0], [0, 0, 0, 0, 0, 0, 13, 0, 16, 0], [0, 0, 0, 0, 0, 0, 0, 0, 0, 0], [0, 0, 0, 0, 0, 0, 0, 0, 0, 15], [0, 0, 2, 0, 0, 0, 0, 0, 0, 0], [0, 0, 0, 0, 2, 0, 0, 0, 0, 0], [0, 15, 16, 0, 0, 0, 0, 0, 2, 0], [0, 1, 0, 0, 0, 0, 0, 0, 0, 0], [0, 0, 0, 0, 0, 15, 16, 0, 0, 0], [0, 0, 0, 0, 0, 16, 0, 0, 15, 0], [0, 0, 0, 0, 0, 0, 0, 0, 0, 15], [0, 0, 0, 0, 0, 0, 0, 0, 0, 0], [0, 0, 0, 0, 0, 0, 0, 0, 0, 0], [0, 0, 0, 15, 0, 0, 2, 0, 0, 0], [0, 0, 0, 0, 0, 0, 0, 2, 0, 0], [0, 0, 0, 0, 15, 16, 0, 0, 0, 0], [0, 2, 0, 0, 1, 0, 0, 0, 0, 0], [0, 0, 0, 15, 16, 0, 0, 0, 0, 0], [0, 0, 0, 0, 0, 0, 0, 0, 0, 0], [0, 0, 15, 0, 0, 16, 16, 0, 0, 0], [0, 0, 0, 0, 0, 0, 0, 0, 0, 0], [0, 0, 0, 0, 0, 0, 0, 0, 0, 15], [16, 0, 0, 0, 0, 0, 0, 15, 0, 0], [15, 16, 0, 0, 0, 0, 13, 14, 0, 0], [0, 0, 15, 0, 0, 0, 0, 0, 0, 0], [0, 0, 13, 16, 16, 0, 0, 0, 0, 0], [0, 0, 0, 0, 0, 0, 0, 0, 0, 13], [16, 16, 0, 0, 0, 0, 0, 0, 0, 0], [0, 16, 16, 0, 0, 0, 0, 0, 0, 0], [0, 0, 13, 0, 0, 13, 0, 0, 0, 0], [0, 0, 15, 0, 0, 15, 16, 0, 0, 0], [16, 16, 0, 0, 0, 0, 15, 0, 0, 0], [0, 0, 0, 0, 0, 0, 0, 16, 0, 0], [0, 0, 0, 0, 0, 0, 0, 0, 0, 16], [0, 0, 0, 0, 0, 15, 0, 0, 0, 15], [0, 0, 0, 0, 0, 0, 0, 0, 0, 0], [16, 0, 0, 0, 0, 0, 2, 0, 0, 0], [0, 0, 0, 0, 0, 0, 0, 0, 0, 0], [16, 0, 0, 0, 0, 0, 0, 13, 16, 0], [0, 15, 0, 0, 0, 0, 0, 0, 0, 0], [16, 16, 0, 0, 0, 0, 0, 15, 16, 0], [16, 0, 0, 16, 0, 13, 14, 0, 0, 0], [0, 0, 15, 0, 0, 0, 0, 0, 0, 0], [0, 0, 0, 0, 13, 14, 0, 0, 0, 0], [0, 15, 16, 15, 0, 0, 0, 0, 0, 0], [0, 0, 0, 0, 0, 0, 0, 13, 14, 0], [0, 0, 0, 0, 0, 0, 0, 15, 0, 0], [15, 0, 0, 0, 0, 0, 0, 0, 15, 16], [0, 0, 0, 0, 15, 0, 0, 0, 0, 13], [14, 0, 0, 0, 0, 0, 0, 0, 0, 0], [0, 0, 0, 0, 0, 15, 16, 15, 0, 0], [0, 0, 0, 0, 0, 0, 0, 15, 16, 0], [0, 0, 0, 0, 0, 0, 0, 0, 0, 0], [0, 0, 0, 0, 0, 13, 14, 0, 1, 2], [0, 0, 0, 0, 13, 0, 0, 0, 15, 16], [0, 0, 0, 0, 0, 0, 15, 0, 0, 15], [16, 0, 0, 2, 0, 0, 0, 16, 16, 0], [0, 0, 0, 10, 0, 0, 0, 0, 0, 0], [0, 13, 16, 16, 0, 0, 0, 0, 0, 0], [15, 16, 0, 0, 0, 15, 16, 0, 0, 0], [0, 0, 0, 0, 0, 0, 0, 0, 15, 0], [0, 15, 16, 0, 0, 0, 15, 0, 0, 0], [0, 0, 0, 0, 0, 0, 0, 0, 2, 0], [0, 2, 0, 0, 0, 15, 16, 0, 0, 15], [14, 14, 0, 1, 0, 0, 0, 0, 0, 1], [2, 0, 0, 0, 0, 15, 16, 0, 0, 0], [0, 0, 0, 0, 0, 15, 0, 0, 2, 0], [0, 0, 0, 0, 0, 0, 0, 0, 0, 0], [0, 0, 0, 0, 0, 0, 15, 16, 0, 0], [0, 0, 1, 2, 0, 0, 0, 0, 0, 0], [0, 0, 0, 0, 0, 0, 0, 0, 0, 0], [0, 0, 1, 2, 0, 0, 15, 0, 0, 0], [0, 0, 0, 0, 0, 2, 0, 0, 1, 2], [0, 0, 0, 0, 0, 0, 15, 0, 0, 0], [0, 0, 0, 0, 0, 1, 2, 0, 0, 0], [0, 0, 0, 0, 0, 0, 0, 0, 0, 15], [0, 0, 15, 16, 0, 15, 0, 0, 0, 1], [2, 0, 0, 0, 0, 0, 0, 0, 0, 0], [0, 15, 16, 0, 0, 15, 14, 14, 0, 1], [2, 0, 0, 0, 0, 0, 0, 2, 0, 0], [1, 2, 0, 0, 0, 0, 15, 0, 0, 0], [0, 0, 0, 0, 1, 2, 0, 0, 0, 0], [0, 1, 0, 0, 1, 2, 0, 0, 0, 0], [15, 0, 0, 0, 0, 0, 0, 0, 13, 14], [0, 0, 1, 2, 0, 0, 0, 1, 2, 0], [0, 0, 0, 0, 0, 0, 0, 0, 0, 15], [0, 0, 0, 0, 0, 0, 0, 0, 0, 0], [2, 0, 0, 15, 16, 0, 0, 0, 0, 0], [0, 0, 0, 0, 0, 15, 16, 0, 0, 0], [0, 0, 0, 0, 0, 0, 0, 0, 0, 0], [0, 0, 0, 15, 0, 0, 0, 0, 0, 14], [0, 0, 0, 0, 0, 0, 0, 0, 0, 0], [0, 0, 0, 0, 0, 0, 0, 0, 0, 0], [0, 0, 0, 0, 0, 0, 0, 0, 0, 0], [0, 0, 0, 0, 0, 1, 2, 0, 0, 15], [0, 0, 0, 0, 0, 15, 0, 0, 0, 0], [0, 0, 0, 0, 0, 0, 0, 0, 0, 0], [0, 0, 0, 0, 0, 0, 0, 0, 15, 0], [0, 1, 2, 0, 0, 0, 0, 0, 0, 0], [0, 0, 0, 0, 15, 0, 0, 0, 0, 0], [0, 0, 0, 0, 0, 0, 0, 0, 15, 16], [0, 0, 0, 0, 0, 0, 0, 0, 0, 0], [0, 15, 16, 0, 15, 16, 16, 0, 0, 0], [0, 0, 0, 0, 0, 0, 0, 0, 2, 0], [0, 0, 0, 0, 0, 0, 0, 0, 0, 0], [0, 0, 0, 0, 0, 0, 0, 0, 0, 0], [0, 15, 16, 0, 16, 0, 0, 0, 0, 0], [0, 15, 16, 0, 0, 0, 0, 0, 0, 0], [0, 0, 0, 0, 0, 0, 0, 0, 0, 0], [15, 16, 0, 0, 0, 0, 0, 0, 0, 0], [0, 0, 0, 0, 0, 0, 0, 0, 0, 13], [14, 14, 0, 0, 0, 0, 0, 0, 0, 13], [14, 0, 0, 0, 0, 0, 15, 0, 0, 0], [0, 0, 0, 0, 0, 0, 0, 0, 0, 0], [0, 0, 0, 0, 0, 0, 0, 0, 0]]\n"
          ]
        }
      ],
      "source": [
        "all_tokens_array = []\n",
        "numbered_labels_array = []\n",
        "\n",
        "temp1 = []\n",
        "temp2 = []\n",
        "for i in range(len(all_tokens)):\n",
        "  temp1.append(all_tokens[i])\n",
        "  temp2.append(numbered_labels[i])\n",
        "  if i%10 == 0 and i != 0:\n",
        "    all_tokens_array.append(temp1)\n",
        "    numbered_labels_array.append(temp2)\n",
        "    temp1 = []\n",
        "    temp2 = []\n",
        "all_tokens_array.append(temp1)\n",
        "numbered_labels_array.append(temp2)\n",
        "\n",
        "\n",
        "print(all_tokens_array)\n",
        "print(numbered_labels_array)"
      ]
    },
    {
      "cell_type": "code",
      "execution_count": 14,
      "metadata": {
        "colab": {
          "base_uri": "https://localhost:8080/"
        },
        "id": "piHTq6s4dZVS",
        "outputId": "41b116bb-78e1-4e0f-cdda-63a29a6bacaf"
      },
      "outputs": [
        {
          "output_type": "stream",
          "name": "stdout",
          "text": [
            "{'NONE': 0, 'B-ORG': 1, 'I-ORG': 2, 'B-DATE': 3, 'I-DATE': 4, 'B-TIME': 5, 'I-TIME': 6, 'B-PER': 7, 'I-PER': 8, 'B-CURR': 9, 'I-CURR': 10, 'B-LOC': 11, 'I-LOC': 12, 'B-AGRE': 13, 'I-AGRE': 14, 'B-MISC': 15, 'I-MISC': 16}\n"
          ]
        }
      ],
      "source": [
        "print(classes_dict)"
      ]
    },
    {
      "cell_type": "code",
      "execution_count": 15,
      "metadata": {
        "colab": {
          "base_uri": "https://localhost:8080/"
        },
        "id": "i7OIKlNFag43",
        "outputId": "83889e30-850a-4cc6-aa1e-a7a2cb4504d0"
      },
      "outputs": [
        {
          "output_type": "stream",
          "name": "stdout",
          "text": [
            "DatasetDict({\n",
            "    train: Dataset({\n",
            "        features: ['tokens', 'labels'],\n",
            "        num_rows: 200\n",
            "    })\n",
            "    validate: Dataset({\n",
            "        features: ['tokens', 'labels'],\n",
            "        num_rows: 25\n",
            "    })\n",
            "    test: Dataset({\n",
            "        features: ['tokens', 'labels'],\n",
            "        num_rows: 25\n",
            "    })\n",
            "})\n"
          ]
        }
      ],
      "source": [
        "data_dict_train = {\n",
        "    \"tokens\" : all_tokens_array[0:200],\n",
        "    \"labels\" : numbered_labels_array[0:200]\n",
        "}\n",
        "\n",
        "data_dict_val = {\n",
        "    \"tokens\" : all_tokens_array[200:225],\n",
        "    \"labels\" : numbered_labels_array[200:225]\n",
        "}\n",
        "\n",
        "data_dict_test = {\n",
        "    \"tokens\" : all_tokens_array[225:],\n",
        "    \"labels\" : numbered_labels_array[225:]\n",
        "}\n",
        "\n",
        "dataset_train = Dataset.from_dict(data_dict_train)\n",
        "dataset_val = Dataset.from_dict(data_dict_val)\n",
        "dataset_test = Dataset.from_dict(data_dict_test)\n",
        "\n",
        "dataset_dict = DatasetDict({\"train\": dataset_train, \"validate\": dataset_val, \"test\": dataset_test})\n",
        "\n",
        "print(dataset_dict)"
      ]
    },
    {
      "cell_type": "code",
      "execution_count": 16,
      "metadata": {
        "colab": {
          "base_uri": "https://localhost:8080/"
        },
        "id": "EsOoXdkMfA46",
        "outputId": "4d271268-849a-437a-f517-4f7ce95877ad"
      },
      "outputs": [
        {
          "output_type": "execute_result",
          "data": {
            "text/plain": [
              "{'tokens': ['Investor',\n",
              "  'and',\n",
              "  'the',\n",
              "  'Fund',\n",
              "  'dated',\n",
              "  'as',\n",
              "  'of',\n",
              "  'the',\n",
              "  'date',\n",
              "  'hereof'],\n",
              " 'labels': [15, 0, 0, 2, 0, 0, 0, 0, 0, 0]}"
            ]
          },
          "metadata": {},
          "execution_count": 16
        }
      ],
      "source": [
        "dataset_dict['train'][11]"
      ]
    },
    {
      "cell_type": "markdown",
      "metadata": {
        "id": "JJ4FlXab_TR_"
      },
      "source": [
        "### Modeling"
      ]
    },
    {
      "cell_type": "code",
      "execution_count": 44,
      "metadata": {
        "id": "BUSfs92hMhc9"
      },
      "outputs": [],
      "source": [
        "tokenizer = BertTokenizerFast.from_pretrained(\"bert-base-uncased\")"
      ]
    },
    {
      "cell_type": "code",
      "execution_count": 45,
      "metadata": {
        "colab": {
          "base_uri": "https://localhost:8080/"
        },
        "id": "tXAafDulQKMX",
        "outputId": "0cc81cca-9534-4675-9d02-fab16cf9640b"
      },
      "outputs": [
        {
          "output_type": "stream",
          "name": "stdout",
          "text": [
            "Miss Matched Length!!\n",
            "13\n",
            "10\n"
          ]
        }
      ],
      "source": [
        "example_tokens = dataset_dict[\"train\"][11]\n",
        "inputs = tokenizer(example_tokens[\"tokens\"], is_split_into_words=True,)\n",
        "print(\"Miss Matched Length!!\")\n",
        "print(len(inputs.tokens()))\n",
        "print(len(example_tokens[\"labels\"]))"
      ]
    },
    {
      "cell_type": "code",
      "source": [
        "inputs = tokenizer(dataset_dict[\"train\"][1][\"tokens\"], is_split_into_words=True,)\n",
        "print(inputs.tokens())\n",
        "print(dataset_dict[\"train\"][1][\"tokens\"])\n",
        "print(dataset_dict['train'][1]['labels'])\n",
        "print(inputs.word_ids())"
      ],
      "metadata": {
        "colab": {
          "base_uri": "https://localhost:8080/"
        },
        "id": "hm_a3LmDLjdn",
        "outputId": "41d07475-5669-4e96-8979-1e598da623b7"
      },
      "execution_count": 46,
      "outputs": [
        {
          "output_type": "stream",
          "name": "stdout",
          "text": [
            "['[CLS]', 'trade', 'new', 'york', ',', 'new', 'york', '100', '##22', 'january', '1', ',', '2019', 'maria', '[SEP]']\n",
            "['Trade', 'New', 'York,', 'New', 'York', '10022', 'January', '1,', '2019', 'Maria']\n",
            "[12, 11, 0, 11, 12, 12, 3, 0, 4, 7]\n",
            "[None, 0, 1, 2, 2, 3, 4, 5, 5, 6, 7, 7, 8, 9, None]\n"
          ]
        }
      ]
    },
    {
      "cell_type": "code",
      "execution_count": 47,
      "metadata": {
        "id": "2RrIzyYaS_po"
      },
      "outputs": [],
      "source": [
        "def align_labels_with_tokens(labels, word_ids):\n",
        "    for label in labels:\n",
        "        previous_word_idx = None\n",
        "        label_ids = []\n",
        "        for word_idx in word_ids:\n",
        "            if word_idx is None:\n",
        "                label_ids.append(-100)\n",
        "            elif word_idx != previous_word_idx:\n",
        "                label_ids.append(labels[word_idx])\n",
        "            else:\n",
        "                label_ids.append(labels[word_idx])\n",
        "            previous_word_idx = word_idx\n",
        "\n",
        "        return label_ids"
      ]
    },
    {
      "cell_type": "code",
      "execution_count": 48,
      "metadata": {
        "colab": {
          "base_uri": "https://localhost:8080/"
        },
        "id": "Q9C5KHTkqVDU",
        "outputId": "43944683-854c-4ba2-f7e7-04b010963e9e"
      },
      "outputs": [
        {
          "output_type": "stream",
          "name": "stdout",
          "text": [
            "['Investor', 'and', 'the', 'Fund', 'dated', 'as', 'of', 'the', 'date', 'hereof']\n",
            "[-100, 15, 0, 0, 2, 0, 0, 0, 0, 0, 0, 0, -100]\n",
            "[15, 0, 0, 2, 0, 0, 0, 0, 0, 0]\n"
          ]
        }
      ],
      "source": [
        "labels = dataset_dict[\"train\"][11][\"labels\"]\n",
        "inputs = tokenizer(dataset_dict[\"train\"][11][\"tokens\"], is_split_into_words=True,)\n",
        "word_ids = inputs.word_ids()\n",
        "print(dataset_dict[\"train\"][11][\"tokens\"])\n",
        "print(align_labels_with_tokens(labels, word_ids))\n",
        "print(labels)"
      ]
    },
    {
      "cell_type": "code",
      "source": [
        "example_tokens = dataset_dict[\"train\"][11]\n",
        "inputs = tokenizer(example_tokens[\"tokens\"], is_split_into_words=True,)\n",
        "print(\"Miss Matched Length!!\")\n",
        "print(len(inputs.tokens()))\n",
        "print(len(example_tokens[\"labels\"]))\n",
        "print(\"Label matching successful!!\")\n",
        "print(len(align_labels_with_tokens(example_tokens[\"labels\"], inputs.word_ids())))"
      ],
      "metadata": {
        "colab": {
          "base_uri": "https://localhost:8080/"
        },
        "id": "2wCMdxSwPnlN",
        "outputId": "e374e8e9-e07f-4e52-ae21-5ad857080325"
      },
      "execution_count": 49,
      "outputs": [
        {
          "output_type": "stream",
          "name": "stdout",
          "text": [
            "Miss Matched Length!!\n",
            "13\n",
            "10\n",
            "Label matching successful!!\n",
            "13\n"
          ]
        }
      ]
    },
    {
      "cell_type": "code",
      "execution_count": 50,
      "metadata": {
        "id": "Tyuj8zQ0cdd5"
      },
      "outputs": [],
      "source": [
        "def tokenizer_function(dataset):\n",
        "  tokenized_dataset = tokenizer(dataset['tokens'],truncation=True,is_split_into_words=True,)\n",
        "  tokenized_dataset['labels'] = align_labels_with_tokens(dataset['labels'],tokenized_dataset.word_ids())\n",
        "  return tokenized_dataset"
      ]
    },
    {
      "cell_type": "code",
      "execution_count": 51,
      "metadata": {
        "colab": {
          "base_uri": "https://localhost:8080/"
        },
        "id": "Uocbw6cTqVDV",
        "outputId": "49f2a1e2-a800-4b05-98f8-3d291aad500c",
        "scrolled": true
      },
      "outputs": [
        {
          "output_type": "execute_result",
          "data": {
            "text/plain": [
              "{'tokens': ['$50,000,000',\n",
              "  'as',\n",
              "  'of',\n",
              "  'the',\n",
              "  'date',\n",
              "  'hereof',\n",
              "  '(the',\n",
              "  '\"Capital',\n",
              "  'Commitment\"),',\n",
              "  'Inveniam'],\n",
              " 'labels': [0, 0, 0, 0, 0, 0, 0, 13, 0, 1]}"
            ]
          },
          "metadata": {},
          "execution_count": 51
        }
      ],
      "source": [
        "dataset_dict['train'][15]"
      ]
    },
    {
      "cell_type": "code",
      "execution_count": 52,
      "metadata": {
        "colab": {
          "base_uri": "https://localhost:8080/",
          "height": 17,
          "referenced_widgets": [
            "4a3ca1c4a48540bcb64cad03ed63ee7d",
            "c982d34259eb4cd2ac435c26641b669b",
            "af42a0ee4e9d44b3bbfc29d80480ceda",
            "e3c81a0063fb4da4a59fc27c69a8f3b6",
            "617787425800491e8c71b77fc4d78877",
            "c7676bba592e48b2b5a23a812913e382",
            "d3d90be67ff34ed5af78784e4779be6c",
            "2c3aae9d507f4a1f8f9b7a8372cb9bc6",
            "acab36fb800743db89c48bb5223a2808",
            "390c7237ff394916806619b25061c217",
            "888935239f2e4adc9f08787f40628844",
            "fa86753555f94d3f9a7903a53beb55a2",
            "c65ff095c6cf48a9af5202b6bed93a59",
            "f21df3b8ffd844a2a8a0f78b2c60a1de",
            "30dd80c0583a4bf4969778458c8f8388",
            "42e6ed9da6f2473b83309a4a7bdcf6e3",
            "8ac80c9865134d2dbc8e0194a4ba917b",
            "bd8204cea1a34aaca2422c5c8f7504b0",
            "64f48dabdd5141178e8f522f1cfced3b",
            "caa0535719f0472b8b5747ceda15ff47",
            "0d478ac3d2524ae78ddb7a7795b13004",
            "66348d30a9aa474dbd5aae9ceae9ca5f",
            "12fa0589746c48df9f9d14cfaea46943",
            "93a3a52f816c42f7a430b0b4a7ad8249",
            "65d86dbaf0884f6b9694f6977aab4dfe",
            "14cea20354944158ae3c87657893b072",
            "4dde6f2325e6487580d6ca70c53c132b",
            "eb924f27e6ed4bf59665816ebc68e4d5",
            "73aff4182f134f399ae2a548bf32cd43",
            "2419ebfe43314ea7acd730e29b3ba910",
            "bd1a8ee82db5483a90b86355b116f712",
            "6d3b2fd54ba14b8fb3ba2531830b337e",
            "1b5f28d6160e4f13a11b741987d0ed32"
          ]
        },
        "id": "Ay8_f_2Ji8Mu",
        "outputId": "a43aef32-4591-4ac9-ed47-4f10342c2ef9"
      },
      "outputs": [
        {
          "output_type": "display_data",
          "data": {
            "text/plain": [
              "Map:   0%|          | 0/200 [00:00<?, ? examples/s]"
            ],
            "application/vnd.jupyter.widget-view+json": {
              "version_major": 2,
              "version_minor": 0,
              "model_id": "4a3ca1c4a48540bcb64cad03ed63ee7d"
            }
          },
          "metadata": {}
        },
        {
          "output_type": "display_data",
          "data": {
            "text/plain": [
              "Map:   0%|          | 0/25 [00:00<?, ? examples/s]"
            ],
            "application/vnd.jupyter.widget-view+json": {
              "version_major": 2,
              "version_minor": 0,
              "model_id": "fa86753555f94d3f9a7903a53beb55a2"
            }
          },
          "metadata": {}
        },
        {
          "output_type": "display_data",
          "data": {
            "text/plain": [
              "Map:   0%|          | 0/25 [00:00<?, ? examples/s]"
            ],
            "application/vnd.jupyter.widget-view+json": {
              "version_major": 2,
              "version_minor": 0,
              "model_id": "12fa0589746c48df9f9d14cfaea46943"
            }
          },
          "metadata": {}
        }
      ],
      "source": [
        "# print(dataset_dict)\n",
        "tokenized_dataset = dataset_dict.map(tokenizer_function, remove_columns=['tokens'])"
      ]
    },
    {
      "cell_type": "code",
      "execution_count": 53,
      "metadata": {
        "id": "miDNxMmcjFOV"
      },
      "outputs": [],
      "source": [
        "# print(len(tokenized_dataset['train'][15]['input_ids']))\n",
        "# print(len(tokenized_dataset['train'][15]['labels']))"
      ]
    },
    {
      "cell_type": "code",
      "source": [
        "model = AutoModelForTokenClassification.from_pretrained(\"bert-base-uncased\", num_labels=17)"
      ],
      "metadata": {
        "colab": {
          "base_uri": "https://localhost:8080/"
        },
        "id": "X-3yHWYJwmM3",
        "outputId": "c0a7b802-9e97-427b-81c1-71a7e19fad9a"
      },
      "execution_count": 66,
      "outputs": [
        {
          "output_type": "stream",
          "name": "stderr",
          "text": [
            "Some weights of the model checkpoint at bert-base-uncased were not used when initializing BertForTokenClassification: ['cls.predictions.transform.dense.weight', 'cls.seq_relationship.weight', 'cls.predictions.transform.LayerNorm.bias', 'cls.predictions.bias', 'cls.predictions.transform.dense.bias', 'cls.predictions.transform.LayerNorm.weight', 'cls.seq_relationship.bias']\n",
            "- This IS expected if you are initializing BertForTokenClassification from the checkpoint of a model trained on another task or with another architecture (e.g. initializing a BertForSequenceClassification model from a BertForPreTraining model).\n",
            "- This IS NOT expected if you are initializing BertForTokenClassification from the checkpoint of a model that you expect to be exactly identical (initializing a BertForSequenceClassification model from a BertForSequenceClassification model).\n",
            "Some weights of BertForTokenClassification were not initialized from the model checkpoint at bert-base-uncased and are newly initialized: ['classifier.weight', 'classifier.bias']\n",
            "You should probably TRAIN this model on a down-stream task to be able to use it for predictions and inference.\n"
          ]
        }
      ]
    },
    {
      "cell_type": "code",
      "source": [
        "args = TrainingArguments(\n",
        "    \"test-ner\",\n",
        "    evaluation_strategy = \"epoch\",\n",
        "    learning_rate=2e-5,\n",
        "    per_device_train_batch_size=16,\n",
        "    per_device_eval_batch_size=16,\n",
        "    num_train_epochs=3,\n",
        "    weight_decay=0.01,\n",
        ")"
      ],
      "metadata": {
        "colab": {
          "base_uri": "https://localhost:8080/",
          "height": 556
        },
        "id": "vrESfPkDQM9c",
        "outputId": "db118c38-068a-47c2-ba3d-c545949e7880"
      },
      "execution_count": 79,
      "outputs": [
        {
          "output_type": "error",
          "ename": "ImportError",
          "evalue": "ignored",
          "traceback": [
            "\u001b[0;31m---------------------------------------------------------------------------\u001b[0m",
            "\u001b[0;31mImportError\u001b[0m                               Traceback (most recent call last)",
            "\u001b[0;32m<ipython-input-79-a2c7939f7703>\u001b[0m in \u001b[0;36m<cell line: 1>\u001b[0;34m()\u001b[0m\n\u001b[0;32m----> 1\u001b[0;31m args = TrainingArguments(\n\u001b[0m\u001b[1;32m      2\u001b[0m     \u001b[0;34m\"test-ner\"\u001b[0m\u001b[0;34m,\u001b[0m\u001b[0;34m\u001b[0m\u001b[0;34m\u001b[0m\u001b[0m\n\u001b[1;32m      3\u001b[0m     \u001b[0mevaluation_strategy\u001b[0m \u001b[0;34m=\u001b[0m \u001b[0;34m\"epoch\"\u001b[0m\u001b[0;34m,\u001b[0m\u001b[0;34m\u001b[0m\u001b[0;34m\u001b[0m\u001b[0m\n\u001b[1;32m      4\u001b[0m     \u001b[0mlearning_rate\u001b[0m\u001b[0;34m=\u001b[0m\u001b[0;36m2e-5\u001b[0m\u001b[0;34m,\u001b[0m\u001b[0;34m\u001b[0m\u001b[0;34m\u001b[0m\u001b[0m\n\u001b[1;32m      5\u001b[0m     \u001b[0mper_device_train_batch_size\u001b[0m\u001b[0;34m=\u001b[0m\u001b[0;36m16\u001b[0m\u001b[0;34m,\u001b[0m\u001b[0;34m\u001b[0m\u001b[0;34m\u001b[0m\u001b[0m\n",
            "\u001b[0;32m/usr/local/lib/python3.10/dist-packages/transformers/training_args.py\u001b[0m in \u001b[0;36m__init__\u001b[0;34m(self, output_dir, overwrite_output_dir, do_train, do_eval, do_predict, evaluation_strategy, prediction_loss_only, per_device_train_batch_size, per_device_eval_batch_size, per_gpu_train_batch_size, per_gpu_eval_batch_size, gradient_accumulation_steps, eval_accumulation_steps, eval_delay, learning_rate, weight_decay, adam_beta1, adam_beta2, adam_epsilon, max_grad_norm, num_train_epochs, max_steps, lr_scheduler_type, warmup_ratio, warmup_steps, log_level, log_level_replica, log_on_each_node, logging_dir, logging_strategy, logging_first_step, logging_steps, logging_nan_inf_filter, save_strategy, save_steps, save_total_limit, save_safetensors, save_on_each_node, no_cuda, use_mps_device, seed, data_seed, jit_mode_eval, use_ipex, bf16, fp16, fp16_opt_level, half_precision_backend, bf16_full_eval, fp16_full_eval, tf32, local_rank, ddp_backend, tpu_num_cores, tpu_metrics_debug, debug, dataloader_drop_last, eval_steps, dataloader_num_workers, past_index, run_name, disable_tqdm, remove_unused_columns, label_names, load_best_model_at_end, metric_for_best_model, greater_is_better, ignore_data_skip, sharded_ddp, fsdp, fsdp_min_num_params, fsdp_config, fsdp_transformer_layer_cls_to_wrap, deepspeed, label_smoothing_factor, optim, optim_args, adafactor, group_by_length, length_column_name, report_to, ddp_find_unused_parameters, ddp_bucket_cap_mb, dataloader_pin_memory, skip_memory_met...\n",
            "\u001b[0;32m/usr/local/lib/python3.10/dist-packages/transformers/training_args.py\u001b[0m in \u001b[0;36m__post_init__\u001b[0;34m(self)\u001b[0m\n\u001b[1;32m   1338\u001b[0m             \u001b[0mself\u001b[0m\u001b[0;34m.\u001b[0m\u001b[0mframework\u001b[0m \u001b[0;34m==\u001b[0m \u001b[0;34m\"pt\"\u001b[0m\u001b[0;34m\u001b[0m\u001b[0;34m\u001b[0m\u001b[0m\n\u001b[1;32m   1339\u001b[0m             \u001b[0;32mand\u001b[0m \u001b[0mis_torch_available\u001b[0m\u001b[0;34m(\u001b[0m\u001b[0;34m)\u001b[0m\u001b[0;34m\u001b[0m\u001b[0;34m\u001b[0m\u001b[0m\n\u001b[0;32m-> 1340\u001b[0;31m             \u001b[0;32mand\u001b[0m \u001b[0;34m(\u001b[0m\u001b[0mself\u001b[0m\u001b[0;34m.\u001b[0m\u001b[0mdevice\u001b[0m\u001b[0;34m.\u001b[0m\u001b[0mtype\u001b[0m \u001b[0;34m!=\u001b[0m \u001b[0;34m\"cuda\"\u001b[0m\u001b[0;34m)\u001b[0m\u001b[0;34m\u001b[0m\u001b[0;34m\u001b[0m\u001b[0m\n\u001b[0m\u001b[1;32m   1341\u001b[0m             \u001b[0;32mand\u001b[0m \u001b[0;34m(\u001b[0m\u001b[0mget_xla_device_type\u001b[0m\u001b[0;34m(\u001b[0m\u001b[0mself\u001b[0m\u001b[0;34m.\u001b[0m\u001b[0mdevice\u001b[0m\u001b[0;34m)\u001b[0m \u001b[0;34m!=\u001b[0m \u001b[0;34m\"GPU\"\u001b[0m\u001b[0;34m)\u001b[0m\u001b[0;34m\u001b[0m\u001b[0;34m\u001b[0m\u001b[0m\n\u001b[1;32m   1342\u001b[0m             \u001b[0;32mand\u001b[0m \u001b[0;34m(\u001b[0m\u001b[0mself\u001b[0m\u001b[0;34m.\u001b[0m\u001b[0mfp16\u001b[0m \u001b[0;32mor\u001b[0m \u001b[0mself\u001b[0m\u001b[0;34m.\u001b[0m\u001b[0mfp16_full_eval\u001b[0m\u001b[0;34m)\u001b[0m\u001b[0;34m\u001b[0m\u001b[0;34m\u001b[0m\u001b[0m\n",
            "\u001b[0;32m/usr/local/lib/python3.10/dist-packages/transformers/training_args.py\u001b[0m in \u001b[0;36mdevice\u001b[0;34m(self)\u001b[0m\n\u001b[1;32m   1762\u001b[0m         \"\"\"\n\u001b[1;32m   1763\u001b[0m         \u001b[0mrequires_backends\u001b[0m\u001b[0;34m(\u001b[0m\u001b[0mself\u001b[0m\u001b[0;34m,\u001b[0m \u001b[0;34m[\u001b[0m\u001b[0;34m\"torch\"\u001b[0m\u001b[0;34m]\u001b[0m\u001b[0;34m)\u001b[0m\u001b[0;34m\u001b[0m\u001b[0;34m\u001b[0m\u001b[0m\n\u001b[0;32m-> 1764\u001b[0;31m         \u001b[0;32mreturn\u001b[0m \u001b[0mself\u001b[0m\u001b[0;34m.\u001b[0m\u001b[0m_setup_devices\u001b[0m\u001b[0;34m\u001b[0m\u001b[0;34m\u001b[0m\u001b[0m\n\u001b[0m\u001b[1;32m   1765\u001b[0m \u001b[0;34m\u001b[0m\u001b[0m\n\u001b[1;32m   1766\u001b[0m     \u001b[0;34m@\u001b[0m\u001b[0mproperty\u001b[0m\u001b[0;34m\u001b[0m\u001b[0;34m\u001b[0m\u001b[0m\n",
            "\u001b[0;32m/usr/local/lib/python3.10/dist-packages/transformers/utils/generic.py\u001b[0m in \u001b[0;36m__get__\u001b[0;34m(self, obj, objtype)\u001b[0m\n\u001b[1;32m     52\u001b[0m         \u001b[0mcached\u001b[0m \u001b[0;34m=\u001b[0m \u001b[0mgetattr\u001b[0m\u001b[0;34m(\u001b[0m\u001b[0mobj\u001b[0m\u001b[0;34m,\u001b[0m \u001b[0mattr\u001b[0m\u001b[0;34m,\u001b[0m \u001b[0;32mNone\u001b[0m\u001b[0;34m)\u001b[0m\u001b[0;34m\u001b[0m\u001b[0;34m\u001b[0m\u001b[0m\n\u001b[1;32m     53\u001b[0m         \u001b[0;32mif\u001b[0m \u001b[0mcached\u001b[0m \u001b[0;32mis\u001b[0m \u001b[0;32mNone\u001b[0m\u001b[0;34m:\u001b[0m\u001b[0;34m\u001b[0m\u001b[0;34m\u001b[0m\u001b[0m\n\u001b[0;32m---> 54\u001b[0;31m             \u001b[0mcached\u001b[0m \u001b[0;34m=\u001b[0m \u001b[0mself\u001b[0m\u001b[0;34m.\u001b[0m\u001b[0mfget\u001b[0m\u001b[0;34m(\u001b[0m\u001b[0mobj\u001b[0m\u001b[0;34m)\u001b[0m\u001b[0;34m\u001b[0m\u001b[0;34m\u001b[0m\u001b[0m\n\u001b[0m\u001b[1;32m     55\u001b[0m             \u001b[0msetattr\u001b[0m\u001b[0;34m(\u001b[0m\u001b[0mobj\u001b[0m\u001b[0;34m,\u001b[0m \u001b[0mattr\u001b[0m\u001b[0;34m,\u001b[0m \u001b[0mcached\u001b[0m\u001b[0;34m)\u001b[0m\u001b[0;34m\u001b[0m\u001b[0;34m\u001b[0m\u001b[0m\n\u001b[1;32m     56\u001b[0m         \u001b[0;32mreturn\u001b[0m \u001b[0mcached\u001b[0m\u001b[0;34m\u001b[0m\u001b[0;34m\u001b[0m\u001b[0m\n",
            "\u001b[0;32m/usr/local/lib/python3.10/dist-packages/transformers/training_args.py\u001b[0m in \u001b[0;36m_setup_devices\u001b[0;34m(self)\u001b[0m\n\u001b[1;32m   1670\u001b[0m         \u001b[0;32mif\u001b[0m \u001b[0;32mnot\u001b[0m \u001b[0mis_sagemaker_mp_enabled\u001b[0m\u001b[0;34m(\u001b[0m\u001b[0;34m)\u001b[0m\u001b[0;34m:\u001b[0m\u001b[0;34m\u001b[0m\u001b[0;34m\u001b[0m\u001b[0m\n\u001b[1;32m   1671\u001b[0m             \u001b[0;32mif\u001b[0m \u001b[0;32mnot\u001b[0m \u001b[0mis_accelerate_available\u001b[0m\u001b[0;34m(\u001b[0m\u001b[0mmin_version\u001b[0m\u001b[0;34m=\u001b[0m\u001b[0;34m\"0.20.1\"\u001b[0m\u001b[0;34m)\u001b[0m\u001b[0;34m:\u001b[0m\u001b[0;34m\u001b[0m\u001b[0;34m\u001b[0m\u001b[0m\n\u001b[0;32m-> 1672\u001b[0;31m                 raise ImportError(\n\u001b[0m\u001b[1;32m   1673\u001b[0m                     \u001b[0;34m\"Using the `Trainer` with `PyTorch` requires `accelerate>=0.20.1`: Please run `pip install transformers[torch]` or `pip install accelerate -U`\"\u001b[0m\u001b[0;34m\u001b[0m\u001b[0;34m\u001b[0m\u001b[0m\n\u001b[1;32m   1674\u001b[0m                 )\n",
            "\u001b[0;31mImportError\u001b[0m: Using the `Trainer` with `PyTorch` requires `accelerate>=0.20.1`: Please run `pip install transformers[torch]` or `pip install accelerate -U`",
            "",
            "\u001b[0;31m---------------------------------------------------------------------------\u001b[0;32m\nNOTE: If your import is failing due to a missing package, you can\nmanually install dependencies using either !pip or !apt.\n\nTo view examples of installing some common dependencies, click the\n\"Open Examples\" button below.\n\u001b[0;31m---------------------------------------------------------------------------\u001b[0m\n"
          ],
          "errorDetails": {
            "actions": [
              {
                "action": "open_url",
                "actionText": "Open Examples",
                "url": "/notebooks/snippets/importing_libraries.ipynb"
              }
            ]
          }
        }
      ]
    }
  ],
  "metadata": {
    "colab": {
      "provenance": []
    },
    "kernelspec": {
      "display_name": "Python 3 (ipykernel)",
      "language": "python",
      "name": "python3"
    },
    "language_info": {
      "codemirror_mode": {
        "name": "ipython",
        "version": 3
      },
      "file_extension": ".py",
      "mimetype": "text/x-python",
      "name": "python",
      "nbconvert_exporter": "python",
      "pygments_lexer": "ipython3",
      "version": "3.9.16"
    },
    "widgets": {
      "application/vnd.jupyter.widget-state+json": {
        "4a3ca1c4a48540bcb64cad03ed63ee7d": {
          "model_module": "@jupyter-widgets/controls",
          "model_name": "HBoxModel",
          "model_module_version": "1.5.0",
          "state": {
            "_dom_classes": [],
            "_model_module": "@jupyter-widgets/controls",
            "_model_module_version": "1.5.0",
            "_model_name": "HBoxModel",
            "_view_count": null,
            "_view_module": "@jupyter-widgets/controls",
            "_view_module_version": "1.5.0",
            "_view_name": "HBoxView",
            "box_style": "",
            "children": [
              "IPY_MODEL_c982d34259eb4cd2ac435c26641b669b",
              "IPY_MODEL_af42a0ee4e9d44b3bbfc29d80480ceda",
              "IPY_MODEL_e3c81a0063fb4da4a59fc27c69a8f3b6"
            ],
            "layout": "IPY_MODEL_617787425800491e8c71b77fc4d78877"
          }
        },
        "c982d34259eb4cd2ac435c26641b669b": {
          "model_module": "@jupyter-widgets/controls",
          "model_name": "HTMLModel",
          "model_module_version": "1.5.0",
          "state": {
            "_dom_classes": [],
            "_model_module": "@jupyter-widgets/controls",
            "_model_module_version": "1.5.0",
            "_model_name": "HTMLModel",
            "_view_count": null,
            "_view_module": "@jupyter-widgets/controls",
            "_view_module_version": "1.5.0",
            "_view_name": "HTMLView",
            "description": "",
            "description_tooltip": null,
            "layout": "IPY_MODEL_c7676bba592e48b2b5a23a812913e382",
            "placeholder": "​",
            "style": "IPY_MODEL_d3d90be67ff34ed5af78784e4779be6c",
            "value": "Map: 100%"
          }
        },
        "af42a0ee4e9d44b3bbfc29d80480ceda": {
          "model_module": "@jupyter-widgets/controls",
          "model_name": "FloatProgressModel",
          "model_module_version": "1.5.0",
          "state": {
            "_dom_classes": [],
            "_model_module": "@jupyter-widgets/controls",
            "_model_module_version": "1.5.0",
            "_model_name": "FloatProgressModel",
            "_view_count": null,
            "_view_module": "@jupyter-widgets/controls",
            "_view_module_version": "1.5.0",
            "_view_name": "ProgressView",
            "bar_style": "",
            "description": "",
            "description_tooltip": null,
            "layout": "IPY_MODEL_2c3aae9d507f4a1f8f9b7a8372cb9bc6",
            "max": 200,
            "min": 0,
            "orientation": "horizontal",
            "style": "IPY_MODEL_acab36fb800743db89c48bb5223a2808",
            "value": 200
          }
        },
        "e3c81a0063fb4da4a59fc27c69a8f3b6": {
          "model_module": "@jupyter-widgets/controls",
          "model_name": "HTMLModel",
          "model_module_version": "1.5.0",
          "state": {
            "_dom_classes": [],
            "_model_module": "@jupyter-widgets/controls",
            "_model_module_version": "1.5.0",
            "_model_name": "HTMLModel",
            "_view_count": null,
            "_view_module": "@jupyter-widgets/controls",
            "_view_module_version": "1.5.0",
            "_view_name": "HTMLView",
            "description": "",
            "description_tooltip": null,
            "layout": "IPY_MODEL_390c7237ff394916806619b25061c217",
            "placeholder": "​",
            "style": "IPY_MODEL_888935239f2e4adc9f08787f40628844",
            "value": " 200/200 [00:00&lt;00:00, 1757.00 examples/s]"
          }
        },
        "617787425800491e8c71b77fc4d78877": {
          "model_module": "@jupyter-widgets/base",
          "model_name": "LayoutModel",
          "model_module_version": "1.2.0",
          "state": {
            "_model_module": "@jupyter-widgets/base",
            "_model_module_version": "1.2.0",
            "_model_name": "LayoutModel",
            "_view_count": null,
            "_view_module": "@jupyter-widgets/base",
            "_view_module_version": "1.2.0",
            "_view_name": "LayoutView",
            "align_content": null,
            "align_items": null,
            "align_self": null,
            "border": null,
            "bottom": null,
            "display": null,
            "flex": null,
            "flex_flow": null,
            "grid_area": null,
            "grid_auto_columns": null,
            "grid_auto_flow": null,
            "grid_auto_rows": null,
            "grid_column": null,
            "grid_gap": null,
            "grid_row": null,
            "grid_template_areas": null,
            "grid_template_columns": null,
            "grid_template_rows": null,
            "height": null,
            "justify_content": null,
            "justify_items": null,
            "left": null,
            "margin": null,
            "max_height": null,
            "max_width": null,
            "min_height": null,
            "min_width": null,
            "object_fit": null,
            "object_position": null,
            "order": null,
            "overflow": null,
            "overflow_x": null,
            "overflow_y": null,
            "padding": null,
            "right": null,
            "top": null,
            "visibility": "hidden",
            "width": null
          }
        },
        "c7676bba592e48b2b5a23a812913e382": {
          "model_module": "@jupyter-widgets/base",
          "model_name": "LayoutModel",
          "model_module_version": "1.2.0",
          "state": {
            "_model_module": "@jupyter-widgets/base",
            "_model_module_version": "1.2.0",
            "_model_name": "LayoutModel",
            "_view_count": null,
            "_view_module": "@jupyter-widgets/base",
            "_view_module_version": "1.2.0",
            "_view_name": "LayoutView",
            "align_content": null,
            "align_items": null,
            "align_self": null,
            "border": null,
            "bottom": null,
            "display": null,
            "flex": null,
            "flex_flow": null,
            "grid_area": null,
            "grid_auto_columns": null,
            "grid_auto_flow": null,
            "grid_auto_rows": null,
            "grid_column": null,
            "grid_gap": null,
            "grid_row": null,
            "grid_template_areas": null,
            "grid_template_columns": null,
            "grid_template_rows": null,
            "height": null,
            "justify_content": null,
            "justify_items": null,
            "left": null,
            "margin": null,
            "max_height": null,
            "max_width": null,
            "min_height": null,
            "min_width": null,
            "object_fit": null,
            "object_position": null,
            "order": null,
            "overflow": null,
            "overflow_x": null,
            "overflow_y": null,
            "padding": null,
            "right": null,
            "top": null,
            "visibility": null,
            "width": null
          }
        },
        "d3d90be67ff34ed5af78784e4779be6c": {
          "model_module": "@jupyter-widgets/controls",
          "model_name": "DescriptionStyleModel",
          "model_module_version": "1.5.0",
          "state": {
            "_model_module": "@jupyter-widgets/controls",
            "_model_module_version": "1.5.0",
            "_model_name": "DescriptionStyleModel",
            "_view_count": null,
            "_view_module": "@jupyter-widgets/base",
            "_view_module_version": "1.2.0",
            "_view_name": "StyleView",
            "description_width": ""
          }
        },
        "2c3aae9d507f4a1f8f9b7a8372cb9bc6": {
          "model_module": "@jupyter-widgets/base",
          "model_name": "LayoutModel",
          "model_module_version": "1.2.0",
          "state": {
            "_model_module": "@jupyter-widgets/base",
            "_model_module_version": "1.2.0",
            "_model_name": "LayoutModel",
            "_view_count": null,
            "_view_module": "@jupyter-widgets/base",
            "_view_module_version": "1.2.0",
            "_view_name": "LayoutView",
            "align_content": null,
            "align_items": null,
            "align_self": null,
            "border": null,
            "bottom": null,
            "display": null,
            "flex": null,
            "flex_flow": null,
            "grid_area": null,
            "grid_auto_columns": null,
            "grid_auto_flow": null,
            "grid_auto_rows": null,
            "grid_column": null,
            "grid_gap": null,
            "grid_row": null,
            "grid_template_areas": null,
            "grid_template_columns": null,
            "grid_template_rows": null,
            "height": null,
            "justify_content": null,
            "justify_items": null,
            "left": null,
            "margin": null,
            "max_height": null,
            "max_width": null,
            "min_height": null,
            "min_width": null,
            "object_fit": null,
            "object_position": null,
            "order": null,
            "overflow": null,
            "overflow_x": null,
            "overflow_y": null,
            "padding": null,
            "right": null,
            "top": null,
            "visibility": null,
            "width": null
          }
        },
        "acab36fb800743db89c48bb5223a2808": {
          "model_module": "@jupyter-widgets/controls",
          "model_name": "ProgressStyleModel",
          "model_module_version": "1.5.0",
          "state": {
            "_model_module": "@jupyter-widgets/controls",
            "_model_module_version": "1.5.0",
            "_model_name": "ProgressStyleModel",
            "_view_count": null,
            "_view_module": "@jupyter-widgets/base",
            "_view_module_version": "1.2.0",
            "_view_name": "StyleView",
            "bar_color": null,
            "description_width": ""
          }
        },
        "390c7237ff394916806619b25061c217": {
          "model_module": "@jupyter-widgets/base",
          "model_name": "LayoutModel",
          "model_module_version": "1.2.0",
          "state": {
            "_model_module": "@jupyter-widgets/base",
            "_model_module_version": "1.2.0",
            "_model_name": "LayoutModel",
            "_view_count": null,
            "_view_module": "@jupyter-widgets/base",
            "_view_module_version": "1.2.0",
            "_view_name": "LayoutView",
            "align_content": null,
            "align_items": null,
            "align_self": null,
            "border": null,
            "bottom": null,
            "display": null,
            "flex": null,
            "flex_flow": null,
            "grid_area": null,
            "grid_auto_columns": null,
            "grid_auto_flow": null,
            "grid_auto_rows": null,
            "grid_column": null,
            "grid_gap": null,
            "grid_row": null,
            "grid_template_areas": null,
            "grid_template_columns": null,
            "grid_template_rows": null,
            "height": null,
            "justify_content": null,
            "justify_items": null,
            "left": null,
            "margin": null,
            "max_height": null,
            "max_width": null,
            "min_height": null,
            "min_width": null,
            "object_fit": null,
            "object_position": null,
            "order": null,
            "overflow": null,
            "overflow_x": null,
            "overflow_y": null,
            "padding": null,
            "right": null,
            "top": null,
            "visibility": null,
            "width": null
          }
        },
        "888935239f2e4adc9f08787f40628844": {
          "model_module": "@jupyter-widgets/controls",
          "model_name": "DescriptionStyleModel",
          "model_module_version": "1.5.0",
          "state": {
            "_model_module": "@jupyter-widgets/controls",
            "_model_module_version": "1.5.0",
            "_model_name": "DescriptionStyleModel",
            "_view_count": null,
            "_view_module": "@jupyter-widgets/base",
            "_view_module_version": "1.2.0",
            "_view_name": "StyleView",
            "description_width": ""
          }
        },
        "fa86753555f94d3f9a7903a53beb55a2": {
          "model_module": "@jupyter-widgets/controls",
          "model_name": "HBoxModel",
          "model_module_version": "1.5.0",
          "state": {
            "_dom_classes": [],
            "_model_module": "@jupyter-widgets/controls",
            "_model_module_version": "1.5.0",
            "_model_name": "HBoxModel",
            "_view_count": null,
            "_view_module": "@jupyter-widgets/controls",
            "_view_module_version": "1.5.0",
            "_view_name": "HBoxView",
            "box_style": "",
            "children": [
              "IPY_MODEL_c65ff095c6cf48a9af5202b6bed93a59",
              "IPY_MODEL_f21df3b8ffd844a2a8a0f78b2c60a1de",
              "IPY_MODEL_30dd80c0583a4bf4969778458c8f8388"
            ],
            "layout": "IPY_MODEL_42e6ed9da6f2473b83309a4a7bdcf6e3"
          }
        },
        "c65ff095c6cf48a9af5202b6bed93a59": {
          "model_module": "@jupyter-widgets/controls",
          "model_name": "HTMLModel",
          "model_module_version": "1.5.0",
          "state": {
            "_dom_classes": [],
            "_model_module": "@jupyter-widgets/controls",
            "_model_module_version": "1.5.0",
            "_model_name": "HTMLModel",
            "_view_count": null,
            "_view_module": "@jupyter-widgets/controls",
            "_view_module_version": "1.5.0",
            "_view_name": "HTMLView",
            "description": "",
            "description_tooltip": null,
            "layout": "IPY_MODEL_8ac80c9865134d2dbc8e0194a4ba917b",
            "placeholder": "​",
            "style": "IPY_MODEL_bd8204cea1a34aaca2422c5c8f7504b0",
            "value": "Map:   0%"
          }
        },
        "f21df3b8ffd844a2a8a0f78b2c60a1de": {
          "model_module": "@jupyter-widgets/controls",
          "model_name": "FloatProgressModel",
          "model_module_version": "1.5.0",
          "state": {
            "_dom_classes": [],
            "_model_module": "@jupyter-widgets/controls",
            "_model_module_version": "1.5.0",
            "_model_name": "FloatProgressModel",
            "_view_count": null,
            "_view_module": "@jupyter-widgets/controls",
            "_view_module_version": "1.5.0",
            "_view_name": "ProgressView",
            "bar_style": "",
            "description": "",
            "description_tooltip": null,
            "layout": "IPY_MODEL_64f48dabdd5141178e8f522f1cfced3b",
            "max": 25,
            "min": 0,
            "orientation": "horizontal",
            "style": "IPY_MODEL_caa0535719f0472b8b5747ceda15ff47",
            "value": 25
          }
        },
        "30dd80c0583a4bf4969778458c8f8388": {
          "model_module": "@jupyter-widgets/controls",
          "model_name": "HTMLModel",
          "model_module_version": "1.5.0",
          "state": {
            "_dom_classes": [],
            "_model_module": "@jupyter-widgets/controls",
            "_model_module_version": "1.5.0",
            "_model_name": "HTMLModel",
            "_view_count": null,
            "_view_module": "@jupyter-widgets/controls",
            "_view_module_version": "1.5.0",
            "_view_name": "HTMLView",
            "description": "",
            "description_tooltip": null,
            "layout": "IPY_MODEL_0d478ac3d2524ae78ddb7a7795b13004",
            "placeholder": "​",
            "style": "IPY_MODEL_66348d30a9aa474dbd5aae9ceae9ca5f",
            "value": " 0/25 [00:00&lt;?, ? examples/s]"
          }
        },
        "42e6ed9da6f2473b83309a4a7bdcf6e3": {
          "model_module": "@jupyter-widgets/base",
          "model_name": "LayoutModel",
          "model_module_version": "1.2.0",
          "state": {
            "_model_module": "@jupyter-widgets/base",
            "_model_module_version": "1.2.0",
            "_model_name": "LayoutModel",
            "_view_count": null,
            "_view_module": "@jupyter-widgets/base",
            "_view_module_version": "1.2.0",
            "_view_name": "LayoutView",
            "align_content": null,
            "align_items": null,
            "align_self": null,
            "border": null,
            "bottom": null,
            "display": null,
            "flex": null,
            "flex_flow": null,
            "grid_area": null,
            "grid_auto_columns": null,
            "grid_auto_flow": null,
            "grid_auto_rows": null,
            "grid_column": null,
            "grid_gap": null,
            "grid_row": null,
            "grid_template_areas": null,
            "grid_template_columns": null,
            "grid_template_rows": null,
            "height": null,
            "justify_content": null,
            "justify_items": null,
            "left": null,
            "margin": null,
            "max_height": null,
            "max_width": null,
            "min_height": null,
            "min_width": null,
            "object_fit": null,
            "object_position": null,
            "order": null,
            "overflow": null,
            "overflow_x": null,
            "overflow_y": null,
            "padding": null,
            "right": null,
            "top": null,
            "visibility": "hidden",
            "width": null
          }
        },
        "8ac80c9865134d2dbc8e0194a4ba917b": {
          "model_module": "@jupyter-widgets/base",
          "model_name": "LayoutModel",
          "model_module_version": "1.2.0",
          "state": {
            "_model_module": "@jupyter-widgets/base",
            "_model_module_version": "1.2.0",
            "_model_name": "LayoutModel",
            "_view_count": null,
            "_view_module": "@jupyter-widgets/base",
            "_view_module_version": "1.2.0",
            "_view_name": "LayoutView",
            "align_content": null,
            "align_items": null,
            "align_self": null,
            "border": null,
            "bottom": null,
            "display": null,
            "flex": null,
            "flex_flow": null,
            "grid_area": null,
            "grid_auto_columns": null,
            "grid_auto_flow": null,
            "grid_auto_rows": null,
            "grid_column": null,
            "grid_gap": null,
            "grid_row": null,
            "grid_template_areas": null,
            "grid_template_columns": null,
            "grid_template_rows": null,
            "height": null,
            "justify_content": null,
            "justify_items": null,
            "left": null,
            "margin": null,
            "max_height": null,
            "max_width": null,
            "min_height": null,
            "min_width": null,
            "object_fit": null,
            "object_position": null,
            "order": null,
            "overflow": null,
            "overflow_x": null,
            "overflow_y": null,
            "padding": null,
            "right": null,
            "top": null,
            "visibility": null,
            "width": null
          }
        },
        "bd8204cea1a34aaca2422c5c8f7504b0": {
          "model_module": "@jupyter-widgets/controls",
          "model_name": "DescriptionStyleModel",
          "model_module_version": "1.5.0",
          "state": {
            "_model_module": "@jupyter-widgets/controls",
            "_model_module_version": "1.5.0",
            "_model_name": "DescriptionStyleModel",
            "_view_count": null,
            "_view_module": "@jupyter-widgets/base",
            "_view_module_version": "1.2.0",
            "_view_name": "StyleView",
            "description_width": ""
          }
        },
        "64f48dabdd5141178e8f522f1cfced3b": {
          "model_module": "@jupyter-widgets/base",
          "model_name": "LayoutModel",
          "model_module_version": "1.2.0",
          "state": {
            "_model_module": "@jupyter-widgets/base",
            "_model_module_version": "1.2.0",
            "_model_name": "LayoutModel",
            "_view_count": null,
            "_view_module": "@jupyter-widgets/base",
            "_view_module_version": "1.2.0",
            "_view_name": "LayoutView",
            "align_content": null,
            "align_items": null,
            "align_self": null,
            "border": null,
            "bottom": null,
            "display": null,
            "flex": null,
            "flex_flow": null,
            "grid_area": null,
            "grid_auto_columns": null,
            "grid_auto_flow": null,
            "grid_auto_rows": null,
            "grid_column": null,
            "grid_gap": null,
            "grid_row": null,
            "grid_template_areas": null,
            "grid_template_columns": null,
            "grid_template_rows": null,
            "height": null,
            "justify_content": null,
            "justify_items": null,
            "left": null,
            "margin": null,
            "max_height": null,
            "max_width": null,
            "min_height": null,
            "min_width": null,
            "object_fit": null,
            "object_position": null,
            "order": null,
            "overflow": null,
            "overflow_x": null,
            "overflow_y": null,
            "padding": null,
            "right": null,
            "top": null,
            "visibility": null,
            "width": null
          }
        },
        "caa0535719f0472b8b5747ceda15ff47": {
          "model_module": "@jupyter-widgets/controls",
          "model_name": "ProgressStyleModel",
          "model_module_version": "1.5.0",
          "state": {
            "_model_module": "@jupyter-widgets/controls",
            "_model_module_version": "1.5.0",
            "_model_name": "ProgressStyleModel",
            "_view_count": null,
            "_view_module": "@jupyter-widgets/base",
            "_view_module_version": "1.2.0",
            "_view_name": "StyleView",
            "bar_color": null,
            "description_width": ""
          }
        },
        "0d478ac3d2524ae78ddb7a7795b13004": {
          "model_module": "@jupyter-widgets/base",
          "model_name": "LayoutModel",
          "model_module_version": "1.2.0",
          "state": {
            "_model_module": "@jupyter-widgets/base",
            "_model_module_version": "1.2.0",
            "_model_name": "LayoutModel",
            "_view_count": null,
            "_view_module": "@jupyter-widgets/base",
            "_view_module_version": "1.2.0",
            "_view_name": "LayoutView",
            "align_content": null,
            "align_items": null,
            "align_self": null,
            "border": null,
            "bottom": null,
            "display": null,
            "flex": null,
            "flex_flow": null,
            "grid_area": null,
            "grid_auto_columns": null,
            "grid_auto_flow": null,
            "grid_auto_rows": null,
            "grid_column": null,
            "grid_gap": null,
            "grid_row": null,
            "grid_template_areas": null,
            "grid_template_columns": null,
            "grid_template_rows": null,
            "height": null,
            "justify_content": null,
            "justify_items": null,
            "left": null,
            "margin": null,
            "max_height": null,
            "max_width": null,
            "min_height": null,
            "min_width": null,
            "object_fit": null,
            "object_position": null,
            "order": null,
            "overflow": null,
            "overflow_x": null,
            "overflow_y": null,
            "padding": null,
            "right": null,
            "top": null,
            "visibility": null,
            "width": null
          }
        },
        "66348d30a9aa474dbd5aae9ceae9ca5f": {
          "model_module": "@jupyter-widgets/controls",
          "model_name": "DescriptionStyleModel",
          "model_module_version": "1.5.0",
          "state": {
            "_model_module": "@jupyter-widgets/controls",
            "_model_module_version": "1.5.0",
            "_model_name": "DescriptionStyleModel",
            "_view_count": null,
            "_view_module": "@jupyter-widgets/base",
            "_view_module_version": "1.2.0",
            "_view_name": "StyleView",
            "description_width": ""
          }
        },
        "12fa0589746c48df9f9d14cfaea46943": {
          "model_module": "@jupyter-widgets/controls",
          "model_name": "HBoxModel",
          "model_module_version": "1.5.0",
          "state": {
            "_dom_classes": [],
            "_model_module": "@jupyter-widgets/controls",
            "_model_module_version": "1.5.0",
            "_model_name": "HBoxModel",
            "_view_count": null,
            "_view_module": "@jupyter-widgets/controls",
            "_view_module_version": "1.5.0",
            "_view_name": "HBoxView",
            "box_style": "",
            "children": [
              "IPY_MODEL_93a3a52f816c42f7a430b0b4a7ad8249",
              "IPY_MODEL_65d86dbaf0884f6b9694f6977aab4dfe",
              "IPY_MODEL_14cea20354944158ae3c87657893b072"
            ],
            "layout": "IPY_MODEL_4dde6f2325e6487580d6ca70c53c132b"
          }
        },
        "93a3a52f816c42f7a430b0b4a7ad8249": {
          "model_module": "@jupyter-widgets/controls",
          "model_name": "HTMLModel",
          "model_module_version": "1.5.0",
          "state": {
            "_dom_classes": [],
            "_model_module": "@jupyter-widgets/controls",
            "_model_module_version": "1.5.0",
            "_model_name": "HTMLModel",
            "_view_count": null,
            "_view_module": "@jupyter-widgets/controls",
            "_view_module_version": "1.5.0",
            "_view_name": "HTMLView",
            "description": "",
            "description_tooltip": null,
            "layout": "IPY_MODEL_eb924f27e6ed4bf59665816ebc68e4d5",
            "placeholder": "​",
            "style": "IPY_MODEL_73aff4182f134f399ae2a548bf32cd43",
            "value": "Map:   0%"
          }
        },
        "65d86dbaf0884f6b9694f6977aab4dfe": {
          "model_module": "@jupyter-widgets/controls",
          "model_name": "FloatProgressModel",
          "model_module_version": "1.5.0",
          "state": {
            "_dom_classes": [],
            "_model_module": "@jupyter-widgets/controls",
            "_model_module_version": "1.5.0",
            "_model_name": "FloatProgressModel",
            "_view_count": null,
            "_view_module": "@jupyter-widgets/controls",
            "_view_module_version": "1.5.0",
            "_view_name": "ProgressView",
            "bar_style": "",
            "description": "",
            "description_tooltip": null,
            "layout": "IPY_MODEL_2419ebfe43314ea7acd730e29b3ba910",
            "max": 25,
            "min": 0,
            "orientation": "horizontal",
            "style": "IPY_MODEL_bd1a8ee82db5483a90b86355b116f712",
            "value": 25
          }
        },
        "14cea20354944158ae3c87657893b072": {
          "model_module": "@jupyter-widgets/controls",
          "model_name": "HTMLModel",
          "model_module_version": "1.5.0",
          "state": {
            "_dom_classes": [],
            "_model_module": "@jupyter-widgets/controls",
            "_model_module_version": "1.5.0",
            "_model_name": "HTMLModel",
            "_view_count": null,
            "_view_module": "@jupyter-widgets/controls",
            "_view_module_version": "1.5.0",
            "_view_name": "HTMLView",
            "description": "",
            "description_tooltip": null,
            "layout": "IPY_MODEL_6d3b2fd54ba14b8fb3ba2531830b337e",
            "placeholder": "​",
            "style": "IPY_MODEL_1b5f28d6160e4f13a11b741987d0ed32",
            "value": " 0/25 [00:00&lt;?, ? examples/s]"
          }
        },
        "4dde6f2325e6487580d6ca70c53c132b": {
          "model_module": "@jupyter-widgets/base",
          "model_name": "LayoutModel",
          "model_module_version": "1.2.0",
          "state": {
            "_model_module": "@jupyter-widgets/base",
            "_model_module_version": "1.2.0",
            "_model_name": "LayoutModel",
            "_view_count": null,
            "_view_module": "@jupyter-widgets/base",
            "_view_module_version": "1.2.0",
            "_view_name": "LayoutView",
            "align_content": null,
            "align_items": null,
            "align_self": null,
            "border": null,
            "bottom": null,
            "display": null,
            "flex": null,
            "flex_flow": null,
            "grid_area": null,
            "grid_auto_columns": null,
            "grid_auto_flow": null,
            "grid_auto_rows": null,
            "grid_column": null,
            "grid_gap": null,
            "grid_row": null,
            "grid_template_areas": null,
            "grid_template_columns": null,
            "grid_template_rows": null,
            "height": null,
            "justify_content": null,
            "justify_items": null,
            "left": null,
            "margin": null,
            "max_height": null,
            "max_width": null,
            "min_height": null,
            "min_width": null,
            "object_fit": null,
            "object_position": null,
            "order": null,
            "overflow": null,
            "overflow_x": null,
            "overflow_y": null,
            "padding": null,
            "right": null,
            "top": null,
            "visibility": "hidden",
            "width": null
          }
        },
        "eb924f27e6ed4bf59665816ebc68e4d5": {
          "model_module": "@jupyter-widgets/base",
          "model_name": "LayoutModel",
          "model_module_version": "1.2.0",
          "state": {
            "_model_module": "@jupyter-widgets/base",
            "_model_module_version": "1.2.0",
            "_model_name": "LayoutModel",
            "_view_count": null,
            "_view_module": "@jupyter-widgets/base",
            "_view_module_version": "1.2.0",
            "_view_name": "LayoutView",
            "align_content": null,
            "align_items": null,
            "align_self": null,
            "border": null,
            "bottom": null,
            "display": null,
            "flex": null,
            "flex_flow": null,
            "grid_area": null,
            "grid_auto_columns": null,
            "grid_auto_flow": null,
            "grid_auto_rows": null,
            "grid_column": null,
            "grid_gap": null,
            "grid_row": null,
            "grid_template_areas": null,
            "grid_template_columns": null,
            "grid_template_rows": null,
            "height": null,
            "justify_content": null,
            "justify_items": null,
            "left": null,
            "margin": null,
            "max_height": null,
            "max_width": null,
            "min_height": null,
            "min_width": null,
            "object_fit": null,
            "object_position": null,
            "order": null,
            "overflow": null,
            "overflow_x": null,
            "overflow_y": null,
            "padding": null,
            "right": null,
            "top": null,
            "visibility": null,
            "width": null
          }
        },
        "73aff4182f134f399ae2a548bf32cd43": {
          "model_module": "@jupyter-widgets/controls",
          "model_name": "DescriptionStyleModel",
          "model_module_version": "1.5.0",
          "state": {
            "_model_module": "@jupyter-widgets/controls",
            "_model_module_version": "1.5.0",
            "_model_name": "DescriptionStyleModel",
            "_view_count": null,
            "_view_module": "@jupyter-widgets/base",
            "_view_module_version": "1.2.0",
            "_view_name": "StyleView",
            "description_width": ""
          }
        },
        "2419ebfe43314ea7acd730e29b3ba910": {
          "model_module": "@jupyter-widgets/base",
          "model_name": "LayoutModel",
          "model_module_version": "1.2.0",
          "state": {
            "_model_module": "@jupyter-widgets/base",
            "_model_module_version": "1.2.0",
            "_model_name": "LayoutModel",
            "_view_count": null,
            "_view_module": "@jupyter-widgets/base",
            "_view_module_version": "1.2.0",
            "_view_name": "LayoutView",
            "align_content": null,
            "align_items": null,
            "align_self": null,
            "border": null,
            "bottom": null,
            "display": null,
            "flex": null,
            "flex_flow": null,
            "grid_area": null,
            "grid_auto_columns": null,
            "grid_auto_flow": null,
            "grid_auto_rows": null,
            "grid_column": null,
            "grid_gap": null,
            "grid_row": null,
            "grid_template_areas": null,
            "grid_template_columns": null,
            "grid_template_rows": null,
            "height": null,
            "justify_content": null,
            "justify_items": null,
            "left": null,
            "margin": null,
            "max_height": null,
            "max_width": null,
            "min_height": null,
            "min_width": null,
            "object_fit": null,
            "object_position": null,
            "order": null,
            "overflow": null,
            "overflow_x": null,
            "overflow_y": null,
            "padding": null,
            "right": null,
            "top": null,
            "visibility": null,
            "width": null
          }
        },
        "bd1a8ee82db5483a90b86355b116f712": {
          "model_module": "@jupyter-widgets/controls",
          "model_name": "ProgressStyleModel",
          "model_module_version": "1.5.0",
          "state": {
            "_model_module": "@jupyter-widgets/controls",
            "_model_module_version": "1.5.0",
            "_model_name": "ProgressStyleModel",
            "_view_count": null,
            "_view_module": "@jupyter-widgets/base",
            "_view_module_version": "1.2.0",
            "_view_name": "StyleView",
            "bar_color": null,
            "description_width": ""
          }
        },
        "6d3b2fd54ba14b8fb3ba2531830b337e": {
          "model_module": "@jupyter-widgets/base",
          "model_name": "LayoutModel",
          "model_module_version": "1.2.0",
          "state": {
            "_model_module": "@jupyter-widgets/base",
            "_model_module_version": "1.2.0",
            "_model_name": "LayoutModel",
            "_view_count": null,
            "_view_module": "@jupyter-widgets/base",
            "_view_module_version": "1.2.0",
            "_view_name": "LayoutView",
            "align_content": null,
            "align_items": null,
            "align_self": null,
            "border": null,
            "bottom": null,
            "display": null,
            "flex": null,
            "flex_flow": null,
            "grid_area": null,
            "grid_auto_columns": null,
            "grid_auto_flow": null,
            "grid_auto_rows": null,
            "grid_column": null,
            "grid_gap": null,
            "grid_row": null,
            "grid_template_areas": null,
            "grid_template_columns": null,
            "grid_template_rows": null,
            "height": null,
            "justify_content": null,
            "justify_items": null,
            "left": null,
            "margin": null,
            "max_height": null,
            "max_width": null,
            "min_height": null,
            "min_width": null,
            "object_fit": null,
            "object_position": null,
            "order": null,
            "overflow": null,
            "overflow_x": null,
            "overflow_y": null,
            "padding": null,
            "right": null,
            "top": null,
            "visibility": null,
            "width": null
          }
        },
        "1b5f28d6160e4f13a11b741987d0ed32": {
          "model_module": "@jupyter-widgets/controls",
          "model_name": "DescriptionStyleModel",
          "model_module_version": "1.5.0",
          "state": {
            "_model_module": "@jupyter-widgets/controls",
            "_model_module_version": "1.5.0",
            "_model_name": "DescriptionStyleModel",
            "_view_count": null,
            "_view_module": "@jupyter-widgets/base",
            "_view_module_version": "1.2.0",
            "_view_name": "StyleView",
            "description_width": ""
          }
        }
      }
    }
  },
  "nbformat": 4,
  "nbformat_minor": 0
}