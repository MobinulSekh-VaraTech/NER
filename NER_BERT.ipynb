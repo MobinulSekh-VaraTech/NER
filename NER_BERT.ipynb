{
  "cells": [
    {
      "cell_type": "code",
      "execution_count": 1,
      "metadata": {
        "id": "nG7y09JobLQk",
        "colab": {
          "base_uri": "https://localhost:8080/"
        },
        "outputId": "6853b7dd-e413-4513-8c82-0c87ef43036c"
      },
      "outputs": [
        {
          "output_type": "stream",
          "name": "stdout",
          "text": [
            "\u001b[2K     \u001b[90m━━━━━━━━━━━━━━━━━━━━━━━━━━━━━━━━━━━━━━━━\u001b[0m \u001b[32m7.2/7.2 MB\u001b[0m \u001b[31m52.8 MB/s\u001b[0m eta \u001b[36m0:00:00\u001b[0m\n",
            "\u001b[2K     \u001b[90m━━━━━━━━━━━━━━━━━━━━━━━━━━━━━━━━━━━━━━\u001b[0m \u001b[32m486.2/486.2 kB\u001b[0m \u001b[31m29.3 MB/s\u001b[0m eta \u001b[36m0:00:00\u001b[0m\n",
            "\u001b[2K     \u001b[90m━━━━━━━━━━━━━━━━━━━━━━━━━━━━━━━━━━━━━━━━\u001b[0m \u001b[32m7.8/7.8 MB\u001b[0m \u001b[31m75.8 MB/s\u001b[0m eta \u001b[36m0:00:00\u001b[0m\n",
            "\u001b[2K     \u001b[90m━━━━━━━━━━━━━━━━━━━━━━━━━━━━━━━━━━━━━━━━\u001b[0m \u001b[32m43.6/43.6 kB\u001b[0m \u001b[31m4.1 MB/s\u001b[0m eta \u001b[36m0:00:00\u001b[0m\n",
            "\u001b[?25h  Preparing metadata (setup.py) ... \u001b[?25l\u001b[?25hdone\n",
            "\u001b[2K     \u001b[90m━━━━━━━━━━━━━━━━━━━━━━━━━━━━━━━━━━━━━━\u001b[0m \u001b[32m268.8/268.8 kB\u001b[0m \u001b[31m20.8 MB/s\u001b[0m eta \u001b[36m0:00:00\u001b[0m\n",
            "\u001b[2K     \u001b[90m━━━━━━━━━━━━━━━━━━━━━━━━━━━━━━━━━━━━━━━━\u001b[0m \u001b[32m1.3/1.3 MB\u001b[0m \u001b[31m50.3 MB/s\u001b[0m eta \u001b[36m0:00:00\u001b[0m\n",
            "\u001b[2K     \u001b[90m━━━━━━━━━━━━━━━━━━━━━━━━━━━━━━━━━━━━━━\u001b[0m \u001b[32m110.5/110.5 kB\u001b[0m \u001b[31m12.3 MB/s\u001b[0m eta \u001b[36m0:00:00\u001b[0m\n",
            "\u001b[2K     \u001b[90m━━━━━━━━━━━━━━━━━━━━━━━━━━━━━━━━━━━━━━\u001b[0m \u001b[32m212.5/212.5 kB\u001b[0m \u001b[31m20.1 MB/s\u001b[0m eta \u001b[36m0:00:00\u001b[0m\n",
            "\u001b[2K     \u001b[90m━━━━━━━━━━━━━━━━━━━━━━━━━━━━━━━━━━━━━━\u001b[0m \u001b[32m134.3/134.3 kB\u001b[0m \u001b[31m13.9 MB/s\u001b[0m eta \u001b[36m0:00:00\u001b[0m\n",
            "\u001b[?25h  Building wheel for seqeval (setup.py) ... \u001b[?25l\u001b[?25hdone\n",
            "\u001b[2K     \u001b[90m━━━━━━━━━━━━━━━━━━━━━━━━━━━━━━━━━━━━━━━\u001b[0m \u001b[32m227.5/227.5 kB\u001b[0m \u001b[31m5.6 MB/s\u001b[0m eta \u001b[36m0:00:00\u001b[0m\n",
            "\u001b[?25h"
          ]
        }
      ],
      "source": [
        "%pip install transformers datasets tokenizers seqeval torch torchvision torchaudio -q\n",
        "%pip install accelerate==0.20.1 -q"
      ]
    },
    {
      "cell_type": "code",
      "source": [
        "import numpy as np\n",
        "from datasets import Dataset, DatasetDict\n",
        "from transformers import BertTokenizerFast, DataCollatorForTokenClassification, AutoModelForTokenClassification\n",
        "from transformers import TrainingArguments, Trainer, pipeline"
      ],
      "metadata": {
        "id": "BDmlov93_542"
      },
      "execution_count": 2,
      "outputs": []
    },
    {
      "cell_type": "code",
      "execution_count": 3,
      "metadata": {
        "id": "m0ILSDG2a_Pq"
      },
      "outputs": [],
      "source": [
        "import json\n",
        "\n",
        "with open(\"annotations.json\", \"r\") as json_file:\n",
        "  data = json.load(json_file)"
      ]
    },
    {
      "cell_type": "code",
      "execution_count": 4,
      "metadata": {
        "colab": {
          "base_uri": "https://localhost:8080/"
        },
        "id": "lY9tmXctbM3e",
        "outputId": "eb25053b-822e-4de2-98bd-add5a3bbe816"
      },
      "outputs": [
        {
          "output_type": "execute_result",
          "data": {
            "text/plain": [
              "[[18, 26, 'B-ORG'],\n",
              " [27, 34, 'I-ORG'],\n",
              " [35, 41, 'B-MISC'],\n",
              " [42, 46, 'I-MISC'],\n",
              " [47, 51, 'I-MISC'],\n",
              " [52, 55, 'I-MISC'],\n",
              " [58, 62, 'B-LOC'],\n",
              " [63, 68, 'I-LOC'],\n",
              " [69, 74, 'I-LOC'],\n",
              " [75, 78, 'I-LOC']]"
            ]
          },
          "metadata": {},
          "execution_count": 4
        }
      ],
      "source": [
        "data['annotations'][0][1]['entities'][0:10]"
      ]
    },
    {
      "cell_type": "markdown",
      "metadata": {
        "id": "bObE21Unqxzc"
      },
      "source": [
        "## Transform annotations to huggingface datadict"
      ]
    },
    {
      "cell_type": "code",
      "execution_count": 5,
      "metadata": {
        "colab": {
          "base_uri": "https://localhost:8080/"
        },
        "id": "tfyEnKDsRr-t",
        "outputId": "9aadbe2e-c969-4bac-c521-54b5d64a1d38"
      },
      "outputs": [
        {
          "output_type": "stream",
          "name": "stdout",
          "text": [
            "{'Inveniam': 'B-ORG', 'Private': 'I-ORG', 'Equity': 'B-MISC', 'Fund': 'I-ORG', 'Demo': 'I-MISC', 'IV.': 'I-MISC', '8500': 'B-LOC', 'World': 'I-LOC', 'Trade': 'I-LOC', 'New': 'B-LOC', 'York': 'I-LOC', '10022': 'I-LOC', 'January': 'B-DATE', '1': 'I-DATE', '2019': 'I-DATE', 'Maria': 'B-PER', 'Sharapova': 'B-PER', '31': 'B-LOC', 'Blandford': 'I-LOC', 'Street': 'I-LOC', 'London': 'I-LOC', 'IV': 'I-MISC', 'Delaware': 'B-ORG', 'limited': 'B-MISC', 'partnership': 'I-AGRE', 'letter': 'B-AGRE', 'agreement': 'I-AGRE', '\"Letter': 'B-AGRE', 'Agreement\"': 'I-AGRE', '\"Investor\"': 'B-MISC', 'Amended': 'B-AGRE', 'Restated': 'I-AGRE', 'Limited': 'B-MISC', 'Partnership': 'I-AGRE', 'Agreement': 'I-AGRE', 'August': 'B-DATE', '27': 'I-DATE', '2021': 'I-DATE', '\"Limited': 'B-AGRE', 'Subscription': 'I-AGRE', 'Investor': 'B-MISC', '\"Subscription': 'B-AGRE', '$': 'B-CURR', '50,000,000': 'I-CURR', '\"Capital': 'B-AGRE', 'Commitment\"': 'I-AGRE', 'Capital': 'I-MISC', 'Partners': 'I-MISC', 'GP': 'I-ORG', 'L.L.C.': 'I-ORG', 'liability': 'I-ORG', 'company': 'I-ORG', '\"General': 'B-MISC', 'Partner\"': 'I-MISC', '0.85': 'B-MISC', '%': 'I-MISC', 'General': 'B-MISC', 'Partner': 'I-MISC', 'Other': 'B-AGRE', 'Agreements': 'I-AGRE', 'Comparable': 'B-MISC', 'Investors': 'B-MISC', '\"Sister': 'B-ORG', 'Fund\"': 'I-ORG', 'Overseas': 'B-MISC', 'L.P.': 'B-MISC', '\"SFRO': 'B-ORG', 'Feeder\"': 'I-ORG', 'Agreements\"': 'I-MISC', 'Letter': 'B-AGRE', '30': 'B-TIME', 'days': 'I-TIME', 'Agreement.': 'I-AGRE', 'Third': 'B-MISC', 'Party': 'I-MISC', 'DOC': 'B-MISC', 'ID': 'I-MISC', '36972123.18': 'I-MISC', 'Sister': 'B-ORG', 'SFRO': 'B-ORG', 'Feeder': 'I-ORG', 'Advisory': 'B-ORG', 'Board': 'I-ORG', \"Investor's\": 'B-AGRE', '\"Comparable': 'B-MISC', 'Investor\"': 'I-MISC', 'twenty-five': 'B-MISC', 'percent': 'I-MISC', '25': 'B-MISC', 'U.S.': 'B-LOC', '\"Other': 'B-MISC', 'partners': 'I-MISC', 'Feeder.': 'I-ORG', '\"Third': 'B-MISC', 'Management': 'B-ORG', 'Company': 'I-ORG', 'co-manager': 'B-PER', 'co-adviser': 'B-PER', 'investment': 'B-ORG', 'committee': 'I-ORG', '50': 'I-CURR', 'million': 'I-CURR', 'Commitment': 'I-MISC', 'Section': 'B-MISC', '3': 'I-MISC', 'Commitments': 'I-MISC', 'Agreements.': 'I-AGRE', 'Board.': 'I-ORG', '5.6': 'I-MISC', '\"Advisory': 'B-ORG', 'Board\"': 'I-ORG', '5': 'I-MISC', 'Partner.': 'I-MISC', '14.2': 'I-MISC', 'indemnification': 'B-AGRE', 'Fund.': 'I-ORG', 'Lockheed': 'B-MISC', \"Partner's\": 'I-MISC', 'anti-money': 'B-MISC', 'laundering': 'I-MISC', 'AML': 'B-MISC', 'know': 'B-MISC', 'your': 'I-MISC', 'customer': 'I-MISC', 'KYC': 'B-MISC'}\n",
            "['EXECUTION', 'VERSION', 'Inveniam', 'Private', 'Equity', 'Fund', 'Demo', 'IV.', '.', '8500', 'World', 'Trade', 'New', 'York,', 'New', 'York', '10022', 'January', '1,', '2019', 'Maria', 'Sharapova', '31', 'Blandford', 'Street', 'London,', 'W1U', '3DN', 'Ladies', 'and', 'Gentlemen:', 'RE:', 'Inveniam', 'Private', 'Equity', 'Fund', 'Demo', 'IV,', 'a', 'Delaware', 'limited', 'partnership', '(the', '\"Fund\")', 'This', 'letter', 'agreement', '(this', '\"Letter', 'Agreement\")', 'is', 'entered', 'into', 'in', 'connection', 'with', 'the', 'purchase', 'by', 'Sharapova', '(the', '\"Investor\")', 'of', 'a', 'limited', 'partnership', 'interest', 'in', 'the', 'Fund.', 'Capitalized', 'terms', 'used', 'and', 'not', 'defined', 'herein', 'shall', 'have', 'the', 'meanings', 'given', 'to', 'them', 'in', 'the', 'Fourth', 'Amended', 'and', 'Restated', 'Limited', 'Partnership', 'Agreement', 'of', 'the', 'Fund', 'dated', 'as', 'of', 'August', '27,', '2021', '(the', '\"Limited', 'Partnership', 'Agreement\"),', 'the', 'Subscription', 'Agreement', 'between', 'the', 'Investor', 'and', 'the', 'Fund', 'dated', 'as', 'of', 'the', 'date', 'hereof', '(the', '\"Subscription', 'Agreement\"),', 'including', 'any', 'amendments', 'and', 'supplements', 'to', 'all', 'of', 'the', 'foregoing', '(collectively,', 'the', '\"Fund', 'Documents\").', 'In', 'consideration', 'for', 'the', 'Investor', 'making', 'an', 'aggregate', 'capital', 'commitment', 'of', 'at', 'least', '$50,000,000', 'as', 'of', 'the', 'date', 'hereof', '(the', '\"Capital', 'Commitment\"),', 'Inveniam', 'Capital', 'Partners', 'GP,', 'L.L.C.,', 'a', 'Delaware', 'limited', 'liability', 'company', '(the', '\"General', 'Partner\"),', 'in', 'its', 'capacity', 'as', 'the', 'general', 'partner', 'of', 'the', 'Fund,', 'agrees', 'with', 'the', 'Investor', 'as', 'follows:', '1.', 'Reduced', 'Management', 'Fee', 'Rate.', 'If', 'the', 'Investor', 'has', 'submitted', 'a', 'withdrawal', 'request', 'and', 'the', 'amount', 'of', 'such', 'withdrawal', 'request', 'has', 'not', 'been', 'fully', 'paid', 'to', 'the', 'Investor', 'by', 'the', 'January', '1,', '2019', 'of', 'the', 'applicable', 'Withdrawal', 'Date,', 'the', 'Management', 'Fee', 'charged', 'to', 'the', 'Investor', 'with', 'respect', 'to', 'the', 'amount', 'that', 'has', 'not', 'been', 'paid', 'will', 'be', 'reduced', 'in', 'accordance', 'with', 'the', 'following', 'schedule', 'until', 'any', 'such', 'unsatisfied', 'withdrawal', 'request', 'will', 'be', '0.85%', 'Page', '2', '-2-', '2.', 'Most', 'Favored', 'Nation.', 'The', 'General', 'Partner', 'shall', 'disclose', 'to', 'the', 'Investor', 'any', 'and', 'all', 'Other', 'Agreements', '(which', 'may', 'be', 'redacted', 'to', 'remove', 'identifying', 'information)', 'with', 'Comparable', 'Investors', 'admitted', 'to', 'the', 'Fund,', 'Inveniam', 'Private', 'Equity', 'Fund', 'Demo', 'IV.', '(the', '\"Sister', 'Fund\")', 'and/or', 'AC', 'Partners', 'Overseas', 'Partners,', 'L.P.', '(the', '\"SFRO', 'Feeder\")', 'entered', 'into', 'after', 'the', 'date', 'hereof', '(all', 'such', 'Other', 'Agreements', 'with', 'Comparable', 'Investors,', '\"Applicable', 'Other', 'Agreements\"),', 'and,', 'to', 'the', 'extent', 'any', 'Applicable', 'Other', 'Agreement', 'entered', 'into', 'with', 'any', 'Comparable', 'Investor', 'has', 'the', 'effect', 'of', 'establishing', 'rights', 'or', 'otherwise', 'benefiting', 'such', 'other', 'Comparable', 'Investor', 'in', 'a', 'manner', 'more', 'favorable', 'to', 'such', 'Comparable', 'Investor', 'than', 'the', 'rights', 'and', 'benefits', 'established', 'in', 'favor', 'of', 'the', 'Investor', 'by', 'this', 'Letter', 'Agreement', 'and', 'the', 'Limited', 'Partnership', 'Agreement,', 'the', 'Investor', 'shall,', 'upon', 'request', 'to', 'the', 'General', 'Partner', 'made', 'within', '30', 'days', 'of', 'being', 'notified', 'of', 'the', 'terms', 'of', 'such', 'Applicable', 'Other', 'Agreements,', 'receive', 'the', 'same', 'rights', 'and', 'benefits', 'of', 'such', 'Applicable', 'Other', 'Agreement', '(the', '\"Relevant', 'Terms\")', 'and', 'are', 'so', 'requested,', 'but', 'only', 'if', 'the', 'Investor', 'agrees', 'to', 'be', 'bound', 'by', 'the', 'obligations', 'or', 'restrictions', 'in', 'such', 'Applicable', 'Other', 'Agreement', 'directly', 'relating', 'to', 'the', 'Relevant', 'Terms;', 'provided,', 'however,', 'that', 'Relevant', 'Terms', 'shall', 'exclude', 'any', '\"most', 'favored', 'nation\"', 'rights', 'granted', 'in', 'any', 'Applicable', 'Other', 'Agreement.', 'For', 'the', 'avoidance', 'of', 'doubt,', 'Relevant', 'Terms', 'do', 'not', 'include', 'rights', 'or', 'benefits', 'that', '(1)', 'are', 'granted', 'to', 'any', 'Third', 'Party', 'Investor', 'in', 'connection', 'with', 'such', 'Third', 'Party', \"Investor's\", 'legal,', 'regulatory', 'or', 'tax', 'status', 'that', 'is', 'not', 'DOC', 'ID', '-', '36972123.18', '-3-', 'Page', '3', 'shared', 'by,', 'nor', 'applicable', 'to,', 'the', 'Investor', 'or', 'is', 'otherwise', 'based', 'upon', 'laws,', 'rules', 'or', 'regulations', 'applicable', 'to', 'such', 'Third', 'Party', 'Investor', 'to', 'which', 'the', 'Investor', 'is', 'not', 'also', 'subject,', '(2)', 'are', 'granted', 'based', 'on', 'a', 'requirement', 'under', 'a', 'formal', 'written', 'policy', 'of', 'such', 'Third', 'Party', 'Investor', 'unrelated', 'to', 'its', 'investment', 'in', 'the', 'Fund,', 'the', 'Sister', 'Fund', 'or', 'the', 'SFRO', 'Feeder,', 'to', 'which', 'the', 'Investor', 'is', 'also', 'not', 'subject,', '(3)', 'relate', 'to', 'any', 'representation', 'by', 'such', 'Third', 'Party', 'Investor', 'on,', 'or', 'any', 'observer', 'rights', 'with', 'respect', 'to,', 'the', 'Advisory', 'Board', '(including,', 'without', 'limitation,', 'designation', 'of', 'a', 'representative', 'to', 'serve', 'as', 'a', 'member', 'of', 'the', 'Advisory', 'Board', 'or', 'attend', 'meetings', 'of', 'the', 'Advisory', 'Board', 'or', 'receive', 'or', 'have', 'access', 'to', 'any', 'materials', 'provided', 'to', 'the', 'Advisory', 'Board),', 'unless', 'the', 'Limited', 'Partner', 'to', 'which', 'such', 'Applicable', 'Other', 'Agreement', 'is', 'disclosed', 'has', 'also', 'designated', 'a', 'member', 'of', 'the', 'Advisory', 'Board', 'or', '(4)', 'are', 'based', 'upon', 'such', 'Third', 'Party', \"Investor's\", 'place', 'of', 'organization', 'or', 'headquarters', 'or', 'organizational', 'form', '(in', 'each', 'case,', 'if', 'different', 'from', 'that', 'of', 'the', 'Investor).', 'As', 'used', 'herein,', 'the', 'following', 'terms', 'shall', 'have', 'the', 'following', 'meanings:', '\"Comparable', 'Investor\"', 'shall', 'mean', 'any', 'Third', 'Party', 'Investor', 'having', 'a', 'Capital', 'Commitment', 'to', 'the', 'Fund,', 'the', 'Sister', 'Fund', 'or', 'the', 'SFRO', 'Feeder', 'equal', 'to', 'or', 'less', 'than', 'the', \"Investor's\", 'aggregate', 'Capital', 'Commitment', 'to', 'the', 'Fund,', 'the', 'Sister', 'Fund', 'or', 'the', 'SFRO', 'Feeder;', 'provided', 'that', 'for', 'purposes', 'of', 'determining', 'whether', 'any', 'Third', 'Party', 'Investor', 'is', 'a', 'Comparable', 'Investor,', 'the', 'investment', 'of', 'such', 'Third', 'Party', 'Investor', 'in', 'the', 'Fund,', 'the', 'Sister', 'Fund', 'or', 'the', 'SFRO', 'Feeder', 'may,', 'in', 'the', 'discretion', 'of', 'the', 'General', 'Partner,', 'be', 'aggregated', 'with', 'the', 'aggregate', 'amount', 'of', 'Capital', 'Commitments', 'to', 'the', 'Fund,', 'the', 'Sister', 'Fund', 'or', 'the', 'SFRO', 'Feeder', 'by', 'any', 'Affiliates', 'thereof', 'and', 'any', 'other', 'related', 'Persons', 'thereof', '(including', 'any', 'such', 'Persons', 'treated', 'as', 'affiliated', 'or', 'related', 'for', 'such', 'purposes', 'as', 'a', 'result', 'of', 'being', 'clients', 'of,', 'or', 'otherwise', 'managed', 'or', 'advised', 'by,', 'the', 'same', 'Person', 'or', 'by', 'an', 'Affiliate', 'thereof)', 'and', 'the', 'aggregate', 'amount', 'of', 'any', 'requested', 'subscription', 'amounts', 'of', 'the', 'Third', 'Party', 'Investor', 'or', 'any', 'of', 'the', 'foregoing', 'which', 'were', 'not', 'accepted', 'due', 'to', 'legal', 'or', 'regulatory', 'limitations', '(including,', 'without', 'limitation,', 'in', 'order', 'to', 'ensure', 'that', 'the', 'aggregate', 'direct', 'and', 'indirect', 'Capital', 'Commitments', 'by', 'all', 'Benefit', 'Plan', 'Investors', 'to', 'the', 'Fund,', 'the', 'Sister', 'Fund', 'or', 'the', 'SFRO', 'Feeder', 'are', 'less', 'than', 'twenty-five', 'percent', '(25%)', 'of', 'the', 'total', 'Capital', 'Commitments', 'to', 'such', 'vehicle),', 'in', 'each', 'case,', 'to', 'the', 'extent', 'deemed', 'to', 'have', 'been', 'made', 'by', 'such', 'Third', 'Party', 'Investor', 'for', 'purposes', 'of', 'its', 'Other', 'Agreement', 'as', 'so', 'designated', 'therein;', 'A', 'Third', 'Party', 'Investor', 'that', 'has', 'materially', 'less', 'U.S.', 'ownership', 'than', 'another', 'Third', 'Party', 'Investor', 'will', 'not', 'be', 'considered', 'a', 'Comparable', 'Investor', 'with', 'respect', 'to', 'such', 'other', 'Third', 'Party', 'Investor', 'solely', 'for', 'economic', 'purposes.', 'For', 'example,', 'a', 'Third', 'Party', 'Investor', 'making', 'a', 'Capital', 'Commitment', 'comprised', 'of', '25%', 'more', 'U.S.', 'ownership', 'than', 'another', 'Third', 'Party', 'Investor', 'making', 'a', 'Capital', 'Commitment', 'of', 'the', 'same', 'size', 'would', 'not', 'be', 'considered', 'Comparable', 'Investors', 'for', 'economic', 'purposes.', '\"Other', 'Agreements\"', 'shall', 'mean', 'side', 'letters', 'or', 'similar', 'agreements', 'with', 'Limited', 'Partners', 'of', 'the', 'Fund,', 'the', 'limited', 'partners', 'of', 'the', 'Sister', 'Fund', 'or', 'the', 'limited', 'partners', 'of', 'the', 'SFRO', 'Feeder.', '\"Third', 'Party', 'Investor\"', 'means', 'any', 'Person', 'that', 'subscribes', 'to', 'or', 'invests', 'in', 'the', 'Fund,', 'the', 'Sister', 'Fund', 'or', 'the', 'SFRO', 'Feeder', 'other', 'than:', '(i)', 'any', 'current', 'or', 'former', '(x)', 'member,', 'partner,', 'director,', 'officer,', 'employee,', 'principal,', 'or', 'consultant', '(provided', 'such', 'consultant', 'is', 'generally', 'subject', 'to', 'AC', \"Partners'\", 'compliance', 'policies)', 'of', 'the', 'General', 'Partner,', 'the', 'Management', 'Company', 'or', 'any', 'of', 'their', 'Affiliates,', 'or', '(y)', 'any', 'Related', 'Investor,', 'or', 'other', 'account,', 'trust,', 'partnership', 'or', 'entity', 'primarily', 'for', 'the', 'benefit', 'of', 'any', 'of', 'the', 'foregoing', 'or', 'any', 'of', 'their', 'families;', '(ii)', 'any', 'Person', '(or', 'any', 'Persons', 'DOC', 'ID', '-', '36972123.18', '-4-', 'Page', '4', 'affiliated', 'with', 'or', 'related', 'to', 'such', 'Person)', 'including,', 'without', 'limitation,', 'one', 'individual', 'who', 'may', 'assist', 'in', 'raising', 'capital', 'through', 'such', \"individual's\", \"employer's\", 'private', 'client', 'platform', '(subject', 'to', 'applicable', 'law', 'and', 'such', \"individual's\", \"employer's\", 'policies', 'and', 'procedures', 'around', 'making', 'such', 'investments)', 'that', 'is', 'a', 'current', 'or', 'former', 'joint', 'venture', 'partner', 'or', 'strategic', 'partner', 'of,', 'or', 'co-manager', 'or', 'co-adviser', 'with,', 'the', 'General', 'Partner,', 'the', 'Management', 'Company', 'or', 'any', 'of', 'their', 'Affiliates,', '(iii)', 'any', 'Person', '(or', 'any', 'Persons', 'affiliated', 'with', 'or', 'related', 'to', 'such', 'Person)', 'currently', 'or', 'previously', 'serving', 'or', 'having', 'representatives', 'on', 'any', 'investment', 'committee', '(or', 'similar', 'body', 'or', 'structure', 'exercising', 'investment', 'discretion)', 'of', 'the', 'Fund,', 'the', 'Sister', 'Fund', 'or', 'of', 'any', 'investment', 'fund,', 'vehicle', 'or', 'account', 'co-managed', 'or', 'co-advised', 'by', 'the', 'General', 'Partner,', 'the', 'Management', 'Company', 'or', 'any', 'of', 'their', 'Affiliates,', 'or', '(iv)', 'any', 'subsequent', 'successor,', 'heir', 'or', 'assign', 'of', 'the', 'foregoing.', '3.', 'Capital', 'Commitments', 'by', 'Benefit', 'Plan', 'Investors.', 'The', 'parties', 'hereto', 'acknowledge', 'that', 'the', 'Investor', 'has', 'submitted', 'a', 'Subscription', 'Agreement', 'on', 'or', 'prior', 'to', 'the', 'date', 'hereof', 'requesting', 'an', 'aggregate', 'Capital', 'Commitment', 'of', '$50', 'million', '(the', '\"Requested', 'Commitment\"),', 'and', 'the', 'Investor', 'shall', 'be', 'deemed', 'to', 'have', 'such', 'Capital', 'Commitment', 'for', 'purposes', 'of', 'this', 'Letter', 'Agreement.', 'Notwithstanding', 'the', 'foregoing,', 'the', 'parties', 'hereto', 'agree', 'that,', 'in', 'the', 'sole', 'discretion', 'of', 'the', 'General', 'Partner,', 'the', 'Fund', 'shall', 'accept', 'less', 'than', 'the', 'full', 'amount', 'of', 'the', \"Investor's\", 'Requested', 'Commitment', 'on', 'the', 'date', 'hereof', 'in', 'order', 'to', 'ensure', 'that', 'the', 'aggregate', 'direct', 'and', 'indirect', 'capital', 'commitments', 'by', 'all', 'Benefit', 'Plan', 'Investors', 'to', 'the', 'Fund', 'are', 'less', 'than', '25%', 'of', 'the', 'total', 'capital', 'commitments', 'to', 'the', 'Fund', '(excluding', 'any', 'capital', 'commitments', 'by', 'the', 'General', 'Partner', 'or', 'its', 'Affiliates', 'to', 'the', 'Fund', 'or', 'the', 'SFRO', 'Feeder).', 'In', 'such', 'event,', 'at', 'each', 'subsequent', 'Closing', 'following', 'the', 'date', 'hereof,', 'the', 'General', 'Partner', 'shall', 'accept', 'additional', 'portions', 'of', 'the', 'remaining', 'Requested', 'Commitment', 'of', 'the', 'Investor', '(each,', 'an', '\"Adjustment\")', 'if', 'and', 'to', 'the', 'extent', 'that', 'the', 'General', 'Partner,', 'in', 'its', 'sole', 'discretion,', 'determines', 'that', 'doing', 'so', 'would', 'not', 'cause', 'the', 'aggregate', 'direct', 'and', 'indirect', 'capital', 'commitments', 'by', 'all', 'Benefit', 'Plan', 'Investors', 'to', 'the', 'Fund', 'to', 'exceed', '25%', 'of', 'the', 'total', 'capital', 'commitments', 'to', 'the', 'Fund', '(excluding', 'any', 'capital', 'commitments', 'by', 'the', 'General', 'Partner', 'or', 'its', 'Affiliates', 'to', 'the', 'Fund', 'or', 'the', 'SFRO', 'Feeder).', 'Such', 'Adjustments', 'shall', 'be', 'accepted', 'by', 'the', 'General', 'Partner', 'on', 'not', 'less', 'than', 'a', 'pro', 'rata', 'basis', 'with', 'any', 'similar', 'adjustments', 'for', 'any', 'other', 'Benefit', 'Plan', 'Investors', 'whose', 'requested', 'Capital', 'Commitment', 'was', 'not', 'accepted', 'in', 'full', 'on', 'or', 'prior', 'to', 'the', 'date', 'hereof.', 'Notwithstanding', 'the', 'foregoing,', 'at', 'one', 'or', 'more', 'subsequent', 'Closings,', 'the', 'General', 'Partner', 'may', 'admit', 'any', 'other', 'Benefit', 'Plan', 'Investor', 'as', 'a', 'Limited', 'Partner', 'and', 'enter', 'into', 'an', 'Other', 'Agreement', 'with', 'such', 'Benefit', 'Plan', 'Investor', 'that', 'provides', 'for', 'the', 'acceptance', 'of', 'such', 'Benefit', 'Plan', \"Investor's\", 'Capital', 'Commitment', 'on', 'a', 'similarly', 'conditional', 'basis,', 'provided', 'that', 'the', \"Fund's\", 'acceptance', 'of', 'such', 'Benefit', 'Plan', \"Investor's\", 'Capital', 'Commitment', 'in', 'full', 'is', 'only', 'to', 'the', 'extent', 'that', 'such', 'Capital', 'Commitment', 'is', 'later', 'in', 'priority', 'to', 'the', 'acceptance', 'of', 'the', \"Investor's\", 'Requested', 'Commitment.', 'Other', 'than', 'as', 'set', 'forth', 'in', 'this', 'Section', '3,', 'the', 'General', 'Partner', 'shall', 'not', 'accept', 'Capital', 'Commitments', 'from', 'any', 'Benefit', 'Plan', 'Investors', 'until', 'such', 'time', 'as', 'the', 'entire', 'amount', 'of', 'the', 'Requested', 'Commitment', 'has', 'been', 'accepted.', 'For', 'the', 'avoidance', 'of', 'doubt,', '(i)', 'the', 'Requested', 'Commitment', 'shall', 'be', 'irrevocable', 'by', 'the', 'Investor', 'and', '(ii)', 'the', 'Investor', 'shall', 'be', 'obligated', 'to', 'fund', 'each', 'portion', 'of', 'the', 'Requested', 'Commitment', 'that', 'is', 'accepted', 'by', 'the', 'Fund', 'at', 'each', 'subsequent', 'Closing.', 'Further,', 'for', 'purposes', 'of', 'determining', 'the', 'Lock-Up', 'and', 'the', 'Commitment', 'Lock-Up', 'Expiration', 'Date', 'applicable', 'to', 'the', \"Investor's\", 'Capital', 'Commitment,', 'the', 'Investor', 'shall', 'be', 'deemed', 'to', 'have', 'made', 'its', 'entire', 'Capital', 'Commitment', 'as', 'of', 'the', 'date', 'hereof.', 'DOC', 'ID', '-', '36972123.18', '-5-', 'Page', '5', '4.', 'Other', 'Agreements.', 'For', 'so', 'long', 'as', 'the', 'Investor', 'holds', 'an', 'Interest', 'in', 'the', 'Fund,', 'to', 'the', 'extent', 'that', 'any', 'Other', 'Agreement', 'is', 'entered', 'into', 'with', 'a', 'Third', 'Party', 'Investor', 'with', 'respect', 'to', 'its', 'interest', 'in', 'the', 'Fund,', 'and', 'a', 'copy', 'of', 'such', 'Other', 'Agreement', 'is', 'not', 'required', 'to', 'be', 'provided', 'to', 'the', 'Investor', 'pursuant', 'to', 'Section', '2', 'above,', 'then', 'in', 'such', 'event,', 'the', 'General', 'Partner', 'shall', 'provide', 'to', 'the', 'Investor', 'a', 'copy', 'of', 'such', 'Other', 'Agreement', '(which', 'such', 'copy', 'may', 'be', 'redacted', 'for', 'any', 'identifying', 'information', 'with', 'respect', 'to', 'the', 'Third', 'Party', 'Investor', 'or', 'any', 'other', 'information', 'not', 'relevant', 'hereto)', 'unless', 'the', 'General', 'Partner', 'is', 'otherwise', 'restricted', 'by', 'confidentiality', 'or', 'non-', 'disclosure', 'obligations', 'with', 'respect', 'to', 'the', 'provision', 'of', 'such', 'Other', 'Agreement.', '5.', 'Advisory', 'Board.', 'In', 'consideration', 'of', 'the', \"Investor's\", 'admission', 'as', 'a', 'Limited', 'Partner', 'and', 'for', 'so', 'long', 'as', 'the', 'Investor', 'is', 'a', 'Limited', 'Partner', 'in', 'the', 'Fund', 'and', 'maintains', 'a', 'Capital', 'Commitment', 'of', 'at', 'least', '$50', 'million', '(or', 'such', 'lesser', 'aggregate', 'amount', 'of', 'the', \"Investor's\", 'Capital', 'Commitment', 'that', 'has', 'been', 'accepted', 'by', 'the', 'General', 'Partner', 'in', 'accordance', 'with', 'Section', '3', 'above', 'as', 'of', 'the', 'relevant', 'date),', 'and', 'is', 'not', 'a', 'Defaulting', 'Limited', 'Partner,', 'the', 'General', 'Partner', 'agrees', 'that', 'the', 'Investor', 'shall', 'be', 'entitled', 'to', 'designate', 'one', 'member', 'to', 'serve', 'on', 'a', 'committee', 'of', 'the', 'Fund', 'established', 'pursuant', 'to', 'Section', '5.6', 'of', 'the', 'Limited', 'Partnership', 'Agreement', '(the', '\"Advisory', 'Board\").', 'The', 'appointment', 'of', 'an', 'Advisory', 'Board', 'member', 'pursuant', 'to', 'this', 'Section', '5', 'shall', 'be', 'effective', 'upon', 'written', 'notice', 'from', 'the', 'Investor', 'to', 'the', 'Fund', 'of', 'the', 'name', 'and', 'contact', 'information', 'of', 'the', 'individual', 'so', 'appointed.', 'If', 'the', 'individual', 'appointed', 'pursuant', 'this', 'Section', '5', 'to', 'act', 'as', 'the', 'Advisory', 'Board', 'member', 'is', 'no', 'longer', 'affiliated', 'with', 'the', 'Investor,', 'or', 'no', 'longer', 'able', 'or', 'willing', 'to', 'act', 'as', 'the', 'Advisory', 'Board', 'member,', 'the', 'Investor', 'shall', 'provide', 'prompt', 'written', 'notice', 'thereof', 'to', 'the', 'Fund', 'and', 'such', 'Advisory', 'Board', 'member', 'shall', 'automatically', 'be', 'removed.', 'The', 'Investor', 'shall', 'be', 'entitled', 'to', 'remove', 'or', 'replace', 'any', 'Advisory', 'Board', 'member', 'at', 'any', 'time', 'pursuant', 'to', 'prior', 'written', 'notice', 'provided', 'by', 'the', 'Investor', 'to', 'the', 'General', 'Partner.', 'The', 'Investor', 'acknowledges', 'that', 'the', 'Advisory', 'Board', 'member', 'shall', 'be', 'bound', 'by', 'the', 'confidentiality', 'provisions', 'described', 'in', 'Section', '14.2', 'of', 'the', 'Limited', 'Partnership', 'Agreement.', 'The', 'Advisory', 'Board', 'may', 'act', 'on', 'behalf', 'of', 'the', 'Fund', 'and', 'the', 'Sister', 'Fund', 'if', 'requested', 'by', 'the', 'General', 'Partner,', 'provided', 'that', 'in', 'the', 'event', 'the', 'Advisory', 'Board', 'acts', 'on', 'behalf', 'of', 'the', 'Sister', 'Fund,', 'the', 'Advisory', 'Board', 'representative', 'appointed', 'by', 'the', 'Investor', 'shall', 'be', 'indemnified', 'pursuant', 'to', 'a', 'separate', 'indemnification', 'agreement', 'between', 'such', 'Advisory', 'Board', 'representative', 'and', 'the', 'Sister', 'Fund.', '6.', 'Transfers.', 'In', 'connection', 'with', 'any', 'proposed', 'transfer', 'by', 'the', 'Investor', 'of', 'all', 'or', 'a', 'portion', 'of', 'its', 'Interest', 'in', 'the', 'Fund', 'to', 'a', 'Lockheed', 'Party', '(as', 'defined', 'below),', 'at', 'the', 'request', 'of', 'the', 'Investor,', 'the', 'General', 'Partner', 'shall', 'not', 'unreasonably', 'withhold', 'its', 'written', 'consent', 'to', 'such', 'transfer', 'and', 'the', \"transferee's\", 'substitution', 'as', 'a', 'Limited', 'Partner,', 'as', 'required', 'by', 'the', 'Subscription', 'Agreement;', 'provided', '(a)', 'such', 'transfer', 'will', 'not', 'result', 'in', 'a', 'violation', 'of', 'any', 'applicable', 'laws,', 'rules', 'or', 'regulations', 'or', 'have', 'any', 'material', 'adverse', 'impact', '(whether', 'legal,', 'financial,', 'tax,', 'regulatory,', 'or', 'otherwise)', 'on', 'the', 'Fund,', 'the', 'Management', 'Company', 'or', 'the', 'General', 'Partner,', 'as', 'determined', 'by', 'the', 'General', 'Partner,', '(b)', 'such', 'transferee', 'is', 'not', 'a', 'competitor', 'of', '(directly', 'or', 'indirectly)', 'or', 'otherwise', 'affiliated', 'with', 'any', 'competitor', 'of', 'the', 'Fund,', 'the', 'General', 'Partner,', 'the', 'Management', 'Company', 'or', 'their', 'respective', 'Affiliates,', 'as', 'determined', 'in', 'good', 'faith', 'by', 'the', 'General', 'Partner,', '(c)', 'such', 'transferee', 'is', 'determined', 'to', 'be', 'sufficiently', 'creditworthy', 'to', 'assume', 'the', 'Limited', \"Partner's\", 'obligations', 'with', 'respect', 'to', 'the', 'Interest', 'being', 'transferred', 'and', 'clears', 'any', 'anti-money', 'laundering', '(AML),', 'know', 'your', 'customer', '(KYC)', 'and', 'similar', 'reviews', 'conducted', 'by', 'or', 'on', 'behalf', 'of', 'the', 'Fund', 'or', 'its', 'administrator', 'and', 'consistent', 'with', 'their', 'policies', 'and', 'procedures,', 'and', '(d)', 'such', 'transfer', 'is', 'documented', 'in', 'writing', 'in', 'a', 'form', 'reasonably', 'DOC', 'ID', '-', '36972123.18', '-6-', 'Page', '6', 'acceptable', 'to', 'the', 'General', 'Partner', 'and', 'such', 'transferee', 'makes', 'such', 'representations,', 'warranties,', 'covenants', 'and', 'undertakings', 'as', 'may', 'be', 'reasonably', 'required', 'by', 'the', 'General', 'Partner', 'in', 'connection', 'with', 'such', 'transfer,', 'including', 'representations,', 'warranties,', 'covenants', 'and', 'undertakings', 'comparable', 'to', 'those', 'included', 'in', 'the', \"Investor's\", 'Subscription', 'Agreement.', 'The', 'rights', 'and', 'obligations', 'arising', 'under', 'this', 'Letter', 'Agreement', 'may', 'be', 'assigned', 'by', 'the', 'Investor', 'to', 'any', 'such', 'transferee,', 'and', 'will', 'apply', 'equally', 'to', 'such', 'transferee,', 'in', 'connection', 'with', 'such', 'transfer;', 'provided,', 'however,', 'that', 'the', 'rights', 'arising']\n",
            "[0, 0, 1, 2, 15, 2, 16, 16, 0, 11, 12, 12, 11, 0, 11, 12, 12, 3, 0, 4, 7, 7, 11, 12, 12, 0, 0, 0, 0, 0, 0, 0, 1, 2, 15, 2, 16, 0, 0, 1, 15, 14, 0, 0, 0, 13, 14, 0, 13, 0, 0, 0, 0, 0, 0, 0, 0, 0, 0, 7, 0, 0, 0, 0, 15, 14, 0, 0, 0, 2, 0, 0, 0, 0, 0, 0, 0, 0, 0, 0, 0, 0, 0, 0, 0, 0, 0, 13, 0, 14, 15, 14, 14, 0, 0, 2, 0, 0, 0, 3, 0, 4, 0, 13, 14, 0, 0, 14, 14, 0, 0, 15, 0, 0, 2, 0, 0, 0, 0, 0, 0, 0, 13, 0, 0, 0, 0, 0, 0, 0, 0, 0, 0, 0, 0, 0, 0, 0, 0, 0, 0, 0, 15, 0, 0, 0, 0, 0, 0, 0, 0, 0, 0, 0, 0, 0, 0, 0, 13, 0, 1, 16, 16, 0, 0, 0, 1, 15, 2, 2, 0, 15, 0, 0, 0, 0, 0, 0, 0, 0, 0, 0, 0, 0, 0, 0, 15, 0, 0, 0, 0, 1, 0, 0, 0, 0, 15, 0, 0, 0, 0, 0, 0, 0, 0, 0, 0, 0, 0, 0, 0, 0, 0, 0, 0, 0, 15, 0, 0, 3, 0, 4, 0, 0, 0, 0, 0, 0, 1, 0, 0, 0, 0, 15, 0, 0, 0, 0, 0, 0, 0, 0, 0, 0, 0, 0, 0, 0, 0, 0, 0, 0, 0, 0, 0, 0, 0, 0, 0, 0, 0, 0, 0, 0, 0, 0, 0, 0, 0, 0, 15, 16, 0, 0, 0, 0, 15, 0, 0, 0, 13, 14, 0, 0, 0, 0, 0, 0, 0, 0, 0, 15, 15, 0, 0, 0, 0, 1, 2, 15, 2, 16, 16, 0, 1, 0, 0, 0, 16, 15, 0, 15, 0, 1, 0, 0, 0, 0, 0, 0, 0, 0, 0, 13, 14, 0, 15, 0, 0, 13, 0, 0, 0, 0, 0, 0, 0, 13, 14, 0, 0, 0, 0, 15, 15, 0, 0, 0, 0, 0, 0, 0, 0, 0, 0, 0, 15, 15, 0, 0, 0, 0, 0, 0, 0, 15, 15, 0, 0, 0, 0, 0, 0, 0, 0, 0, 0, 15, 0, 0, 13, 14, 0, 0, 15, 14, 0, 0, 15, 0, 0, 0, 0, 0, 15, 16, 0, 0, 5, 6, 0, 0, 0, 0, 0, 0, 0, 0, 0, 13, 0, 0, 0, 0, 0, 0, 0, 0, 0, 0, 13, 14, 0, 0, 0, 0, 0, 0, 0, 0, 0, 0, 0, 15, 0, 0, 0, 0, 0, 0, 0, 0, 0, 0, 0, 0, 13, 14, 0, 0, 0, 0, 0, 0, 0, 0, 0, 0, 0, 0, 0, 0, 0, 0, 0, 0, 0, 0, 0, 0, 13, 14, 0, 0, 0, 0, 0, 0, 0, 0, 0, 0, 0, 0, 0, 0, 0, 0, 0, 0, 0, 15, 16, 15, 0, 0, 0, 0, 15, 16, 13, 0, 0, 0, 0, 0, 0, 0, 0, 15, 16, 0, 16, 0, 0, 16, 0, 0, 0, 0, 0, 0, 15, 0, 0, 0, 0, 0, 0, 0, 0, 0, 0, 0, 0, 15, 16, 15, 0, 0, 0, 15, 0, 0, 0, 0, 0, 0, 0, 0, 0, 0, 0, 0, 0, 0, 0, 0, 0, 0, 15, 16, 15, 0, 0, 0, 1, 0, 0, 0, 0, 1, 2, 0, 0, 1, 0, 0, 0, 0, 15, 0, 0, 0, 0, 0, 0, 0, 0, 0, 0, 0, 15, 16, 15, 0, 0, 0, 0, 0, 0, 0, 0, 0, 1, 2, 0, 0, 0, 0, 0, 0, 0, 0, 0, 0, 0, 0, 0, 0, 1, 2, 0, 0, 0, 0, 0, 1, 2, 0, 0, 0, 0, 0, 0, 0, 0, 0, 0, 0, 1, 0, 0, 0, 15, 16, 0, 0, 0, 0, 13, 14, 0, 0, 0, 0, 0, 0, 0, 0, 0, 1, 2, 0, 0, 0, 0, 0, 0, 15, 16, 13, 0, 0, 0, 0, 0, 0, 0, 0, 0, 0, 0, 0, 0, 0, 0, 0, 0, 0, 0, 0, 0, 0, 0, 0, 0, 0, 0, 0, 0, 15, 16, 0, 0, 0, 15, 16, 15, 0, 0, 16, 16, 0, 0, 0, 0, 1, 2, 0, 0, 1, 2, 0, 0, 0, 0, 0, 0, 13, 0, 16, 16, 0, 0, 0, 0, 1, 2, 0, 0, 1, 0, 0, 0, 0, 0, 0, 0, 0, 0, 15, 16, 15, 0, 0, 15, 0, 0, 1, 0, 0, 15, 16, 15, 0, 0, 0, 0, 1, 2, 0, 0, 1, 2, 0, 0, 0, 0, 0, 0, 15, 0, 0, 0, 0, 0, 0, 0, 0, 16, 16, 0, 0, 0, 0, 1, 2, 0, 0, 1, 2, 0, 0, 0, 0, 0, 0, 0, 0, 0, 0, 0, 0, 0, 0, 0, 0, 0, 0, 0, 0, 0, 0, 0, 0, 0, 0, 0, 0, 0, 0, 0, 0, 0, 0, 0, 0, 0, 0, 0, 0, 0, 0, 0, 0, 0, 0, 0, 0, 0, 0, 0, 0, 0, 0, 15, 16, 15, 0, 0, 0, 0, 0, 0, 0, 0, 0, 0, 0, 0, 0, 0, 0, 0, 0, 0, 0, 0, 0, 0, 0, 0, 0, 0, 0, 0, 16, 16, 0, 0, 0, 0, 15, 0, 0, 0, 0, 1, 2, 0, 0, 1, 2, 0, 0, 0, 15, 16, 0, 0, 0, 0, 16, 16, 0, 0, 0, 0, 0, 0, 0, 0, 0, 0, 0, 0, 0, 0, 0, 0, 15, 16, 15, 0, 0, 0, 0, 13, 14, 0, 0, 0, 0, 0, 15, 16, 15, 0, 0, 0, 0, 11, 0, 0, 0, 15, 16, 15, 0, 0, 0, 0, 0, 15, 15, 0, 0, 0, 0, 0, 15, 16, 15, 0, 0, 0, 0, 0, 0, 0, 15, 16, 15, 0, 0, 16, 16, 0, 0, 0, 0, 11, 0, 0, 0, 15, 16, 15, 0, 0, 16, 16, 0, 0, 0, 0, 0, 0, 0, 0, 15, 15, 0, 0, 0, 15, 16, 0, 0, 0, 0, 0, 0, 0, 0, 15, 16, 0, 0, 0, 0, 15, 16, 0, 0, 1, 2, 0, 0, 15, 16, 0, 0, 1, 2, 15, 16, 16, 0, 0, 0, 0, 0, 0, 0, 0, 0, 0, 0, 0, 1, 2, 0, 0, 1, 2, 0, 0, 0, 0, 0, 0, 0, 0, 0, 0, 0, 0, 0, 0, 0, 0, 0, 0, 0, 0, 0, 0, 0, 0, 0, 0, 0, 0, 0, 15, 0, 0, 1, 2, 0, 0, 0, 0, 0, 0, 0, 0, 0, 0, 0, 0, 0, 0, 14, 0, 0, 0, 0, 0, 0, 0, 0, 0, 0, 0, 0, 0, 0, 0, 0, 0, 0, 0, 0, 0, 0, 15, 16, 0, 16, 0, 0, 0, 0, 0, 0, 0, 0, 0, 0, 0, 0, 0, 0, 0, 0, 0, 0, 0, 0, 0, 0, 0, 0, 0, 0, 0, 0, 0, 0, 0, 0, 0, 0, 0, 0, 0, 0, 0, 0, 0, 0, 0, 0, 0, 0, 0, 0, 0, 0, 0, 0, 0, 0, 0, 0, 0, 7, 0, 7, 0, 0, 15, 0, 0, 1, 2, 0, 0, 0, 0, 0, 0, 0, 0, 0, 0, 0, 0, 0, 0, 0, 0, 0, 0, 0, 0, 0, 0, 0, 0, 0, 0, 0, 1, 2, 0, 0, 0, 0, 0, 0, 1, 0, 0, 0, 0, 0, 1, 2, 0, 0, 0, 1, 0, 0, 0, 0, 0, 0, 0, 0, 0, 15, 0, 0, 1, 2, 0, 0, 0, 0, 0, 0, 0, 0, 0, 0, 0, 0, 0, 0, 0, 0, 0, 16, 16, 0, 0, 0, 0, 0, 0, 0, 0, 0, 0, 15, 0, 0, 0, 14, 14, 0, 0, 0, 0, 0, 0, 0, 0, 0, 0, 16, 16, 0, 0, 10, 0, 0, 0, 0, 0, 15, 0, 0, 0, 0, 0, 0, 16, 16, 0, 0, 0, 0, 13, 14, 0, 0, 0, 0, 0, 0, 0, 0, 0, 0, 0, 0, 0, 0, 15, 0, 0, 2, 0, 0, 0, 0, 0, 0, 0, 0, 0, 13, 0, 16, 0, 0, 0, 0, 0, 0, 0, 0, 0, 0, 0, 0, 0, 0, 0, 0, 0, 0, 0, 0, 15, 0, 0, 2, 0, 0, 0, 0, 0, 0, 0, 0, 0, 0, 0, 2, 0, 0, 0, 0, 0, 0, 15, 16, 0, 0, 0, 0, 0, 2, 0, 0, 1, 0, 0, 0, 0, 0, 0, 0, 0, 0, 0, 0, 0, 0, 15, 16, 0, 0, 0, 0, 0, 0, 0, 0, 16, 0, 0, 15, 0, 0, 0, 0, 0, 0, 0, 0, 0, 0, 15, 0, 0, 0, 0, 0, 0, 0, 0, 0, 0, 0, 0, 0, 0, 0, 0, 0, 0, 0, 0, 0, 0, 0, 15, 0, 0, 2, 0, 0, 0, 0, 0, 0, 0, 0, 0, 0, 2, 0, 0, 0, 0, 0, 0, 15, 16, 0, 0, 0, 0, 0, 2, 0, 0, 1, 0, 0, 0, 0, 0, 0, 0, 0, 15, 16, 0, 0, 0, 0, 0, 0, 0, 0, 0, 0, 0, 0, 0, 0, 0, 0, 0, 15, 0, 0, 16, 16, 0, 0, 0, 0, 0, 0, 0, 0, 0, 0, 0, 0, 0, 0, 0, 0, 0, 0, 0, 0, 0, 0, 15, 16, 0, 0, 0, 0, 0, 0, 15, 0, 0, 15, 16, 0, 0, 0, 0, 13, 14, 0, 0, 0, 0, 15, 0, 0, 0, 0, 0, 0, 0, 0, 0, 13, 16, 16, 0, 0, 0, 0, 0, 0, 0, 0, 0, 0, 0, 0, 0, 0, 13, 16, 16, 0, 0, 0, 0, 0, 0, 0, 0, 0, 16, 16, 0, 0, 0, 0, 0, 0, 0, 0, 0, 13, 0, 0, 13, 0, 0, 0, 0, 0, 0, 15, 0, 0, 15, 16, 0, 0, 0, 16, 16, 0, 0, 0, 0, 15, 0, 0, 0, 0, 0, 0, 0, 0, 0, 0, 16, 0, 0, 0, 0, 0, 0, 0, 0, 0, 0, 0, 16, 0, 0, 0, 0, 0, 15, 0, 0, 0, 15, 0, 0, 0, 0, 0, 0, 0, 0, 0, 0, 16, 0, 0, 0, 0, 0, 2, 0, 0, 0, 0, 0, 0, 0, 0, 0, 0, 0, 0, 0, 16, 0, 0, 0, 0, 0, 0, 13, 16, 0, 0, 15, 0, 0, 0, 0, 0, 0, 0, 0, 16, 16, 0, 0, 0, 0, 0, 15, 16, 0, 16, 0, 0, 16, 0, 13, 14, 0, 0, 0, 0, 0, 15, 0, 0, 0, 0, 0, 0, 0, 0, 0, 0, 0, 13, 14, 0, 0, 0, 0, 0, 15, 16, 15, 0, 0, 0, 0, 0, 0, 0, 0, 0, 0, 0, 0, 0, 13, 14, 0, 0, 0, 0, 0, 0, 0, 0, 15, 0, 0, 15, 0, 0, 0, 0, 0, 0, 0, 15, 16, 0, 0, 0, 0, 15, 0, 0, 0, 0, 13, 14, 0, 0, 0, 0, 0, 0, 0, 0, 0, 0, 0, 0, 0, 0, 15, 16, 15, 0, 0, 0, 0, 0, 0, 0, 0, 0, 15, 16, 0, 0, 0, 0, 0, 0, 0, 0, 0, 0, 0, 0, 0, 0, 0, 0, 13, 14, 0, 1, 2, 0, 0, 0, 0, 13, 0, 0, 0, 15, 16, 0, 0, 0, 0, 0, 0, 15, 0, 0, 15, 16, 0, 0, 2, 0, 0, 0, 16, 16, 0, 0, 0, 0, 10, 0, 0, 0, 0, 0, 0, 0, 13, 16, 16, 0, 0, 0, 0, 0, 0, 15, 16, 0, 0, 0, 15, 16, 0, 0, 0, 0, 0, 0, 0, 0, 0, 0, 0, 15, 0, 0, 15, 16, 0, 0, 0, 15, 0, 0, 0, 0, 0, 0, 0, 0, 0, 0, 0, 2, 0, 0, 2, 0, 0, 0, 15, 16, 0, 0, 15, 14, 14, 0, 1, 0, 0, 0, 0, 0, 1, 2, 0, 0, 0, 0, 15, 16, 0, 0, 0, 0, 0, 0, 0, 0, 15, 0, 0, 2, 0, 0, 0, 0, 0, 0, 0, 0, 0, 0, 0, 0, 0, 0, 0, 0, 0, 15, 16, 0, 0, 0, 0, 1, 2, 0, 0, 0, 0, 0, 0, 0, 0, 0, 0, 0, 0, 0, 0, 0, 0, 0, 0, 1, 2, 0, 0, 15, 0, 0, 0, 0, 0, 0, 0, 0, 2, 0, 0, 1, 2, 0, 0, 0, 0, 0, 0, 15, 0, 0, 0, 0, 0, 0, 0, 0, 1, 2, 0, 0, 0, 0, 0, 0, 0, 0, 0, 0, 0, 0, 15, 0, 0, 15, 16, 0, 15, 0, 0, 0, 1, 2, 0, 0, 0, 0, 0, 0, 0, 0, 0, 0, 15, 16, 0, 0, 15, 14, 14, 0, 1, 2, 0, 0, 0, 0, 0, 0, 2, 0, 0, 1, 2, 0, 0, 0, 0, 15, 0, 0, 0, 0, 0, 0, 0, 1, 2, 0, 0, 0, 0, 0, 1, 0, 0, 1, 2, 0, 0, 0, 0, 15, 0, 0, 0, 0, 0, 0, 0, 13, 14, 0, 0, 1, 2, 0, 0, 0, 1, 2, 0, 0, 0, 0, 0, 0, 0, 0, 0, 0, 15, 0, 0, 0, 0, 0, 0, 0, 0, 0, 0, 2, 0, 0, 15, 16, 0, 0, 0, 0, 0, 0, 0, 0, 0, 0, 15, 16, 0, 0, 0, 0, 0, 0, 0, 0, 0, 0, 0, 0, 0, 0, 0, 0, 15, 0, 0, 0, 0, 0, 14, 0, 0, 0, 0, 0, 0, 0, 0, 0, 0, 0, 0, 0, 0, 0, 0, 0, 0, 0, 0, 0, 0, 0, 0, 0, 0, 0, 0, 0, 0, 0, 0, 0, 0, 0, 1, 2, 0, 0, 15, 0, 0, 0, 0, 0, 15, 0, 0, 0, 0, 0, 0, 0, 0, 0, 0, 0, 0, 0, 0, 0, 0, 0, 0, 0, 0, 0, 0, 15, 0, 0, 1, 2, 0, 0, 0, 0, 0, 0, 0, 0, 0, 0, 0, 15, 0, 0, 0, 0, 0, 0, 0, 0, 0, 0, 0, 0, 0, 15, 16, 0, 0, 0, 0, 0, 0, 0, 0, 0, 0, 0, 15, 16, 0, 15, 16, 16, 0, 0, 0, 0, 0, 0, 0, 0, 0, 0, 0, 2, 0, 0, 0, 0, 0, 0, 0, 0, 0, 0, 0, 0, 0, 0, 0, 0, 0, 0, 0, 0, 0, 0, 15, 16, 0, 16, 0, 0, 0, 0, 0, 0, 15, 16, 0, 0, 0, 0, 0, 0, 0, 0, 0, 0, 0, 0, 0, 0, 0, 0, 0, 15, 16, 0, 0, 0, 0, 0, 0, 0, 0, 0, 0, 0, 0, 0, 0, 0, 0, 0, 13, 14, 14, 0, 0, 0, 0, 0, 0, 0, 13, 14, 0, 0, 0, 0, 0, 15, 0, 0, 0, 0, 0, 0, 0, 0, 0, 0, 0, 0, 0, 0, 0, 0, 0, 0, 0, 0, 0, 0]\n"
          ]
        }
      ],
      "source": [
        "text = data[\"annotations\"][0][0]\n",
        "tags = data[\"annotations\"][0][1][\"entities\"]\n",
        "classes = data[\"classes\"]\n",
        "\n",
        "classes_dict = {}\n",
        "for i in range(len(classes)):\n",
        "  classes_dict[classes[i]] = i\n",
        "\n",
        "# print(classes_dict)\n",
        "\n",
        "tokens = []\n",
        "named_tags = []\n",
        "\n",
        "for tag in tags:\n",
        "  tokens.append(text[tag[0]:tag[1]])\n",
        "  named_tags.append(tag[2])\n",
        "\n",
        "\n",
        "anno_dict = dict(zip(tokens, named_tags))\n",
        "print(anno_dict)\n",
        "\n",
        "all_tokens = text.split(\" \")\n",
        "named_labels = []\n",
        "numbered_labels = []\n",
        "\n",
        "for token in all_tokens:\n",
        "  if token not in anno_dict:\n",
        "    named_labels.append(\"NONE\")\n",
        "  else:\n",
        "    named_labels.append(anno_dict[token])\n",
        "\n",
        "for label in named_labels:\n",
        "  numbered_labels.append(classes_dict[label])\n",
        "\n",
        "print(all_tokens)\n",
        "# print(named_labels)\n",
        "print(numbered_labels)"
      ]
    },
    {
      "cell_type": "code",
      "execution_count": 6,
      "metadata": {
        "colab": {
          "base_uri": "https://localhost:8080/"
        },
        "id": "KftkrqVERtU_",
        "outputId": "65c74d13-296c-42c6-d256-d8ac78e90608"
      },
      "outputs": [
        {
          "output_type": "stream",
          "name": "stdout",
          "text": [
            "[['EXECUTION', 'VERSION', 'Inveniam', 'Private', 'Equity', 'Fund', 'Demo', 'IV.', '.', '8500', 'World'], ['Trade', 'New', 'York,', 'New', 'York', '10022', 'January', '1,', '2019', 'Maria'], ['Sharapova', '31', 'Blandford', 'Street', 'London,', 'W1U', '3DN', 'Ladies', 'and', 'Gentlemen:'], ['RE:', 'Inveniam', 'Private', 'Equity', 'Fund', 'Demo', 'IV,', 'a', 'Delaware', 'limited'], ['partnership', '(the', '\"Fund\")', 'This', 'letter', 'agreement', '(this', '\"Letter', 'Agreement\")', 'is'], ['entered', 'into', 'in', 'connection', 'with', 'the', 'purchase', 'by', 'Sharapova', '(the'], ['\"Investor\")', 'of', 'a', 'limited', 'partnership', 'interest', 'in', 'the', 'Fund.', 'Capitalized'], ['terms', 'used', 'and', 'not', 'defined', 'herein', 'shall', 'have', 'the', 'meanings'], ['given', 'to', 'them', 'in', 'the', 'Fourth', 'Amended', 'and', 'Restated', 'Limited'], ['Partnership', 'Agreement', 'of', 'the', 'Fund', 'dated', 'as', 'of', 'August', '27,'], ['2021', '(the', '\"Limited', 'Partnership', 'Agreement\"),', 'the', 'Subscription', 'Agreement', 'between', 'the'], ['Investor', 'and', 'the', 'Fund', 'dated', 'as', 'of', 'the', 'date', 'hereof'], ['(the', '\"Subscription', 'Agreement\"),', 'including', 'any', 'amendments', 'and', 'supplements', 'to', 'all'], ['of', 'the', 'foregoing', '(collectively,', 'the', '\"Fund', 'Documents\").', 'In', 'consideration', 'for'], ['the', 'Investor', 'making', 'an', 'aggregate', 'capital', 'commitment', 'of', 'at', 'least'], ['$50,000,000', 'as', 'of', 'the', 'date', 'hereof', '(the', '\"Capital', 'Commitment\"),', 'Inveniam'], ['Capital', 'Partners', 'GP,', 'L.L.C.,', 'a', 'Delaware', 'limited', 'liability', 'company', '(the'], ['\"General', 'Partner\"),', 'in', 'its', 'capacity', 'as', 'the', 'general', 'partner', 'of'], ['the', 'Fund,', 'agrees', 'with', 'the', 'Investor', 'as', 'follows:', '1.', 'Reduced'], ['Management', 'Fee', 'Rate.', 'If', 'the', 'Investor', 'has', 'submitted', 'a', 'withdrawal'], ['request', 'and', 'the', 'amount', 'of', 'such', 'withdrawal', 'request', 'has', 'not'], ['been', 'fully', 'paid', 'to', 'the', 'Investor', 'by', 'the', 'January', '1,'], ['2019', 'of', 'the', 'applicable', 'Withdrawal', 'Date,', 'the', 'Management', 'Fee', 'charged'], ['to', 'the', 'Investor', 'with', 'respect', 'to', 'the', 'amount', 'that', 'has'], ['not', 'been', 'paid', 'will', 'be', 'reduced', 'in', 'accordance', 'with', 'the'], ['following', 'schedule', 'until', 'any', 'such', 'unsatisfied', 'withdrawal', 'request', 'will', 'be'], ['0.85%', 'Page', '2', '-2-', '2.', 'Most', 'Favored', 'Nation.', 'The', 'General'], ['Partner', 'shall', 'disclose', 'to', 'the', 'Investor', 'any', 'and', 'all', 'Other'], ['Agreements', '(which', 'may', 'be', 'redacted', 'to', 'remove', 'identifying', 'information)', 'with'], ['Comparable', 'Investors', 'admitted', 'to', 'the', 'Fund,', 'Inveniam', 'Private', 'Equity', 'Fund'], ['Demo', 'IV.', '(the', '\"Sister', 'Fund\")', 'and/or', 'AC', 'Partners', 'Overseas', 'Partners,'], ['L.P.', '(the', '\"SFRO', 'Feeder\")', 'entered', 'into', 'after', 'the', 'date', 'hereof'], ['(all', 'such', 'Other', 'Agreements', 'with', 'Comparable', 'Investors,', '\"Applicable', 'Other', 'Agreements\"),'], ['and,', 'to', 'the', 'extent', 'any', 'Applicable', 'Other', 'Agreement', 'entered', 'into'], ['with', 'any', 'Comparable', 'Investor', 'has', 'the', 'effect', 'of', 'establishing', 'rights'], ['or', 'otherwise', 'benefiting', 'such', 'other', 'Comparable', 'Investor', 'in', 'a', 'manner'], ['more', 'favorable', 'to', 'such', 'Comparable', 'Investor', 'than', 'the', 'rights', 'and'], ['benefits', 'established', 'in', 'favor', 'of', 'the', 'Investor', 'by', 'this', 'Letter'], ['Agreement', 'and', 'the', 'Limited', 'Partnership', 'Agreement,', 'the', 'Investor', 'shall,', 'upon'], ['request', 'to', 'the', 'General', 'Partner', 'made', 'within', '30', 'days', 'of'], ['being', 'notified', 'of', 'the', 'terms', 'of', 'such', 'Applicable', 'Other', 'Agreements,'], ['receive', 'the', 'same', 'rights', 'and', 'benefits', 'of', 'such', 'Applicable', 'Other'], ['Agreement', '(the', '\"Relevant', 'Terms\")', 'and', 'are', 'so', 'requested,', 'but', 'only'], ['if', 'the', 'Investor', 'agrees', 'to', 'be', 'bound', 'by', 'the', 'obligations'], ['or', 'restrictions', 'in', 'such', 'Applicable', 'Other', 'Agreement', 'directly', 'relating', 'to'], ['the', 'Relevant', 'Terms;', 'provided,', 'however,', 'that', 'Relevant', 'Terms', 'shall', 'exclude'], ['any', '\"most', 'favored', 'nation\"', 'rights', 'granted', 'in', 'any', 'Applicable', 'Other'], ['Agreement.', 'For', 'the', 'avoidance', 'of', 'doubt,', 'Relevant', 'Terms', 'do', 'not'], ['include', 'rights', 'or', 'benefits', 'that', '(1)', 'are', 'granted', 'to', 'any'], ['Third', 'Party', 'Investor', 'in', 'connection', 'with', 'such', 'Third', 'Party', \"Investor's\"], ['legal,', 'regulatory', 'or', 'tax', 'status', 'that', 'is', 'not', 'DOC', 'ID'], ['-', '36972123.18', '-3-', 'Page', '3', 'shared', 'by,', 'nor', 'applicable', 'to,'], ['the', 'Investor', 'or', 'is', 'otherwise', 'based', 'upon', 'laws,', 'rules', 'or'], ['regulations', 'applicable', 'to', 'such', 'Third', 'Party', 'Investor', 'to', 'which', 'the'], ['Investor', 'is', 'not', 'also', 'subject,', '(2)', 'are', 'granted', 'based', 'on'], ['a', 'requirement', 'under', 'a', 'formal', 'written', 'policy', 'of', 'such', 'Third'], ['Party', 'Investor', 'unrelated', 'to', 'its', 'investment', 'in', 'the', 'Fund,', 'the'], ['Sister', 'Fund', 'or', 'the', 'SFRO', 'Feeder,', 'to', 'which', 'the', 'Investor'], ['is', 'also', 'not', 'subject,', '(3)', 'relate', 'to', 'any', 'representation', 'by'], ['such', 'Third', 'Party', 'Investor', 'on,', 'or', 'any', 'observer', 'rights', 'with'], ['respect', 'to,', 'the', 'Advisory', 'Board', '(including,', 'without', 'limitation,', 'designation', 'of'], ['a', 'representative', 'to', 'serve', 'as', 'a', 'member', 'of', 'the', 'Advisory'], ['Board', 'or', 'attend', 'meetings', 'of', 'the', 'Advisory', 'Board', 'or', 'receive'], ['or', 'have', 'access', 'to', 'any', 'materials', 'provided', 'to', 'the', 'Advisory'], ['Board),', 'unless', 'the', 'Limited', 'Partner', 'to', 'which', 'such', 'Applicable', 'Other'], ['Agreement', 'is', 'disclosed', 'has', 'also', 'designated', 'a', 'member', 'of', 'the'], ['Advisory', 'Board', 'or', '(4)', 'are', 'based', 'upon', 'such', 'Third', 'Party'], [\"Investor's\", 'place', 'of', 'organization', 'or', 'headquarters', 'or', 'organizational', 'form', '(in'], ['each', 'case,', 'if', 'different', 'from', 'that', 'of', 'the', 'Investor).', 'As'], ['used', 'herein,', 'the', 'following', 'terms', 'shall', 'have', 'the', 'following', 'meanings:'], ['\"Comparable', 'Investor\"', 'shall', 'mean', 'any', 'Third', 'Party', 'Investor', 'having', 'a'], ['Capital', 'Commitment', 'to', 'the', 'Fund,', 'the', 'Sister', 'Fund', 'or', 'the'], ['SFRO', 'Feeder', 'equal', 'to', 'or', 'less', 'than', 'the', \"Investor's\", 'aggregate'], ['Capital', 'Commitment', 'to', 'the', 'Fund,', 'the', 'Sister', 'Fund', 'or', 'the'], ['SFRO', 'Feeder;', 'provided', 'that', 'for', 'purposes', 'of', 'determining', 'whether', 'any'], ['Third', 'Party', 'Investor', 'is', 'a', 'Comparable', 'Investor,', 'the', 'investment', 'of'], ['such', 'Third', 'Party', 'Investor', 'in', 'the', 'Fund,', 'the', 'Sister', 'Fund'], ['or', 'the', 'SFRO', 'Feeder', 'may,', 'in', 'the', 'discretion', 'of', 'the'], ['General', 'Partner,', 'be', 'aggregated', 'with', 'the', 'aggregate', 'amount', 'of', 'Capital'], ['Commitments', 'to', 'the', 'Fund,', 'the', 'Sister', 'Fund', 'or', 'the', 'SFRO'], ['Feeder', 'by', 'any', 'Affiliates', 'thereof', 'and', 'any', 'other', 'related', 'Persons'], ['thereof', '(including', 'any', 'such', 'Persons', 'treated', 'as', 'affiliated', 'or', 'related'], ['for', 'such', 'purposes', 'as', 'a', 'result', 'of', 'being', 'clients', 'of,'], ['or', 'otherwise', 'managed', 'or', 'advised', 'by,', 'the', 'same', 'Person', 'or'], ['by', 'an', 'Affiliate', 'thereof)', 'and', 'the', 'aggregate', 'amount', 'of', 'any'], ['requested', 'subscription', 'amounts', 'of', 'the', 'Third', 'Party', 'Investor', 'or', 'any'], ['of', 'the', 'foregoing', 'which', 'were', 'not', 'accepted', 'due', 'to', 'legal'], ['or', 'regulatory', 'limitations', '(including,', 'without', 'limitation,', 'in', 'order', 'to', 'ensure'], ['that', 'the', 'aggregate', 'direct', 'and', 'indirect', 'Capital', 'Commitments', 'by', 'all'], ['Benefit', 'Plan', 'Investors', 'to', 'the', 'Fund,', 'the', 'Sister', 'Fund', 'or'], ['the', 'SFRO', 'Feeder', 'are', 'less', 'than', 'twenty-five', 'percent', '(25%)', 'of'], ['the', 'total', 'Capital', 'Commitments', 'to', 'such', 'vehicle),', 'in', 'each', 'case,'], ['to', 'the', 'extent', 'deemed', 'to', 'have', 'been', 'made', 'by', 'such'], ['Third', 'Party', 'Investor', 'for', 'purposes', 'of', 'its', 'Other', 'Agreement', 'as'], ['so', 'designated', 'therein;', 'A', 'Third', 'Party', 'Investor', 'that', 'has', 'materially'], ['less', 'U.S.', 'ownership', 'than', 'another', 'Third', 'Party', 'Investor', 'will', 'not'], ['be', 'considered', 'a', 'Comparable', 'Investor', 'with', 'respect', 'to', 'such', 'other'], ['Third', 'Party', 'Investor', 'solely', 'for', 'economic', 'purposes.', 'For', 'example,', 'a'], ['Third', 'Party', 'Investor', 'making', 'a', 'Capital', 'Commitment', 'comprised', 'of', '25%'], ['more', 'U.S.', 'ownership', 'than', 'another', 'Third', 'Party', 'Investor', 'making', 'a'], ['Capital', 'Commitment', 'of', 'the', 'same', 'size', 'would', 'not', 'be', 'considered'], ['Comparable', 'Investors', 'for', 'economic', 'purposes.', '\"Other', 'Agreements\"', 'shall', 'mean', 'side'], ['letters', 'or', 'similar', 'agreements', 'with', 'Limited', 'Partners', 'of', 'the', 'Fund,'], ['the', 'limited', 'partners', 'of', 'the', 'Sister', 'Fund', 'or', 'the', 'limited'], ['partners', 'of', 'the', 'SFRO', 'Feeder.', '\"Third', 'Party', 'Investor\"', 'means', 'any'], ['Person', 'that', 'subscribes', 'to', 'or', 'invests', 'in', 'the', 'Fund,', 'the'], ['Sister', 'Fund', 'or', 'the', 'SFRO', 'Feeder', 'other', 'than:', '(i)', 'any'], ['current', 'or', 'former', '(x)', 'member,', 'partner,', 'director,', 'officer,', 'employee,', 'principal,'], ['or', 'consultant', '(provided', 'such', 'consultant', 'is', 'generally', 'subject', 'to', 'AC'], [\"Partners'\", 'compliance', 'policies)', 'of', 'the', 'General', 'Partner,', 'the', 'Management', 'Company'], ['or', 'any', 'of', 'their', 'Affiliates,', 'or', '(y)', 'any', 'Related', 'Investor,'], ['or', 'other', 'account,', 'trust,', 'partnership', 'or', 'entity', 'primarily', 'for', 'the'], ['benefit', 'of', 'any', 'of', 'the', 'foregoing', 'or', 'any', 'of', 'their'], ['families;', '(ii)', 'any', 'Person', '(or', 'any', 'Persons', 'DOC', 'ID', '-'], ['36972123.18', '-4-', 'Page', '4', 'affiliated', 'with', 'or', 'related', 'to', 'such'], ['Person)', 'including,', 'without', 'limitation,', 'one', 'individual', 'who', 'may', 'assist', 'in'], ['raising', 'capital', 'through', 'such', \"individual's\", \"employer's\", 'private', 'client', 'platform', '(subject'], ['to', 'applicable', 'law', 'and', 'such', \"individual's\", \"employer's\", 'policies', 'and', 'procedures'], ['around', 'making', 'such', 'investments)', 'that', 'is', 'a', 'current', 'or', 'former'], ['joint', 'venture', 'partner', 'or', 'strategic', 'partner', 'of,', 'or', 'co-manager', 'or'], ['co-adviser', 'with,', 'the', 'General', 'Partner,', 'the', 'Management', 'Company', 'or', 'any'], ['of', 'their', 'Affiliates,', '(iii)', 'any', 'Person', '(or', 'any', 'Persons', 'affiliated'], ['with', 'or', 'related', 'to', 'such', 'Person)', 'currently', 'or', 'previously', 'serving'], ['or', 'having', 'representatives', 'on', 'any', 'investment', 'committee', '(or', 'similar', 'body'], ['or', 'structure', 'exercising', 'investment', 'discretion)', 'of', 'the', 'Fund,', 'the', 'Sister'], ['Fund', 'or', 'of', 'any', 'investment', 'fund,', 'vehicle', 'or', 'account', 'co-managed'], ['or', 'co-advised', 'by', 'the', 'General', 'Partner,', 'the', 'Management', 'Company', 'or'], ['any', 'of', 'their', 'Affiliates,', 'or', '(iv)', 'any', 'subsequent', 'successor,', 'heir'], ['or', 'assign', 'of', 'the', 'foregoing.', '3.', 'Capital', 'Commitments', 'by', 'Benefit'], ['Plan', 'Investors.', 'The', 'parties', 'hereto', 'acknowledge', 'that', 'the', 'Investor', 'has'], ['submitted', 'a', 'Subscription', 'Agreement', 'on', 'or', 'prior', 'to', 'the', 'date'], ['hereof', 'requesting', 'an', 'aggregate', 'Capital', 'Commitment', 'of', '$50', 'million', '(the'], ['\"Requested', 'Commitment\"),', 'and', 'the', 'Investor', 'shall', 'be', 'deemed', 'to', 'have'], ['such', 'Capital', 'Commitment', 'for', 'purposes', 'of', 'this', 'Letter', 'Agreement.', 'Notwithstanding'], ['the', 'foregoing,', 'the', 'parties', 'hereto', 'agree', 'that,', 'in', 'the', 'sole'], ['discretion', 'of', 'the', 'General', 'Partner,', 'the', 'Fund', 'shall', 'accept', 'less'], ['than', 'the', 'full', 'amount', 'of', 'the', \"Investor's\", 'Requested', 'Commitment', 'on'], ['the', 'date', 'hereof', 'in', 'order', 'to', 'ensure', 'that', 'the', 'aggregate'], ['direct', 'and', 'indirect', 'capital', 'commitments', 'by', 'all', 'Benefit', 'Plan', 'Investors'], ['to', 'the', 'Fund', 'are', 'less', 'than', '25%', 'of', 'the', 'total'], ['capital', 'commitments', 'to', 'the', 'Fund', '(excluding', 'any', 'capital', 'commitments', 'by'], ['the', 'General', 'Partner', 'or', 'its', 'Affiliates', 'to', 'the', 'Fund', 'or'], ['the', 'SFRO', 'Feeder).', 'In', 'such', 'event,', 'at', 'each', 'subsequent', 'Closing'], ['following', 'the', 'date', 'hereof,', 'the', 'General', 'Partner', 'shall', 'accept', 'additional'], ['portions', 'of', 'the', 'remaining', 'Requested', 'Commitment', 'of', 'the', 'Investor', '(each,'], ['an', '\"Adjustment\")', 'if', 'and', 'to', 'the', 'extent', 'that', 'the', 'General'], ['Partner,', 'in', 'its', 'sole', 'discretion,', 'determines', 'that', 'doing', 'so', 'would'], ['not', 'cause', 'the', 'aggregate', 'direct', 'and', 'indirect', 'capital', 'commitments', 'by'], ['all', 'Benefit', 'Plan', 'Investors', 'to', 'the', 'Fund', 'to', 'exceed', '25%'], ['of', 'the', 'total', 'capital', 'commitments', 'to', 'the', 'Fund', '(excluding', 'any'], ['capital', 'commitments', 'by', 'the', 'General', 'Partner', 'or', 'its', 'Affiliates', 'to'], ['the', 'Fund', 'or', 'the', 'SFRO', 'Feeder).', 'Such', 'Adjustments', 'shall', 'be'], ['accepted', 'by', 'the', 'General', 'Partner', 'on', 'not', 'less', 'than', 'a'], ['pro', 'rata', 'basis', 'with', 'any', 'similar', 'adjustments', 'for', 'any', 'other'], ['Benefit', 'Plan', 'Investors', 'whose', 'requested', 'Capital', 'Commitment', 'was', 'not', 'accepted'], ['in', 'full', 'on', 'or', 'prior', 'to', 'the', 'date', 'hereof.', 'Notwithstanding'], ['the', 'foregoing,', 'at', 'one', 'or', 'more', 'subsequent', 'Closings,', 'the', 'General'], ['Partner', 'may', 'admit', 'any', 'other', 'Benefit', 'Plan', 'Investor', 'as', 'a'], ['Limited', 'Partner', 'and', 'enter', 'into', 'an', 'Other', 'Agreement', 'with', 'such'], ['Benefit', 'Plan', 'Investor', 'that', 'provides', 'for', 'the', 'acceptance', 'of', 'such'], ['Benefit', 'Plan', \"Investor's\", 'Capital', 'Commitment', 'on', 'a', 'similarly', 'conditional', 'basis,'], ['provided', 'that', 'the', \"Fund's\", 'acceptance', 'of', 'such', 'Benefit', 'Plan', \"Investor's\"], ['Capital', 'Commitment', 'in', 'full', 'is', 'only', 'to', 'the', 'extent', 'that'], ['such', 'Capital', 'Commitment', 'is', 'later', 'in', 'priority', 'to', 'the', 'acceptance'], ['of', 'the', \"Investor's\", 'Requested', 'Commitment.', 'Other', 'than', 'as', 'set', 'forth'], ['in', 'this', 'Section', '3,', 'the', 'General', 'Partner', 'shall', 'not', 'accept'], ['Capital', 'Commitments', 'from', 'any', 'Benefit', 'Plan', 'Investors', 'until', 'such', 'time'], ['as', 'the', 'entire', 'amount', 'of', 'the', 'Requested', 'Commitment', 'has', 'been'], ['accepted.', 'For', 'the', 'avoidance', 'of', 'doubt,', '(i)', 'the', 'Requested', 'Commitment'], ['shall', 'be', 'irrevocable', 'by', 'the', 'Investor', 'and', '(ii)', 'the', 'Investor'], ['shall', 'be', 'obligated', 'to', 'fund', 'each', 'portion', 'of', 'the', 'Requested'], ['Commitment', 'that', 'is', 'accepted', 'by', 'the', 'Fund', 'at', 'each', 'subsequent'], ['Closing.', 'Further,', 'for', 'purposes', 'of', 'determining', 'the', 'Lock-Up', 'and', 'the'], ['Commitment', 'Lock-Up', 'Expiration', 'Date', 'applicable', 'to', 'the', \"Investor's\", 'Capital', 'Commitment,'], ['the', 'Investor', 'shall', 'be', 'deemed', 'to', 'have', 'made', 'its', 'entire'], ['Capital', 'Commitment', 'as', 'of', 'the', 'date', 'hereof.', 'DOC', 'ID', '-'], ['36972123.18', '-5-', 'Page', '5', '4.', 'Other', 'Agreements.', 'For', 'so', 'long'], ['as', 'the', 'Investor', 'holds', 'an', 'Interest', 'in', 'the', 'Fund,', 'to'], ['the', 'extent', 'that', 'any', 'Other', 'Agreement', 'is', 'entered', 'into', 'with'], ['a', 'Third', 'Party', 'Investor', 'with', 'respect', 'to', 'its', 'interest', 'in'], ['the', 'Fund,', 'and', 'a', 'copy', 'of', 'such', 'Other', 'Agreement', 'is'], ['not', 'required', 'to', 'be', 'provided', 'to', 'the', 'Investor', 'pursuant', 'to'], ['Section', '2', 'above,', 'then', 'in', 'such', 'event,', 'the', 'General', 'Partner'], ['shall', 'provide', 'to', 'the', 'Investor', 'a', 'copy', 'of', 'such', 'Other'], ['Agreement', '(which', 'such', 'copy', 'may', 'be', 'redacted', 'for', 'any', 'identifying'], ['information', 'with', 'respect', 'to', 'the', 'Third', 'Party', 'Investor', 'or', 'any'], ['other', 'information', 'not', 'relevant', 'hereto)', 'unless', 'the', 'General', 'Partner', 'is'], ['otherwise', 'restricted', 'by', 'confidentiality', 'or', 'non-', 'disclosure', 'obligations', 'with', 'respect'], ['to', 'the', 'provision', 'of', 'such', 'Other', 'Agreement.', '5.', 'Advisory', 'Board.'], ['In', 'consideration', 'of', 'the', \"Investor's\", 'admission', 'as', 'a', 'Limited', 'Partner'], ['and', 'for', 'so', 'long', 'as', 'the', 'Investor', 'is', 'a', 'Limited'], ['Partner', 'in', 'the', 'Fund', 'and', 'maintains', 'a', 'Capital', 'Commitment', 'of'], ['at', 'least', '$50', 'million', '(or', 'such', 'lesser', 'aggregate', 'amount', 'of'], ['the', \"Investor's\", 'Capital', 'Commitment', 'that', 'has', 'been', 'accepted', 'by', 'the'], ['General', 'Partner', 'in', 'accordance', 'with', 'Section', '3', 'above', 'as', 'of'], ['the', 'relevant', 'date),', 'and', 'is', 'not', 'a', 'Defaulting', 'Limited', 'Partner,'], ['the', 'General', 'Partner', 'agrees', 'that', 'the', 'Investor', 'shall', 'be', 'entitled'], ['to', 'designate', 'one', 'member', 'to', 'serve', 'on', 'a', 'committee', 'of'], ['the', 'Fund', 'established', 'pursuant', 'to', 'Section', '5.6', 'of', 'the', 'Limited'], ['Partnership', 'Agreement', '(the', '\"Advisory', 'Board\").', 'The', 'appointment', 'of', 'an', 'Advisory'], ['Board', 'member', 'pursuant', 'to', 'this', 'Section', '5', 'shall', 'be', 'effective'], ['upon', 'written', 'notice', 'from', 'the', 'Investor', 'to', 'the', 'Fund', 'of'], ['the', 'name', 'and', 'contact', 'information', 'of', 'the', 'individual', 'so', 'appointed.'], ['If', 'the', 'individual', 'appointed', 'pursuant', 'this', 'Section', '5', 'to', 'act'], ['as', 'the', 'Advisory', 'Board', 'member', 'is', 'no', 'longer', 'affiliated', 'with'], ['the', 'Investor,', 'or', 'no', 'longer', 'able', 'or', 'willing', 'to', 'act'], ['as', 'the', 'Advisory', 'Board', 'member,', 'the', 'Investor', 'shall', 'provide', 'prompt'], ['written', 'notice', 'thereof', 'to', 'the', 'Fund', 'and', 'such', 'Advisory', 'Board'], ['member', 'shall', 'automatically', 'be', 'removed.', 'The', 'Investor', 'shall', 'be', 'entitled'], ['to', 'remove', 'or', 'replace', 'any', 'Advisory', 'Board', 'member', 'at', 'any'], ['time', 'pursuant', 'to', 'prior', 'written', 'notice', 'provided', 'by', 'the', 'Investor'], ['to', 'the', 'General', 'Partner.', 'The', 'Investor', 'acknowledges', 'that', 'the', 'Advisory'], ['Board', 'member', 'shall', 'be', 'bound', 'by', 'the', 'confidentiality', 'provisions', 'described'], ['in', 'Section', '14.2', 'of', 'the', 'Limited', 'Partnership', 'Agreement.', 'The', 'Advisory'], ['Board', 'may', 'act', 'on', 'behalf', 'of', 'the', 'Fund', 'and', 'the'], ['Sister', 'Fund', 'if', 'requested', 'by', 'the', 'General', 'Partner,', 'provided', 'that'], ['in', 'the', 'event', 'the', 'Advisory', 'Board', 'acts', 'on', 'behalf', 'of'], ['the', 'Sister', 'Fund,', 'the', 'Advisory', 'Board', 'representative', 'appointed', 'by', 'the'], ['Investor', 'shall', 'be', 'indemnified', 'pursuant', 'to', 'a', 'separate', 'indemnification', 'agreement'], ['between', 'such', 'Advisory', 'Board', 'representative', 'and', 'the', 'Sister', 'Fund.', '6.'], ['Transfers.', 'In', 'connection', 'with', 'any', 'proposed', 'transfer', 'by', 'the', 'Investor'], ['of', 'all', 'or', 'a', 'portion', 'of', 'its', 'Interest', 'in', 'the'], ['Fund', 'to', 'a', 'Lockheed', 'Party', '(as', 'defined', 'below),', 'at', 'the'], ['request', 'of', 'the', 'Investor,', 'the', 'General', 'Partner', 'shall', 'not', 'unreasonably'], ['withhold', 'its', 'written', 'consent', 'to', 'such', 'transfer', 'and', 'the', \"transferee's\"], ['substitution', 'as', 'a', 'Limited', 'Partner,', 'as', 'required', 'by', 'the', 'Subscription'], ['Agreement;', 'provided', '(a)', 'such', 'transfer', 'will', 'not', 'result', 'in', 'a'], ['violation', 'of', 'any', 'applicable', 'laws,', 'rules', 'or', 'regulations', 'or', 'have'], ['any', 'material', 'adverse', 'impact', '(whether', 'legal,', 'financial,', 'tax,', 'regulatory,', 'or'], ['otherwise)', 'on', 'the', 'Fund,', 'the', 'Management', 'Company', 'or', 'the', 'General'], ['Partner,', 'as', 'determined', 'by', 'the', 'General', 'Partner,', '(b)', 'such', 'transferee'], ['is', 'not', 'a', 'competitor', 'of', '(directly', 'or', 'indirectly)', 'or', 'otherwise'], ['affiliated', 'with', 'any', 'competitor', 'of', 'the', 'Fund,', 'the', 'General', 'Partner,'], ['the', 'Management', 'Company', 'or', 'their', 'respective', 'Affiliates,', 'as', 'determined', 'in'], ['good', 'faith', 'by', 'the', 'General', 'Partner,', '(c)', 'such', 'transferee', 'is'], ['determined', 'to', 'be', 'sufficiently', 'creditworthy', 'to', 'assume', 'the', 'Limited', \"Partner's\"], ['obligations', 'with', 'respect', 'to', 'the', 'Interest', 'being', 'transferred', 'and', 'clears'], ['any', 'anti-money', 'laundering', '(AML),', 'know', 'your', 'customer', '(KYC)', 'and', 'similar'], ['reviews', 'conducted', 'by', 'or', 'on', 'behalf', 'of', 'the', 'Fund', 'or'], ['its', 'administrator', 'and', 'consistent', 'with', 'their', 'policies', 'and', 'procedures,', 'and'], ['(d)', 'such', 'transfer', 'is', 'documented', 'in', 'writing', 'in', 'a', 'form'], ['reasonably', 'DOC', 'ID', '-', '36972123.18', '-6-', 'Page', '6', 'acceptable', 'to'], ['the', 'General', 'Partner', 'and', 'such', 'transferee', 'makes', 'such', 'representations,', 'warranties,'], ['covenants', 'and', 'undertakings', 'as', 'may', 'be', 'reasonably', 'required', 'by', 'the'], ['General', 'Partner', 'in', 'connection', 'with', 'such', 'transfer,', 'including', 'representations,', 'warranties,'], ['covenants', 'and', 'undertakings', 'comparable', 'to', 'those', 'included', 'in', 'the', \"Investor's\"], ['Subscription', 'Agreement.', 'The', 'rights', 'and', 'obligations', 'arising', 'under', 'this', 'Letter'], ['Agreement', 'may', 'be', 'assigned', 'by', 'the', 'Investor', 'to', 'any', 'such'], ['transferee,', 'and', 'will', 'apply', 'equally', 'to', 'such', 'transferee,', 'in', 'connection'], ['with', 'such', 'transfer;', 'provided,', 'however,', 'that', 'the', 'rights', 'arising']]\n",
            "[[0, 0, 1, 2, 15, 2, 16, 16, 0, 11, 12], [12, 11, 0, 11, 12, 12, 3, 0, 4, 7], [7, 11, 12, 12, 0, 0, 0, 0, 0, 0], [0, 1, 2, 15, 2, 16, 0, 0, 1, 15], [14, 0, 0, 0, 13, 14, 0, 13, 0, 0], [0, 0, 0, 0, 0, 0, 0, 0, 7, 0], [0, 0, 0, 15, 14, 0, 0, 0, 2, 0], [0, 0, 0, 0, 0, 0, 0, 0, 0, 0], [0, 0, 0, 0, 0, 0, 13, 0, 14, 15], [14, 14, 0, 0, 2, 0, 0, 0, 3, 0], [4, 0, 13, 14, 0, 0, 14, 14, 0, 0], [15, 0, 0, 2, 0, 0, 0, 0, 0, 0], [0, 13, 0, 0, 0, 0, 0, 0, 0, 0], [0, 0, 0, 0, 0, 0, 0, 0, 0, 0], [0, 15, 0, 0, 0, 0, 0, 0, 0, 0], [0, 0, 0, 0, 0, 0, 0, 13, 0, 1], [16, 16, 0, 0, 0, 1, 15, 2, 2, 0], [15, 0, 0, 0, 0, 0, 0, 0, 0, 0], [0, 0, 0, 0, 0, 15, 0, 0, 0, 0], [1, 0, 0, 0, 0, 15, 0, 0, 0, 0], [0, 0, 0, 0, 0, 0, 0, 0, 0, 0], [0, 0, 0, 0, 0, 15, 0, 0, 3, 0], [4, 0, 0, 0, 0, 0, 0, 1, 0, 0], [0, 0, 15, 0, 0, 0, 0, 0, 0, 0], [0, 0, 0, 0, 0, 0, 0, 0, 0, 0], [0, 0, 0, 0, 0, 0, 0, 0, 0, 0], [0, 0, 0, 0, 0, 0, 0, 0, 0, 15], [16, 0, 0, 0, 0, 15, 0, 0, 0, 13], [14, 0, 0, 0, 0, 0, 0, 0, 0, 0], [15, 15, 0, 0, 0, 0, 1, 2, 15, 2], [16, 16, 0, 1, 0, 0, 0, 16, 15, 0], [15, 0, 1, 0, 0, 0, 0, 0, 0, 0], [0, 0, 13, 14, 0, 15, 0, 0, 13, 0], [0, 0, 0, 0, 0, 0, 13, 14, 0, 0], [0, 0, 15, 15, 0, 0, 0, 0, 0, 0], [0, 0, 0, 0, 0, 15, 15, 0, 0, 0], [0, 0, 0, 0, 15, 15, 0, 0, 0, 0], [0, 0, 0, 0, 0, 0, 15, 0, 0, 13], [14, 0, 0, 15, 14, 0, 0, 15, 0, 0], [0, 0, 0, 15, 16, 0, 0, 5, 6, 0], [0, 0, 0, 0, 0, 0, 0, 0, 13, 0], [0, 0, 0, 0, 0, 0, 0, 0, 0, 13], [14, 0, 0, 0, 0, 0, 0, 0, 0, 0], [0, 0, 15, 0, 0, 0, 0, 0, 0, 0], [0, 0, 0, 0, 0, 13, 14, 0, 0, 0], [0, 0, 0, 0, 0, 0, 0, 0, 0, 0], [0, 0, 0, 0, 0, 0, 0, 0, 0, 13], [14, 0, 0, 0, 0, 0, 0, 0, 0, 0], [0, 0, 0, 0, 0, 0, 0, 0, 0, 0], [15, 16, 15, 0, 0, 0, 0, 15, 16, 13], [0, 0, 0, 0, 0, 0, 0, 0, 15, 16], [0, 16, 0, 0, 16, 0, 0, 0, 0, 0], [0, 15, 0, 0, 0, 0, 0, 0, 0, 0], [0, 0, 0, 0, 15, 16, 15, 0, 0, 0], [15, 0, 0, 0, 0, 0, 0, 0, 0, 0], [0, 0, 0, 0, 0, 0, 0, 0, 0, 15], [16, 15, 0, 0, 0, 1, 0, 0, 0, 0], [1, 2, 0, 0, 1, 0, 0, 0, 0, 15], [0, 0, 0, 0, 0, 0, 0, 0, 0, 0], [0, 15, 16, 15, 0, 0, 0, 0, 0, 0], [0, 0, 0, 1, 2, 0, 0, 0, 0, 0], [0, 0, 0, 0, 0, 0, 0, 0, 0, 1], [2, 0, 0, 0, 0, 0, 1, 2, 0, 0], [0, 0, 0, 0, 0, 0, 0, 0, 0, 1], [0, 0, 0, 15, 16, 0, 0, 0, 0, 13], [14, 0, 0, 0, 0, 0, 0, 0, 0, 0], [1, 2, 0, 0, 0, 0, 0, 0, 15, 16], [13, 0, 0, 0, 0, 0, 0, 0, 0, 0], [0, 0, 0, 0, 0, 0, 0, 0, 0, 0], [0, 0, 0, 0, 0, 0, 0, 0, 0, 0], [15, 16, 0, 0, 0, 15, 16, 15, 0, 0], [16, 16, 0, 0, 0, 0, 1, 2, 0, 0], [1, 2, 0, 0, 0, 0, 0, 0, 13, 0], [16, 16, 0, 0, 0, 0, 1, 2, 0, 0], [1, 0, 0, 0, 0, 0, 0, 0, 0, 0], [15, 16, 15, 0, 0, 15, 0, 0, 1, 0], [0, 15, 16, 15, 0, 0, 0, 0, 1, 2], [0, 0, 1, 2, 0, 0, 0, 0, 0, 0], [15, 0, 0, 0, 0, 0, 0, 0, 0, 16], [16, 0, 0, 0, 0, 1, 2, 0, 0, 1], [2, 0, 0, 0, 0, 0, 0, 0, 0, 0], [0, 0, 0, 0, 0, 0, 0, 0, 0, 0], [0, 0, 0, 0, 0, 0, 0, 0, 0, 0], [0, 0, 0, 0, 0, 0, 0, 0, 0, 0], [0, 0, 0, 0, 0, 0, 0, 0, 0, 0], [0, 0, 0, 0, 0, 15, 16, 15, 0, 0], [0, 0, 0, 0, 0, 0, 0, 0, 0, 0], [0, 0, 0, 0, 0, 0, 0, 0, 0, 0], [0, 0, 0, 0, 0, 0, 16, 16, 0, 0], [0, 0, 15, 0, 0, 0, 0, 1, 2, 0], [0, 1, 2, 0, 0, 0, 15, 16, 0, 0], [0, 0, 16, 16, 0, 0, 0, 0, 0, 0], [0, 0, 0, 0, 0, 0, 0, 0, 0, 0], [15, 16, 15, 0, 0, 0, 0, 13, 14, 0], [0, 0, 0, 0, 15, 16, 15, 0, 0, 0], [0, 11, 0, 0, 0, 15, 16, 15, 0, 0], [0, 0, 0, 15, 15, 0, 0, 0, 0, 0], [15, 16, 15, 0, 0, 0, 0, 0, 0, 0], [15, 16, 15, 0, 0, 16, 16, 0, 0, 0], [0, 11, 0, 0, 0, 15, 16, 15, 0, 0], [16, 16, 0, 0, 0, 0, 0, 0, 0, 0], [15, 15, 0, 0, 0, 15, 16, 0, 0, 0], [0, 0, 0, 0, 0, 15, 16, 0, 0, 0], [0, 15, 16, 0, 0, 1, 2, 0, 0, 15], [16, 0, 0, 1, 2, 15, 16, 16, 0, 0], [0, 0, 0, 0, 0, 0, 0, 0, 0, 0], [1, 2, 0, 0, 1, 2, 0, 0, 0, 0], [0, 0, 0, 0, 0, 0, 0, 0, 0, 0], [0, 0, 0, 0, 0, 0, 0, 0, 0, 0], [0, 0, 0, 0, 0, 15, 0, 0, 1, 2], [0, 0, 0, 0, 0, 0, 0, 0, 0, 0], [0, 0, 0, 0, 14, 0, 0, 0, 0, 0], [0, 0, 0, 0, 0, 0, 0, 0, 0, 0], [0, 0, 0, 0, 0, 0, 0, 15, 16, 0], [16, 0, 0, 0, 0, 0, 0, 0, 0, 0], [0, 0, 0, 0, 0, 0, 0, 0, 0, 0], [0, 0, 0, 0, 0, 0, 0, 0, 0, 0], [0, 0, 0, 0, 0, 0, 0, 0, 0, 0], [0, 0, 0, 0, 0, 0, 0, 0, 0, 0], [0, 0, 0, 0, 0, 0, 0, 0, 7, 0], [7, 0, 0, 15, 0, 0, 1, 2, 0, 0], [0, 0, 0, 0, 0, 0, 0, 0, 0, 0], [0, 0, 0, 0, 0, 0, 0, 0, 0, 0], [0, 0, 0, 0, 0, 1, 2, 0, 0, 0], [0, 0, 0, 1, 0, 0, 0, 0, 0, 1], [2, 0, 0, 0, 1, 0, 0, 0, 0, 0], [0, 0, 0, 0, 15, 0, 0, 1, 2, 0], [0, 0, 0, 0, 0, 0, 0, 0, 0, 0], [0, 0, 0, 0, 0, 0, 16, 16, 0, 0], [0, 0, 0, 0, 0, 0, 0, 0, 15, 0], [0, 0, 14, 14, 0, 0, 0, 0, 0, 0], [0, 0, 0, 0, 16, 16, 0, 0, 10, 0], [0, 0, 0, 0, 15, 0, 0, 0, 0, 0], [0, 16, 16, 0, 0, 0, 0, 13, 14, 0], [0, 0, 0, 0, 0, 0, 0, 0, 0, 0], [0, 0, 0, 15, 0, 0, 2, 0, 0, 0], [0, 0, 0, 0, 0, 0, 13, 0, 16, 0], [0, 0, 0, 0, 0, 0, 0, 0, 0, 0], [0, 0, 0, 0, 0, 0, 0, 0, 0, 15], [0, 0, 2, 0, 0, 0, 0, 0, 0, 0], [0, 0, 0, 0, 2, 0, 0, 0, 0, 0], [0, 15, 16, 0, 0, 0, 0, 0, 2, 0], [0, 1, 0, 0, 0, 0, 0, 0, 0, 0], [0, 0, 0, 0, 0, 15, 16, 0, 0, 0], [0, 0, 0, 0, 0, 16, 0, 0, 15, 0], [0, 0, 0, 0, 0, 0, 0, 0, 0, 15], [0, 0, 0, 0, 0, 0, 0, 0, 0, 0], [0, 0, 0, 0, 0, 0, 0, 0, 0, 0], [0, 0, 0, 15, 0, 0, 2, 0, 0, 0], [0, 0, 0, 0, 0, 0, 0, 2, 0, 0], [0, 0, 0, 0, 15, 16, 0, 0, 0, 0], [0, 2, 0, 0, 1, 0, 0, 0, 0, 0], [0, 0, 0, 15, 16, 0, 0, 0, 0, 0], [0, 0, 0, 0, 0, 0, 0, 0, 0, 0], [0, 0, 15, 0, 0, 16, 16, 0, 0, 0], [0, 0, 0, 0, 0, 0, 0, 0, 0, 0], [0, 0, 0, 0, 0, 0, 0, 0, 0, 15], [16, 0, 0, 0, 0, 0, 0, 15, 0, 0], [15, 16, 0, 0, 0, 0, 13, 14, 0, 0], [0, 0, 15, 0, 0, 0, 0, 0, 0, 0], [0, 0, 13, 16, 16, 0, 0, 0, 0, 0], [0, 0, 0, 0, 0, 0, 0, 0, 0, 13], [16, 16, 0, 0, 0, 0, 0, 0, 0, 0], [0, 16, 16, 0, 0, 0, 0, 0, 0, 0], [0, 0, 13, 0, 0, 13, 0, 0, 0, 0], [0, 0, 15, 0, 0, 15, 16, 0, 0, 0], [16, 16, 0, 0, 0, 0, 15, 0, 0, 0], [0, 0, 0, 0, 0, 0, 0, 16, 0, 0], [0, 0, 0, 0, 0, 0, 0, 0, 0, 16], [0, 0, 0, 0, 0, 15, 0, 0, 0, 15], [0, 0, 0, 0, 0, 0, 0, 0, 0, 0], [16, 0, 0, 0, 0, 0, 2, 0, 0, 0], [0, 0, 0, 0, 0, 0, 0, 0, 0, 0], [16, 0, 0, 0, 0, 0, 0, 13, 16, 0], [0, 15, 0, 0, 0, 0, 0, 0, 0, 0], [16, 16, 0, 0, 0, 0, 0, 15, 16, 0], [16, 0, 0, 16, 0, 13, 14, 0, 0, 0], [0, 0, 15, 0, 0, 0, 0, 0, 0, 0], [0, 0, 0, 0, 13, 14, 0, 0, 0, 0], [0, 15, 16, 15, 0, 0, 0, 0, 0, 0], [0, 0, 0, 0, 0, 0, 0, 13, 14, 0], [0, 0, 0, 0, 0, 0, 0, 15, 0, 0], [15, 0, 0, 0, 0, 0, 0, 0, 15, 16], [0, 0, 0, 0, 15, 0, 0, 0, 0, 13], [14, 0, 0, 0, 0, 0, 0, 0, 0, 0], [0, 0, 0, 0, 0, 15, 16, 15, 0, 0], [0, 0, 0, 0, 0, 0, 0, 15, 16, 0], [0, 0, 0, 0, 0, 0, 0, 0, 0, 0], [0, 0, 0, 0, 0, 13, 14, 0, 1, 2], [0, 0, 0, 0, 13, 0, 0, 0, 15, 16], [0, 0, 0, 0, 0, 0, 15, 0, 0, 15], [16, 0, 0, 2, 0, 0, 0, 16, 16, 0], [0, 0, 0, 10, 0, 0, 0, 0, 0, 0], [0, 13, 16, 16, 0, 0, 0, 0, 0, 0], [15, 16, 0, 0, 0, 15, 16, 0, 0, 0], [0, 0, 0, 0, 0, 0, 0, 0, 15, 0], [0, 15, 16, 0, 0, 0, 15, 0, 0, 0], [0, 0, 0, 0, 0, 0, 0, 0, 2, 0], [0, 2, 0, 0, 0, 15, 16, 0, 0, 15], [14, 14, 0, 1, 0, 0, 0, 0, 0, 1], [2, 0, 0, 0, 0, 15, 16, 0, 0, 0], [0, 0, 0, 0, 0, 15, 0, 0, 2, 0], [0, 0, 0, 0, 0, 0, 0, 0, 0, 0], [0, 0, 0, 0, 0, 0, 15, 16, 0, 0], [0, 0, 1, 2, 0, 0, 0, 0, 0, 0], [0, 0, 0, 0, 0, 0, 0, 0, 0, 0], [0, 0, 1, 2, 0, 0, 15, 0, 0, 0], [0, 0, 0, 0, 0, 2, 0, 0, 1, 2], [0, 0, 0, 0, 0, 0, 15, 0, 0, 0], [0, 0, 0, 0, 0, 1, 2, 0, 0, 0], [0, 0, 0, 0, 0, 0, 0, 0, 0, 15], [0, 0, 15, 16, 0, 15, 0, 0, 0, 1], [2, 0, 0, 0, 0, 0, 0, 0, 0, 0], [0, 15, 16, 0, 0, 15, 14, 14, 0, 1], [2, 0, 0, 0, 0, 0, 0, 2, 0, 0], [1, 2, 0, 0, 0, 0, 15, 0, 0, 0], [0, 0, 0, 0, 1, 2, 0, 0, 0, 0], [0, 1, 0, 0, 1, 2, 0, 0, 0, 0], [15, 0, 0, 0, 0, 0, 0, 0, 13, 14], [0, 0, 1, 2, 0, 0, 0, 1, 2, 0], [0, 0, 0, 0, 0, 0, 0, 0, 0, 15], [0, 0, 0, 0, 0, 0, 0, 0, 0, 0], [2, 0, 0, 15, 16, 0, 0, 0, 0, 0], [0, 0, 0, 0, 0, 15, 16, 0, 0, 0], [0, 0, 0, 0, 0, 0, 0, 0, 0, 0], [0, 0, 0, 15, 0, 0, 0, 0, 0, 14], [0, 0, 0, 0, 0, 0, 0, 0, 0, 0], [0, 0, 0, 0, 0, 0, 0, 0, 0, 0], [0, 0, 0, 0, 0, 0, 0, 0, 0, 0], [0, 0, 0, 0, 0, 1, 2, 0, 0, 15], [0, 0, 0, 0, 0, 15, 0, 0, 0, 0], [0, 0, 0, 0, 0, 0, 0, 0, 0, 0], [0, 0, 0, 0, 0, 0, 0, 0, 15, 0], [0, 1, 2, 0, 0, 0, 0, 0, 0, 0], [0, 0, 0, 0, 15, 0, 0, 0, 0, 0], [0, 0, 0, 0, 0, 0, 0, 0, 15, 16], [0, 0, 0, 0, 0, 0, 0, 0, 0, 0], [0, 15, 16, 0, 15, 16, 16, 0, 0, 0], [0, 0, 0, 0, 0, 0, 0, 0, 2, 0], [0, 0, 0, 0, 0, 0, 0, 0, 0, 0], [0, 0, 0, 0, 0, 0, 0, 0, 0, 0], [0, 15, 16, 0, 16, 0, 0, 0, 0, 0], [0, 15, 16, 0, 0, 0, 0, 0, 0, 0], [0, 0, 0, 0, 0, 0, 0, 0, 0, 0], [15, 16, 0, 0, 0, 0, 0, 0, 0, 0], [0, 0, 0, 0, 0, 0, 0, 0, 0, 13], [14, 14, 0, 0, 0, 0, 0, 0, 0, 13], [14, 0, 0, 0, 0, 0, 15, 0, 0, 0], [0, 0, 0, 0, 0, 0, 0, 0, 0, 0], [0, 0, 0, 0, 0, 0, 0, 0, 0]]\n"
          ]
        }
      ],
      "source": [
        "all_tokens_array = []\n",
        "numbered_labels_array = []\n",
        "\n",
        "temp1 = []\n",
        "temp2 = []\n",
        "for i in range(len(all_tokens)):\n",
        "  temp1.append(all_tokens[i])\n",
        "  temp2.append(numbered_labels[i])\n",
        "  if i%10 == 0 and i != 0:\n",
        "    all_tokens_array.append(temp1)\n",
        "    numbered_labels_array.append(temp2)\n",
        "    temp1 = []\n",
        "    temp2 = []\n",
        "all_tokens_array.append(temp1)\n",
        "numbered_labels_array.append(temp2)\n",
        "\n",
        "\n",
        "print(all_tokens_array)\n",
        "print(numbered_labels_array)"
      ]
    },
    {
      "cell_type": "code",
      "execution_count": 7,
      "metadata": {
        "colab": {
          "base_uri": "https://localhost:8080/"
        },
        "id": "piHTq6s4dZVS",
        "outputId": "f34e2183-7115-4dbd-b813-b45c6eab25f9"
      },
      "outputs": [
        {
          "output_type": "stream",
          "name": "stdout",
          "text": [
            "{'NONE': 0, 'B-ORG': 1, 'I-ORG': 2, 'B-DATE': 3, 'I-DATE': 4, 'B-TIME': 5, 'I-TIME': 6, 'B-PER': 7, 'I-PER': 8, 'B-CURR': 9, 'I-CURR': 10, 'B-LOC': 11, 'I-LOC': 12, 'B-AGRE': 13, 'I-AGRE': 14, 'B-MISC': 15, 'I-MISC': 16}\n"
          ]
        }
      ],
      "source": [
        "print(classes_dict)"
      ]
    },
    {
      "cell_type": "code",
      "execution_count": 8,
      "metadata": {
        "colab": {
          "base_uri": "https://localhost:8080/"
        },
        "id": "i7OIKlNFag43",
        "outputId": "00a9b061-3c19-41cc-9b3c-984cc6e8a4bf"
      },
      "outputs": [
        {
          "output_type": "stream",
          "name": "stdout",
          "text": [
            "DatasetDict({\n",
            "    train: Dataset({\n",
            "        features: ['tokens', 'labels'],\n",
            "        num_rows: 200\n",
            "    })\n",
            "    validate: Dataset({\n",
            "        features: ['tokens', 'labels'],\n",
            "        num_rows: 25\n",
            "    })\n",
            "    test: Dataset({\n",
            "        features: ['tokens', 'labels'],\n",
            "        num_rows: 25\n",
            "    })\n",
            "})\n"
          ]
        }
      ],
      "source": [
        "data_dict_train = {\n",
        "    \"tokens\" : all_tokens_array[0:200],\n",
        "    \"labels\" : numbered_labels_array[0:200]\n",
        "}\n",
        "\n",
        "data_dict_val = {\n",
        "    \"tokens\" : all_tokens_array[200:225],\n",
        "    \"labels\" : numbered_labels_array[200:225]\n",
        "}\n",
        "\n",
        "data_dict_test = {\n",
        "    \"tokens\" : all_tokens_array[225:],\n",
        "    \"labels\" : numbered_labels_array[225:]\n",
        "}\n",
        "\n",
        "dataset_train = Dataset.from_dict(data_dict_train)\n",
        "dataset_val = Dataset.from_dict(data_dict_val)\n",
        "dataset_test = Dataset.from_dict(data_dict_test)\n",
        "\n",
        "dataset_dict = DatasetDict({\"train\": dataset_train, \"validate\": dataset_val, \"test\": dataset_test})\n",
        "\n",
        "print(dataset_dict)"
      ]
    },
    {
      "cell_type": "code",
      "execution_count": 9,
      "metadata": {
        "colab": {
          "base_uri": "https://localhost:8080/"
        },
        "id": "EsOoXdkMfA46",
        "outputId": "275ddb05-cca4-462b-cc84-59c5efaf804e"
      },
      "outputs": [
        {
          "output_type": "execute_result",
          "data": {
            "text/plain": [
              "{'tokens': ['Investor',\n",
              "  'and',\n",
              "  'the',\n",
              "  'Fund',\n",
              "  'dated',\n",
              "  'as',\n",
              "  'of',\n",
              "  'the',\n",
              "  'date',\n",
              "  'hereof'],\n",
              " 'labels': [15, 0, 0, 2, 0, 0, 0, 0, 0, 0]}"
            ]
          },
          "metadata": {},
          "execution_count": 9
        }
      ],
      "source": [
        "dataset_dict['train'][11]"
      ]
    },
    {
      "cell_type": "markdown",
      "metadata": {
        "id": "JJ4FlXab_TR_"
      },
      "source": [
        "### Modeling"
      ]
    },
    {
      "cell_type": "code",
      "execution_count": 10,
      "metadata": {
        "id": "BUSfs92hMhc9",
        "colab": {
          "base_uri": "https://localhost:8080/",
          "height": 145,
          "referenced_widgets": [
            "dfa1f42cca914b48aab6425da95e9b5f",
            "a5e4a07bda5b4943912037933c4aeb65",
            "297650b4d64648c78c4618a3680ca681",
            "4d92e5be4e7840e5a895982de2421119",
            "ed5058c1669e455da1ebf47ee7c8a935",
            "5bf38f7ecac041519225f9852065c5b8",
            "ab28273bd60544589759cfdd18109ffc",
            "b353d46a5ce0421386668da72eba87bb",
            "067c2118cbd8488d95679a6b96850b81",
            "0d572597843d47c19690d318eef09854",
            "76d6350a45484676a85ed25e527eeb04",
            "53f806f3b41d47b9b75919e89931ea11",
            "2fef5f9ca45d4a14b891e6d8686d06ba",
            "be173c4a9fd341c0a9409606a2c018cd",
            "7eae53e26cdd450dbb2a66226ddd98f2",
            "77e7dc372d074bfc9eb0706ac83f0fa8",
            "752f1cc9c1754c15ba6268b6062d10dd",
            "3fd78a92a70149c883813aa8d5c012e4",
            "20f6ef01d3cb43689100acb74fedc934",
            "fb163a91c65a4284a174c73885d928a9",
            "17dbbf4316b64441a13f413772215283",
            "c434293c262f46b09e4ec60ba31f8821",
            "bd105b2280354b17aea17604e2acc4e7",
            "e2fcc78f0e1946babd61c7a06e6694f1",
            "29ad40469eee4372ab9db741091479cd",
            "c430dabd234c482bba8fa02a42ac4d06",
            "16ee5430632c4c009bc3e84c2c19b1a1",
            "8203d5f29678459f9c3903f29c353724",
            "5068416ef50244ca8587f5816a775fb0",
            "aa5fbc249ac34d5d9c79c590631d3895",
            "541b3dccf2344624ae36fef6c1f8c296",
            "8ee725b9981645f5abeccbc801c7e4bf",
            "bd08fd2b32674ef39a9afb00a4a1a31a",
            "92da306432bf4c44a78b30601b9b580c",
            "d33840835d69400794b09973c32a109a",
            "b07fd68c6f3d444fb3bcd95824957368",
            "55576559869f4ed0830d2806e6442f96",
            "05374e35a9ab4e8c9810ee0318600f26",
            "2b8f65efa20144e69a2e0bf5c9642cb0",
            "8cd380a970b244ea9682b33bd4ee5ba8",
            "9c1153fe9fcd47a99ad5d57a96ab0aed",
            "1d55803998474733b78b560d2f6c60e9",
            "273d66d3d03143709ae42d3baaa51cdd",
            "eb39b5ac3e834baf851e2d1cfd7a00d9"
          ]
        },
        "outputId": "270a5a0b-5040-46ef-8362-d5c3b241d50b"
      },
      "outputs": [
        {
          "output_type": "display_data",
          "data": {
            "text/plain": [
              "Downloading (…)okenizer_config.json:   0%|          | 0.00/28.0 [00:00<?, ?B/s]"
            ],
            "application/vnd.jupyter.widget-view+json": {
              "version_major": 2,
              "version_minor": 0,
              "model_id": "dfa1f42cca914b48aab6425da95e9b5f"
            }
          },
          "metadata": {}
        },
        {
          "output_type": "display_data",
          "data": {
            "text/plain": [
              "Downloading (…)solve/main/vocab.txt:   0%|          | 0.00/232k [00:00<?, ?B/s]"
            ],
            "application/vnd.jupyter.widget-view+json": {
              "version_major": 2,
              "version_minor": 0,
              "model_id": "53f806f3b41d47b9b75919e89931ea11"
            }
          },
          "metadata": {}
        },
        {
          "output_type": "display_data",
          "data": {
            "text/plain": [
              "Downloading (…)/main/tokenizer.json:   0%|          | 0.00/466k [00:00<?, ?B/s]"
            ],
            "application/vnd.jupyter.widget-view+json": {
              "version_major": 2,
              "version_minor": 0,
              "model_id": "bd105b2280354b17aea17604e2acc4e7"
            }
          },
          "metadata": {}
        },
        {
          "output_type": "display_data",
          "data": {
            "text/plain": [
              "Downloading (…)lve/main/config.json:   0%|          | 0.00/570 [00:00<?, ?B/s]"
            ],
            "application/vnd.jupyter.widget-view+json": {
              "version_major": 2,
              "version_minor": 0,
              "model_id": "92da306432bf4c44a78b30601b9b580c"
            }
          },
          "metadata": {}
        }
      ],
      "source": [
        "tokenizer = BertTokenizerFast.from_pretrained(\"bert-base-uncased\")"
      ]
    },
    {
      "cell_type": "code",
      "execution_count": 11,
      "metadata": {
        "colab": {
          "base_uri": "https://localhost:8080/"
        },
        "id": "tXAafDulQKMX",
        "outputId": "199eb909-2fd5-4396-a972-e7a47dd1ade1"
      },
      "outputs": [
        {
          "output_type": "stream",
          "name": "stdout",
          "text": [
            "Miss Matched Length!!\n",
            "13\n",
            "10\n"
          ]
        }
      ],
      "source": [
        "example_tokens = dataset_dict[\"train\"][11]\n",
        "inputs = tokenizer(example_tokens[\"tokens\"], is_split_into_words=True,)\n",
        "print(\"Miss Matched Length!!\")\n",
        "print(len(inputs.tokens()))\n",
        "print(len(example_tokens[\"labels\"]))"
      ]
    },
    {
      "cell_type": "code",
      "source": [
        "inputs = tokenizer(dataset_dict[\"train\"][1][\"tokens\"], is_split_into_words=True,)\n",
        "print(inputs.tokens())\n",
        "print(dataset_dict[\"train\"][1][\"tokens\"])\n",
        "print(dataset_dict['train'][1]['labels'])\n",
        "print(inputs.word_ids())"
      ],
      "metadata": {
        "colab": {
          "base_uri": "https://localhost:8080/"
        },
        "id": "hm_a3LmDLjdn",
        "outputId": "c4817398-2431-40f9-cfaf-ffd57a82b49e"
      },
      "execution_count": 12,
      "outputs": [
        {
          "output_type": "stream",
          "name": "stdout",
          "text": [
            "['[CLS]', 'trade', 'new', 'york', ',', 'new', 'york', '100', '##22', 'january', '1', ',', '2019', 'maria', '[SEP]']\n",
            "['Trade', 'New', 'York,', 'New', 'York', '10022', 'January', '1,', '2019', 'Maria']\n",
            "[12, 11, 0, 11, 12, 12, 3, 0, 4, 7]\n",
            "[None, 0, 1, 2, 2, 3, 4, 5, 5, 6, 7, 7, 8, 9, None]\n"
          ]
        }
      ]
    },
    {
      "cell_type": "code",
      "execution_count": 13,
      "metadata": {
        "id": "2RrIzyYaS_po"
      },
      "outputs": [],
      "source": [
        "def align_labels_with_tokens(labels, word_ids):\n",
        "    for label in labels:\n",
        "        previous_word_idx = None\n",
        "        label_ids = []\n",
        "        for word_idx in word_ids:\n",
        "            if word_idx is None:\n",
        "                label_ids.append(-100)\n",
        "            elif word_idx != previous_word_idx:\n",
        "                label_ids.append(labels[word_idx])\n",
        "            else:\n",
        "                label_ids.append(labels[word_idx])\n",
        "            previous_word_idx = word_idx\n",
        "\n",
        "        return label_ids"
      ]
    },
    {
      "cell_type": "code",
      "execution_count": 14,
      "metadata": {
        "colab": {
          "base_uri": "https://localhost:8080/"
        },
        "id": "Q9C5KHTkqVDU",
        "outputId": "ad7b4ac5-3eed-4e43-961b-1f40bc026beb"
      },
      "outputs": [
        {
          "output_type": "stream",
          "name": "stdout",
          "text": [
            "['Investor', 'and', 'the', 'Fund', 'dated', 'as', 'of', 'the', 'date', 'hereof']\n",
            "[-100, 15, 0, 0, 2, 0, 0, 0, 0, 0, 0, 0, -100]\n",
            "[15, 0, 0, 2, 0, 0, 0, 0, 0, 0]\n"
          ]
        }
      ],
      "source": [
        "labels = dataset_dict[\"train\"][11][\"labels\"]\n",
        "inputs = tokenizer(dataset_dict[\"train\"][11][\"tokens\"], is_split_into_words=True,)\n",
        "word_ids = inputs.word_ids()\n",
        "print(dataset_dict[\"train\"][11][\"tokens\"])\n",
        "print(align_labels_with_tokens(labels, word_ids))\n",
        "print(labels)"
      ]
    },
    {
      "cell_type": "code",
      "source": [
        "example_tokens = dataset_dict[\"train\"][11]\n",
        "inputs = tokenizer(example_tokens[\"tokens\"], is_split_into_words=True,)\n",
        "print(\"Miss Matched Length!!\")\n",
        "print(len(inputs.tokens()))\n",
        "print(len(example_tokens[\"labels\"]))\n",
        "print(\"Label matching successful!!\")\n",
        "print(len(align_labels_with_tokens(example_tokens[\"labels\"], inputs.word_ids())))"
      ],
      "metadata": {
        "colab": {
          "base_uri": "https://localhost:8080/"
        },
        "id": "2wCMdxSwPnlN",
        "outputId": "f4405c38-fd9a-4fc0-e746-5937e2d72040"
      },
      "execution_count": 15,
      "outputs": [
        {
          "output_type": "stream",
          "name": "stdout",
          "text": [
            "Miss Matched Length!!\n",
            "13\n",
            "10\n",
            "Label matching successful!!\n",
            "13\n"
          ]
        }
      ]
    },
    {
      "cell_type": "code",
      "execution_count": 16,
      "metadata": {
        "id": "Tyuj8zQ0cdd5"
      },
      "outputs": [],
      "source": [
        "def tokenizer_function(dataset):\n",
        "  tokenized_dataset = tokenizer(dataset['tokens'],truncation=True,is_split_into_words=True,)\n",
        "  tokenized_dataset['labels'] = align_labels_with_tokens(dataset['labels'],tokenized_dataset.word_ids())\n",
        "  return tokenized_dataset"
      ]
    },
    {
      "cell_type": "code",
      "execution_count": 17,
      "metadata": {
        "colab": {
          "base_uri": "https://localhost:8080/"
        },
        "id": "Uocbw6cTqVDV",
        "outputId": "7d81f78f-e753-4e6b-cd49-ccb0da4a61db",
        "scrolled": true
      },
      "outputs": [
        {
          "output_type": "execute_result",
          "data": {
            "text/plain": [
              "{'tokens': ['$50,000,000',\n",
              "  'as',\n",
              "  'of',\n",
              "  'the',\n",
              "  'date',\n",
              "  'hereof',\n",
              "  '(the',\n",
              "  '\"Capital',\n",
              "  'Commitment\"),',\n",
              "  'Inveniam'],\n",
              " 'labels': [0, 0, 0, 0, 0, 0, 0, 13, 0, 1]}"
            ]
          },
          "metadata": {},
          "execution_count": 17
        }
      ],
      "source": [
        "dataset_dict['train'][15]"
      ]
    },
    {
      "cell_type": "code",
      "execution_count": 18,
      "metadata": {
        "colab": {
          "base_uri": "https://localhost:8080/",
          "height": 17,
          "referenced_widgets": [
            "c3aed52831e44e489fb47f5b2e514383",
            "e71603acf484459cb94e13848797c562",
            "518475a11d844cebb38e908ea580db7e",
            "ad7e86c7cbbd492ca43e6a7059340d44",
            "cc6c223e87de4af89f81b9b2cec9370b",
            "3d7957da936c44f7b58a60de8053f5dd",
            "20cad63893e147b189a65c70c36ae3b8",
            "b5a7ecc1319d43ae9babbe6214e7e79e",
            "6d51589031a847de9aa853c7d08fef74",
            "ff1b096de33547e8a9819e97817ef07d",
            "4a40eb6aef3d48e69ff6d7bb599379a1",
            "d0187c67b79246579287691eac91e24c",
            "c57380cc90d544b48e8a73b212944af9",
            "fc1d719d2ea64375b0c9d8bb9946a735",
            "9191ebbec1ad4265856e599cec4a531f",
            "c96c75ecd45b448399c28c897ba3c282",
            "5a2616a8a1c54e7d99c0896a4b18d748",
            "67916c0992114aa59aac9ef3252db9b0",
            "768a857ec4a34712b7ab9f53bb79ad89",
            "ad4a4679dcee4a19a22a04e82d9cc6ef",
            "e27621f51f7b447388d03d5fbf497744",
            "dac9c8c205dd4de087f3e81d7c314f9f",
            "dbd1d90b8bec437aad77db5a78328cd7",
            "2c19d88f675d43e3885bfd5633e94886",
            "e877cebdb9774aca97fc583a380df5b7",
            "09427bbf4cc142aea0d0edff80dddedc",
            "784de88b53bd4abeaa1fdb21112767d7",
            "e09c678540ee46a0b0a96090bd505707",
            "ad54659c8ae34a5bb4e3b867a23e0d43",
            "213fff443e0a42a0b656efe126e1106f",
            "1f5cd30ab9804956bb198ab43ef069e9",
            "61c08af8e05f43cda1fb4114aecca6ca",
            "522020b32b534a679597aa18c45d6184"
          ]
        },
        "id": "Ay8_f_2Ji8Mu",
        "outputId": "218b2ab3-b98b-4224-b759-a4a3643c0f60"
      },
      "outputs": [
        {
          "output_type": "display_data",
          "data": {
            "text/plain": [
              "Map:   0%|          | 0/200 [00:00<?, ? examples/s]"
            ],
            "application/vnd.jupyter.widget-view+json": {
              "version_major": 2,
              "version_minor": 0,
              "model_id": "c3aed52831e44e489fb47f5b2e514383"
            }
          },
          "metadata": {}
        },
        {
          "output_type": "display_data",
          "data": {
            "text/plain": [
              "Map:   0%|          | 0/25 [00:00<?, ? examples/s]"
            ],
            "application/vnd.jupyter.widget-view+json": {
              "version_major": 2,
              "version_minor": 0,
              "model_id": "d0187c67b79246579287691eac91e24c"
            }
          },
          "metadata": {}
        },
        {
          "output_type": "display_data",
          "data": {
            "text/plain": [
              "Map:   0%|          | 0/25 [00:00<?, ? examples/s]"
            ],
            "application/vnd.jupyter.widget-view+json": {
              "version_major": 2,
              "version_minor": 0,
              "model_id": "dbd1d90b8bec437aad77db5a78328cd7"
            }
          },
          "metadata": {}
        }
      ],
      "source": [
        "# print(dataset_dict)\n",
        "tokenized_dataset = dataset_dict.map(tokenizer_function, remove_columns=['tokens'])"
      ]
    },
    {
      "cell_type": "code",
      "execution_count": 19,
      "metadata": {
        "id": "miDNxMmcjFOV"
      },
      "outputs": [],
      "source": [
        "# print(len(tokenized_dataset['train'][15]['input_ids']))\n",
        "# print(len(tokenized_dataset['train'][15]['labels']))"
      ]
    },
    {
      "cell_type": "code",
      "source": [
        "model = AutoModelForTokenClassification.from_pretrained(\"bert-base-uncased\", num_labels=17)"
      ],
      "metadata": {
        "colab": {
          "base_uri": "https://localhost:8080/",
          "height": 156,
          "referenced_widgets": [
            "021516efd498407e8232f4a105e6d61f",
            "ace0313ab0364f56a893cb62a0fc15fc",
            "c26c2fcd8ea74d969fa91a6a9eaca55d",
            "a9b52aff88354dcfac4c4f7483e3e87e",
            "b52972b6e705462f8c88fca2c07ea246",
            "cf5ae24fe6734141a1d3eaf47c82a943",
            "caae7c1220914c56b74c03cd768d15d5",
            "42d769e0494e4c4dba4990f0190c9e4f",
            "bc191fb3534e41799ea94818faf1fe19",
            "51e0116d55ae4ab59e7b6edc3e348a08",
            "bc5eef14a75948658fa48ed8ff10441a"
          ]
        },
        "id": "X-3yHWYJwmM3",
        "outputId": "a5405ae1-1535-4940-b756-6a0af9bd35bb"
      },
      "execution_count": 20,
      "outputs": [
        {
          "output_type": "display_data",
          "data": {
            "text/plain": [
              "Downloading model.safetensors:   0%|          | 0.00/440M [00:00<?, ?B/s]"
            ],
            "application/vnd.jupyter.widget-view+json": {
              "version_major": 2,
              "version_minor": 0,
              "model_id": "021516efd498407e8232f4a105e6d61f"
            }
          },
          "metadata": {}
        },
        {
          "output_type": "stream",
          "name": "stderr",
          "text": [
            "Some weights of the model checkpoint at bert-base-uncased were not used when initializing BertForTokenClassification: ['cls.predictions.transform.dense.weight', 'cls.seq_relationship.bias', 'cls.predictions.bias', 'cls.seq_relationship.weight', 'cls.predictions.transform.LayerNorm.weight', 'cls.predictions.transform.LayerNorm.bias', 'cls.predictions.transform.dense.bias']\n",
            "- This IS expected if you are initializing BertForTokenClassification from the checkpoint of a model trained on another task or with another architecture (e.g. initializing a BertForSequenceClassification model from a BertForPreTraining model).\n",
            "- This IS NOT expected if you are initializing BertForTokenClassification from the checkpoint of a model that you expect to be exactly identical (initializing a BertForSequenceClassification model from a BertForSequenceClassification model).\n",
            "Some weights of BertForTokenClassification were not initialized from the model checkpoint at bert-base-uncased and are newly initialized: ['classifier.weight', 'classifier.bias']\n",
            "You should probably TRAIN this model on a down-stream task to be able to use it for predictions and inference.\n"
          ]
        }
      ]
    },
    {
      "cell_type": "code",
      "source": [
        "args = TrainingArguments(\n",
        "    \"test-ner\",\n",
        "    evaluation_strategy = \"epoch\",\n",
        "    learning_rate=2e-5,\n",
        "    per_device_train_batch_size=10,\n",
        "    per_device_eval_batch_size=10,\n",
        "    num_train_epochs=5,\n",
        "    weight_decay=0.01,\n",
        ")"
      ],
      "metadata": {
        "id": "vrESfPkDQM9c"
      },
      "execution_count": 21,
      "outputs": []
    },
    {
      "cell_type": "code",
      "source": [
        "data_collator = DataCollatorForTokenClassification(tokenizer)"
      ],
      "metadata": {
        "id": "NlE5c0arh87j"
      },
      "execution_count": 22,
      "outputs": []
    },
    {
      "cell_type": "code",
      "source": [
        "trainer = Trainer(\n",
        "    model,\n",
        "    args,\n",
        "   train_dataset=tokenized_dataset[\"train\"],\n",
        "   eval_dataset=tokenized_dataset[\"validate\"],\n",
        "   data_collator=data_collator,\n",
        "   tokenizer=tokenizer,\n",
        ")"
      ],
      "metadata": {
        "id": "RyVJIzXOixvh"
      },
      "execution_count": 23,
      "outputs": []
    },
    {
      "cell_type": "code",
      "source": [
        "trainer.train()"
      ],
      "metadata": {
        "colab": {
          "base_uri": "https://localhost:8080/",
          "height": 356
        },
        "id": "BMAnO3VHuKU9",
        "outputId": "e6332f71-d45c-4e68-fd12-4be55499d2cf"
      },
      "execution_count": 24,
      "outputs": [
        {
          "output_type": "stream",
          "name": "stderr",
          "text": [
            "/usr/local/lib/python3.10/dist-packages/transformers/optimization.py:411: FutureWarning: This implementation of AdamW is deprecated and will be removed in a future version. Use the PyTorch implementation torch.optim.AdamW instead, or set `no_deprecation_warning=True` to disable this warning\n",
            "  warnings.warn(\n",
            "You're using a BertTokenizerFast tokenizer. Please note that with a fast tokenizer, using the `__call__` method is faster than using a method to encode the text followed by a call to the `pad` method to get a padded encoding.\n"
          ]
        },
        {
          "output_type": "display_data",
          "data": {
            "text/plain": [
              "<IPython.core.display.HTML object>"
            ],
            "text/html": [
              "\n",
              "    <div>\n",
              "      \n",
              "      <progress value='100' max='100' style='width:300px; height:20px; vertical-align: middle;'></progress>\n",
              "      [100/100 05:07, Epoch 5/5]\n",
              "    </div>\n",
              "    <table border=\"1\" class=\"dataframe\">\n",
              "  <thead>\n",
              " <tr style=\"text-align: left;\">\n",
              "      <th>Epoch</th>\n",
              "      <th>Training Loss</th>\n",
              "      <th>Validation Loss</th>\n",
              "    </tr>\n",
              "  </thead>\n",
              "  <tbody>\n",
              "    <tr>\n",
              "      <td>1</td>\n",
              "      <td>No log</td>\n",
              "      <td>0.935018</td>\n",
              "    </tr>\n",
              "    <tr>\n",
              "      <td>2</td>\n",
              "      <td>No log</td>\n",
              "      <td>0.701018</td>\n",
              "    </tr>\n",
              "    <tr>\n",
              "      <td>3</td>\n",
              "      <td>No log</td>\n",
              "      <td>0.573947</td>\n",
              "    </tr>\n",
              "    <tr>\n",
              "      <td>4</td>\n",
              "      <td>No log</td>\n",
              "      <td>0.519404</td>\n",
              "    </tr>\n",
              "    <tr>\n",
              "      <td>5</td>\n",
              "      <td>No log</td>\n",
              "      <td>0.508062</td>\n",
              "    </tr>\n",
              "  </tbody>\n",
              "</table><p>"
            ]
          },
          "metadata": {}
        },
        {
          "output_type": "execute_result",
          "data": {
            "text/plain": [
              "TrainOutput(global_step=100, training_loss=0.7682083892822266, metrics={'train_runtime': 314.0386, 'train_samples_per_second': 3.184, 'train_steps_per_second': 0.318, 'total_flos': 9514125124320.0, 'train_loss': 0.7682083892822266, 'epoch': 5.0})"
            ]
          },
          "metadata": {},
          "execution_count": 24
        }
      ]
    },
    {
      "cell_type": "markdown",
      "source": [
        "## Preparing the fine-tuned model"
      ],
      "metadata": {
        "id": "ASqfiVQqTaM-"
      }
    },
    {
      "cell_type": "code",
      "source": [
        "model.save_pretrained(\"ner_model\")"
      ],
      "metadata": {
        "id": "dgR8rsjHSnKa"
      },
      "execution_count": 26,
      "outputs": []
    },
    {
      "cell_type": "code",
      "source": [
        "tokenizer.save_pretrained(\"tokenizer\")"
      ],
      "metadata": {
        "colab": {
          "base_uri": "https://localhost:8080/"
        },
        "id": "WQ3eUTynStiL",
        "outputId": "a6399b85-da44-4fbe-aedb-237f0d60b63b"
      },
      "execution_count": 27,
      "outputs": [
        {
          "output_type": "execute_result",
          "data": {
            "text/plain": [
              "('tokenizer/tokenizer_config.json',\n",
              " 'tokenizer/special_tokens_map.json',\n",
              " 'tokenizer/vocab.txt',\n",
              " 'tokenizer/added_tokens.json',\n",
              " 'tokenizer/tokenizer.json')"
            ]
          },
          "metadata": {},
          "execution_count": 27
        }
      ]
    },
    {
      "cell_type": "code",
      "source": [
        "classes"
      ],
      "metadata": {
        "colab": {
          "base_uri": "https://localhost:8080/"
        },
        "id": "fdIV86SWTCWI",
        "outputId": "23d70553-5d2b-4be2-cbf5-6cef9e452ec0"
      },
      "execution_count": 28,
      "outputs": [
        {
          "output_type": "execute_result",
          "data": {
            "text/plain": [
              "['NONE',\n",
              " 'B-ORG',\n",
              " 'I-ORG',\n",
              " 'B-DATE',\n",
              " 'I-DATE',\n",
              " 'B-TIME',\n",
              " 'I-TIME',\n",
              " 'B-PER',\n",
              " 'I-PER',\n",
              " 'B-CURR',\n",
              " 'I-CURR',\n",
              " 'B-LOC',\n",
              " 'I-LOC',\n",
              " 'B-AGRE',\n",
              " 'I-AGRE',\n",
              " 'B-MISC',\n",
              " 'I-MISC']"
            ]
          },
          "metadata": {},
          "execution_count": 28
        }
      ]
    },
    {
      "cell_type": "code",
      "source": [
        "id2label = {\n",
        "    str(i): label for i,label in enumerate(classes)\n",
        "}\n",
        "label2id = {\n",
        "    label: str(i) for i,label in enumerate(classes)\n",
        "}"
      ],
      "metadata": {
        "id": "A2ne4HNPS3dv"
      },
      "execution_count": 29,
      "outputs": []
    },
    {
      "cell_type": "code",
      "source": [
        "id2label"
      ],
      "metadata": {
        "colab": {
          "base_uri": "https://localhost:8080/"
        },
        "id": "Wu2kkFyRTHXi",
        "outputId": "77a9b635-2901-43f6-d086-03e65cf3bf14"
      },
      "execution_count": 30,
      "outputs": [
        {
          "output_type": "execute_result",
          "data": {
            "text/plain": [
              "{'0': 'NONE',\n",
              " '1': 'B-ORG',\n",
              " '2': 'I-ORG',\n",
              " '3': 'B-DATE',\n",
              " '4': 'I-DATE',\n",
              " '5': 'B-TIME',\n",
              " '6': 'I-TIME',\n",
              " '7': 'B-PER',\n",
              " '8': 'I-PER',\n",
              " '9': 'B-CURR',\n",
              " '10': 'I-CURR',\n",
              " '11': 'B-LOC',\n",
              " '12': 'I-LOC',\n",
              " '13': 'B-AGRE',\n",
              " '14': 'I-AGRE',\n",
              " '15': 'B-MISC',\n",
              " '16': 'I-MISC'}"
            ]
          },
          "metadata": {},
          "execution_count": 30
        }
      ]
    },
    {
      "cell_type": "code",
      "source": [
        "import json\n",
        "config = json.load(open(\"ner_model/config.json\"))"
      ],
      "metadata": {
        "id": "AfX4cEMZTLRc"
      },
      "execution_count": 31,
      "outputs": []
    },
    {
      "cell_type": "code",
      "source": [
        "config[\"id2label\"] = id2label\n",
        "config[\"label2id\"] = label2id"
      ],
      "metadata": {
        "id": "jGFBmra9TWX7"
      },
      "execution_count": 32,
      "outputs": []
    },
    {
      "cell_type": "code",
      "source": [
        "json.dump(config, open(\"ner_model/config.json\",\"w\"))"
      ],
      "metadata": {
        "id": "av_5u1xUTlu_"
      },
      "execution_count": 33,
      "outputs": []
    },
    {
      "cell_type": "code",
      "source": [
        "model_fine_tuned = AutoModelForTokenClassification.from_pretrained(\"ner_model\")"
      ],
      "metadata": {
        "id": "FVK2wfjfTpvO"
      },
      "execution_count": 34,
      "outputs": []
    },
    {
      "cell_type": "markdown",
      "source": [
        "### Testing"
      ],
      "metadata": {
        "id": "729IDNOMwCPY"
      }
    },
    {
      "cell_type": "code",
      "source": [
        "nlp = pipeline(\"ner\", model=model_fine_tuned, tokenizer=tokenizer)\n",
        "\n",
        "example = '''Third Party Investor is a Comparable Investor, the investment of such Third Party Investor in the Fund, the Sister Fund or the SFRO Feeder may'''\n",
        "\n",
        "ner_results = nlp(example)\n",
        "\n",
        "print(ner_results)"
      ],
      "metadata": {
        "colab": {
          "base_uri": "https://localhost:8080/"
        },
        "id": "JCcdbGmUMKf8",
        "outputId": "00203484-7bd7-43fc-a0dc-7ce545e9bf79"
      },
      "execution_count": 35,
      "outputs": [
        {
          "output_type": "stream",
          "name": "stdout",
          "text": [
            "[{'entity': 'B-MISC', 'score': 0.7002061, 'index': 1, 'word': 'third', 'start': 0, 'end': 5}, {'entity': 'I-MISC', 'score': 0.5671134, 'index': 2, 'word': 'party', 'start': 6, 'end': 11}, {'entity': 'B-MISC', 'score': 0.5713753, 'index': 3, 'word': 'investor', 'start': 12, 'end': 20}, {'entity': 'NONE', 'score': 0.9794135, 'index': 4, 'word': 'is', 'start': 21, 'end': 23}, {'entity': 'NONE', 'score': 0.97981066, 'index': 5, 'word': 'a', 'start': 24, 'end': 25}, {'entity': 'B-MISC', 'score': 0.47286883, 'index': 6, 'word': 'comparable', 'start': 26, 'end': 36}, {'entity': 'B-MISC', 'score': 0.5818263, 'index': 7, 'word': 'investor', 'start': 37, 'end': 45}, {'entity': 'NONE', 'score': 0.97984743, 'index': 8, 'word': ',', 'start': 45, 'end': 46}, {'entity': 'NONE', 'score': 0.98178655, 'index': 9, 'word': 'the', 'start': 47, 'end': 50}, {'entity': 'B-MISC', 'score': 0.35250932, 'index': 10, 'word': 'investment', 'start': 51, 'end': 61}, {'entity': 'NONE', 'score': 0.9772727, 'index': 11, 'word': 'of', 'start': 62, 'end': 64}, {'entity': 'NONE', 'score': 0.9759275, 'index': 12, 'word': 'such', 'start': 65, 'end': 69}, {'entity': 'B-MISC', 'score': 0.67363447, 'index': 13, 'word': 'third', 'start': 70, 'end': 75}, {'entity': 'I-MISC', 'score': 0.5541919, 'index': 14, 'word': 'party', 'start': 76, 'end': 81}, {'entity': 'B-MISC', 'score': 0.57419324, 'index': 15, 'word': 'investor', 'start': 82, 'end': 90}, {'entity': 'NONE', 'score': 0.94198316, 'index': 16, 'word': 'in', 'start': 91, 'end': 93}, {'entity': 'NONE', 'score': 0.9673237, 'index': 17, 'word': 'the', 'start': 94, 'end': 97}, {'entity': 'NONE', 'score': 0.28177643, 'index': 18, 'word': 'fund', 'start': 98, 'end': 102}, {'entity': 'NONE', 'score': 0.9446838, 'index': 19, 'word': ',', 'start': 102, 'end': 103}, {'entity': 'NONE', 'score': 0.9484541, 'index': 20, 'word': 'the', 'start': 104, 'end': 107}, {'entity': 'B-ORG', 'score': 0.26958656, 'index': 21, 'word': 'sister', 'start': 108, 'end': 114}, {'entity': 'I-ORG', 'score': 0.21517491, 'index': 22, 'word': 'fund', 'start': 115, 'end': 119}, {'entity': 'NONE', 'score': 0.96228963, 'index': 23, 'word': 'or', 'start': 120, 'end': 122}, {'entity': 'NONE', 'score': 0.941479, 'index': 24, 'word': 'the', 'start': 123, 'end': 126}, {'entity': 'B-ORG', 'score': 0.5547661, 'index': 25, 'word': 'sf', 'start': 127, 'end': 129}, {'entity': 'B-ORG', 'score': 0.37171748, 'index': 26, 'word': '##ro', 'start': 129, 'end': 131}, {'entity': 'NONE', 'score': 0.2592656, 'index': 27, 'word': 'feeder', 'start': 132, 'end': 138}, {'entity': 'NONE', 'score': 0.9784263, 'index': 28, 'word': 'may', 'start': 139, 'end': 142}]\n"
          ]
        }
      ]
    },
    {
      "cell_type": "code",
      "source": [],
      "metadata": {
        "id": "OrLt-6ebyLpk"
      },
      "execution_count": null,
      "outputs": []
    }
  ],
  "metadata": {
    "colab": {
      "provenance": [],
      "gpuType": "T4"
    },
    "kernelspec": {
      "display_name": "Python 3",
      "name": "python3"
    },
    "language_info": {
      "codemirror_mode": {
        "name": "ipython",
        "version": 3
      },
      "file_extension": ".py",
      "mimetype": "text/x-python",
      "name": "python",
      "nbconvert_exporter": "python",
      "pygments_lexer": "ipython3",
      "version": "3.9.16"
    },
    "widgets": {
      "application/vnd.jupyter.widget-state+json": {
        "dfa1f42cca914b48aab6425da95e9b5f": {
          "model_module": "@jupyter-widgets/controls",
          "model_name": "HBoxModel",
          "model_module_version": "1.5.0",
          "state": {
            "_dom_classes": [],
            "_model_module": "@jupyter-widgets/controls",
            "_model_module_version": "1.5.0",
            "_model_name": "HBoxModel",
            "_view_count": null,
            "_view_module": "@jupyter-widgets/controls",
            "_view_module_version": "1.5.0",
            "_view_name": "HBoxView",
            "box_style": "",
            "children": [
              "IPY_MODEL_a5e4a07bda5b4943912037933c4aeb65",
              "IPY_MODEL_297650b4d64648c78c4618a3680ca681",
              "IPY_MODEL_4d92e5be4e7840e5a895982de2421119"
            ],
            "layout": "IPY_MODEL_ed5058c1669e455da1ebf47ee7c8a935"
          }
        },
        "a5e4a07bda5b4943912037933c4aeb65": {
          "model_module": "@jupyter-widgets/controls",
          "model_name": "HTMLModel",
          "model_module_version": "1.5.0",
          "state": {
            "_dom_classes": [],
            "_model_module": "@jupyter-widgets/controls",
            "_model_module_version": "1.5.0",
            "_model_name": "HTMLModel",
            "_view_count": null,
            "_view_module": "@jupyter-widgets/controls",
            "_view_module_version": "1.5.0",
            "_view_name": "HTMLView",
            "description": "",
            "description_tooltip": null,
            "layout": "IPY_MODEL_5bf38f7ecac041519225f9852065c5b8",
            "placeholder": "​",
            "style": "IPY_MODEL_ab28273bd60544589759cfdd18109ffc",
            "value": "Downloading (…)okenizer_config.json: 100%"
          }
        },
        "297650b4d64648c78c4618a3680ca681": {
          "model_module": "@jupyter-widgets/controls",
          "model_name": "FloatProgressModel",
          "model_module_version": "1.5.0",
          "state": {
            "_dom_classes": [],
            "_model_module": "@jupyter-widgets/controls",
            "_model_module_version": "1.5.0",
            "_model_name": "FloatProgressModel",
            "_view_count": null,
            "_view_module": "@jupyter-widgets/controls",
            "_view_module_version": "1.5.0",
            "_view_name": "ProgressView",
            "bar_style": "success",
            "description": "",
            "description_tooltip": null,
            "layout": "IPY_MODEL_b353d46a5ce0421386668da72eba87bb",
            "max": 28,
            "min": 0,
            "orientation": "horizontal",
            "style": "IPY_MODEL_067c2118cbd8488d95679a6b96850b81",
            "value": 28
          }
        },
        "4d92e5be4e7840e5a895982de2421119": {
          "model_module": "@jupyter-widgets/controls",
          "model_name": "HTMLModel",
          "model_module_version": "1.5.0",
          "state": {
            "_dom_classes": [],
            "_model_module": "@jupyter-widgets/controls",
            "_model_module_version": "1.5.0",
            "_model_name": "HTMLModel",
            "_view_count": null,
            "_view_module": "@jupyter-widgets/controls",
            "_view_module_version": "1.5.0",
            "_view_name": "HTMLView",
            "description": "",
            "description_tooltip": null,
            "layout": "IPY_MODEL_0d572597843d47c19690d318eef09854",
            "placeholder": "​",
            "style": "IPY_MODEL_76d6350a45484676a85ed25e527eeb04",
            "value": " 28.0/28.0 [00:00&lt;00:00, 1.18kB/s]"
          }
        },
        "ed5058c1669e455da1ebf47ee7c8a935": {
          "model_module": "@jupyter-widgets/base",
          "model_name": "LayoutModel",
          "model_module_version": "1.2.0",
          "state": {
            "_model_module": "@jupyter-widgets/base",
            "_model_module_version": "1.2.0",
            "_model_name": "LayoutModel",
            "_view_count": null,
            "_view_module": "@jupyter-widgets/base",
            "_view_module_version": "1.2.0",
            "_view_name": "LayoutView",
            "align_content": null,
            "align_items": null,
            "align_self": null,
            "border": null,
            "bottom": null,
            "display": null,
            "flex": null,
            "flex_flow": null,
            "grid_area": null,
            "grid_auto_columns": null,
            "grid_auto_flow": null,
            "grid_auto_rows": null,
            "grid_column": null,
            "grid_gap": null,
            "grid_row": null,
            "grid_template_areas": null,
            "grid_template_columns": null,
            "grid_template_rows": null,
            "height": null,
            "justify_content": null,
            "justify_items": null,
            "left": null,
            "margin": null,
            "max_height": null,
            "max_width": null,
            "min_height": null,
            "min_width": null,
            "object_fit": null,
            "object_position": null,
            "order": null,
            "overflow": null,
            "overflow_x": null,
            "overflow_y": null,
            "padding": null,
            "right": null,
            "top": null,
            "visibility": null,
            "width": null
          }
        },
        "5bf38f7ecac041519225f9852065c5b8": {
          "model_module": "@jupyter-widgets/base",
          "model_name": "LayoutModel",
          "model_module_version": "1.2.0",
          "state": {
            "_model_module": "@jupyter-widgets/base",
            "_model_module_version": "1.2.0",
            "_model_name": "LayoutModel",
            "_view_count": null,
            "_view_module": "@jupyter-widgets/base",
            "_view_module_version": "1.2.0",
            "_view_name": "LayoutView",
            "align_content": null,
            "align_items": null,
            "align_self": null,
            "border": null,
            "bottom": null,
            "display": null,
            "flex": null,
            "flex_flow": null,
            "grid_area": null,
            "grid_auto_columns": null,
            "grid_auto_flow": null,
            "grid_auto_rows": null,
            "grid_column": null,
            "grid_gap": null,
            "grid_row": null,
            "grid_template_areas": null,
            "grid_template_columns": null,
            "grid_template_rows": null,
            "height": null,
            "justify_content": null,
            "justify_items": null,
            "left": null,
            "margin": null,
            "max_height": null,
            "max_width": null,
            "min_height": null,
            "min_width": null,
            "object_fit": null,
            "object_position": null,
            "order": null,
            "overflow": null,
            "overflow_x": null,
            "overflow_y": null,
            "padding": null,
            "right": null,
            "top": null,
            "visibility": null,
            "width": null
          }
        },
        "ab28273bd60544589759cfdd18109ffc": {
          "model_module": "@jupyter-widgets/controls",
          "model_name": "DescriptionStyleModel",
          "model_module_version": "1.5.0",
          "state": {
            "_model_module": "@jupyter-widgets/controls",
            "_model_module_version": "1.5.0",
            "_model_name": "DescriptionStyleModel",
            "_view_count": null,
            "_view_module": "@jupyter-widgets/base",
            "_view_module_version": "1.2.0",
            "_view_name": "StyleView",
            "description_width": ""
          }
        },
        "b353d46a5ce0421386668da72eba87bb": {
          "model_module": "@jupyter-widgets/base",
          "model_name": "LayoutModel",
          "model_module_version": "1.2.0",
          "state": {
            "_model_module": "@jupyter-widgets/base",
            "_model_module_version": "1.2.0",
            "_model_name": "LayoutModel",
            "_view_count": null,
            "_view_module": "@jupyter-widgets/base",
            "_view_module_version": "1.2.0",
            "_view_name": "LayoutView",
            "align_content": null,
            "align_items": null,
            "align_self": null,
            "border": null,
            "bottom": null,
            "display": null,
            "flex": null,
            "flex_flow": null,
            "grid_area": null,
            "grid_auto_columns": null,
            "grid_auto_flow": null,
            "grid_auto_rows": null,
            "grid_column": null,
            "grid_gap": null,
            "grid_row": null,
            "grid_template_areas": null,
            "grid_template_columns": null,
            "grid_template_rows": null,
            "height": null,
            "justify_content": null,
            "justify_items": null,
            "left": null,
            "margin": null,
            "max_height": null,
            "max_width": null,
            "min_height": null,
            "min_width": null,
            "object_fit": null,
            "object_position": null,
            "order": null,
            "overflow": null,
            "overflow_x": null,
            "overflow_y": null,
            "padding": null,
            "right": null,
            "top": null,
            "visibility": null,
            "width": null
          }
        },
        "067c2118cbd8488d95679a6b96850b81": {
          "model_module": "@jupyter-widgets/controls",
          "model_name": "ProgressStyleModel",
          "model_module_version": "1.5.0",
          "state": {
            "_model_module": "@jupyter-widgets/controls",
            "_model_module_version": "1.5.0",
            "_model_name": "ProgressStyleModel",
            "_view_count": null,
            "_view_module": "@jupyter-widgets/base",
            "_view_module_version": "1.2.0",
            "_view_name": "StyleView",
            "bar_color": null,
            "description_width": ""
          }
        },
        "0d572597843d47c19690d318eef09854": {
          "model_module": "@jupyter-widgets/base",
          "model_name": "LayoutModel",
          "model_module_version": "1.2.0",
          "state": {
            "_model_module": "@jupyter-widgets/base",
            "_model_module_version": "1.2.0",
            "_model_name": "LayoutModel",
            "_view_count": null,
            "_view_module": "@jupyter-widgets/base",
            "_view_module_version": "1.2.0",
            "_view_name": "LayoutView",
            "align_content": null,
            "align_items": null,
            "align_self": null,
            "border": null,
            "bottom": null,
            "display": null,
            "flex": null,
            "flex_flow": null,
            "grid_area": null,
            "grid_auto_columns": null,
            "grid_auto_flow": null,
            "grid_auto_rows": null,
            "grid_column": null,
            "grid_gap": null,
            "grid_row": null,
            "grid_template_areas": null,
            "grid_template_columns": null,
            "grid_template_rows": null,
            "height": null,
            "justify_content": null,
            "justify_items": null,
            "left": null,
            "margin": null,
            "max_height": null,
            "max_width": null,
            "min_height": null,
            "min_width": null,
            "object_fit": null,
            "object_position": null,
            "order": null,
            "overflow": null,
            "overflow_x": null,
            "overflow_y": null,
            "padding": null,
            "right": null,
            "top": null,
            "visibility": null,
            "width": null
          }
        },
        "76d6350a45484676a85ed25e527eeb04": {
          "model_module": "@jupyter-widgets/controls",
          "model_name": "DescriptionStyleModel",
          "model_module_version": "1.5.0",
          "state": {
            "_model_module": "@jupyter-widgets/controls",
            "_model_module_version": "1.5.0",
            "_model_name": "DescriptionStyleModel",
            "_view_count": null,
            "_view_module": "@jupyter-widgets/base",
            "_view_module_version": "1.2.0",
            "_view_name": "StyleView",
            "description_width": ""
          }
        },
        "53f806f3b41d47b9b75919e89931ea11": {
          "model_module": "@jupyter-widgets/controls",
          "model_name": "HBoxModel",
          "model_module_version": "1.5.0",
          "state": {
            "_dom_classes": [],
            "_model_module": "@jupyter-widgets/controls",
            "_model_module_version": "1.5.0",
            "_model_name": "HBoxModel",
            "_view_count": null,
            "_view_module": "@jupyter-widgets/controls",
            "_view_module_version": "1.5.0",
            "_view_name": "HBoxView",
            "box_style": "",
            "children": [
              "IPY_MODEL_2fef5f9ca45d4a14b891e6d8686d06ba",
              "IPY_MODEL_be173c4a9fd341c0a9409606a2c018cd",
              "IPY_MODEL_7eae53e26cdd450dbb2a66226ddd98f2"
            ],
            "layout": "IPY_MODEL_77e7dc372d074bfc9eb0706ac83f0fa8"
          }
        },
        "2fef5f9ca45d4a14b891e6d8686d06ba": {
          "model_module": "@jupyter-widgets/controls",
          "model_name": "HTMLModel",
          "model_module_version": "1.5.0",
          "state": {
            "_dom_classes": [],
            "_model_module": "@jupyter-widgets/controls",
            "_model_module_version": "1.5.0",
            "_model_name": "HTMLModel",
            "_view_count": null,
            "_view_module": "@jupyter-widgets/controls",
            "_view_module_version": "1.5.0",
            "_view_name": "HTMLView",
            "description": "",
            "description_tooltip": null,
            "layout": "IPY_MODEL_752f1cc9c1754c15ba6268b6062d10dd",
            "placeholder": "​",
            "style": "IPY_MODEL_3fd78a92a70149c883813aa8d5c012e4",
            "value": "Downloading (…)solve/main/vocab.txt: 100%"
          }
        },
        "be173c4a9fd341c0a9409606a2c018cd": {
          "model_module": "@jupyter-widgets/controls",
          "model_name": "FloatProgressModel",
          "model_module_version": "1.5.0",
          "state": {
            "_dom_classes": [],
            "_model_module": "@jupyter-widgets/controls",
            "_model_module_version": "1.5.0",
            "_model_name": "FloatProgressModel",
            "_view_count": null,
            "_view_module": "@jupyter-widgets/controls",
            "_view_module_version": "1.5.0",
            "_view_name": "ProgressView",
            "bar_style": "success",
            "description": "",
            "description_tooltip": null,
            "layout": "IPY_MODEL_20f6ef01d3cb43689100acb74fedc934",
            "max": 231508,
            "min": 0,
            "orientation": "horizontal",
            "style": "IPY_MODEL_fb163a91c65a4284a174c73885d928a9",
            "value": 231508
          }
        },
        "7eae53e26cdd450dbb2a66226ddd98f2": {
          "model_module": "@jupyter-widgets/controls",
          "model_name": "HTMLModel",
          "model_module_version": "1.5.0",
          "state": {
            "_dom_classes": [],
            "_model_module": "@jupyter-widgets/controls",
            "_model_module_version": "1.5.0",
            "_model_name": "HTMLModel",
            "_view_count": null,
            "_view_module": "@jupyter-widgets/controls",
            "_view_module_version": "1.5.0",
            "_view_name": "HTMLView",
            "description": "",
            "description_tooltip": null,
            "layout": "IPY_MODEL_17dbbf4316b64441a13f413772215283",
            "placeholder": "​",
            "style": "IPY_MODEL_c434293c262f46b09e4ec60ba31f8821",
            "value": " 232k/232k [00:00&lt;00:00, 1.97MB/s]"
          }
        },
        "77e7dc372d074bfc9eb0706ac83f0fa8": {
          "model_module": "@jupyter-widgets/base",
          "model_name": "LayoutModel",
          "model_module_version": "1.2.0",
          "state": {
            "_model_module": "@jupyter-widgets/base",
            "_model_module_version": "1.2.0",
            "_model_name": "LayoutModel",
            "_view_count": null,
            "_view_module": "@jupyter-widgets/base",
            "_view_module_version": "1.2.0",
            "_view_name": "LayoutView",
            "align_content": null,
            "align_items": null,
            "align_self": null,
            "border": null,
            "bottom": null,
            "display": null,
            "flex": null,
            "flex_flow": null,
            "grid_area": null,
            "grid_auto_columns": null,
            "grid_auto_flow": null,
            "grid_auto_rows": null,
            "grid_column": null,
            "grid_gap": null,
            "grid_row": null,
            "grid_template_areas": null,
            "grid_template_columns": null,
            "grid_template_rows": null,
            "height": null,
            "justify_content": null,
            "justify_items": null,
            "left": null,
            "margin": null,
            "max_height": null,
            "max_width": null,
            "min_height": null,
            "min_width": null,
            "object_fit": null,
            "object_position": null,
            "order": null,
            "overflow": null,
            "overflow_x": null,
            "overflow_y": null,
            "padding": null,
            "right": null,
            "top": null,
            "visibility": null,
            "width": null
          }
        },
        "752f1cc9c1754c15ba6268b6062d10dd": {
          "model_module": "@jupyter-widgets/base",
          "model_name": "LayoutModel",
          "model_module_version": "1.2.0",
          "state": {
            "_model_module": "@jupyter-widgets/base",
            "_model_module_version": "1.2.0",
            "_model_name": "LayoutModel",
            "_view_count": null,
            "_view_module": "@jupyter-widgets/base",
            "_view_module_version": "1.2.0",
            "_view_name": "LayoutView",
            "align_content": null,
            "align_items": null,
            "align_self": null,
            "border": null,
            "bottom": null,
            "display": null,
            "flex": null,
            "flex_flow": null,
            "grid_area": null,
            "grid_auto_columns": null,
            "grid_auto_flow": null,
            "grid_auto_rows": null,
            "grid_column": null,
            "grid_gap": null,
            "grid_row": null,
            "grid_template_areas": null,
            "grid_template_columns": null,
            "grid_template_rows": null,
            "height": null,
            "justify_content": null,
            "justify_items": null,
            "left": null,
            "margin": null,
            "max_height": null,
            "max_width": null,
            "min_height": null,
            "min_width": null,
            "object_fit": null,
            "object_position": null,
            "order": null,
            "overflow": null,
            "overflow_x": null,
            "overflow_y": null,
            "padding": null,
            "right": null,
            "top": null,
            "visibility": null,
            "width": null
          }
        },
        "3fd78a92a70149c883813aa8d5c012e4": {
          "model_module": "@jupyter-widgets/controls",
          "model_name": "DescriptionStyleModel",
          "model_module_version": "1.5.0",
          "state": {
            "_model_module": "@jupyter-widgets/controls",
            "_model_module_version": "1.5.0",
            "_model_name": "DescriptionStyleModel",
            "_view_count": null,
            "_view_module": "@jupyter-widgets/base",
            "_view_module_version": "1.2.0",
            "_view_name": "StyleView",
            "description_width": ""
          }
        },
        "20f6ef01d3cb43689100acb74fedc934": {
          "model_module": "@jupyter-widgets/base",
          "model_name": "LayoutModel",
          "model_module_version": "1.2.0",
          "state": {
            "_model_module": "@jupyter-widgets/base",
            "_model_module_version": "1.2.0",
            "_model_name": "LayoutModel",
            "_view_count": null,
            "_view_module": "@jupyter-widgets/base",
            "_view_module_version": "1.2.0",
            "_view_name": "LayoutView",
            "align_content": null,
            "align_items": null,
            "align_self": null,
            "border": null,
            "bottom": null,
            "display": null,
            "flex": null,
            "flex_flow": null,
            "grid_area": null,
            "grid_auto_columns": null,
            "grid_auto_flow": null,
            "grid_auto_rows": null,
            "grid_column": null,
            "grid_gap": null,
            "grid_row": null,
            "grid_template_areas": null,
            "grid_template_columns": null,
            "grid_template_rows": null,
            "height": null,
            "justify_content": null,
            "justify_items": null,
            "left": null,
            "margin": null,
            "max_height": null,
            "max_width": null,
            "min_height": null,
            "min_width": null,
            "object_fit": null,
            "object_position": null,
            "order": null,
            "overflow": null,
            "overflow_x": null,
            "overflow_y": null,
            "padding": null,
            "right": null,
            "top": null,
            "visibility": null,
            "width": null
          }
        },
        "fb163a91c65a4284a174c73885d928a9": {
          "model_module": "@jupyter-widgets/controls",
          "model_name": "ProgressStyleModel",
          "model_module_version": "1.5.0",
          "state": {
            "_model_module": "@jupyter-widgets/controls",
            "_model_module_version": "1.5.0",
            "_model_name": "ProgressStyleModel",
            "_view_count": null,
            "_view_module": "@jupyter-widgets/base",
            "_view_module_version": "1.2.0",
            "_view_name": "StyleView",
            "bar_color": null,
            "description_width": ""
          }
        },
        "17dbbf4316b64441a13f413772215283": {
          "model_module": "@jupyter-widgets/base",
          "model_name": "LayoutModel",
          "model_module_version": "1.2.0",
          "state": {
            "_model_module": "@jupyter-widgets/base",
            "_model_module_version": "1.2.0",
            "_model_name": "LayoutModel",
            "_view_count": null,
            "_view_module": "@jupyter-widgets/base",
            "_view_module_version": "1.2.0",
            "_view_name": "LayoutView",
            "align_content": null,
            "align_items": null,
            "align_self": null,
            "border": null,
            "bottom": null,
            "display": null,
            "flex": null,
            "flex_flow": null,
            "grid_area": null,
            "grid_auto_columns": null,
            "grid_auto_flow": null,
            "grid_auto_rows": null,
            "grid_column": null,
            "grid_gap": null,
            "grid_row": null,
            "grid_template_areas": null,
            "grid_template_columns": null,
            "grid_template_rows": null,
            "height": null,
            "justify_content": null,
            "justify_items": null,
            "left": null,
            "margin": null,
            "max_height": null,
            "max_width": null,
            "min_height": null,
            "min_width": null,
            "object_fit": null,
            "object_position": null,
            "order": null,
            "overflow": null,
            "overflow_x": null,
            "overflow_y": null,
            "padding": null,
            "right": null,
            "top": null,
            "visibility": null,
            "width": null
          }
        },
        "c434293c262f46b09e4ec60ba31f8821": {
          "model_module": "@jupyter-widgets/controls",
          "model_name": "DescriptionStyleModel",
          "model_module_version": "1.5.0",
          "state": {
            "_model_module": "@jupyter-widgets/controls",
            "_model_module_version": "1.5.0",
            "_model_name": "DescriptionStyleModel",
            "_view_count": null,
            "_view_module": "@jupyter-widgets/base",
            "_view_module_version": "1.2.0",
            "_view_name": "StyleView",
            "description_width": ""
          }
        },
        "bd105b2280354b17aea17604e2acc4e7": {
          "model_module": "@jupyter-widgets/controls",
          "model_name": "HBoxModel",
          "model_module_version": "1.5.0",
          "state": {
            "_dom_classes": [],
            "_model_module": "@jupyter-widgets/controls",
            "_model_module_version": "1.5.0",
            "_model_name": "HBoxModel",
            "_view_count": null,
            "_view_module": "@jupyter-widgets/controls",
            "_view_module_version": "1.5.0",
            "_view_name": "HBoxView",
            "box_style": "",
            "children": [
              "IPY_MODEL_e2fcc78f0e1946babd61c7a06e6694f1",
              "IPY_MODEL_29ad40469eee4372ab9db741091479cd",
              "IPY_MODEL_c430dabd234c482bba8fa02a42ac4d06"
            ],
            "layout": "IPY_MODEL_16ee5430632c4c009bc3e84c2c19b1a1"
          }
        },
        "e2fcc78f0e1946babd61c7a06e6694f1": {
          "model_module": "@jupyter-widgets/controls",
          "model_name": "HTMLModel",
          "model_module_version": "1.5.0",
          "state": {
            "_dom_classes": [],
            "_model_module": "@jupyter-widgets/controls",
            "_model_module_version": "1.5.0",
            "_model_name": "HTMLModel",
            "_view_count": null,
            "_view_module": "@jupyter-widgets/controls",
            "_view_module_version": "1.5.0",
            "_view_name": "HTMLView",
            "description": "",
            "description_tooltip": null,
            "layout": "IPY_MODEL_8203d5f29678459f9c3903f29c353724",
            "placeholder": "​",
            "style": "IPY_MODEL_5068416ef50244ca8587f5816a775fb0",
            "value": "Downloading (…)/main/tokenizer.json: 100%"
          }
        },
        "29ad40469eee4372ab9db741091479cd": {
          "model_module": "@jupyter-widgets/controls",
          "model_name": "FloatProgressModel",
          "model_module_version": "1.5.0",
          "state": {
            "_dom_classes": [],
            "_model_module": "@jupyter-widgets/controls",
            "_model_module_version": "1.5.0",
            "_model_name": "FloatProgressModel",
            "_view_count": null,
            "_view_module": "@jupyter-widgets/controls",
            "_view_module_version": "1.5.0",
            "_view_name": "ProgressView",
            "bar_style": "success",
            "description": "",
            "description_tooltip": null,
            "layout": "IPY_MODEL_aa5fbc249ac34d5d9c79c590631d3895",
            "max": 466062,
            "min": 0,
            "orientation": "horizontal",
            "style": "IPY_MODEL_541b3dccf2344624ae36fef6c1f8c296",
            "value": 466062
          }
        },
        "c430dabd234c482bba8fa02a42ac4d06": {
          "model_module": "@jupyter-widgets/controls",
          "model_name": "HTMLModel",
          "model_module_version": "1.5.0",
          "state": {
            "_dom_classes": [],
            "_model_module": "@jupyter-widgets/controls",
            "_model_module_version": "1.5.0",
            "_model_name": "HTMLModel",
            "_view_count": null,
            "_view_module": "@jupyter-widgets/controls",
            "_view_module_version": "1.5.0",
            "_view_name": "HTMLView",
            "description": "",
            "description_tooltip": null,
            "layout": "IPY_MODEL_8ee725b9981645f5abeccbc801c7e4bf",
            "placeholder": "​",
            "style": "IPY_MODEL_bd08fd2b32674ef39a9afb00a4a1a31a",
            "value": " 466k/466k [00:00&lt;00:00, 7.46MB/s]"
          }
        },
        "16ee5430632c4c009bc3e84c2c19b1a1": {
          "model_module": "@jupyter-widgets/base",
          "model_name": "LayoutModel",
          "model_module_version": "1.2.0",
          "state": {
            "_model_module": "@jupyter-widgets/base",
            "_model_module_version": "1.2.0",
            "_model_name": "LayoutModel",
            "_view_count": null,
            "_view_module": "@jupyter-widgets/base",
            "_view_module_version": "1.2.0",
            "_view_name": "LayoutView",
            "align_content": null,
            "align_items": null,
            "align_self": null,
            "border": null,
            "bottom": null,
            "display": null,
            "flex": null,
            "flex_flow": null,
            "grid_area": null,
            "grid_auto_columns": null,
            "grid_auto_flow": null,
            "grid_auto_rows": null,
            "grid_column": null,
            "grid_gap": null,
            "grid_row": null,
            "grid_template_areas": null,
            "grid_template_columns": null,
            "grid_template_rows": null,
            "height": null,
            "justify_content": null,
            "justify_items": null,
            "left": null,
            "margin": null,
            "max_height": null,
            "max_width": null,
            "min_height": null,
            "min_width": null,
            "object_fit": null,
            "object_position": null,
            "order": null,
            "overflow": null,
            "overflow_x": null,
            "overflow_y": null,
            "padding": null,
            "right": null,
            "top": null,
            "visibility": null,
            "width": null
          }
        },
        "8203d5f29678459f9c3903f29c353724": {
          "model_module": "@jupyter-widgets/base",
          "model_name": "LayoutModel",
          "model_module_version": "1.2.0",
          "state": {
            "_model_module": "@jupyter-widgets/base",
            "_model_module_version": "1.2.0",
            "_model_name": "LayoutModel",
            "_view_count": null,
            "_view_module": "@jupyter-widgets/base",
            "_view_module_version": "1.2.0",
            "_view_name": "LayoutView",
            "align_content": null,
            "align_items": null,
            "align_self": null,
            "border": null,
            "bottom": null,
            "display": null,
            "flex": null,
            "flex_flow": null,
            "grid_area": null,
            "grid_auto_columns": null,
            "grid_auto_flow": null,
            "grid_auto_rows": null,
            "grid_column": null,
            "grid_gap": null,
            "grid_row": null,
            "grid_template_areas": null,
            "grid_template_columns": null,
            "grid_template_rows": null,
            "height": null,
            "justify_content": null,
            "justify_items": null,
            "left": null,
            "margin": null,
            "max_height": null,
            "max_width": null,
            "min_height": null,
            "min_width": null,
            "object_fit": null,
            "object_position": null,
            "order": null,
            "overflow": null,
            "overflow_x": null,
            "overflow_y": null,
            "padding": null,
            "right": null,
            "top": null,
            "visibility": null,
            "width": null
          }
        },
        "5068416ef50244ca8587f5816a775fb0": {
          "model_module": "@jupyter-widgets/controls",
          "model_name": "DescriptionStyleModel",
          "model_module_version": "1.5.0",
          "state": {
            "_model_module": "@jupyter-widgets/controls",
            "_model_module_version": "1.5.0",
            "_model_name": "DescriptionStyleModel",
            "_view_count": null,
            "_view_module": "@jupyter-widgets/base",
            "_view_module_version": "1.2.0",
            "_view_name": "StyleView",
            "description_width": ""
          }
        },
        "aa5fbc249ac34d5d9c79c590631d3895": {
          "model_module": "@jupyter-widgets/base",
          "model_name": "LayoutModel",
          "model_module_version": "1.2.0",
          "state": {
            "_model_module": "@jupyter-widgets/base",
            "_model_module_version": "1.2.0",
            "_model_name": "LayoutModel",
            "_view_count": null,
            "_view_module": "@jupyter-widgets/base",
            "_view_module_version": "1.2.0",
            "_view_name": "LayoutView",
            "align_content": null,
            "align_items": null,
            "align_self": null,
            "border": null,
            "bottom": null,
            "display": null,
            "flex": null,
            "flex_flow": null,
            "grid_area": null,
            "grid_auto_columns": null,
            "grid_auto_flow": null,
            "grid_auto_rows": null,
            "grid_column": null,
            "grid_gap": null,
            "grid_row": null,
            "grid_template_areas": null,
            "grid_template_columns": null,
            "grid_template_rows": null,
            "height": null,
            "justify_content": null,
            "justify_items": null,
            "left": null,
            "margin": null,
            "max_height": null,
            "max_width": null,
            "min_height": null,
            "min_width": null,
            "object_fit": null,
            "object_position": null,
            "order": null,
            "overflow": null,
            "overflow_x": null,
            "overflow_y": null,
            "padding": null,
            "right": null,
            "top": null,
            "visibility": null,
            "width": null
          }
        },
        "541b3dccf2344624ae36fef6c1f8c296": {
          "model_module": "@jupyter-widgets/controls",
          "model_name": "ProgressStyleModel",
          "model_module_version": "1.5.0",
          "state": {
            "_model_module": "@jupyter-widgets/controls",
            "_model_module_version": "1.5.0",
            "_model_name": "ProgressStyleModel",
            "_view_count": null,
            "_view_module": "@jupyter-widgets/base",
            "_view_module_version": "1.2.0",
            "_view_name": "StyleView",
            "bar_color": null,
            "description_width": ""
          }
        },
        "8ee725b9981645f5abeccbc801c7e4bf": {
          "model_module": "@jupyter-widgets/base",
          "model_name": "LayoutModel",
          "model_module_version": "1.2.0",
          "state": {
            "_model_module": "@jupyter-widgets/base",
            "_model_module_version": "1.2.0",
            "_model_name": "LayoutModel",
            "_view_count": null,
            "_view_module": "@jupyter-widgets/base",
            "_view_module_version": "1.2.0",
            "_view_name": "LayoutView",
            "align_content": null,
            "align_items": null,
            "align_self": null,
            "border": null,
            "bottom": null,
            "display": null,
            "flex": null,
            "flex_flow": null,
            "grid_area": null,
            "grid_auto_columns": null,
            "grid_auto_flow": null,
            "grid_auto_rows": null,
            "grid_column": null,
            "grid_gap": null,
            "grid_row": null,
            "grid_template_areas": null,
            "grid_template_columns": null,
            "grid_template_rows": null,
            "height": null,
            "justify_content": null,
            "justify_items": null,
            "left": null,
            "margin": null,
            "max_height": null,
            "max_width": null,
            "min_height": null,
            "min_width": null,
            "object_fit": null,
            "object_position": null,
            "order": null,
            "overflow": null,
            "overflow_x": null,
            "overflow_y": null,
            "padding": null,
            "right": null,
            "top": null,
            "visibility": null,
            "width": null
          }
        },
        "bd08fd2b32674ef39a9afb00a4a1a31a": {
          "model_module": "@jupyter-widgets/controls",
          "model_name": "DescriptionStyleModel",
          "model_module_version": "1.5.0",
          "state": {
            "_model_module": "@jupyter-widgets/controls",
            "_model_module_version": "1.5.0",
            "_model_name": "DescriptionStyleModel",
            "_view_count": null,
            "_view_module": "@jupyter-widgets/base",
            "_view_module_version": "1.2.0",
            "_view_name": "StyleView",
            "description_width": ""
          }
        },
        "92da306432bf4c44a78b30601b9b580c": {
          "model_module": "@jupyter-widgets/controls",
          "model_name": "HBoxModel",
          "model_module_version": "1.5.0",
          "state": {
            "_dom_classes": [],
            "_model_module": "@jupyter-widgets/controls",
            "_model_module_version": "1.5.0",
            "_model_name": "HBoxModel",
            "_view_count": null,
            "_view_module": "@jupyter-widgets/controls",
            "_view_module_version": "1.5.0",
            "_view_name": "HBoxView",
            "box_style": "",
            "children": [
              "IPY_MODEL_d33840835d69400794b09973c32a109a",
              "IPY_MODEL_b07fd68c6f3d444fb3bcd95824957368",
              "IPY_MODEL_55576559869f4ed0830d2806e6442f96"
            ],
            "layout": "IPY_MODEL_05374e35a9ab4e8c9810ee0318600f26"
          }
        },
        "d33840835d69400794b09973c32a109a": {
          "model_module": "@jupyter-widgets/controls",
          "model_name": "HTMLModel",
          "model_module_version": "1.5.0",
          "state": {
            "_dom_classes": [],
            "_model_module": "@jupyter-widgets/controls",
            "_model_module_version": "1.5.0",
            "_model_name": "HTMLModel",
            "_view_count": null,
            "_view_module": "@jupyter-widgets/controls",
            "_view_module_version": "1.5.0",
            "_view_name": "HTMLView",
            "description": "",
            "description_tooltip": null,
            "layout": "IPY_MODEL_2b8f65efa20144e69a2e0bf5c9642cb0",
            "placeholder": "​",
            "style": "IPY_MODEL_8cd380a970b244ea9682b33bd4ee5ba8",
            "value": "Downloading (…)lve/main/config.json: 100%"
          }
        },
        "b07fd68c6f3d444fb3bcd95824957368": {
          "model_module": "@jupyter-widgets/controls",
          "model_name": "FloatProgressModel",
          "model_module_version": "1.5.0",
          "state": {
            "_dom_classes": [],
            "_model_module": "@jupyter-widgets/controls",
            "_model_module_version": "1.5.0",
            "_model_name": "FloatProgressModel",
            "_view_count": null,
            "_view_module": "@jupyter-widgets/controls",
            "_view_module_version": "1.5.0",
            "_view_name": "ProgressView",
            "bar_style": "success",
            "description": "",
            "description_tooltip": null,
            "layout": "IPY_MODEL_9c1153fe9fcd47a99ad5d57a96ab0aed",
            "max": 570,
            "min": 0,
            "orientation": "horizontal",
            "style": "IPY_MODEL_1d55803998474733b78b560d2f6c60e9",
            "value": 570
          }
        },
        "55576559869f4ed0830d2806e6442f96": {
          "model_module": "@jupyter-widgets/controls",
          "model_name": "HTMLModel",
          "model_module_version": "1.5.0",
          "state": {
            "_dom_classes": [],
            "_model_module": "@jupyter-widgets/controls",
            "_model_module_version": "1.5.0",
            "_model_name": "HTMLModel",
            "_view_count": null,
            "_view_module": "@jupyter-widgets/controls",
            "_view_module_version": "1.5.0",
            "_view_name": "HTMLView",
            "description": "",
            "description_tooltip": null,
            "layout": "IPY_MODEL_273d66d3d03143709ae42d3baaa51cdd",
            "placeholder": "​",
            "style": "IPY_MODEL_eb39b5ac3e834baf851e2d1cfd7a00d9",
            "value": " 570/570 [00:00&lt;00:00, 10.6kB/s]"
          }
        },
        "05374e35a9ab4e8c9810ee0318600f26": {
          "model_module": "@jupyter-widgets/base",
          "model_name": "LayoutModel",
          "model_module_version": "1.2.0",
          "state": {
            "_model_module": "@jupyter-widgets/base",
            "_model_module_version": "1.2.0",
            "_model_name": "LayoutModel",
            "_view_count": null,
            "_view_module": "@jupyter-widgets/base",
            "_view_module_version": "1.2.0",
            "_view_name": "LayoutView",
            "align_content": null,
            "align_items": null,
            "align_self": null,
            "border": null,
            "bottom": null,
            "display": null,
            "flex": null,
            "flex_flow": null,
            "grid_area": null,
            "grid_auto_columns": null,
            "grid_auto_flow": null,
            "grid_auto_rows": null,
            "grid_column": null,
            "grid_gap": null,
            "grid_row": null,
            "grid_template_areas": null,
            "grid_template_columns": null,
            "grid_template_rows": null,
            "height": null,
            "justify_content": null,
            "justify_items": null,
            "left": null,
            "margin": null,
            "max_height": null,
            "max_width": null,
            "min_height": null,
            "min_width": null,
            "object_fit": null,
            "object_position": null,
            "order": null,
            "overflow": null,
            "overflow_x": null,
            "overflow_y": null,
            "padding": null,
            "right": null,
            "top": null,
            "visibility": null,
            "width": null
          }
        },
        "2b8f65efa20144e69a2e0bf5c9642cb0": {
          "model_module": "@jupyter-widgets/base",
          "model_name": "LayoutModel",
          "model_module_version": "1.2.0",
          "state": {
            "_model_module": "@jupyter-widgets/base",
            "_model_module_version": "1.2.0",
            "_model_name": "LayoutModel",
            "_view_count": null,
            "_view_module": "@jupyter-widgets/base",
            "_view_module_version": "1.2.0",
            "_view_name": "LayoutView",
            "align_content": null,
            "align_items": null,
            "align_self": null,
            "border": null,
            "bottom": null,
            "display": null,
            "flex": null,
            "flex_flow": null,
            "grid_area": null,
            "grid_auto_columns": null,
            "grid_auto_flow": null,
            "grid_auto_rows": null,
            "grid_column": null,
            "grid_gap": null,
            "grid_row": null,
            "grid_template_areas": null,
            "grid_template_columns": null,
            "grid_template_rows": null,
            "height": null,
            "justify_content": null,
            "justify_items": null,
            "left": null,
            "margin": null,
            "max_height": null,
            "max_width": null,
            "min_height": null,
            "min_width": null,
            "object_fit": null,
            "object_position": null,
            "order": null,
            "overflow": null,
            "overflow_x": null,
            "overflow_y": null,
            "padding": null,
            "right": null,
            "top": null,
            "visibility": null,
            "width": null
          }
        },
        "8cd380a970b244ea9682b33bd4ee5ba8": {
          "model_module": "@jupyter-widgets/controls",
          "model_name": "DescriptionStyleModel",
          "model_module_version": "1.5.0",
          "state": {
            "_model_module": "@jupyter-widgets/controls",
            "_model_module_version": "1.5.0",
            "_model_name": "DescriptionStyleModel",
            "_view_count": null,
            "_view_module": "@jupyter-widgets/base",
            "_view_module_version": "1.2.0",
            "_view_name": "StyleView",
            "description_width": ""
          }
        },
        "9c1153fe9fcd47a99ad5d57a96ab0aed": {
          "model_module": "@jupyter-widgets/base",
          "model_name": "LayoutModel",
          "model_module_version": "1.2.0",
          "state": {
            "_model_module": "@jupyter-widgets/base",
            "_model_module_version": "1.2.0",
            "_model_name": "LayoutModel",
            "_view_count": null,
            "_view_module": "@jupyter-widgets/base",
            "_view_module_version": "1.2.0",
            "_view_name": "LayoutView",
            "align_content": null,
            "align_items": null,
            "align_self": null,
            "border": null,
            "bottom": null,
            "display": null,
            "flex": null,
            "flex_flow": null,
            "grid_area": null,
            "grid_auto_columns": null,
            "grid_auto_flow": null,
            "grid_auto_rows": null,
            "grid_column": null,
            "grid_gap": null,
            "grid_row": null,
            "grid_template_areas": null,
            "grid_template_columns": null,
            "grid_template_rows": null,
            "height": null,
            "justify_content": null,
            "justify_items": null,
            "left": null,
            "margin": null,
            "max_height": null,
            "max_width": null,
            "min_height": null,
            "min_width": null,
            "object_fit": null,
            "object_position": null,
            "order": null,
            "overflow": null,
            "overflow_x": null,
            "overflow_y": null,
            "padding": null,
            "right": null,
            "top": null,
            "visibility": null,
            "width": null
          }
        },
        "1d55803998474733b78b560d2f6c60e9": {
          "model_module": "@jupyter-widgets/controls",
          "model_name": "ProgressStyleModel",
          "model_module_version": "1.5.0",
          "state": {
            "_model_module": "@jupyter-widgets/controls",
            "_model_module_version": "1.5.0",
            "_model_name": "ProgressStyleModel",
            "_view_count": null,
            "_view_module": "@jupyter-widgets/base",
            "_view_module_version": "1.2.0",
            "_view_name": "StyleView",
            "bar_color": null,
            "description_width": ""
          }
        },
        "273d66d3d03143709ae42d3baaa51cdd": {
          "model_module": "@jupyter-widgets/base",
          "model_name": "LayoutModel",
          "model_module_version": "1.2.0",
          "state": {
            "_model_module": "@jupyter-widgets/base",
            "_model_module_version": "1.2.0",
            "_model_name": "LayoutModel",
            "_view_count": null,
            "_view_module": "@jupyter-widgets/base",
            "_view_module_version": "1.2.0",
            "_view_name": "LayoutView",
            "align_content": null,
            "align_items": null,
            "align_self": null,
            "border": null,
            "bottom": null,
            "display": null,
            "flex": null,
            "flex_flow": null,
            "grid_area": null,
            "grid_auto_columns": null,
            "grid_auto_flow": null,
            "grid_auto_rows": null,
            "grid_column": null,
            "grid_gap": null,
            "grid_row": null,
            "grid_template_areas": null,
            "grid_template_columns": null,
            "grid_template_rows": null,
            "height": null,
            "justify_content": null,
            "justify_items": null,
            "left": null,
            "margin": null,
            "max_height": null,
            "max_width": null,
            "min_height": null,
            "min_width": null,
            "object_fit": null,
            "object_position": null,
            "order": null,
            "overflow": null,
            "overflow_x": null,
            "overflow_y": null,
            "padding": null,
            "right": null,
            "top": null,
            "visibility": null,
            "width": null
          }
        },
        "eb39b5ac3e834baf851e2d1cfd7a00d9": {
          "model_module": "@jupyter-widgets/controls",
          "model_name": "DescriptionStyleModel",
          "model_module_version": "1.5.0",
          "state": {
            "_model_module": "@jupyter-widgets/controls",
            "_model_module_version": "1.5.0",
            "_model_name": "DescriptionStyleModel",
            "_view_count": null,
            "_view_module": "@jupyter-widgets/base",
            "_view_module_version": "1.2.0",
            "_view_name": "StyleView",
            "description_width": ""
          }
        },
        "c3aed52831e44e489fb47f5b2e514383": {
          "model_module": "@jupyter-widgets/controls",
          "model_name": "HBoxModel",
          "model_module_version": "1.5.0",
          "state": {
            "_dom_classes": [],
            "_model_module": "@jupyter-widgets/controls",
            "_model_module_version": "1.5.0",
            "_model_name": "HBoxModel",
            "_view_count": null,
            "_view_module": "@jupyter-widgets/controls",
            "_view_module_version": "1.5.0",
            "_view_name": "HBoxView",
            "box_style": "",
            "children": [
              "IPY_MODEL_e71603acf484459cb94e13848797c562",
              "IPY_MODEL_518475a11d844cebb38e908ea580db7e",
              "IPY_MODEL_ad7e86c7cbbd492ca43e6a7059340d44"
            ],
            "layout": "IPY_MODEL_cc6c223e87de4af89f81b9b2cec9370b"
          }
        },
        "e71603acf484459cb94e13848797c562": {
          "model_module": "@jupyter-widgets/controls",
          "model_name": "HTMLModel",
          "model_module_version": "1.5.0",
          "state": {
            "_dom_classes": [],
            "_model_module": "@jupyter-widgets/controls",
            "_model_module_version": "1.5.0",
            "_model_name": "HTMLModel",
            "_view_count": null,
            "_view_module": "@jupyter-widgets/controls",
            "_view_module_version": "1.5.0",
            "_view_name": "HTMLView",
            "description": "",
            "description_tooltip": null,
            "layout": "IPY_MODEL_3d7957da936c44f7b58a60de8053f5dd",
            "placeholder": "​",
            "style": "IPY_MODEL_20cad63893e147b189a65c70c36ae3b8",
            "value": "Map:  83%"
          }
        },
        "518475a11d844cebb38e908ea580db7e": {
          "model_module": "@jupyter-widgets/controls",
          "model_name": "FloatProgressModel",
          "model_module_version": "1.5.0",
          "state": {
            "_dom_classes": [],
            "_model_module": "@jupyter-widgets/controls",
            "_model_module_version": "1.5.0",
            "_model_name": "FloatProgressModel",
            "_view_count": null,
            "_view_module": "@jupyter-widgets/controls",
            "_view_module_version": "1.5.0",
            "_view_name": "ProgressView",
            "bar_style": "",
            "description": "",
            "description_tooltip": null,
            "layout": "IPY_MODEL_b5a7ecc1319d43ae9babbe6214e7e79e",
            "max": 200,
            "min": 0,
            "orientation": "horizontal",
            "style": "IPY_MODEL_6d51589031a847de9aa853c7d08fef74",
            "value": 200
          }
        },
        "ad7e86c7cbbd492ca43e6a7059340d44": {
          "model_module": "@jupyter-widgets/controls",
          "model_name": "HTMLModel",
          "model_module_version": "1.5.0",
          "state": {
            "_dom_classes": [],
            "_model_module": "@jupyter-widgets/controls",
            "_model_module_version": "1.5.0",
            "_model_name": "HTMLModel",
            "_view_count": null,
            "_view_module": "@jupyter-widgets/controls",
            "_view_module_version": "1.5.0",
            "_view_name": "HTMLView",
            "description": "",
            "description_tooltip": null,
            "layout": "IPY_MODEL_ff1b096de33547e8a9819e97817ef07d",
            "placeholder": "​",
            "style": "IPY_MODEL_4a40eb6aef3d48e69ff6d7bb599379a1",
            "value": " 166/200 [00:00&lt;00:00, 1325.29 examples/s]"
          }
        },
        "cc6c223e87de4af89f81b9b2cec9370b": {
          "model_module": "@jupyter-widgets/base",
          "model_name": "LayoutModel",
          "model_module_version": "1.2.0",
          "state": {
            "_model_module": "@jupyter-widgets/base",
            "_model_module_version": "1.2.0",
            "_model_name": "LayoutModel",
            "_view_count": null,
            "_view_module": "@jupyter-widgets/base",
            "_view_module_version": "1.2.0",
            "_view_name": "LayoutView",
            "align_content": null,
            "align_items": null,
            "align_self": null,
            "border": null,
            "bottom": null,
            "display": null,
            "flex": null,
            "flex_flow": null,
            "grid_area": null,
            "grid_auto_columns": null,
            "grid_auto_flow": null,
            "grid_auto_rows": null,
            "grid_column": null,
            "grid_gap": null,
            "grid_row": null,
            "grid_template_areas": null,
            "grid_template_columns": null,
            "grid_template_rows": null,
            "height": null,
            "justify_content": null,
            "justify_items": null,
            "left": null,
            "margin": null,
            "max_height": null,
            "max_width": null,
            "min_height": null,
            "min_width": null,
            "object_fit": null,
            "object_position": null,
            "order": null,
            "overflow": null,
            "overflow_x": null,
            "overflow_y": null,
            "padding": null,
            "right": null,
            "top": null,
            "visibility": "hidden",
            "width": null
          }
        },
        "3d7957da936c44f7b58a60de8053f5dd": {
          "model_module": "@jupyter-widgets/base",
          "model_name": "LayoutModel",
          "model_module_version": "1.2.0",
          "state": {
            "_model_module": "@jupyter-widgets/base",
            "_model_module_version": "1.2.0",
            "_model_name": "LayoutModel",
            "_view_count": null,
            "_view_module": "@jupyter-widgets/base",
            "_view_module_version": "1.2.0",
            "_view_name": "LayoutView",
            "align_content": null,
            "align_items": null,
            "align_self": null,
            "border": null,
            "bottom": null,
            "display": null,
            "flex": null,
            "flex_flow": null,
            "grid_area": null,
            "grid_auto_columns": null,
            "grid_auto_flow": null,
            "grid_auto_rows": null,
            "grid_column": null,
            "grid_gap": null,
            "grid_row": null,
            "grid_template_areas": null,
            "grid_template_columns": null,
            "grid_template_rows": null,
            "height": null,
            "justify_content": null,
            "justify_items": null,
            "left": null,
            "margin": null,
            "max_height": null,
            "max_width": null,
            "min_height": null,
            "min_width": null,
            "object_fit": null,
            "object_position": null,
            "order": null,
            "overflow": null,
            "overflow_x": null,
            "overflow_y": null,
            "padding": null,
            "right": null,
            "top": null,
            "visibility": null,
            "width": null
          }
        },
        "20cad63893e147b189a65c70c36ae3b8": {
          "model_module": "@jupyter-widgets/controls",
          "model_name": "DescriptionStyleModel",
          "model_module_version": "1.5.0",
          "state": {
            "_model_module": "@jupyter-widgets/controls",
            "_model_module_version": "1.5.0",
            "_model_name": "DescriptionStyleModel",
            "_view_count": null,
            "_view_module": "@jupyter-widgets/base",
            "_view_module_version": "1.2.0",
            "_view_name": "StyleView",
            "description_width": ""
          }
        },
        "b5a7ecc1319d43ae9babbe6214e7e79e": {
          "model_module": "@jupyter-widgets/base",
          "model_name": "LayoutModel",
          "model_module_version": "1.2.0",
          "state": {
            "_model_module": "@jupyter-widgets/base",
            "_model_module_version": "1.2.0",
            "_model_name": "LayoutModel",
            "_view_count": null,
            "_view_module": "@jupyter-widgets/base",
            "_view_module_version": "1.2.0",
            "_view_name": "LayoutView",
            "align_content": null,
            "align_items": null,
            "align_self": null,
            "border": null,
            "bottom": null,
            "display": null,
            "flex": null,
            "flex_flow": null,
            "grid_area": null,
            "grid_auto_columns": null,
            "grid_auto_flow": null,
            "grid_auto_rows": null,
            "grid_column": null,
            "grid_gap": null,
            "grid_row": null,
            "grid_template_areas": null,
            "grid_template_columns": null,
            "grid_template_rows": null,
            "height": null,
            "justify_content": null,
            "justify_items": null,
            "left": null,
            "margin": null,
            "max_height": null,
            "max_width": null,
            "min_height": null,
            "min_width": null,
            "object_fit": null,
            "object_position": null,
            "order": null,
            "overflow": null,
            "overflow_x": null,
            "overflow_y": null,
            "padding": null,
            "right": null,
            "top": null,
            "visibility": null,
            "width": null
          }
        },
        "6d51589031a847de9aa853c7d08fef74": {
          "model_module": "@jupyter-widgets/controls",
          "model_name": "ProgressStyleModel",
          "model_module_version": "1.5.0",
          "state": {
            "_model_module": "@jupyter-widgets/controls",
            "_model_module_version": "1.5.0",
            "_model_name": "ProgressStyleModel",
            "_view_count": null,
            "_view_module": "@jupyter-widgets/base",
            "_view_module_version": "1.2.0",
            "_view_name": "StyleView",
            "bar_color": null,
            "description_width": ""
          }
        },
        "ff1b096de33547e8a9819e97817ef07d": {
          "model_module": "@jupyter-widgets/base",
          "model_name": "LayoutModel",
          "model_module_version": "1.2.0",
          "state": {
            "_model_module": "@jupyter-widgets/base",
            "_model_module_version": "1.2.0",
            "_model_name": "LayoutModel",
            "_view_count": null,
            "_view_module": "@jupyter-widgets/base",
            "_view_module_version": "1.2.0",
            "_view_name": "LayoutView",
            "align_content": null,
            "align_items": null,
            "align_self": null,
            "border": null,
            "bottom": null,
            "display": null,
            "flex": null,
            "flex_flow": null,
            "grid_area": null,
            "grid_auto_columns": null,
            "grid_auto_flow": null,
            "grid_auto_rows": null,
            "grid_column": null,
            "grid_gap": null,
            "grid_row": null,
            "grid_template_areas": null,
            "grid_template_columns": null,
            "grid_template_rows": null,
            "height": null,
            "justify_content": null,
            "justify_items": null,
            "left": null,
            "margin": null,
            "max_height": null,
            "max_width": null,
            "min_height": null,
            "min_width": null,
            "object_fit": null,
            "object_position": null,
            "order": null,
            "overflow": null,
            "overflow_x": null,
            "overflow_y": null,
            "padding": null,
            "right": null,
            "top": null,
            "visibility": null,
            "width": null
          }
        },
        "4a40eb6aef3d48e69ff6d7bb599379a1": {
          "model_module": "@jupyter-widgets/controls",
          "model_name": "DescriptionStyleModel",
          "model_module_version": "1.5.0",
          "state": {
            "_model_module": "@jupyter-widgets/controls",
            "_model_module_version": "1.5.0",
            "_model_name": "DescriptionStyleModel",
            "_view_count": null,
            "_view_module": "@jupyter-widgets/base",
            "_view_module_version": "1.2.0",
            "_view_name": "StyleView",
            "description_width": ""
          }
        },
        "d0187c67b79246579287691eac91e24c": {
          "model_module": "@jupyter-widgets/controls",
          "model_name": "HBoxModel",
          "model_module_version": "1.5.0",
          "state": {
            "_dom_classes": [],
            "_model_module": "@jupyter-widgets/controls",
            "_model_module_version": "1.5.0",
            "_model_name": "HBoxModel",
            "_view_count": null,
            "_view_module": "@jupyter-widgets/controls",
            "_view_module_version": "1.5.0",
            "_view_name": "HBoxView",
            "box_style": "",
            "children": [
              "IPY_MODEL_c57380cc90d544b48e8a73b212944af9",
              "IPY_MODEL_fc1d719d2ea64375b0c9d8bb9946a735",
              "IPY_MODEL_9191ebbec1ad4265856e599cec4a531f"
            ],
            "layout": "IPY_MODEL_c96c75ecd45b448399c28c897ba3c282"
          }
        },
        "c57380cc90d544b48e8a73b212944af9": {
          "model_module": "@jupyter-widgets/controls",
          "model_name": "HTMLModel",
          "model_module_version": "1.5.0",
          "state": {
            "_dom_classes": [],
            "_model_module": "@jupyter-widgets/controls",
            "_model_module_version": "1.5.0",
            "_model_name": "HTMLModel",
            "_view_count": null,
            "_view_module": "@jupyter-widgets/controls",
            "_view_module_version": "1.5.0",
            "_view_name": "HTMLView",
            "description": "",
            "description_tooltip": null,
            "layout": "IPY_MODEL_5a2616a8a1c54e7d99c0896a4b18d748",
            "placeholder": "​",
            "style": "IPY_MODEL_67916c0992114aa59aac9ef3252db9b0",
            "value": "Map:   0%"
          }
        },
        "fc1d719d2ea64375b0c9d8bb9946a735": {
          "model_module": "@jupyter-widgets/controls",
          "model_name": "FloatProgressModel",
          "model_module_version": "1.5.0",
          "state": {
            "_dom_classes": [],
            "_model_module": "@jupyter-widgets/controls",
            "_model_module_version": "1.5.0",
            "_model_name": "FloatProgressModel",
            "_view_count": null,
            "_view_module": "@jupyter-widgets/controls",
            "_view_module_version": "1.5.0",
            "_view_name": "ProgressView",
            "bar_style": "",
            "description": "",
            "description_tooltip": null,
            "layout": "IPY_MODEL_768a857ec4a34712b7ab9f53bb79ad89",
            "max": 25,
            "min": 0,
            "orientation": "horizontal",
            "style": "IPY_MODEL_ad4a4679dcee4a19a22a04e82d9cc6ef",
            "value": 25
          }
        },
        "9191ebbec1ad4265856e599cec4a531f": {
          "model_module": "@jupyter-widgets/controls",
          "model_name": "HTMLModel",
          "model_module_version": "1.5.0",
          "state": {
            "_dom_classes": [],
            "_model_module": "@jupyter-widgets/controls",
            "_model_module_version": "1.5.0",
            "_model_name": "HTMLModel",
            "_view_count": null,
            "_view_module": "@jupyter-widgets/controls",
            "_view_module_version": "1.5.0",
            "_view_name": "HTMLView",
            "description": "",
            "description_tooltip": null,
            "layout": "IPY_MODEL_e27621f51f7b447388d03d5fbf497744",
            "placeholder": "​",
            "style": "IPY_MODEL_dac9c8c205dd4de087f3e81d7c314f9f",
            "value": " 0/25 [00:00&lt;?, ? examples/s]"
          }
        },
        "c96c75ecd45b448399c28c897ba3c282": {
          "model_module": "@jupyter-widgets/base",
          "model_name": "LayoutModel",
          "model_module_version": "1.2.0",
          "state": {
            "_model_module": "@jupyter-widgets/base",
            "_model_module_version": "1.2.0",
            "_model_name": "LayoutModel",
            "_view_count": null,
            "_view_module": "@jupyter-widgets/base",
            "_view_module_version": "1.2.0",
            "_view_name": "LayoutView",
            "align_content": null,
            "align_items": null,
            "align_self": null,
            "border": null,
            "bottom": null,
            "display": null,
            "flex": null,
            "flex_flow": null,
            "grid_area": null,
            "grid_auto_columns": null,
            "grid_auto_flow": null,
            "grid_auto_rows": null,
            "grid_column": null,
            "grid_gap": null,
            "grid_row": null,
            "grid_template_areas": null,
            "grid_template_columns": null,
            "grid_template_rows": null,
            "height": null,
            "justify_content": null,
            "justify_items": null,
            "left": null,
            "margin": null,
            "max_height": null,
            "max_width": null,
            "min_height": null,
            "min_width": null,
            "object_fit": null,
            "object_position": null,
            "order": null,
            "overflow": null,
            "overflow_x": null,
            "overflow_y": null,
            "padding": null,
            "right": null,
            "top": null,
            "visibility": "hidden",
            "width": null
          }
        },
        "5a2616a8a1c54e7d99c0896a4b18d748": {
          "model_module": "@jupyter-widgets/base",
          "model_name": "LayoutModel",
          "model_module_version": "1.2.0",
          "state": {
            "_model_module": "@jupyter-widgets/base",
            "_model_module_version": "1.2.0",
            "_model_name": "LayoutModel",
            "_view_count": null,
            "_view_module": "@jupyter-widgets/base",
            "_view_module_version": "1.2.0",
            "_view_name": "LayoutView",
            "align_content": null,
            "align_items": null,
            "align_self": null,
            "border": null,
            "bottom": null,
            "display": null,
            "flex": null,
            "flex_flow": null,
            "grid_area": null,
            "grid_auto_columns": null,
            "grid_auto_flow": null,
            "grid_auto_rows": null,
            "grid_column": null,
            "grid_gap": null,
            "grid_row": null,
            "grid_template_areas": null,
            "grid_template_columns": null,
            "grid_template_rows": null,
            "height": null,
            "justify_content": null,
            "justify_items": null,
            "left": null,
            "margin": null,
            "max_height": null,
            "max_width": null,
            "min_height": null,
            "min_width": null,
            "object_fit": null,
            "object_position": null,
            "order": null,
            "overflow": null,
            "overflow_x": null,
            "overflow_y": null,
            "padding": null,
            "right": null,
            "top": null,
            "visibility": null,
            "width": null
          }
        },
        "67916c0992114aa59aac9ef3252db9b0": {
          "model_module": "@jupyter-widgets/controls",
          "model_name": "DescriptionStyleModel",
          "model_module_version": "1.5.0",
          "state": {
            "_model_module": "@jupyter-widgets/controls",
            "_model_module_version": "1.5.0",
            "_model_name": "DescriptionStyleModel",
            "_view_count": null,
            "_view_module": "@jupyter-widgets/base",
            "_view_module_version": "1.2.0",
            "_view_name": "StyleView",
            "description_width": ""
          }
        },
        "768a857ec4a34712b7ab9f53bb79ad89": {
          "model_module": "@jupyter-widgets/base",
          "model_name": "LayoutModel",
          "model_module_version": "1.2.0",
          "state": {
            "_model_module": "@jupyter-widgets/base",
            "_model_module_version": "1.2.0",
            "_model_name": "LayoutModel",
            "_view_count": null,
            "_view_module": "@jupyter-widgets/base",
            "_view_module_version": "1.2.0",
            "_view_name": "LayoutView",
            "align_content": null,
            "align_items": null,
            "align_self": null,
            "border": null,
            "bottom": null,
            "display": null,
            "flex": null,
            "flex_flow": null,
            "grid_area": null,
            "grid_auto_columns": null,
            "grid_auto_flow": null,
            "grid_auto_rows": null,
            "grid_column": null,
            "grid_gap": null,
            "grid_row": null,
            "grid_template_areas": null,
            "grid_template_columns": null,
            "grid_template_rows": null,
            "height": null,
            "justify_content": null,
            "justify_items": null,
            "left": null,
            "margin": null,
            "max_height": null,
            "max_width": null,
            "min_height": null,
            "min_width": null,
            "object_fit": null,
            "object_position": null,
            "order": null,
            "overflow": null,
            "overflow_x": null,
            "overflow_y": null,
            "padding": null,
            "right": null,
            "top": null,
            "visibility": null,
            "width": null
          }
        },
        "ad4a4679dcee4a19a22a04e82d9cc6ef": {
          "model_module": "@jupyter-widgets/controls",
          "model_name": "ProgressStyleModel",
          "model_module_version": "1.5.0",
          "state": {
            "_model_module": "@jupyter-widgets/controls",
            "_model_module_version": "1.5.0",
            "_model_name": "ProgressStyleModel",
            "_view_count": null,
            "_view_module": "@jupyter-widgets/base",
            "_view_module_version": "1.2.0",
            "_view_name": "StyleView",
            "bar_color": null,
            "description_width": ""
          }
        },
        "e27621f51f7b447388d03d5fbf497744": {
          "model_module": "@jupyter-widgets/base",
          "model_name": "LayoutModel",
          "model_module_version": "1.2.0",
          "state": {
            "_model_module": "@jupyter-widgets/base",
            "_model_module_version": "1.2.0",
            "_model_name": "LayoutModel",
            "_view_count": null,
            "_view_module": "@jupyter-widgets/base",
            "_view_module_version": "1.2.0",
            "_view_name": "LayoutView",
            "align_content": null,
            "align_items": null,
            "align_self": null,
            "border": null,
            "bottom": null,
            "display": null,
            "flex": null,
            "flex_flow": null,
            "grid_area": null,
            "grid_auto_columns": null,
            "grid_auto_flow": null,
            "grid_auto_rows": null,
            "grid_column": null,
            "grid_gap": null,
            "grid_row": null,
            "grid_template_areas": null,
            "grid_template_columns": null,
            "grid_template_rows": null,
            "height": null,
            "justify_content": null,
            "justify_items": null,
            "left": null,
            "margin": null,
            "max_height": null,
            "max_width": null,
            "min_height": null,
            "min_width": null,
            "object_fit": null,
            "object_position": null,
            "order": null,
            "overflow": null,
            "overflow_x": null,
            "overflow_y": null,
            "padding": null,
            "right": null,
            "top": null,
            "visibility": null,
            "width": null
          }
        },
        "dac9c8c205dd4de087f3e81d7c314f9f": {
          "model_module": "@jupyter-widgets/controls",
          "model_name": "DescriptionStyleModel",
          "model_module_version": "1.5.0",
          "state": {
            "_model_module": "@jupyter-widgets/controls",
            "_model_module_version": "1.5.0",
            "_model_name": "DescriptionStyleModel",
            "_view_count": null,
            "_view_module": "@jupyter-widgets/base",
            "_view_module_version": "1.2.0",
            "_view_name": "StyleView",
            "description_width": ""
          }
        },
        "dbd1d90b8bec437aad77db5a78328cd7": {
          "model_module": "@jupyter-widgets/controls",
          "model_name": "HBoxModel",
          "model_module_version": "1.5.0",
          "state": {
            "_dom_classes": [],
            "_model_module": "@jupyter-widgets/controls",
            "_model_module_version": "1.5.0",
            "_model_name": "HBoxModel",
            "_view_count": null,
            "_view_module": "@jupyter-widgets/controls",
            "_view_module_version": "1.5.0",
            "_view_name": "HBoxView",
            "box_style": "",
            "children": [
              "IPY_MODEL_2c19d88f675d43e3885bfd5633e94886",
              "IPY_MODEL_e877cebdb9774aca97fc583a380df5b7",
              "IPY_MODEL_09427bbf4cc142aea0d0edff80dddedc"
            ],
            "layout": "IPY_MODEL_784de88b53bd4abeaa1fdb21112767d7"
          }
        },
        "2c19d88f675d43e3885bfd5633e94886": {
          "model_module": "@jupyter-widgets/controls",
          "model_name": "HTMLModel",
          "model_module_version": "1.5.0",
          "state": {
            "_dom_classes": [],
            "_model_module": "@jupyter-widgets/controls",
            "_model_module_version": "1.5.0",
            "_model_name": "HTMLModel",
            "_view_count": null,
            "_view_module": "@jupyter-widgets/controls",
            "_view_module_version": "1.5.0",
            "_view_name": "HTMLView",
            "description": "",
            "description_tooltip": null,
            "layout": "IPY_MODEL_e09c678540ee46a0b0a96090bd505707",
            "placeholder": "​",
            "style": "IPY_MODEL_ad54659c8ae34a5bb4e3b867a23e0d43",
            "value": "Map:   0%"
          }
        },
        "e877cebdb9774aca97fc583a380df5b7": {
          "model_module": "@jupyter-widgets/controls",
          "model_name": "FloatProgressModel",
          "model_module_version": "1.5.0",
          "state": {
            "_dom_classes": [],
            "_model_module": "@jupyter-widgets/controls",
            "_model_module_version": "1.5.0",
            "_model_name": "FloatProgressModel",
            "_view_count": null,
            "_view_module": "@jupyter-widgets/controls",
            "_view_module_version": "1.5.0",
            "_view_name": "ProgressView",
            "bar_style": "",
            "description": "",
            "description_tooltip": null,
            "layout": "IPY_MODEL_213fff443e0a42a0b656efe126e1106f",
            "max": 25,
            "min": 0,
            "orientation": "horizontal",
            "style": "IPY_MODEL_1f5cd30ab9804956bb198ab43ef069e9",
            "value": 25
          }
        },
        "09427bbf4cc142aea0d0edff80dddedc": {
          "model_module": "@jupyter-widgets/controls",
          "model_name": "HTMLModel",
          "model_module_version": "1.5.0",
          "state": {
            "_dom_classes": [],
            "_model_module": "@jupyter-widgets/controls",
            "_model_module_version": "1.5.0",
            "_model_name": "HTMLModel",
            "_view_count": null,
            "_view_module": "@jupyter-widgets/controls",
            "_view_module_version": "1.5.0",
            "_view_name": "HTMLView",
            "description": "",
            "description_tooltip": null,
            "layout": "IPY_MODEL_61c08af8e05f43cda1fb4114aecca6ca",
            "placeholder": "​",
            "style": "IPY_MODEL_522020b32b534a679597aa18c45d6184",
            "value": " 0/25 [00:00&lt;?, ? examples/s]"
          }
        },
        "784de88b53bd4abeaa1fdb21112767d7": {
          "model_module": "@jupyter-widgets/base",
          "model_name": "LayoutModel",
          "model_module_version": "1.2.0",
          "state": {
            "_model_module": "@jupyter-widgets/base",
            "_model_module_version": "1.2.0",
            "_model_name": "LayoutModel",
            "_view_count": null,
            "_view_module": "@jupyter-widgets/base",
            "_view_module_version": "1.2.0",
            "_view_name": "LayoutView",
            "align_content": null,
            "align_items": null,
            "align_self": null,
            "border": null,
            "bottom": null,
            "display": null,
            "flex": null,
            "flex_flow": null,
            "grid_area": null,
            "grid_auto_columns": null,
            "grid_auto_flow": null,
            "grid_auto_rows": null,
            "grid_column": null,
            "grid_gap": null,
            "grid_row": null,
            "grid_template_areas": null,
            "grid_template_columns": null,
            "grid_template_rows": null,
            "height": null,
            "justify_content": null,
            "justify_items": null,
            "left": null,
            "margin": null,
            "max_height": null,
            "max_width": null,
            "min_height": null,
            "min_width": null,
            "object_fit": null,
            "object_position": null,
            "order": null,
            "overflow": null,
            "overflow_x": null,
            "overflow_y": null,
            "padding": null,
            "right": null,
            "top": null,
            "visibility": "hidden",
            "width": null
          }
        },
        "e09c678540ee46a0b0a96090bd505707": {
          "model_module": "@jupyter-widgets/base",
          "model_name": "LayoutModel",
          "model_module_version": "1.2.0",
          "state": {
            "_model_module": "@jupyter-widgets/base",
            "_model_module_version": "1.2.0",
            "_model_name": "LayoutModel",
            "_view_count": null,
            "_view_module": "@jupyter-widgets/base",
            "_view_module_version": "1.2.0",
            "_view_name": "LayoutView",
            "align_content": null,
            "align_items": null,
            "align_self": null,
            "border": null,
            "bottom": null,
            "display": null,
            "flex": null,
            "flex_flow": null,
            "grid_area": null,
            "grid_auto_columns": null,
            "grid_auto_flow": null,
            "grid_auto_rows": null,
            "grid_column": null,
            "grid_gap": null,
            "grid_row": null,
            "grid_template_areas": null,
            "grid_template_columns": null,
            "grid_template_rows": null,
            "height": null,
            "justify_content": null,
            "justify_items": null,
            "left": null,
            "margin": null,
            "max_height": null,
            "max_width": null,
            "min_height": null,
            "min_width": null,
            "object_fit": null,
            "object_position": null,
            "order": null,
            "overflow": null,
            "overflow_x": null,
            "overflow_y": null,
            "padding": null,
            "right": null,
            "top": null,
            "visibility": null,
            "width": null
          }
        },
        "ad54659c8ae34a5bb4e3b867a23e0d43": {
          "model_module": "@jupyter-widgets/controls",
          "model_name": "DescriptionStyleModel",
          "model_module_version": "1.5.0",
          "state": {
            "_model_module": "@jupyter-widgets/controls",
            "_model_module_version": "1.5.0",
            "_model_name": "DescriptionStyleModel",
            "_view_count": null,
            "_view_module": "@jupyter-widgets/base",
            "_view_module_version": "1.2.0",
            "_view_name": "StyleView",
            "description_width": ""
          }
        },
        "213fff443e0a42a0b656efe126e1106f": {
          "model_module": "@jupyter-widgets/base",
          "model_name": "LayoutModel",
          "model_module_version": "1.2.0",
          "state": {
            "_model_module": "@jupyter-widgets/base",
            "_model_module_version": "1.2.0",
            "_model_name": "LayoutModel",
            "_view_count": null,
            "_view_module": "@jupyter-widgets/base",
            "_view_module_version": "1.2.0",
            "_view_name": "LayoutView",
            "align_content": null,
            "align_items": null,
            "align_self": null,
            "border": null,
            "bottom": null,
            "display": null,
            "flex": null,
            "flex_flow": null,
            "grid_area": null,
            "grid_auto_columns": null,
            "grid_auto_flow": null,
            "grid_auto_rows": null,
            "grid_column": null,
            "grid_gap": null,
            "grid_row": null,
            "grid_template_areas": null,
            "grid_template_columns": null,
            "grid_template_rows": null,
            "height": null,
            "justify_content": null,
            "justify_items": null,
            "left": null,
            "margin": null,
            "max_height": null,
            "max_width": null,
            "min_height": null,
            "min_width": null,
            "object_fit": null,
            "object_position": null,
            "order": null,
            "overflow": null,
            "overflow_x": null,
            "overflow_y": null,
            "padding": null,
            "right": null,
            "top": null,
            "visibility": null,
            "width": null
          }
        },
        "1f5cd30ab9804956bb198ab43ef069e9": {
          "model_module": "@jupyter-widgets/controls",
          "model_name": "ProgressStyleModel",
          "model_module_version": "1.5.0",
          "state": {
            "_model_module": "@jupyter-widgets/controls",
            "_model_module_version": "1.5.0",
            "_model_name": "ProgressStyleModel",
            "_view_count": null,
            "_view_module": "@jupyter-widgets/base",
            "_view_module_version": "1.2.0",
            "_view_name": "StyleView",
            "bar_color": null,
            "description_width": ""
          }
        },
        "61c08af8e05f43cda1fb4114aecca6ca": {
          "model_module": "@jupyter-widgets/base",
          "model_name": "LayoutModel",
          "model_module_version": "1.2.0",
          "state": {
            "_model_module": "@jupyter-widgets/base",
            "_model_module_version": "1.2.0",
            "_model_name": "LayoutModel",
            "_view_count": null,
            "_view_module": "@jupyter-widgets/base",
            "_view_module_version": "1.2.0",
            "_view_name": "LayoutView",
            "align_content": null,
            "align_items": null,
            "align_self": null,
            "border": null,
            "bottom": null,
            "display": null,
            "flex": null,
            "flex_flow": null,
            "grid_area": null,
            "grid_auto_columns": null,
            "grid_auto_flow": null,
            "grid_auto_rows": null,
            "grid_column": null,
            "grid_gap": null,
            "grid_row": null,
            "grid_template_areas": null,
            "grid_template_columns": null,
            "grid_template_rows": null,
            "height": null,
            "justify_content": null,
            "justify_items": null,
            "left": null,
            "margin": null,
            "max_height": null,
            "max_width": null,
            "min_height": null,
            "min_width": null,
            "object_fit": null,
            "object_position": null,
            "order": null,
            "overflow": null,
            "overflow_x": null,
            "overflow_y": null,
            "padding": null,
            "right": null,
            "top": null,
            "visibility": null,
            "width": null
          }
        },
        "522020b32b534a679597aa18c45d6184": {
          "model_module": "@jupyter-widgets/controls",
          "model_name": "DescriptionStyleModel",
          "model_module_version": "1.5.0",
          "state": {
            "_model_module": "@jupyter-widgets/controls",
            "_model_module_version": "1.5.0",
            "_model_name": "DescriptionStyleModel",
            "_view_count": null,
            "_view_module": "@jupyter-widgets/base",
            "_view_module_version": "1.2.0",
            "_view_name": "StyleView",
            "description_width": ""
          }
        },
        "021516efd498407e8232f4a105e6d61f": {
          "model_module": "@jupyter-widgets/controls",
          "model_name": "HBoxModel",
          "model_module_version": "1.5.0",
          "state": {
            "_dom_classes": [],
            "_model_module": "@jupyter-widgets/controls",
            "_model_module_version": "1.5.0",
            "_model_name": "HBoxModel",
            "_view_count": null,
            "_view_module": "@jupyter-widgets/controls",
            "_view_module_version": "1.5.0",
            "_view_name": "HBoxView",
            "box_style": "",
            "children": [
              "IPY_MODEL_ace0313ab0364f56a893cb62a0fc15fc",
              "IPY_MODEL_c26c2fcd8ea74d969fa91a6a9eaca55d",
              "IPY_MODEL_a9b52aff88354dcfac4c4f7483e3e87e"
            ],
            "layout": "IPY_MODEL_b52972b6e705462f8c88fca2c07ea246"
          }
        },
        "ace0313ab0364f56a893cb62a0fc15fc": {
          "model_module": "@jupyter-widgets/controls",
          "model_name": "HTMLModel",
          "model_module_version": "1.5.0",
          "state": {
            "_dom_classes": [],
            "_model_module": "@jupyter-widgets/controls",
            "_model_module_version": "1.5.0",
            "_model_name": "HTMLModel",
            "_view_count": null,
            "_view_module": "@jupyter-widgets/controls",
            "_view_module_version": "1.5.0",
            "_view_name": "HTMLView",
            "description": "",
            "description_tooltip": null,
            "layout": "IPY_MODEL_cf5ae24fe6734141a1d3eaf47c82a943",
            "placeholder": "​",
            "style": "IPY_MODEL_caae7c1220914c56b74c03cd768d15d5",
            "value": "Downloading model.safetensors: 100%"
          }
        },
        "c26c2fcd8ea74d969fa91a6a9eaca55d": {
          "model_module": "@jupyter-widgets/controls",
          "model_name": "FloatProgressModel",
          "model_module_version": "1.5.0",
          "state": {
            "_dom_classes": [],
            "_model_module": "@jupyter-widgets/controls",
            "_model_module_version": "1.5.0",
            "_model_name": "FloatProgressModel",
            "_view_count": null,
            "_view_module": "@jupyter-widgets/controls",
            "_view_module_version": "1.5.0",
            "_view_name": "ProgressView",
            "bar_style": "success",
            "description": "",
            "description_tooltip": null,
            "layout": "IPY_MODEL_42d769e0494e4c4dba4990f0190c9e4f",
            "max": 440449768,
            "min": 0,
            "orientation": "horizontal",
            "style": "IPY_MODEL_bc191fb3534e41799ea94818faf1fe19",
            "value": 440449768
          }
        },
        "a9b52aff88354dcfac4c4f7483e3e87e": {
          "model_module": "@jupyter-widgets/controls",
          "model_name": "HTMLModel",
          "model_module_version": "1.5.0",
          "state": {
            "_dom_classes": [],
            "_model_module": "@jupyter-widgets/controls",
            "_model_module_version": "1.5.0",
            "_model_name": "HTMLModel",
            "_view_count": null,
            "_view_module": "@jupyter-widgets/controls",
            "_view_module_version": "1.5.0",
            "_view_name": "HTMLView",
            "description": "",
            "description_tooltip": null,
            "layout": "IPY_MODEL_51e0116d55ae4ab59e7b6edc3e348a08",
            "placeholder": "​",
            "style": "IPY_MODEL_bc5eef14a75948658fa48ed8ff10441a",
            "value": " 440M/440M [00:04&lt;00:00, 106MB/s]"
          }
        },
        "b52972b6e705462f8c88fca2c07ea246": {
          "model_module": "@jupyter-widgets/base",
          "model_name": "LayoutModel",
          "model_module_version": "1.2.0",
          "state": {
            "_model_module": "@jupyter-widgets/base",
            "_model_module_version": "1.2.0",
            "_model_name": "LayoutModel",
            "_view_count": null,
            "_view_module": "@jupyter-widgets/base",
            "_view_module_version": "1.2.0",
            "_view_name": "LayoutView",
            "align_content": null,
            "align_items": null,
            "align_self": null,
            "border": null,
            "bottom": null,
            "display": null,
            "flex": null,
            "flex_flow": null,
            "grid_area": null,
            "grid_auto_columns": null,
            "grid_auto_flow": null,
            "grid_auto_rows": null,
            "grid_column": null,
            "grid_gap": null,
            "grid_row": null,
            "grid_template_areas": null,
            "grid_template_columns": null,
            "grid_template_rows": null,
            "height": null,
            "justify_content": null,
            "justify_items": null,
            "left": null,
            "margin": null,
            "max_height": null,
            "max_width": null,
            "min_height": null,
            "min_width": null,
            "object_fit": null,
            "object_position": null,
            "order": null,
            "overflow": null,
            "overflow_x": null,
            "overflow_y": null,
            "padding": null,
            "right": null,
            "top": null,
            "visibility": null,
            "width": null
          }
        },
        "cf5ae24fe6734141a1d3eaf47c82a943": {
          "model_module": "@jupyter-widgets/base",
          "model_name": "LayoutModel",
          "model_module_version": "1.2.0",
          "state": {
            "_model_module": "@jupyter-widgets/base",
            "_model_module_version": "1.2.0",
            "_model_name": "LayoutModel",
            "_view_count": null,
            "_view_module": "@jupyter-widgets/base",
            "_view_module_version": "1.2.0",
            "_view_name": "LayoutView",
            "align_content": null,
            "align_items": null,
            "align_self": null,
            "border": null,
            "bottom": null,
            "display": null,
            "flex": null,
            "flex_flow": null,
            "grid_area": null,
            "grid_auto_columns": null,
            "grid_auto_flow": null,
            "grid_auto_rows": null,
            "grid_column": null,
            "grid_gap": null,
            "grid_row": null,
            "grid_template_areas": null,
            "grid_template_columns": null,
            "grid_template_rows": null,
            "height": null,
            "justify_content": null,
            "justify_items": null,
            "left": null,
            "margin": null,
            "max_height": null,
            "max_width": null,
            "min_height": null,
            "min_width": null,
            "object_fit": null,
            "object_position": null,
            "order": null,
            "overflow": null,
            "overflow_x": null,
            "overflow_y": null,
            "padding": null,
            "right": null,
            "top": null,
            "visibility": null,
            "width": null
          }
        },
        "caae7c1220914c56b74c03cd768d15d5": {
          "model_module": "@jupyter-widgets/controls",
          "model_name": "DescriptionStyleModel",
          "model_module_version": "1.5.0",
          "state": {
            "_model_module": "@jupyter-widgets/controls",
            "_model_module_version": "1.5.0",
            "_model_name": "DescriptionStyleModel",
            "_view_count": null,
            "_view_module": "@jupyter-widgets/base",
            "_view_module_version": "1.2.0",
            "_view_name": "StyleView",
            "description_width": ""
          }
        },
        "42d769e0494e4c4dba4990f0190c9e4f": {
          "model_module": "@jupyter-widgets/base",
          "model_name": "LayoutModel",
          "model_module_version": "1.2.0",
          "state": {
            "_model_module": "@jupyter-widgets/base",
            "_model_module_version": "1.2.0",
            "_model_name": "LayoutModel",
            "_view_count": null,
            "_view_module": "@jupyter-widgets/base",
            "_view_module_version": "1.2.0",
            "_view_name": "LayoutView",
            "align_content": null,
            "align_items": null,
            "align_self": null,
            "border": null,
            "bottom": null,
            "display": null,
            "flex": null,
            "flex_flow": null,
            "grid_area": null,
            "grid_auto_columns": null,
            "grid_auto_flow": null,
            "grid_auto_rows": null,
            "grid_column": null,
            "grid_gap": null,
            "grid_row": null,
            "grid_template_areas": null,
            "grid_template_columns": null,
            "grid_template_rows": null,
            "height": null,
            "justify_content": null,
            "justify_items": null,
            "left": null,
            "margin": null,
            "max_height": null,
            "max_width": null,
            "min_height": null,
            "min_width": null,
            "object_fit": null,
            "object_position": null,
            "order": null,
            "overflow": null,
            "overflow_x": null,
            "overflow_y": null,
            "padding": null,
            "right": null,
            "top": null,
            "visibility": null,
            "width": null
          }
        },
        "bc191fb3534e41799ea94818faf1fe19": {
          "model_module": "@jupyter-widgets/controls",
          "model_name": "ProgressStyleModel",
          "model_module_version": "1.5.0",
          "state": {
            "_model_module": "@jupyter-widgets/controls",
            "_model_module_version": "1.5.0",
            "_model_name": "ProgressStyleModel",
            "_view_count": null,
            "_view_module": "@jupyter-widgets/base",
            "_view_module_version": "1.2.0",
            "_view_name": "StyleView",
            "bar_color": null,
            "description_width": ""
          }
        },
        "51e0116d55ae4ab59e7b6edc3e348a08": {
          "model_module": "@jupyter-widgets/base",
          "model_name": "LayoutModel",
          "model_module_version": "1.2.0",
          "state": {
            "_model_module": "@jupyter-widgets/base",
            "_model_module_version": "1.2.0",
            "_model_name": "LayoutModel",
            "_view_count": null,
            "_view_module": "@jupyter-widgets/base",
            "_view_module_version": "1.2.0",
            "_view_name": "LayoutView",
            "align_content": null,
            "align_items": null,
            "align_self": null,
            "border": null,
            "bottom": null,
            "display": null,
            "flex": null,
            "flex_flow": null,
            "grid_area": null,
            "grid_auto_columns": null,
            "grid_auto_flow": null,
            "grid_auto_rows": null,
            "grid_column": null,
            "grid_gap": null,
            "grid_row": null,
            "grid_template_areas": null,
            "grid_template_columns": null,
            "grid_template_rows": null,
            "height": null,
            "justify_content": null,
            "justify_items": null,
            "left": null,
            "margin": null,
            "max_height": null,
            "max_width": null,
            "min_height": null,
            "min_width": null,
            "object_fit": null,
            "object_position": null,
            "order": null,
            "overflow": null,
            "overflow_x": null,
            "overflow_y": null,
            "padding": null,
            "right": null,
            "top": null,
            "visibility": null,
            "width": null
          }
        },
        "bc5eef14a75948658fa48ed8ff10441a": {
          "model_module": "@jupyter-widgets/controls",
          "model_name": "DescriptionStyleModel",
          "model_module_version": "1.5.0",
          "state": {
            "_model_module": "@jupyter-widgets/controls",
            "_model_module_version": "1.5.0",
            "_model_name": "DescriptionStyleModel",
            "_view_count": null,
            "_view_module": "@jupyter-widgets/base",
            "_view_module_version": "1.2.0",
            "_view_name": "StyleView",
            "description_width": ""
          }
        }
      }
    }
  },
  "nbformat": 4,
  "nbformat_minor": 0
}