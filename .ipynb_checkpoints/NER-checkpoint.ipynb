{
 "cells": [
  {
   "cell_type": "code",
   "execution_count": 1,
   "metadata": {
    "colab": {
     "base_uri": "https://localhost:8080/"
    },
    "id": "nG7y09JobLQk",
    "outputId": "bdcdce52-cee5-420f-896c-88d9faa297fa"
   },
   "outputs": [
    {
     "name": "stdout",
     "output_type": "stream",
     "text": [
      "Collecting datasets\n",
      "  Downloading datasets-2.13.1-py3-none-any.whl (486 kB)\n",
      "\u001b[2K     \u001b[38;2;114;156;31m━━━━━━━━━━━━━━━━━━━━━━━━━━━━━━━━━━━━━\u001b[0m \u001b[32m486.2/486.2 kB\u001b[0m \u001b[31m564.3 kB/s\u001b[0m eta \u001b[36m0:00:00\u001b[0mm eta \u001b[36m0:00:01\u001b[0m[36m0:00:01\u001b[0m\n",
      "\u001b[?25hCollecting transformers\n",
      "  Downloading transformers-4.30.2-py3-none-any.whl (7.2 MB)\n",
      "\u001b[2K     \u001b[38;2;114;156;31m━━━━━━━━━━━━━━━━━━━━━━━━━━━━━━━━━━━━━━━━\u001b[0m \u001b[32m7.2/7.2 MB\u001b[0m \u001b[31m2.3 MB/s\u001b[0m eta \u001b[36m0:00:00\u001b[0mm eta \u001b[36m0:00:01\u001b[0m[36m0:00:01\u001b[0m\n",
      "\u001b[?25hCollecting evaluate\n",
      "  Downloading evaluate-0.4.0-py3-none-any.whl (81 kB)\n",
      "\u001b[2K     \u001b[38;2;114;156;31m━━━━━━━━━━━━━━━━━━━━━━━━━━━━━━━━━━━━━━━━\u001b[0m \u001b[32m81.4/81.4 kB\u001b[0m \u001b[31m1.5 MB/s\u001b[0m eta \u001b[36m0:00:00\u001b[0m MB/s\u001b[0m eta \u001b[36m0:00:01\u001b[0m\n",
      "\u001b[?25hRequirement already satisfied: pandas in /home/mobinul_sekh/miniconda3/lib/python3.9/site-packages (from datasets) (2.0.2)\n",
      "Requirement already satisfied: tqdm>=4.62.1 in /home/mobinul_sekh/miniconda3/lib/python3.9/site-packages (from datasets) (4.65.0)\n",
      "Collecting xxhash\n",
      "  Downloading xxhash-3.2.0-cp39-cp39-manylinux_2_17_x86_64.manylinux2014_x86_64.whl (212 kB)\n",
      "\u001b[2K     \u001b[38;2;114;156;31m━━━━━━━━━━━━━━━━━━━━━━━━━━━━━━━━━━━━━━━\u001b[0m \u001b[32m212.2/212.2 kB\u001b[0m \u001b[31m4.0 MB/s\u001b[0m eta \u001b[36m0:00:00\u001b[0m MB/s\u001b[0m eta \u001b[36m0:00:01\u001b[0m\n",
      "\u001b[?25hCollecting pyarrow>=8.0.0\n",
      "  Downloading pyarrow-12.0.1-cp39-cp39-manylinux_2_17_x86_64.manylinux2014_x86_64.whl (39.0 MB)\n",
      "\u001b[2K     \u001b[38;2;114;156;31m━━━━━━━━━━━━━━━━━━━━━━━━━━━━━━━━━━━━━━━━\u001b[0m \u001b[32m39.0/39.0 MB\u001b[0m \u001b[31m2.7 MB/s\u001b[0m eta \u001b[36m0:00:00\u001b[0mm eta \u001b[36m0:00:01\u001b[0m[36m0:00:01\u001b[0m\n",
      "\u001b[?25hCollecting fsspec[http]>=2021.11.1\n",
      "  Downloading fsspec-2023.6.0-py3-none-any.whl (163 kB)\n",
      "\u001b[2K     \u001b[38;2;114;156;31m━━━━━━━━━━━━━━━━━━━━━━━━━━━━━━━━━━━━━━━\u001b[0m \u001b[32m163.8/163.8 kB\u001b[0m \u001b[31m3.8 MB/s\u001b[0m eta \u001b[36m0:00:00\u001b[0m MB/s\u001b[0m eta \u001b[36m0:00:01\u001b[0m\n",
      "\u001b[?25hRequirement already satisfied: pyyaml>=5.1 in /home/mobinul_sekh/miniconda3/lib/python3.9/site-packages (from datasets) (6.0)\n",
      "Requirement already satisfied: packaging in /home/mobinul_sekh/miniconda3/lib/python3.9/site-packages (from datasets) (23.0)\n",
      "Requirement already satisfied: numpy>=1.17 in /home/mobinul_sekh/miniconda3/lib/python3.9/site-packages (from datasets) (1.23.5)\n",
      "Collecting multiprocess\n",
      "  Downloading multiprocess-0.70.14-py39-none-any.whl (132 kB)\n",
      "\u001b[2K     \u001b[38;2;114;156;31m━━━━━━━━━━━━━━━━━━━━━━━━━━━━━━━━━━━━━━━\u001b[0m \u001b[32m132.9/132.9 kB\u001b[0m \u001b[31m4.5 MB/s\u001b[0m eta \u001b[36m0:00:00\u001b[0m\n",
      "\u001b[?25hCollecting dill<0.3.7,>=0.3.0\n",
      "  Downloading dill-0.3.6-py3-none-any.whl (110 kB)\n",
      "\u001b[2K     \u001b[38;2;114;156;31m━━━━━━━━━━━━━━━━━━━━━━━━━━━━━━━━━━━━━━━\u001b[0m \u001b[32m110.5/110.5 kB\u001b[0m \u001b[31m4.6 MB/s\u001b[0m eta \u001b[36m0:00:00\u001b[0m\n",
      "\u001b[?25hRequirement already satisfied: requests>=2.19.0 in /home/mobinul_sekh/miniconda3/lib/python3.9/site-packages (from datasets) (2.28.1)\n",
      "Collecting huggingface-hub<1.0.0,>=0.11.0\n",
      "  Downloading huggingface_hub-0.16.2-py3-none-any.whl (268 kB)\n",
      "\u001b[2K     \u001b[38;2;114;156;31m━━━━━━━━━━━━━━━━━━━━━━━━━━━━━━━━━━━━━━━\u001b[0m \u001b[32m268.5/268.5 kB\u001b[0m \u001b[31m2.8 MB/s\u001b[0m eta \u001b[36m0:00:00\u001b[0m MB/s\u001b[0m eta \u001b[36m0:00:01\u001b[0m\n",
      "\u001b[?25hCollecting aiohttp\n",
      "  Downloading aiohttp-3.8.4-cp39-cp39-manylinux_2_17_x86_64.manylinux2014_x86_64.whl (1.0 MB)\n",
      "\u001b[2K     \u001b[38;2;114;156;31m━━━━━━━━━━━━━━━━━━━━━━━━━━━━━━━━━━━━━━━━\u001b[0m \u001b[32m1.0/1.0 MB\u001b[0m \u001b[31m2.7 MB/s\u001b[0m eta \u001b[36m0:00:00\u001b[0m MB/s\u001b[0m eta \u001b[36m0:00:01\u001b[0m:01\u001b[0m\n",
      "\u001b[?25hRequirement already satisfied: regex!=2019.12.17 in /home/mobinul_sekh/miniconda3/lib/python3.9/site-packages (from transformers) (2023.6.3)\n",
      "Collecting filelock\n",
      "  Downloading filelock-3.12.2-py3-none-any.whl (10 kB)\n",
      "Collecting tokenizers!=0.11.3,<0.14,>=0.11.1\n",
      "  Downloading tokenizers-0.13.3-cp39-cp39-manylinux_2_17_x86_64.manylinux2014_x86_64.whl (7.8 MB)\n",
      "\u001b[2K     \u001b[38;2;114;156;31m━━━━━━━━━━━━━━━━━━━━━━━━━━━━━━━━━━━━━━━━\u001b[0m \u001b[32m7.8/7.8 MB\u001b[0m \u001b[31m2.7 MB/s\u001b[0m eta \u001b[36m0:00:00\u001b[0mm eta \u001b[36m0:00:01\u001b[0m[36m0:00:01\u001b[0m\n",
      "\u001b[?25hCollecting safetensors>=0.3.1\n",
      "  Downloading safetensors-0.3.1-cp39-cp39-manylinux_2_17_x86_64.manylinux2014_x86_64.whl (1.3 MB)\n",
      "\u001b[2K     \u001b[38;2;114;156;31m━━━━━━━━━━━━━━━━━━━━━━━━━━━━━━━━━━━━━━━━\u001b[0m \u001b[32m1.3/1.3 MB\u001b[0m \u001b[31m3.3 MB/s\u001b[0m eta \u001b[36m0:00:00\u001b[0m MB/s\u001b[0m eta \u001b[36m0:00:01\u001b[0m:01\u001b[0m\n",
      "\u001b[?25hCollecting responses<0.19\n",
      "  Downloading responses-0.18.0-py3-none-any.whl (38 kB)\n",
      "Collecting async-timeout<5.0,>=4.0.0a3\n",
      "  Downloading async_timeout-4.0.2-py3-none-any.whl (5.8 kB)\n",
      "Collecting aiosignal>=1.1.2\n",
      "  Downloading aiosignal-1.3.1-py3-none-any.whl (7.6 kB)\n",
      "Requirement already satisfied: attrs>=17.3.0 in /home/mobinul_sekh/miniconda3/lib/python3.9/site-packages (from aiohttp->datasets) (23.1.0)\n",
      "Collecting multidict<7.0,>=4.5\n",
      "  Downloading multidict-6.0.4-cp39-cp39-manylinux_2_17_x86_64.manylinux2014_x86_64.whl (114 kB)\n",
      "\u001b[2K     \u001b[38;2;114;156;31m━━━━━━━━━━━━━━━━━━━━━━━━━━━━━━━━━━━━━━━\u001b[0m \u001b[32m114.2/114.2 kB\u001b[0m \u001b[31m5.4 MB/s\u001b[0m eta \u001b[36m0:00:00\u001b[0m\n",
      "\u001b[?25hCollecting frozenlist>=1.1.1\n",
      "  Downloading frozenlist-1.3.3-cp39-cp39-manylinux_2_5_x86_64.manylinux1_x86_64.manylinux_2_17_x86_64.manylinux2014_x86_64.whl (158 kB)\n",
      "\u001b[2K     \u001b[38;2;114;156;31m━━━━━━━━━━━━━━━━━━━━━━━━━━━━━━━━━━━━━━━\u001b[0m \u001b[32m158.8/158.8 kB\u001b[0m \u001b[31m5.4 MB/s\u001b[0m eta \u001b[36m0:00:00\u001b[0m\n",
      "\u001b[?25hRequirement already satisfied: charset-normalizer<4.0,>=2.0 in /home/mobinul_sekh/miniconda3/lib/python3.9/site-packages (from aiohttp->datasets) (2.0.4)\n",
      "Collecting yarl<2.0,>=1.0\n",
      "  Downloading yarl-1.9.2-cp39-cp39-manylinux_2_17_x86_64.manylinux2014_x86_64.whl (269 kB)\n",
      "\u001b[2K     \u001b[38;2;114;156;31m━━━━━━━━━━━━━━━━━━━━━━━━━━━━━━━━━━━━━━━\u001b[0m \u001b[32m269.4/269.4 kB\u001b[0m \u001b[31m3.9 MB/s\u001b[0m eta \u001b[36m0:00:00\u001b[0m MB/s\u001b[0m eta \u001b[36m0:00:01\u001b[0m\n",
      "\u001b[?25hRequirement already satisfied: typing-extensions>=3.7.4.3 in /home/mobinul_sekh/miniconda3/lib/python3.9/site-packages (from huggingface-hub<1.0.0,>=0.11.0->datasets) (4.6.3)\n",
      "Requirement already satisfied: idna<4,>=2.5 in /home/mobinul_sekh/miniconda3/lib/python3.9/site-packages (from requests>=2.19.0->datasets) (3.4)\n",
      "Requirement already satisfied: urllib3<1.27,>=1.21.1 in /home/mobinul_sekh/miniconda3/lib/python3.9/site-packages (from requests>=2.19.0->datasets) (1.26.15)\n",
      "Requirement already satisfied: certifi>=2017.4.17 in /home/mobinul_sekh/miniconda3/lib/python3.9/site-packages (from requests>=2.19.0->datasets) (2023.5.7)\n",
      "Requirement already satisfied: pytz>=2020.1 in /home/mobinul_sekh/miniconda3/lib/python3.9/site-packages (from pandas->datasets) (2023.3)\n",
      "Requirement already satisfied: tzdata>=2022.1 in /home/mobinul_sekh/miniconda3/lib/python3.9/site-packages (from pandas->datasets) (2023.3)\n",
      "Requirement already satisfied: python-dateutil>=2.8.2 in /home/mobinul_sekh/miniconda3/lib/python3.9/site-packages (from pandas->datasets) (2.8.2)\n",
      "Requirement already satisfied: six>=1.5 in /home/mobinul_sekh/miniconda3/lib/python3.9/site-packages (from python-dateutil>=2.8.2->pandas->datasets) (1.16.0)\n",
      "Installing collected packages: tokenizers, safetensors, xxhash, pyarrow, multidict, fsspec, frozenlist, filelock, dill, async-timeout, yarl, responses, multiprocess, huggingface-hub, aiosignal, transformers, aiohttp, datasets, evaluate\n",
      "Successfully installed aiohttp-3.8.4 aiosignal-1.3.1 async-timeout-4.0.2 datasets-2.13.1 dill-0.3.6 evaluate-0.4.0 filelock-3.12.2 frozenlist-1.3.3 fsspec-2023.6.0 huggingface-hub-0.16.2 multidict-6.0.4 multiprocess-0.70.14 pyarrow-12.0.1 responses-0.18.0 safetensors-0.3.1 tokenizers-0.13.3 transformers-4.30.2 xxhash-3.2.0 yarl-1.9.2\n"
     ]
    },
    {
     "name": "stderr",
     "output_type": "stream",
     "text": [
      "2023-07-05 18:03:09.224641: I tensorflow/core/util/port.cc:110] oneDNN custom operations are on. You may see slightly different numerical results due to floating-point round-off errors from different computation orders. To turn them off, set the environment variable `TF_ENABLE_ONEDNN_OPTS=0`.\n",
      "2023-07-05 18:03:09.242610: I tensorflow/tsl/cuda/cudart_stub.cc:28] Could not find cuda drivers on your machine, GPU will not be used.\n",
      "2023-07-05 18:03:09.428600: I tensorflow/tsl/cuda/cudart_stub.cc:28] Could not find cuda drivers on your machine, GPU will not be used.\n",
      "2023-07-05 18:03:09.429234: I tensorflow/core/platform/cpu_feature_guard.cc:182] This TensorFlow binary is optimized to use available CPU instructions in performance-critical operations.\n",
      "To enable the following instructions: AVX2 AVX512F AVX512_VNNI FMA, in other operations, rebuild TensorFlow with the appropriate compiler flags.\n",
      "2023-07-05 18:03:10.369892: W tensorflow/compiler/tf2tensorrt/utils/py_utils.cc:38] TF-TRT Warning: Could not find TensorRT\n"
     ]
    }
   ],
   "source": [
    "!pip install datasets transformers evaluate\n",
    "\n",
    "from datasets import Dataset, DatasetDict\n",
    "from transformers import TFRobertaForTokenClassification, RobertaTokenizerFast"
   ]
  },
  {
   "cell_type": "code",
   "execution_count": 2,
   "metadata": {
    "id": "m0ILSDG2a_Pq"
   },
   "outputs": [],
   "source": [
    "import json\n",
    "\n",
    "with open(\"annotations(1).json\", \"r\") as json_file:\n",
    "  data = json.load(json_file)"
   ]
  },
  {
   "cell_type": "code",
   "execution_count": 3,
   "metadata": {
    "colab": {
     "base_uri": "https://localhost:8080/"
    },
    "id": "lY9tmXctbM3e",
    "outputId": "6d2b2689-e2b1-4657-9562-5ea2d80f245a"
   },
   "outputs": [
    {
     "data": {
      "text/plain": [
       "{'classes': ['NONE',\n",
       "  'B-ORG',\n",
       "  'I-ORG',\n",
       "  'B-DATE',\n",
       "  'I-DATE',\n",
       "  'B-TIME',\n",
       "  'I-TIME',\n",
       "  'B-PER',\n",
       "  'I-PER',\n",
       "  'B-CURR',\n",
       "  'I-CURR',\n",
       "  'B-LOC',\n",
       "  'I-LOC',\n",
       "  'B-AGRE',\n",
       "  'I-AGRE',\n",
       "  'B-MISC',\n",
       "  'I-MISC'],\n",
       " 'annotations': [['EXECUTION VERSION Inveniam Private Equity Fund Demo IV. . 8500 World Trade New York, New York 10022 January 1, 2019 Maria Sharapova 31 Blandford Street London, W1U 3DN Ladies and Gentlemen: RE: Inveniam Private Equity Fund Demo IV, a Delaware limited partnership (the \"Fund\") This letter agreement (this \"Letter Agreement\") is entered into in connection with the purchase by Sharapova (the \"Investor\") of a limited partnership interest in the Fund. Capitalized terms used and not defined herein shall have the meanings given to them in the Fourth Amended and Restated Limited Partnership Agreement of the Fund dated as of August 27, 2021 (the \"Limited Partnership Agreement\"), the Subscription Agreement between the Investor and the Fund dated as of the date hereof (the \"Subscription Agreement\"), including any amendments and supplements to all of the foregoing (collectively, the \"Fund Documents\"). In consideration for the Investor making an aggregate capital commitment of at least $50,000,000 as of the date hereof (the \"Capital Commitment\"), Inveniam Capital Partners GP, L.L.C., a Delaware limited liability company (the \"General Partner\"), in its capacity as the general partner of the Fund, agrees with the Investor as follows: 1. Reduced Management Fee Rate. If the Investor has submitted a withdrawal request and the amount of such withdrawal request has not been fully paid to the Investor by the January 1, 2019 of the applicable Withdrawal Date, the Management Fee charged to the Investor with respect to the amount that has not been paid will be reduced in accordance with the following schedule until any such unsatisfied withdrawal request will be 0.85% Page 2 -2- 2. Most Favored Nation. The General Partner shall disclose to the Investor any and all Other Agreements (which may be redacted to remove identifying information) with Comparable Investors admitted to the Fund, Inveniam Private Equity Fund Demo IV. (the \"Sister Fund\") and/or AC Partners Overseas Partners, L.P. (the \"SFRO Feeder\") entered into after the date hereof (all such Other Agreements with Comparable Investors, \"Applicable Other Agreements\"), and, to the extent any Applicable Other Agreement entered into with any Comparable Investor has the effect of establishing rights or otherwise benefiting such other Comparable Investor in a manner more favorable to such Comparable Investor than the rights and benefits established in favor of the Investor by this Letter Agreement and the Limited Partnership Agreement, the Investor shall, upon request to the General Partner made within 30 days of being notified of the terms of such Applicable Other Agreements, receive the same rights and benefits of such Applicable Other Agreement (the \"Relevant Terms\") and are so requested, but only if the Investor agrees to be bound by the obligations or restrictions in such Applicable Other Agreement directly relating to the Relevant Terms; provided, however, that Relevant Terms shall exclude any \"most favored nation\" rights granted in any Applicable Other Agreement. For the avoidance of doubt, Relevant Terms do not include rights or benefits that (1) are granted to any Third Party Investor in connection with such Third Party Investor\\'s legal, regulatory or tax status that is not DOC ID - 36972123.18 -3- Page 3 shared by, nor applicable to, the Investor or is otherwise based upon laws, rules or regulations applicable to such Third Party Investor to which the Investor is not also subject, (2) are granted based on a requirement under a formal written policy of such Third Party Investor unrelated to its investment in the Fund, the Sister Fund or the SFRO Feeder, to which the Investor is also not subject, (3) relate to any representation by such Third Party Investor on, or any observer rights with respect to, the Advisory Board (including, without limitation, designation of a representative to serve as a member of the Advisory Board or attend meetings of the Advisory Board or receive or have access to any materials provided to the Advisory Board), unless the Limited Partner to which such Applicable Other Agreement is disclosed has also designated a member of the Advisory Board or (4) are based upon such Third Party Investor\\'s place of organization or headquarters or organizational form (in each case, if different from that of the Investor). As used herein, the following terms shall have the following meanings: \"Comparable Investor\" shall mean any Third Party Investor having a Capital Commitment to the Fund, the Sister Fund or the SFRO Feeder equal to or less than the Investor\\'s aggregate Capital Commitment to the Fund, the Sister Fund or the SFRO Feeder; provided that for purposes of determining whether any Third Party Investor is a Comparable Investor, the investment of such Third Party Investor in the Fund, the Sister Fund or the SFRO Feeder may, in the discretion of the General Partner, be aggregated with the aggregate amount of Capital Commitments to the Fund, the Sister Fund or the SFRO Feeder by any Affiliates thereof and any other related Persons thereof (including any such Persons treated as affiliated or related for such purposes as a result of being clients of, or otherwise managed or advised by, the same Person or by an Affiliate thereof) and the aggregate amount of any requested subscription amounts of the Third Party Investor or any of the foregoing which were not accepted due to legal or regulatory limitations (including, without limitation, in order to ensure that the aggregate direct and indirect Capital Commitments by all Benefit Plan Investors to the Fund, the Sister Fund or the SFRO Feeder are less than twenty-five percent (25%) of the total Capital Commitments to such vehicle), in each case, to the extent deemed to have been made by such Third Party Investor for purposes of its Other Agreement as so designated therein; A Third Party Investor that has materially less U.S. ownership than another Third Party Investor will not be considered a Comparable Investor with respect to such other Third Party Investor solely for economic purposes. For example, a Third Party Investor making a Capital Commitment comprised of 25% more U.S. ownership than another Third Party Investor making a Capital Commitment of the same size would not be considered Comparable Investors for economic purposes. \"Other Agreements\" shall mean side letters or similar agreements with Limited Partners of the Fund, the limited partners of the Sister Fund or the limited partners of the SFRO Feeder. \"Third Party Investor\" means any Person that subscribes to or invests in the Fund, the Sister Fund or the SFRO Feeder other than: (i) any current or former (x) member, partner, director, officer, employee, principal, or consultant (provided such consultant is generally subject to AC Partners\\' compliance policies) of the General Partner, the Management Company or any of their Affiliates, or (y) any Related Investor, or other account, trust, partnership or entity primarily for the benefit of any of the foregoing or any of their families; (ii) any Person (or any Persons DOC ID - 36972123.18 -4- Page 4 affiliated with or related to such Person) including, without limitation, one individual who may assist in raising capital through such individual\\'s employer\\'s private client platform (subject to applicable law and such individual\\'s employer\\'s policies and procedures around making such investments) that is a current or former joint venture partner or strategic partner of, or co-manager or co-adviser with, the General Partner, the Management Company or any of their Affiliates, (iii) any Person (or any Persons affiliated with or related to such Person) currently or previously serving or having representatives on any investment committee (or similar body or structure exercising investment discretion) of the Fund, the Sister Fund or of any investment fund, vehicle or account co-managed or co-advised by the General Partner, the Management Company or any of their Affiliates, or (iv) any subsequent successor, heir or assign of the foregoing. 3. Capital Commitments by Benefit Plan Investors. The parties hereto acknowledge that the Investor has submitted a Subscription Agreement on or prior to the date hereof requesting an aggregate Capital Commitment of $50 million (the \"Requested Commitment\"), and the Investor shall be deemed to have such Capital Commitment for purposes of this Letter Agreement. Notwithstanding the foregoing, the parties hereto agree that, in the sole discretion of the General Partner, the Fund shall accept less than the full amount of the Investor\\'s Requested Commitment on the date hereof in order to ensure that the aggregate direct and indirect capital commitments by all Benefit Plan Investors to the Fund are less than 25% of the total capital commitments to the Fund (excluding any capital commitments by the General Partner or its Affiliates to the Fund or the SFRO Feeder). In such event, at each subsequent Closing following the date hereof, the General Partner shall accept additional portions of the remaining Requested Commitment of the Investor (each, an \"Adjustment\") if and to the extent that the General Partner, in its sole discretion, determines that doing so would not cause the aggregate direct and indirect capital commitments by all Benefit Plan Investors to the Fund to exceed 25% of the total capital commitments to the Fund (excluding any capital commitments by the General Partner or its Affiliates to the Fund or the SFRO Feeder). Such Adjustments shall be accepted by the General Partner on not less than a pro rata basis with any similar adjustments for any other Benefit Plan Investors whose requested Capital Commitment was not accepted in full on or prior to the date hereof. Notwithstanding the foregoing, at one or more subsequent Closings, the General Partner may admit any other Benefit Plan Investor as a Limited Partner and enter into an Other Agreement with such Benefit Plan Investor that provides for the acceptance of such Benefit Plan Investor\\'s Capital Commitment on a similarly conditional basis, provided that the Fund\\'s acceptance of such Benefit Plan Investor\\'s Capital Commitment in full is only to the extent that such Capital Commitment is later in priority to the acceptance of the Investor\\'s Requested Commitment. Other than as set forth in this Section 3, the General Partner shall not accept Capital Commitments from any Benefit Plan Investors until such time as the entire amount of the Requested Commitment has been accepted. For the avoidance of doubt, (i) the Requested Commitment shall be irrevocable by the Investor and (ii) the Investor shall be obligated to fund each portion of the Requested Commitment that is accepted by the Fund at each subsequent Closing. Further, for purposes of determining the Lock-Up and the Commitment Lock-Up Expiration Date applicable to the Investor\\'s Capital Commitment, the Investor shall be deemed to have made its entire Capital Commitment as of the date hereof. DOC ID - 36972123.18 -5- Page 5 4. Other Agreements. For so long as the Investor holds an Interest in the Fund, to the extent that any Other Agreement is entered into with a Third Party Investor with respect to its interest in the Fund, and a copy of such Other Agreement is not required to be provided to the Investor pursuant to Section 2 above, then in such event, the General Partner shall provide to the Investor a copy of such Other Agreement (which such copy may be redacted for any identifying information with respect to the Third Party Investor or any other information not relevant hereto) unless the General Partner is otherwise restricted by confidentiality or non- disclosure obligations with respect to the provision of such Other Agreement. 5. Advisory Board. In consideration of the Investor\\'s admission as a Limited Partner and for so long as the Investor is a Limited Partner in the Fund and maintains a Capital Commitment of at least $50 million (or such lesser aggregate amount of the Investor\\'s Capital Commitment that has been accepted by the General Partner in accordance with Section 3 above as of the relevant date), and is not a Defaulting Limited Partner, the General Partner agrees that the Investor shall be entitled to designate one member to serve on a committee of the Fund established pursuant to Section 5.6 of the Limited Partnership Agreement (the \"Advisory Board\"). The appointment of an Advisory Board member pursuant to this Section 5 shall be effective upon written notice from the Investor to the Fund of the name and contact information of the individual so appointed. If the individual appointed pursuant this Section 5 to act as the Advisory Board member is no longer affiliated with the Investor, or no longer able or willing to act as the Advisory Board member, the Investor shall provide prompt written notice thereof to the Fund and such Advisory Board member shall automatically be removed. The Investor shall be entitled to remove or replace any Advisory Board member at any time pursuant to prior written notice provided by the Investor to the General Partner. The Investor acknowledges that the Advisory Board member shall be bound by the confidentiality provisions described in Section 14.2 of the Limited Partnership Agreement. The Advisory Board may act on behalf of the Fund and the Sister Fund if requested by the General Partner, provided that in the event the Advisory Board acts on behalf of the Sister Fund, the Advisory Board representative appointed by the Investor shall be indemnified pursuant to a separate indemnification agreement between such Advisory Board representative and the Sister Fund. 6. Transfers. In connection with any proposed transfer by the Investor of all or a portion of its Interest in the Fund to a Lockheed Party (as defined below), at the request of the Investor, the General Partner shall not unreasonably withhold its written consent to such transfer and the transferee\\'s substitution as a Limited Partner, as required by the Subscription Agreement; provided (a) such transfer will not result in a violation of any applicable laws, rules or regulations or have any material adverse impact (whether legal, financial, tax, regulatory, or otherwise) on the Fund, the Management Company or the General Partner, as determined by the General Partner, (b) such transferee is not a competitor of (directly or indirectly) or otherwise affiliated with any competitor of the Fund, the General Partner, the Management Company or their respective Affiliates, as determined in good faith by the General Partner, (c) such transferee is determined to be sufficiently creditworthy to assume the Limited Partner\\'s obligations with respect to the Interest being transferred and clears any anti-money laundering (AML), know your customer (KYC) and similar reviews conducted by or on behalf of the Fund or its administrator and consistent with their policies and procedures, and (d) such transfer is documented in writing in a form reasonably DOC ID - 36972123.18 -6- Page 6 acceptable to the General Partner and such transferee makes such representations, warranties, covenants and undertakings as may be reasonably required by the General Partner in connection with such transfer, including representations, warranties, covenants and undertakings comparable to those included in the Investor\\'s Subscription Agreement. The rights and obligations arising under this Letter Agreement may be assigned by the Investor to any such transferee, and will apply equally to such transferee, in connection with such transfer; provided, however, that the rights arising',\n",
       "   {'entities': [[18, 26, 'B-ORG'],\n",
       "     [27, 34, 'I-ORG'],\n",
       "     [35, 41, 'B-MISC'],\n",
       "     [42, 46, 'I-MISC'],\n",
       "     [47, 51, 'I-MISC'],\n",
       "     [52, 55, 'I-MISC'],\n",
       "     [58, 62, 'B-LOC'],\n",
       "     [63, 68, 'I-LOC'],\n",
       "     [69, 74, 'I-LOC'],\n",
       "     [75, 78, 'I-LOC'],\n",
       "     [79, 83, 'I-LOC'],\n",
       "     [85, 88, 'B-LOC'],\n",
       "     [89, 93, 'I-LOC'],\n",
       "     [94, 99, 'I-LOC'],\n",
       "     [100, 107, 'B-DATE'],\n",
       "     [108, 109, 'I-DATE'],\n",
       "     [111, 115, 'I-DATE'],\n",
       "     [116, 121, 'B-PER'],\n",
       "     [122, 131, 'I-PER'],\n",
       "     [132, 134, 'B-LOC'],\n",
       "     [135, 144, 'I-LOC'],\n",
       "     [145, 151, 'I-LOC'],\n",
       "     [152, 158, 'I-LOC'],\n",
       "     [194, 202, 'B-ORG'],\n",
       "     [203, 210, 'I-ORG'],\n",
       "     [211, 217, 'B-MISC'],\n",
       "     [218, 222, 'I-MISC'],\n",
       "     [223, 227, 'I-MISC'],\n",
       "     [228, 230, 'I-MISC'],\n",
       "     [234, 242, 'B-AGRE'],\n",
       "     [243, 250, 'I-AGRE'],\n",
       "     [251, 262, 'I-AGRE'],\n",
       "     [281, 287, 'B-AGRE'],\n",
       "     [288, 297, 'I-AGRE'],\n",
       "     [304, 311, 'B-AGRE'],\n",
       "     [312, 322, 'I-AGRE'],\n",
       "     [375, 384, 'B-PER'],\n",
       "     [390, 400, 'B-MISC'],\n",
       "     [407, 414, 'B-AGRE'],\n",
       "     [415, 426, 'I-AGRE'],\n",
       "     [547, 554, 'B-AGRE'],\n",
       "     [559, 567, 'I-AGRE'],\n",
       "     [568, 575, 'I-AGRE'],\n",
       "     [576, 587, 'I-AGRE'],\n",
       "     [588, 597, 'I-AGRE'],\n",
       "     [622, 628, 'B-DATE'],\n",
       "     [629, 631, 'I-DATE'],\n",
       "     [633, 637, 'I-DATE'],\n",
       "     [643, 651, 'B-AGRE'],\n",
       "     [652, 663, 'I-AGRE'],\n",
       "     [664, 674, 'I-AGRE'],\n",
       "     [681, 693, 'B-AGRE'],\n",
       "     [694, 703, 'I-AGRE'],\n",
       "     [716, 724, 'B-MISC'],\n",
       "     [771, 784, 'B-AGRE'],\n",
       "     [785, 795, 'I-AGRE'],\n",
       "     [986, 987, 'B-CURR'],\n",
       "     [987, 997, 'I-CURR'],\n",
       "     [1025, 1033, 'B-AGRE'],\n",
       "     [1034, 1045, 'I-AGRE'],\n",
       "     [1048, 1056, 'B-ORG'],\n",
       "     [1057, 1064, 'I-ORG'],\n",
       "     [1065, 1073, 'I-ORG'],\n",
       "     [1074, 1076, 'I-ORG'],\n",
       "     [1078, 1084, 'I-ORG'],\n",
       "     [1088, 1096, 'B-ORG'],\n",
       "     [1097, 1104, 'I-ORG'],\n",
       "     [1105, 1114, 'I-ORG'],\n",
       "     [1115, 1122, 'I-ORG'],\n",
       "     [1128, 1136, 'B-MISC'],\n",
       "     [1137, 1145, 'I-MISC'],\n",
       "     [1216, 1224, 'B-MISC'],\n",
       "     [1276, 1284, 'B-MISC'],\n",
       "     [1409, 1416, 'B-DATE'],\n",
       "     [1417, 1418, 'I-DATE'],\n",
       "     [1420, 1424, 'I-DATE'],\n",
       "     [1665, 1669, 'B-MISC'],\n",
       "     [1669, 1670, 'I-MISC'],\n",
       "     [1710, 1717, 'B-MISC'],\n",
       "     [1718, 1725, 'I-MISC'],\n",
       "     [1748, 1756, 'B-MISC'],\n",
       "     [1769, 1774, 'B-AGRE'],\n",
       "     [1775, 1785, 'I-AGRE'],\n",
       "     [1849, 1859, 'B-MISC'],\n",
       "     [1860, 1869, 'I-MISC'],\n",
       "     [1892, 1900, 'B-ORG'],\n",
       "     [1901, 1908, 'I-ORG'],\n",
       "     [1909, 1915, 'B-MISC'],\n",
       "     [1916, 1920, 'I-MISC'],\n",
       "     [1921, 1925, 'I-MISC'],\n",
       "     [1926, 1929, 'I-MISC'],\n",
       "     [1935, 1942, 'B-ORG'],\n",
       "     [1943, 1948, 'I-ORG'],\n",
       "     [1969, 1977, 'B-MISC'],\n",
       "     [1978, 1986, 'I-MISC'],\n",
       "     [1988, 1992, 'B-MISC'],\n",
       "     [1998, 2003, 'B-ORG'],\n",
       "     [2004, 2011, 'I-ORG'],\n",
       "     [2080, 2090, 'B-MISC'],\n",
       "     [2091, 2100, 'I-MISC'],\n",
       "     [2114, 2119, 'B-AGRE'],\n",
       "     [2120, 2131, 'I-AGRE'],\n",
       "     [2206, 2216, 'B-MISC'],\n",
       "     [2217, 2225, 'I-MISC'],\n",
       "     [2299, 2309, 'B-MISC'],\n",
       "     [2310, 2318, 'I-MISC'],\n",
       "     [2354, 2364, 'B-MISC'],\n",
       "     [2365, 2373, 'I-MISC'],\n",
       "     [2448, 2454, 'B-AGRE'],\n",
       "     [2455, 2464, 'I-AGRE'],\n",
       "     [2473, 2480, 'B-AGRE'],\n",
       "     [2481, 2492, 'I-AGRE'],\n",
       "     [2493, 2502, 'I-AGRE'],\n",
       "     [2508, 2516, 'B-MISC'],\n",
       "     [2572, 2574, 'B-TIME'],\n",
       "     [2575, 2579, 'I-TIME'],\n",
       "     [2630, 2635, 'B-AGRE'],\n",
       "     [2636, 2646, 'I-AGRE'],\n",
       "     [2704, 2709, 'B-AGRE'],\n",
       "     [2710, 2719, 'I-AGRE'],\n",
       "     [2781, 2789, 'B-MISC'],\n",
       "     [2863, 2868, 'B-AGRE'],\n",
       "     [2869, 2878, 'I-AGRE'],\n",
       "     [3032, 3037, 'B-AGRE'],\n",
       "     [3038, 3048, 'I-AGRE'],\n",
       "     [3199, 3204, 'B-MISC'],\n",
       "     [3205, 3210, 'I-MISC'],\n",
       "     [3211, 3219, 'I-MISC'],\n",
       "     [3266, 3269, 'B-MISC'],\n",
       "     [3270, 3272, 'I-MISC'],\n",
       "     [3275, 3286, 'I-MISC'],\n",
       "     [3414, 3419, 'B-MISC'],\n",
       "     [3420, 3425, 'I-MISC'],\n",
       "     [3426, 3434, 'I-MISC'],\n",
       "     [3448, 3456, 'B-MISC'],\n",
       "     [3555, 3560, 'B-MISC'],\n",
       "     [3561, 3566, 'I-MISC'],\n",
       "     [3567, 3575, 'I-MISC'],\n",
       "     [3621, 3627, 'B-ORG'],\n",
       "     [3628, 3632, 'I-ORG'],\n",
       "     [3640, 3644, 'B-ORG'],\n",
       "     [3645, 3651, 'I-ORG'],\n",
       "     [3737, 3742, 'B-MISC'],\n",
       "     [3743, 3748, 'I-MISC'],\n",
       "     [3749, 3757, 'I-MISC'],\n",
       "     [3806, 3814, 'B-ORG'],\n",
       "     [3815, 3820, 'I-ORG'],\n",
       "     [3913, 3921, 'B-ORG'],\n",
       "     [3922, 3927, 'I-ORG'],\n",
       "     [3954, 3962, 'B-ORG'],\n",
       "     [3963, 3968, 'B-ORG'],\n",
       "     [4028, 4036, 'B-ORG'],\n",
       "     [4037, 4042, 'I-ORG'],\n",
       "     [4056, 4063, 'B-MISC'],\n",
       "     [4064, 4071, 'I-MISC'],\n",
       "     [4097, 4102, 'B-AGRE'],\n",
       "     [4103, 4112, 'I-AGRE'],\n",
       "     [4162, 4170, 'B-ORG'],\n",
       "     [4171, 4176, 'I-ORG'],\n",
       "     [4204, 4209, 'B-MISC'],\n",
       "     [4210, 4215, 'I-MISC'],\n",
       "     [4216, 4226, 'I-MISC'],\n",
       "     [4415, 4426, 'B-MISC'],\n",
       "     [4427, 4436, 'I-MISC'],\n",
       "     [4518, 4524, 'B-ORG'],\n",
       "     [4525, 4529, 'I-ORG'],\n",
       "     [4537, 4541, 'B-ORG'],\n",
       "     [4542, 4548, 'I-ORG'],\n",
       "     [4575, 4585, 'B-MISC'],\n",
       "     [4632, 4638, 'B-ORG'],\n",
       "     [4639, 4643, 'I-ORG'],\n",
       "     [4651, 4655, 'B-ORG'],\n",
       "     [4656, 4662, 'I-ORG'],\n",
       "     [4718, 4723, 'B-MISC'],\n",
       "     [4724, 4729, 'I-MISC'],\n",
       "     [4730, 4738, 'I-MISC'],\n",
       "     [4744, 4754, 'B-MISC'],\n",
       "     [4755, 4763, 'I-MISC'],\n",
       "     [4788, 4793, 'B-MISC'],\n",
       "     [4794, 4799, 'I-MISC'],\n",
       "     [4800, 4808, 'I-MISC'],\n",
       "     [4826, 4832, 'B-ORG'],\n",
       "     [4833, 4837, 'I-ORG'],\n",
       "     [4845, 4849, 'B-ORG'],\n",
       "     [4850, 4856, 'I-ORG'],\n",
       "     [4887, 4894, 'B-MISC'],\n",
       "     [4895, 4902, 'I-MISC'],\n",
       "     [4984, 4990, 'B-ORG'],\n",
       "     [4991, 4995, 'I-ORG'],\n",
       "     [5003, 5007, 'B-ORG'],\n",
       "     [5008, 5014, 'I-ORG'],\n",
       "     [5341, 5346, 'B-MISC'],\n",
       "     [5347, 5352, 'I-MISC'],\n",
       "     [5353, 5361, 'I-MISC'],\n",
       "     [5579, 5588, 'B-MISC'],\n",
       "     [5606, 5612, 'B-ORG'],\n",
       "     [5613, 5617, 'I-ORG'],\n",
       "     [5625, 5629, 'B-ORG'],\n",
       "     [5630, 5636, 'I-ORG'],\n",
       "     [5651, 5662, 'B-MISC'],\n",
       "     [5663, 5670, 'I-MISC'],\n",
       "     [5672, 5674, 'B-MISC'],\n",
       "     [5674, 5675, 'I-MISC'],\n",
       "     [5789, 5794, 'B-MISC'],\n",
       "     [5795, 5800, 'I-MISC'],\n",
       "     [5801, 5809, 'I-MISC'],\n",
       "     [5830, 5835, 'B-AGRE'],\n",
       "     [5836, 5845, 'I-AGRE'],\n",
       "     [5874, 5879, 'B-MISC'],\n",
       "     [5880, 5885, 'I-MISC'],\n",
       "     [5886, 5894, 'I-MISC'],\n",
       "     [5920, 5924, 'B-LOC'],\n",
       "     [5948, 5953, 'B-MISC'],\n",
       "     [5954, 5959, 'I-MISC'],\n",
       "     [5960, 5968, 'I-MISC'],\n",
       "     [5994, 6004, 'B-MISC'],\n",
       "     [6005, 6013, 'I-MISC'],\n",
       "     [6041, 6046, 'B-MISC'],\n",
       "     [6047, 6052, 'I-MISC'],\n",
       "     [6053, 6061, 'I-MISC'],\n",
       "     [6107, 6112, 'B-MISC'],\n",
       "     [6113, 6118, 'I-MISC'],\n",
       "     [6119, 6127, 'I-MISC'],\n",
       "     [6169, 6171, 'B-MISC'],\n",
       "     [6171, 6172, 'I-MISC'],\n",
       "     [6178, 6182, 'B-LOC'],\n",
       "     [6206, 6211, 'B-MISC'],\n",
       "     [6212, 6217, 'I-MISC'],\n",
       "     [6218, 6226, 'I-MISC'],\n",
       "     [6296, 6306, 'B-MISC'],\n",
       "     [6307, 6316, 'I-MISC'],\n",
       "     [6340, 6346, 'B-MISC'],\n",
       "     [6347, 6358, 'I-MISC'],\n",
       "     [6410, 6417, 'B-MISC'],\n",
       "     [6418, 6426, 'I-MISC'],\n",
       "     [6444, 6451, 'B-MISC'],\n",
       "     [6452, 6460, 'I-MISC'],\n",
       "     [6468, 6474, 'B-ORG'],\n",
       "     [6475, 6479, 'I-ORG'],\n",
       "     [6511, 6515, 'B-ORG'],\n",
       "     [6516, 6523, 'I-ORG'],\n",
       "     [6524, 6530, 'B-MISC'],\n",
       "     [6531, 6536, 'I-MISC'],\n",
       "     [6537, 6546, 'I-MISC'],\n",
       "     [6611, 6617, 'B-ORG'],\n",
       "     [6618, 6622, 'I-ORG'],\n",
       "     [6630, 6634, 'B-ORG'],\n",
       "     [6635, 6641, 'I-ORG'],\n",
       "     [6846, 6853, 'B-MISC'],\n",
       "     [6854, 6861, 'I-MISC'],\n",
       "     [6867, 6877, 'B-ORG'],\n",
       "     [6878, 6885, 'I-ORG'],\n",
       "     [7098, 7101, 'B-MISC'],\n",
       "     [7102, 7104, 'I-MISC'],\n",
       "     [7107, 7118, 'I-MISC'],\n",
       "     [7508, 7518, 'B-PER'],\n",
       "     [7522, 7532, 'B-PER'],\n",
       "     [7543, 7550, 'B-MISC'],\n",
       "     [7551, 7558, 'I-MISC'],\n",
       "     [7564, 7574, 'B-ORG'],\n",
       "     [7575, 7582, 'I-ORG'],\n",
       "     [7752, 7762, 'B-ORG'],\n",
       "     [7763, 7772, 'I-ORG'],\n",
       "     [7854, 7860, 'B-ORG'],\n",
       "     [7861, 7865, 'I-ORG'],\n",
       "     [7944, 7951, 'B-MISC'],\n",
       "     [7952, 7959, 'B-MISC'],\n",
       "     [7965, 7975, 'B-ORG'],\n",
       "     [7976, 7983, 'I-ORG'],\n",
       "     [8169, 8177, 'B-MISC'],\n",
       "     [8194, 8206, 'B-AGRE'],\n",
       "     [8207, 8216, 'I-AGRE'],\n",
       "     [8294, 8295, 'B-CURR'],\n",
       "     [8295, 8297, 'I-CURR'],\n",
       "     [8298, 8305, 'I-CURR'],\n",
       "     [8344, 8352, 'B-MISC'],\n",
       "     [8382, 8389, 'B-MISC'],\n",
       "     [8390, 8400, 'I-MISC'],\n",
       "     [8422, 8428, 'B-AGRE'],\n",
       "     [8429, 8439, 'I-AGRE'],\n",
       "     [8532, 8539, 'B-MISC'],\n",
       "     [8540, 8547, 'I-MISC'],\n",
       "     [8789, 8791, 'B-MISC'],\n",
       "     [8791, 8792, 'I-MISC'],\n",
       "     [8880, 8887, 'B-MISC'],\n",
       "     [8888, 8895, 'I-MISC'],\n",
       "     [8933, 8937, 'B-ORG'],\n",
       "     [8938, 8944, 'I-ORG'],\n",
       "     [9020, 9027, 'B-MISC'],\n",
       "     [9028, 9035, 'I-MISC'],\n",
       "     [9114, 9122, 'B-MISC'],\n",
       "     [9177, 9184, 'B-MISC'],\n",
       "     [9185, 9192, 'I-MISC'],\n",
       "     [9333, 9342, 'B-MISC'],\n",
       "     [9365, 9367, 'B-MISC'],\n",
       "     [9367, 9368, 'I-MISC'],\n",
       "     [9456, 9463, 'B-MISC'],\n",
       "     [9464, 9471, 'I-MISC'],\n",
       "     [9509, 9513, 'B-ORG'],\n",
       "     [9514, 9520, 'I-ORG'],\n",
       "     [9565, 9572, 'B-MISC'],\n",
       "     [9573, 9580, 'I-MISC'],\n",
       "     [9697, 9704, 'B-MISC'],\n",
       "     [9705, 9715, 'I-MISC'],\n",
       "     [9844, 9851, 'B-MISC'],\n",
       "     [9852, 9859, 'I-MISC'],\n",
       "     [9893, 9901, 'B-MISC'],\n",
       "     [9907, 9914, 'B-MISC'],\n",
       "     [9915, 9922, 'I-MISC'],\n",
       "     [9941, 9946, 'B-AGRE'],\n",
       "     [9947, 9956, 'I-AGRE'],\n",
       "     [9980, 9988, 'B-MISC'],\n",
       "     [10043, 10053, 'B-MISC'],\n",
       "     [10054, 10061, 'I-MISC'],\n",
       "     [10062, 10072, 'I-MISC'],\n",
       "     [10164, 10174, 'B-MISC'],\n",
       "     [10175, 10182, 'I-MISC'],\n",
       "     [10183, 10193, 'I-MISC'],\n",
       "     [10234, 10241, 'B-MISC'],\n",
       "     [10242, 10252, 'I-MISC'],\n",
       "     [10299, 10309, 'B-MISC'],\n",
       "     [10364, 10371, 'B-MISC'],\n",
       "     [10372, 10373, 'I-MISC'],\n",
       "     [10379, 10386, 'B-MISC'],\n",
       "     [10387, 10394, 'I-MISC'],\n",
       "     [10412, 10419, 'B-MISC'],\n",
       "     [10420, 10431, 'I-MISC'],\n",
       "     [10454, 10463, 'B-MISC'],\n",
       "     [10633, 10641, 'B-MISC'],\n",
       "     [10899, 10909, 'B-MISC'],\n",
       "     [10910, 10917, 'I-MISC'],\n",
       "     [10918, 10928, 'I-MISC'],\n",
       "     [10934, 10942, 'B-MISC'],\n",
       "     [10983, 10990, 'B-MISC'],\n",
       "     [10991, 11001, 'I-MISC'],\n",
       "     [11025, 11028, 'B-MISC'],\n",
       "     [11029, 11031, 'I-MISC'],\n",
       "     [11034, 11045, 'I-MISC'],\n",
       "     [11060, 11065, 'B-AGRE'],\n",
       "     [11066, 11077, 'I-AGRE'],\n",
       "     [11160, 11165, 'B-AGRE'],\n",
       "     [11166, 11175, 'I-AGRE'],\n",
       "     [11199, 11204, 'B-MISC'],\n",
       "     [11205, 11210, 'I-MISC'],\n",
       "     [11211, 11219, 'I-MISC'],\n",
       "     [11281, 11286, 'B-AGRE'],\n",
       "     [11287, 11296, 'I-AGRE'],\n",
       "     [11335, 11343, 'I-AGRE'],\n",
       "     [11397, 11404, 'B-MISC'],\n",
       "     [11405, 11412, 'I-MISC'],\n",
       "     [11434, 11442, 'B-MISC'],\n",
       "     [11458, 11463, 'B-AGRE'],\n",
       "     [11464, 11473, 'I-AGRE'],\n",
       "     [11559, 11564, 'B-MISC'],\n",
       "     [11565, 11570, 'I-MISC'],\n",
       "     [11571, 11579, 'I-MISC'],\n",
       "     [11637, 11644, 'B-MISC'],\n",
       "     [11645, 11652, 'I-MISC'],\n",
       "     [11765, 11770, 'B-AGRE'],\n",
       "     [11771, 11781, 'I-AGRE'],\n",
       "     [11785, 11793, 'B-ORG'],\n",
       "     [11794, 11800, 'I-ORG'],\n",
       "     [11851, 11858, 'B-MISC'],\n",
       "     [11859, 11866, 'I-MISC'],\n",
       "     [11890, 11898, 'B-MISC'],\n",
       "     [11904, 11911, 'B-MISC'],\n",
       "     [11912, 11919, 'I-MISC'],\n",
       "     [11948, 11955, 'B-MISC'],\n",
       "     [11956, 11966, 'I-MISC'],\n",
       "     [11979, 11980, 'B-CURR'],\n",
       "     [11980, 11982, 'I-CURR'],\n",
       "     [11983, 11990, 'I-CURR'],\n",
       "     [12031, 12041, 'B-MISC'],\n",
       "     [12042, 12049, 'I-MISC'],\n",
       "     [12050, 12060, 'I-MISC'],\n",
       "     [12091, 12098, 'B-MISC'],\n",
       "     [12099, 12106, 'I-MISC'],\n",
       "     [12126, 12133, 'B-MISC'],\n",
       "     [12134, 12135, 'I-MISC'],\n",
       "     [12192, 12199, 'B-MISC'],\n",
       "     [12200, 12207, 'I-MISC'],\n",
       "     [12213, 12220, 'B-MISC'],\n",
       "     [12221, 12228, 'I-MISC'],\n",
       "     [12245, 12253, 'B-MISC'],\n",
       "     [12356, 12363, 'B-MISC'],\n",
       "     [12364, 12367, 'I-MISC'],\n",
       "     [12375, 12382, 'B-AGRE'],\n",
       "     [12383, 12394, 'I-AGRE'],\n",
       "     [12395, 12404, 'I-AGRE'],\n",
       "     [12410, 12419, 'B-ORG'],\n",
       "     [12420, 12426, 'I-ORG'],\n",
       "     [12451, 12459, 'B-ORG'],\n",
       "     [12460, 12465, 'I-ORG'],\n",
       "     [12490, 12497, 'B-MISC'],\n",
       "     [12498, 12499, 'I-MISC'],\n",
       "     [12548, 12556, 'B-MISC'],\n",
       "     [12679, 12686, 'B-MISC'],\n",
       "     [12687, 12688, 'I-MISC'],\n",
       "     [12703, 12711, 'B-ORG'],\n",
       "     [12712, 12717, 'I-ORG'],\n",
       "     [12758, 12766, 'B-MISC'],\n",
       "     [12811, 12819, 'B-ORG'],\n",
       "     [12820, 12825, 'I-ORG'],\n",
       "     [12838, 12846, 'B-MISC'],\n",
       "     [12912, 12920, 'B-ORG'],\n",
       "     [12921, 12926, 'I-ORG'],\n",
       "     [12970, 12978, 'B-MISC'],\n",
       "     [13022, 13030, 'B-ORG'],\n",
       "     [13031, 13036, 'I-ORG'],\n",
       "     [13105, 13113, 'B-MISC'],\n",
       "     [13121, 13128, 'B-MISC'],\n",
       "     [13129, 13137, 'I-MISC'],\n",
       "     [13142, 13150, 'B-MISC'],\n",
       "     [13173, 13181, 'B-ORG'],\n",
       "     [13182, 13187, 'I-ORG'],\n",
       "     [13257, 13264, 'B-MISC'],\n",
       "     [13265, 13269, 'I-MISC'],\n",
       "     [13277, 13284, 'B-AGRE'],\n",
       "     [13285, 13296, 'I-AGRE'],\n",
       "     [13297, 13307, 'I-AGRE'],\n",
       "     [13312, 13320, 'B-ORG'],\n",
       "     [13321, 13326, 'I-ORG'],\n",
       "     [13365, 13371, 'B-ORG'],\n",
       "     [13372, 13376, 'I-ORG'],\n",
       "     [13397, 13404, 'B-MISC'],\n",
       "     [13405, 13412, 'I-MISC'],\n",
       "     [13445, 13453, 'B-ORG'],\n",
       "     [13454, 13459, 'I-ORG'],\n",
       "     [13482, 13488, 'B-ORG'],\n",
       "     [13489, 13493, 'I-ORG'],\n",
       "     [13499, 13507, 'B-ORG'],\n",
       "     [13508, 13513, 'I-ORG'],\n",
       "     [13546, 13554, 'B-MISC'],\n",
       "     [13599, 13614, 'B-AGRE'],\n",
       "     [13615, 13624, 'I-AGRE'],\n",
       "     [13638, 13646, 'B-ORG'],\n",
       "     [13647, 13652, 'I-ORG'],\n",
       "     [13676, 13682, 'B-ORG'],\n",
       "     [13683, 13688, 'I-ORG'],\n",
       "     [13751, 13759, 'B-MISC'],\n",
       "     [13813, 13821, 'B-MISC'],\n",
       "     [13822, 13827, 'I-MISC'],\n",
       "     [13870, 13878, 'B-MISC'],\n",
       "     [13884, 13891, 'B-MISC'],\n",
       "     [13892, 13899, 'I-MISC'],\n",
       "     [14008, 14015, 'B-MISC'],\n",
       "     [14016, 14023, 'I-MISC'],\n",
       "     [14044, 14056, 'B-AGRE'],\n",
       "     [14057, 14066, 'I-AGRE'],\n",
       "     [14282, 14292, 'B-ORG'],\n",
       "     [14293, 14300, 'I-ORG'],\n",
       "     [14308, 14315, 'B-MISC'],\n",
       "     [14316, 14323, 'I-MISC'],\n",
       "     [14346, 14353, 'B-MISC'],\n",
       "     [14354, 14361, 'I-MISC'],\n",
       "     [14492, 14499, 'B-MISC'],\n",
       "     [14500, 14507, 'I-MISC'],\n",
       "     [14513, 14523, 'B-ORG'],\n",
       "     [14524, 14531, 'I-ORG'],\n",
       "     [14599, 14606, 'B-MISC'],\n",
       "     [14607, 14614, 'I-MISC'],\n",
       "     [14696, 14703, 'B-MISC'],\n",
       "     [14704, 14713, 'I-MISC'],\n",
       "     [14788, 14798, 'B-MISC'],\n",
       "     [14799, 14809, 'I-MISC'],\n",
       "     [14811, 14814, 'B-MISC'],\n",
       "     [14817, 14821, 'B-MISC'],\n",
       "     [14822, 14826, 'I-MISC'],\n",
       "     [14827, 14835, 'I-MISC'],\n",
       "     [14837, 14840, 'B-MISC'],\n",
       "     [15040, 15043, 'B-MISC'],\n",
       "     [15044, 15046, 'I-MISC'],\n",
       "     [15049, 15060, 'I-MISC'],\n",
       "     [15090, 15097, 'B-MISC'],\n",
       "     [15098, 15105, 'I-MISC'],\n",
       "     [15230, 15237, 'B-MISC'],\n",
       "     [15238, 15245, 'I-MISC'],\n",
       "     [15382, 15392, 'B-AGRE'],\n",
       "     [15393, 15405, 'I-AGRE'],\n",
       "     [15406, 15416, 'I-AGRE'],\n",
       "     [15463, 15469, 'B-AGRE'],\n",
       "     [15470, 15479, 'I-AGRE'],\n",
       "     [15503, 15511, 'B-MISC']]}]]}"
      ]
     },
     "execution_count": 3,
     "metadata": {},
     "output_type": "execute_result"
    }
   ],
   "source": [
    "data"
   ]
  },
  {
   "cell_type": "code",
   "execution_count": 5,
   "metadata": {
    "colab": {
     "base_uri": "https://localhost:8080/"
    },
    "id": "tfyEnKDsRr-t",
    "outputId": "ba99755a-c1fa-4632-edc0-2066f14b87d9"
   },
   "outputs": [
    {
     "name": "stdout",
     "output_type": "stream",
     "text": [
      "{'Inveniam': 'B-ORG', 'Private': 'I-ORG', 'Equity': 'B-MISC', 'Fund': 'I-ORG', 'Demo': 'I-MISC', 'IV.': 'I-MISC', '8500': 'B-LOC', 'World': 'I-LOC', 'Trade': 'I-LOC', 'New': 'B-LOC', 'York': 'I-LOC', '10022': 'I-LOC', 'January': 'B-DATE', '1': 'I-DATE', '2019': 'I-DATE', 'Maria': 'B-PER', 'Sharapova': 'B-PER', '31': 'B-LOC', 'Blandford': 'I-LOC', 'Street': 'I-LOC', 'London': 'I-LOC', 'IV': 'I-MISC', 'Delaware': 'B-ORG', 'limited': 'B-MISC', 'partnership': 'I-AGRE', 'letter': 'B-AGRE', 'agreement': 'I-AGRE', '\"Letter': 'B-AGRE', 'Agreement\"': 'I-AGRE', '\"Investor\"': 'B-MISC', 'Amended': 'B-AGRE', 'Restated': 'I-AGRE', 'Limited': 'B-MISC', 'Partnership': 'I-AGRE', 'Agreement': 'I-AGRE', 'August': 'B-DATE', '27': 'I-DATE', '2021': 'I-DATE', '\"Limited': 'B-AGRE', 'Subscription': 'I-AGRE', 'Investor': 'B-MISC', '\"Subscription': 'B-AGRE', '$': 'B-CURR', '50,000,000': 'I-CURR', '\"Capital': 'B-AGRE', 'Commitment\"': 'I-AGRE', 'Capital': 'I-MISC', 'Partners': 'I-MISC', 'GP': 'I-ORG', 'L.L.C.': 'I-ORG', 'liability': 'I-ORG', 'company': 'I-ORG', '\"General': 'B-MISC', 'Partner\"': 'I-MISC', '0.85': 'B-MISC', '%': 'I-MISC', 'General': 'B-MISC', 'Partner': 'I-MISC', 'Other': 'B-AGRE', 'Agreements': 'I-AGRE', 'Comparable': 'B-MISC', 'Investors': 'B-MISC', '\"Sister': 'B-ORG', 'Fund\"': 'I-ORG', 'Overseas': 'B-MISC', 'L.P.': 'B-MISC', '\"SFRO': 'B-ORG', 'Feeder\"': 'I-ORG', 'Agreements\"': 'I-MISC', 'Letter': 'B-AGRE', '30': 'B-TIME', 'days': 'I-TIME', 'Agreement.': 'I-AGRE', 'Third': 'B-MISC', 'Party': 'I-MISC', 'DOC': 'B-MISC', 'ID': 'I-MISC', '36972123.18': 'I-MISC', 'Sister': 'B-ORG', 'SFRO': 'B-ORG', 'Feeder': 'I-ORG', 'Advisory': 'B-ORG', 'Board': 'I-ORG', \"Investor's\": 'B-AGRE', '\"Comparable': 'B-MISC', 'Investor\"': 'I-MISC', 'twenty-five': 'B-MISC', 'percent': 'I-MISC', '25': 'B-MISC', 'U.S.': 'B-LOC', '\"Other': 'B-MISC', 'partners': 'I-MISC', 'Feeder.': 'I-ORG', '\"Third': 'B-MISC', 'Management': 'B-ORG', 'Company': 'I-ORG', 'co-manager': 'B-PER', 'co-adviser': 'B-PER', 'investment': 'B-ORG', 'committee': 'I-ORG', '50': 'I-CURR', 'million': 'I-CURR', 'Commitment': 'I-MISC', 'Section': 'B-MISC', '3': 'I-MISC', 'Commitments': 'I-MISC', 'Agreements.': 'I-AGRE', 'Board.': 'I-ORG', '5.6': 'I-MISC', '\"Advisory': 'B-ORG', 'Board\"': 'I-ORG', '5': 'I-MISC', 'Partner.': 'I-MISC', '14.2': 'I-MISC', 'indemnification': 'B-AGRE', 'Fund.': 'I-ORG', 'Lockheed': 'B-MISC', \"Partner's\": 'I-MISC', 'anti-money': 'B-MISC', 'laundering': 'I-MISC', 'AML': 'B-MISC', 'know': 'B-MISC', 'your': 'I-MISC', 'customer': 'I-MISC', 'KYC': 'B-MISC'}\n",
      "['EXECUTION', 'VERSION', 'Inveniam', 'Private', 'Equity', 'Fund', 'Demo', 'IV.', '.', '8500', 'World', 'Trade', 'New', 'York,', 'New', 'York', '10022', 'January', '1,', '2019', 'Maria', 'Sharapova', '31', 'Blandford', 'Street', 'London,', 'W1U', '3DN', 'Ladies', 'and', 'Gentlemen:', 'RE:', 'Inveniam', 'Private', 'Equity', 'Fund', 'Demo', 'IV,', 'a', 'Delaware', 'limited', 'partnership', '(the', '\"Fund\")', 'This', 'letter', 'agreement', '(this', '\"Letter', 'Agreement\")', 'is', 'entered', 'into', 'in', 'connection', 'with', 'the', 'purchase', 'by', 'Sharapova', '(the', '\"Investor\")', 'of', 'a', 'limited', 'partnership', 'interest', 'in', 'the', 'Fund.', 'Capitalized', 'terms', 'used', 'and', 'not', 'defined', 'herein', 'shall', 'have', 'the', 'meanings', 'given', 'to', 'them', 'in', 'the', 'Fourth', 'Amended', 'and', 'Restated', 'Limited', 'Partnership', 'Agreement', 'of', 'the', 'Fund', 'dated', 'as', 'of', 'August', '27,', '2021', '(the', '\"Limited', 'Partnership', 'Agreement\"),', 'the', 'Subscription', 'Agreement', 'between', 'the', 'Investor', 'and', 'the', 'Fund', 'dated', 'as', 'of', 'the', 'date', 'hereof', '(the', '\"Subscription', 'Agreement\"),', 'including', 'any', 'amendments', 'and', 'supplements', 'to', 'all', 'of', 'the', 'foregoing', '(collectively,', 'the', '\"Fund', 'Documents\").', 'In', 'consideration', 'for', 'the', 'Investor', 'making', 'an', 'aggregate', 'capital', 'commitment', 'of', 'at', 'least', '$50,000,000', 'as', 'of', 'the', 'date', 'hereof', '(the', '\"Capital', 'Commitment\"),', 'Inveniam', 'Capital', 'Partners', 'GP,', 'L.L.C.,', 'a', 'Delaware', 'limited', 'liability', 'company', '(the', '\"General', 'Partner\"),', 'in', 'its', 'capacity', 'as', 'the', 'general', 'partner', 'of', 'the', 'Fund,', 'agrees', 'with', 'the', 'Investor', 'as', 'follows:', '1.', 'Reduced', 'Management', 'Fee', 'Rate.', 'If', 'the', 'Investor', 'has', 'submitted', 'a', 'withdrawal', 'request', 'and', 'the', 'amount', 'of', 'such', 'withdrawal', 'request', 'has', 'not', 'been', 'fully', 'paid', 'to', 'the', 'Investor', 'by', 'the', 'January', '1,', '2019', 'of', 'the', 'applicable', 'Withdrawal', 'Date,', 'the', 'Management', 'Fee', 'charged', 'to', 'the', 'Investor', 'with', 'respect', 'to', 'the', 'amount', 'that', 'has', 'not', 'been', 'paid', 'will', 'be', 'reduced', 'in', 'accordance', 'with', 'the', 'following', 'schedule', 'until', 'any', 'such', 'unsatisfied', 'withdrawal', 'request', 'will', 'be', '0.85%', 'Page', '2', '-2-', '2.', 'Most', 'Favored', 'Nation.', 'The', 'General', 'Partner', 'shall', 'disclose', 'to', 'the', 'Investor', 'any', 'and', 'all', 'Other', 'Agreements', '(which', 'may', 'be', 'redacted', 'to', 'remove', 'identifying', 'information)', 'with', 'Comparable', 'Investors', 'admitted', 'to', 'the', 'Fund,', 'Inveniam', 'Private', 'Equity', 'Fund', 'Demo', 'IV.', '(the', '\"Sister', 'Fund\")', 'and/or', 'AC', 'Partners', 'Overseas', 'Partners,', 'L.P.', '(the', '\"SFRO', 'Feeder\")', 'entered', 'into', 'after', 'the', 'date', 'hereof', '(all', 'such', 'Other', 'Agreements', 'with', 'Comparable', 'Investors,', '\"Applicable', 'Other', 'Agreements\"),', 'and,', 'to', 'the', 'extent', 'any', 'Applicable', 'Other', 'Agreement', 'entered', 'into', 'with', 'any', 'Comparable', 'Investor', 'has', 'the', 'effect', 'of', 'establishing', 'rights', 'or', 'otherwise', 'benefiting', 'such', 'other', 'Comparable', 'Investor', 'in', 'a', 'manner', 'more', 'favorable', 'to', 'such', 'Comparable', 'Investor', 'than', 'the', 'rights', 'and', 'benefits', 'established', 'in', 'favor', 'of', 'the', 'Investor', 'by', 'this', 'Letter', 'Agreement', 'and', 'the', 'Limited', 'Partnership', 'Agreement,', 'the', 'Investor', 'shall,', 'upon', 'request', 'to', 'the', 'General', 'Partner', 'made', 'within', '30', 'days', 'of', 'being', 'notified', 'of', 'the', 'terms', 'of', 'such', 'Applicable', 'Other', 'Agreements,', 'receive', 'the', 'same', 'rights', 'and', 'benefits', 'of', 'such', 'Applicable', 'Other', 'Agreement', '(the', '\"Relevant', 'Terms\")', 'and', 'are', 'so', 'requested,', 'but', 'only', 'if', 'the', 'Investor', 'agrees', 'to', 'be', 'bound', 'by', 'the', 'obligations', 'or', 'restrictions', 'in', 'such', 'Applicable', 'Other', 'Agreement', 'directly', 'relating', 'to', 'the', 'Relevant', 'Terms;', 'provided,', 'however,', 'that', 'Relevant', 'Terms', 'shall', 'exclude', 'any', '\"most', 'favored', 'nation\"', 'rights', 'granted', 'in', 'any', 'Applicable', 'Other', 'Agreement.', 'For', 'the', 'avoidance', 'of', 'doubt,', 'Relevant', 'Terms', 'do', 'not', 'include', 'rights', 'or', 'benefits', 'that', '(1)', 'are', 'granted', 'to', 'any', 'Third', 'Party', 'Investor', 'in', 'connection', 'with', 'such', 'Third', 'Party', \"Investor's\", 'legal,', 'regulatory', 'or', 'tax', 'status', 'that', 'is', 'not', 'DOC', 'ID', '-', '36972123.18', '-3-', 'Page', '3', 'shared', 'by,', 'nor', 'applicable', 'to,', 'the', 'Investor', 'or', 'is', 'otherwise', 'based', 'upon', 'laws,', 'rules', 'or', 'regulations', 'applicable', 'to', 'such', 'Third', 'Party', 'Investor', 'to', 'which', 'the', 'Investor', 'is', 'not', 'also', 'subject,', '(2)', 'are', 'granted', 'based', 'on', 'a', 'requirement', 'under', 'a', 'formal', 'written', 'policy', 'of', 'such', 'Third', 'Party', 'Investor', 'unrelated', 'to', 'its', 'investment', 'in', 'the', 'Fund,', 'the', 'Sister', 'Fund', 'or', 'the', 'SFRO', 'Feeder,', 'to', 'which', 'the', 'Investor', 'is', 'also', 'not', 'subject,', '(3)', 'relate', 'to', 'any', 'representation', 'by', 'such', 'Third', 'Party', 'Investor', 'on,', 'or', 'any', 'observer', 'rights', 'with', 'respect', 'to,', 'the', 'Advisory', 'Board', '(including,', 'without', 'limitation,', 'designation', 'of', 'a', 'representative', 'to', 'serve', 'as', 'a', 'member', 'of', 'the', 'Advisory', 'Board', 'or', 'attend', 'meetings', 'of', 'the', 'Advisory', 'Board', 'or', 'receive', 'or', 'have', 'access', 'to', 'any', 'materials', 'provided', 'to', 'the', 'Advisory', 'Board),', 'unless', 'the', 'Limited', 'Partner', 'to', 'which', 'such', 'Applicable', 'Other', 'Agreement', 'is', 'disclosed', 'has', 'also', 'designated', 'a', 'member', 'of', 'the', 'Advisory', 'Board', 'or', '(4)', 'are', 'based', 'upon', 'such', 'Third', 'Party', \"Investor's\", 'place', 'of', 'organization', 'or', 'headquarters', 'or', 'organizational', 'form', '(in', 'each', 'case,', 'if', 'different', 'from', 'that', 'of', 'the', 'Investor).', 'As', 'used', 'herein,', 'the', 'following', 'terms', 'shall', 'have', 'the', 'following', 'meanings:', '\"Comparable', 'Investor\"', 'shall', 'mean', 'any', 'Third', 'Party', 'Investor', 'having', 'a', 'Capital', 'Commitment', 'to', 'the', 'Fund,', 'the', 'Sister', 'Fund', 'or', 'the', 'SFRO', 'Feeder', 'equal', 'to', 'or', 'less', 'than', 'the', \"Investor's\", 'aggregate', 'Capital', 'Commitment', 'to', 'the', 'Fund,', 'the', 'Sister', 'Fund', 'or', 'the', 'SFRO', 'Feeder;', 'provided', 'that', 'for', 'purposes', 'of', 'determining', 'whether', 'any', 'Third', 'Party', 'Investor', 'is', 'a', 'Comparable', 'Investor,', 'the', 'investment', 'of', 'such', 'Third', 'Party', 'Investor', 'in', 'the', 'Fund,', 'the', 'Sister', 'Fund', 'or', 'the', 'SFRO', 'Feeder', 'may,', 'in', 'the', 'discretion', 'of', 'the', 'General', 'Partner,', 'be', 'aggregated', 'with', 'the', 'aggregate', 'amount', 'of', 'Capital', 'Commitments', 'to', 'the', 'Fund,', 'the', 'Sister', 'Fund', 'or', 'the', 'SFRO', 'Feeder', 'by', 'any', 'Affiliates', 'thereof', 'and', 'any', 'other', 'related', 'Persons', 'thereof', '(including', 'any', 'such', 'Persons', 'treated', 'as', 'affiliated', 'or', 'related', 'for', 'such', 'purposes', 'as', 'a', 'result', 'of', 'being', 'clients', 'of,', 'or', 'otherwise', 'managed', 'or', 'advised', 'by,', 'the', 'same', 'Person', 'or', 'by', 'an', 'Affiliate', 'thereof)', 'and', 'the', 'aggregate', 'amount', 'of', 'any', 'requested', 'subscription', 'amounts', 'of', 'the', 'Third', 'Party', 'Investor', 'or', 'any', 'of', 'the', 'foregoing', 'which', 'were', 'not', 'accepted', 'due', 'to', 'legal', 'or', 'regulatory', 'limitations', '(including,', 'without', 'limitation,', 'in', 'order', 'to', 'ensure', 'that', 'the', 'aggregate', 'direct', 'and', 'indirect', 'Capital', 'Commitments', 'by', 'all', 'Benefit', 'Plan', 'Investors', 'to', 'the', 'Fund,', 'the', 'Sister', 'Fund', 'or', 'the', 'SFRO', 'Feeder', 'are', 'less', 'than', 'twenty-five', 'percent', '(25%)', 'of', 'the', 'total', 'Capital', 'Commitments', 'to', 'such', 'vehicle),', 'in', 'each', 'case,', 'to', 'the', 'extent', 'deemed', 'to', 'have', 'been', 'made', 'by', 'such', 'Third', 'Party', 'Investor', 'for', 'purposes', 'of', 'its', 'Other', 'Agreement', 'as', 'so', 'designated', 'therein;', 'A', 'Third', 'Party', 'Investor', 'that', 'has', 'materially', 'less', 'U.S.', 'ownership', 'than', 'another', 'Third', 'Party', 'Investor', 'will', 'not', 'be', 'considered', 'a', 'Comparable', 'Investor', 'with', 'respect', 'to', 'such', 'other', 'Third', 'Party', 'Investor', 'solely', 'for', 'economic', 'purposes.', 'For', 'example,', 'a', 'Third', 'Party', 'Investor', 'making', 'a', 'Capital', 'Commitment', 'comprised', 'of', '25%', 'more', 'U.S.', 'ownership', 'than', 'another', 'Third', 'Party', 'Investor', 'making', 'a', 'Capital', 'Commitment', 'of', 'the', 'same', 'size', 'would', 'not', 'be', 'considered', 'Comparable', 'Investors', 'for', 'economic', 'purposes.', '\"Other', 'Agreements\"', 'shall', 'mean', 'side', 'letters', 'or', 'similar', 'agreements', 'with', 'Limited', 'Partners', 'of', 'the', 'Fund,', 'the', 'limited', 'partners', 'of', 'the', 'Sister', 'Fund', 'or', 'the', 'limited', 'partners', 'of', 'the', 'SFRO', 'Feeder.', '\"Third', 'Party', 'Investor\"', 'means', 'any', 'Person', 'that', 'subscribes', 'to', 'or', 'invests', 'in', 'the', 'Fund,', 'the', 'Sister', 'Fund', 'or', 'the', 'SFRO', 'Feeder', 'other', 'than:', '(i)', 'any', 'current', 'or', 'former', '(x)', 'member,', 'partner,', 'director,', 'officer,', 'employee,', 'principal,', 'or', 'consultant', '(provided', 'such', 'consultant', 'is', 'generally', 'subject', 'to', 'AC', \"Partners'\", 'compliance', 'policies)', 'of', 'the', 'General', 'Partner,', 'the', 'Management', 'Company', 'or', 'any', 'of', 'their', 'Affiliates,', 'or', '(y)', 'any', 'Related', 'Investor,', 'or', 'other', 'account,', 'trust,', 'partnership', 'or', 'entity', 'primarily', 'for', 'the', 'benefit', 'of', 'any', 'of', 'the', 'foregoing', 'or', 'any', 'of', 'their', 'families;', '(ii)', 'any', 'Person', '(or', 'any', 'Persons', 'DOC', 'ID', '-', '36972123.18', '-4-', 'Page', '4', 'affiliated', 'with', 'or', 'related', 'to', 'such', 'Person)', 'including,', 'without', 'limitation,', 'one', 'individual', 'who', 'may', 'assist', 'in', 'raising', 'capital', 'through', 'such', \"individual's\", \"employer's\", 'private', 'client', 'platform', '(subject', 'to', 'applicable', 'law', 'and', 'such', \"individual's\", \"employer's\", 'policies', 'and', 'procedures', 'around', 'making', 'such', 'investments)', 'that', 'is', 'a', 'current', 'or', 'former', 'joint', 'venture', 'partner', 'or', 'strategic', 'partner', 'of,', 'or', 'co-manager', 'or', 'co-adviser', 'with,', 'the', 'General', 'Partner,', 'the', 'Management', 'Company', 'or', 'any', 'of', 'their', 'Affiliates,', '(iii)', 'any', 'Person', '(or', 'any', 'Persons', 'affiliated', 'with', 'or', 'related', 'to', 'such', 'Person)', 'currently', 'or', 'previously', 'serving', 'or', 'having', 'representatives', 'on', 'any', 'investment', 'committee', '(or', 'similar', 'body', 'or', 'structure', 'exercising', 'investment', 'discretion)', 'of', 'the', 'Fund,', 'the', 'Sister', 'Fund', 'or', 'of', 'any', 'investment', 'fund,', 'vehicle', 'or', 'account', 'co-managed', 'or', 'co-advised', 'by', 'the', 'General', 'Partner,', 'the', 'Management', 'Company', 'or', 'any', 'of', 'their', 'Affiliates,', 'or', '(iv)', 'any', 'subsequent', 'successor,', 'heir', 'or', 'assign', 'of', 'the', 'foregoing.', '3.', 'Capital', 'Commitments', 'by', 'Benefit', 'Plan', 'Investors.', 'The', 'parties', 'hereto', 'acknowledge', 'that', 'the', 'Investor', 'has', 'submitted', 'a', 'Subscription', 'Agreement', 'on', 'or', 'prior', 'to', 'the', 'date', 'hereof', 'requesting', 'an', 'aggregate', 'Capital', 'Commitment', 'of', '$50', 'million', '(the', '\"Requested', 'Commitment\"),', 'and', 'the', 'Investor', 'shall', 'be', 'deemed', 'to', 'have', 'such', 'Capital', 'Commitment', 'for', 'purposes', 'of', 'this', 'Letter', 'Agreement.', 'Notwithstanding', 'the', 'foregoing,', 'the', 'parties', 'hereto', 'agree', 'that,', 'in', 'the', 'sole', 'discretion', 'of', 'the', 'General', 'Partner,', 'the', 'Fund', 'shall', 'accept', 'less', 'than', 'the', 'full', 'amount', 'of', 'the', \"Investor's\", 'Requested', 'Commitment', 'on', 'the', 'date', 'hereof', 'in', 'order', 'to', 'ensure', 'that', 'the', 'aggregate', 'direct', 'and', 'indirect', 'capital', 'commitments', 'by', 'all', 'Benefit', 'Plan', 'Investors', 'to', 'the', 'Fund', 'are', 'less', 'than', '25%', 'of', 'the', 'total', 'capital', 'commitments', 'to', 'the', 'Fund', '(excluding', 'any', 'capital', 'commitments', 'by', 'the', 'General', 'Partner', 'or', 'its', 'Affiliates', 'to', 'the', 'Fund', 'or', 'the', 'SFRO', 'Feeder).', 'In', 'such', 'event,', 'at', 'each', 'subsequent', 'Closing', 'following', 'the', 'date', 'hereof,', 'the', 'General', 'Partner', 'shall', 'accept', 'additional', 'portions', 'of', 'the', 'remaining', 'Requested', 'Commitment', 'of', 'the', 'Investor', '(each,', 'an', '\"Adjustment\")', 'if', 'and', 'to', 'the', 'extent', 'that', 'the', 'General', 'Partner,', 'in', 'its', 'sole', 'discretion,', 'determines', 'that', 'doing', 'so', 'would', 'not', 'cause', 'the', 'aggregate', 'direct', 'and', 'indirect', 'capital', 'commitments', 'by', 'all', 'Benefit', 'Plan', 'Investors', 'to', 'the', 'Fund', 'to', 'exceed', '25%', 'of', 'the', 'total', 'capital', 'commitments', 'to', 'the', 'Fund', '(excluding', 'any', 'capital', 'commitments', 'by', 'the', 'General', 'Partner', 'or', 'its', 'Affiliates', 'to', 'the', 'Fund', 'or', 'the', 'SFRO', 'Feeder).', 'Such', 'Adjustments', 'shall', 'be', 'accepted', 'by', 'the', 'General', 'Partner', 'on', 'not', 'less', 'than', 'a', 'pro', 'rata', 'basis', 'with', 'any', 'similar', 'adjustments', 'for', 'any', 'other', 'Benefit', 'Plan', 'Investors', 'whose', 'requested', 'Capital', 'Commitment', 'was', 'not', 'accepted', 'in', 'full', 'on', 'or', 'prior', 'to', 'the', 'date', 'hereof.', 'Notwithstanding', 'the', 'foregoing,', 'at', 'one', 'or', 'more', 'subsequent', 'Closings,', 'the', 'General', 'Partner', 'may', 'admit', 'any', 'other', 'Benefit', 'Plan', 'Investor', 'as', 'a', 'Limited', 'Partner', 'and', 'enter', 'into', 'an', 'Other', 'Agreement', 'with', 'such', 'Benefit', 'Plan', 'Investor', 'that', 'provides', 'for', 'the', 'acceptance', 'of', 'such', 'Benefit', 'Plan', \"Investor's\", 'Capital', 'Commitment', 'on', 'a', 'similarly', 'conditional', 'basis,', 'provided', 'that', 'the', \"Fund's\", 'acceptance', 'of', 'such', 'Benefit', 'Plan', \"Investor's\", 'Capital', 'Commitment', 'in', 'full', 'is', 'only', 'to', 'the', 'extent', 'that', 'such', 'Capital', 'Commitment', 'is', 'later', 'in', 'priority', 'to', 'the', 'acceptance', 'of', 'the', \"Investor's\", 'Requested', 'Commitment.', 'Other', 'than', 'as', 'set', 'forth', 'in', 'this', 'Section', '3,', 'the', 'General', 'Partner', 'shall', 'not', 'accept', 'Capital', 'Commitments', 'from', 'any', 'Benefit', 'Plan', 'Investors', 'until', 'such', 'time', 'as', 'the', 'entire', 'amount', 'of', 'the', 'Requested', 'Commitment', 'has', 'been', 'accepted.', 'For', 'the', 'avoidance', 'of', 'doubt,', '(i)', 'the', 'Requested', 'Commitment', 'shall', 'be', 'irrevocable', 'by', 'the', 'Investor', 'and', '(ii)', 'the', 'Investor', 'shall', 'be', 'obligated', 'to', 'fund', 'each', 'portion', 'of', 'the', 'Requested', 'Commitment', 'that', 'is', 'accepted', 'by', 'the', 'Fund', 'at', 'each', 'subsequent', 'Closing.', 'Further,', 'for', 'purposes', 'of', 'determining', 'the', 'Lock-Up', 'and', 'the', 'Commitment', 'Lock-Up', 'Expiration', 'Date', 'applicable', 'to', 'the', \"Investor's\", 'Capital', 'Commitment,', 'the', 'Investor', 'shall', 'be', 'deemed', 'to', 'have', 'made', 'its', 'entire', 'Capital', 'Commitment', 'as', 'of', 'the', 'date', 'hereof.', 'DOC', 'ID', '-', '36972123.18', '-5-', 'Page', '5', '4.', 'Other', 'Agreements.', 'For', 'so', 'long', 'as', 'the', 'Investor', 'holds', 'an', 'Interest', 'in', 'the', 'Fund,', 'to', 'the', 'extent', 'that', 'any', 'Other', 'Agreement', 'is', 'entered', 'into', 'with', 'a', 'Third', 'Party', 'Investor', 'with', 'respect', 'to', 'its', 'interest', 'in', 'the', 'Fund,', 'and', 'a', 'copy', 'of', 'such', 'Other', 'Agreement', 'is', 'not', 'required', 'to', 'be', 'provided', 'to', 'the', 'Investor', 'pursuant', 'to', 'Section', '2', 'above,', 'then', 'in', 'such', 'event,', 'the', 'General', 'Partner', 'shall', 'provide', 'to', 'the', 'Investor', 'a', 'copy', 'of', 'such', 'Other', 'Agreement', '(which', 'such', 'copy', 'may', 'be', 'redacted', 'for', 'any', 'identifying', 'information', 'with', 'respect', 'to', 'the', 'Third', 'Party', 'Investor', 'or', 'any', 'other', 'information', 'not', 'relevant', 'hereto)', 'unless', 'the', 'General', 'Partner', 'is', 'otherwise', 'restricted', 'by', 'confidentiality', 'or', 'non-', 'disclosure', 'obligations', 'with', 'respect', 'to', 'the', 'provision', 'of', 'such', 'Other', 'Agreement.', '5.', 'Advisory', 'Board.', 'In', 'consideration', 'of', 'the', \"Investor's\", 'admission', 'as', 'a', 'Limited', 'Partner', 'and', 'for', 'so', 'long', 'as', 'the', 'Investor', 'is', 'a', 'Limited', 'Partner', 'in', 'the', 'Fund', 'and', 'maintains', 'a', 'Capital', 'Commitment', 'of', 'at', 'least', '$50', 'million', '(or', 'such', 'lesser', 'aggregate', 'amount', 'of', 'the', \"Investor's\", 'Capital', 'Commitment', 'that', 'has', 'been', 'accepted', 'by', 'the', 'General', 'Partner', 'in', 'accordance', 'with', 'Section', '3', 'above', 'as', 'of', 'the', 'relevant', 'date),', 'and', 'is', 'not', 'a', 'Defaulting', 'Limited', 'Partner,', 'the', 'General', 'Partner', 'agrees', 'that', 'the', 'Investor', 'shall', 'be', 'entitled', 'to', 'designate', 'one', 'member', 'to', 'serve', 'on', 'a', 'committee', 'of', 'the', 'Fund', 'established', 'pursuant', 'to', 'Section', '5.6', 'of', 'the', 'Limited', 'Partnership', 'Agreement', '(the', '\"Advisory', 'Board\").', 'The', 'appointment', 'of', 'an', 'Advisory', 'Board', 'member', 'pursuant', 'to', 'this', 'Section', '5', 'shall', 'be', 'effective', 'upon', 'written', 'notice', 'from', 'the', 'Investor', 'to', 'the', 'Fund', 'of', 'the', 'name', 'and', 'contact', 'information', 'of', 'the', 'individual', 'so', 'appointed.', 'If', 'the', 'individual', 'appointed', 'pursuant', 'this', 'Section', '5', 'to', 'act', 'as', 'the', 'Advisory', 'Board', 'member', 'is', 'no', 'longer', 'affiliated', 'with', 'the', 'Investor,', 'or', 'no', 'longer', 'able', 'or', 'willing', 'to', 'act', 'as', 'the', 'Advisory', 'Board', 'member,', 'the', 'Investor', 'shall', 'provide', 'prompt', 'written', 'notice', 'thereof', 'to', 'the', 'Fund', 'and', 'such', 'Advisory', 'Board', 'member', 'shall', 'automatically', 'be', 'removed.', 'The', 'Investor', 'shall', 'be', 'entitled', 'to', 'remove', 'or', 'replace', 'any', 'Advisory', 'Board', 'member', 'at', 'any', 'time', 'pursuant', 'to', 'prior', 'written', 'notice', 'provided', 'by', 'the', 'Investor', 'to', 'the', 'General', 'Partner.', 'The', 'Investor', 'acknowledges', 'that', 'the', 'Advisory', 'Board', 'member', 'shall', 'be', 'bound', 'by', 'the', 'confidentiality', 'provisions', 'described', 'in', 'Section', '14.2', 'of', 'the', 'Limited', 'Partnership', 'Agreement.', 'The', 'Advisory', 'Board', 'may', 'act', 'on', 'behalf', 'of', 'the', 'Fund', 'and', 'the', 'Sister', 'Fund', 'if', 'requested', 'by', 'the', 'General', 'Partner,', 'provided', 'that', 'in', 'the', 'event', 'the', 'Advisory', 'Board', 'acts', 'on', 'behalf', 'of', 'the', 'Sister', 'Fund,', 'the', 'Advisory', 'Board', 'representative', 'appointed', 'by', 'the', 'Investor', 'shall', 'be', 'indemnified', 'pursuant', 'to', 'a', 'separate', 'indemnification', 'agreement', 'between', 'such', 'Advisory', 'Board', 'representative', 'and', 'the', 'Sister', 'Fund.', '6.', 'Transfers.', 'In', 'connection', 'with', 'any', 'proposed', 'transfer', 'by', 'the', 'Investor', 'of', 'all', 'or', 'a', 'portion', 'of', 'its', 'Interest', 'in', 'the', 'Fund', 'to', 'a', 'Lockheed', 'Party', '(as', 'defined', 'below),', 'at', 'the', 'request', 'of', 'the', 'Investor,', 'the', 'General', 'Partner', 'shall', 'not', 'unreasonably', 'withhold', 'its', 'written', 'consent', 'to', 'such', 'transfer', 'and', 'the', \"transferee's\", 'substitution', 'as', 'a', 'Limited', 'Partner,', 'as', 'required', 'by', 'the', 'Subscription', 'Agreement;', 'provided', '(a)', 'such', 'transfer', 'will', 'not', 'result', 'in', 'a', 'violation', 'of', 'any', 'applicable', 'laws,', 'rules', 'or', 'regulations', 'or', 'have', 'any', 'material', 'adverse', 'impact', '(whether', 'legal,', 'financial,', 'tax,', 'regulatory,', 'or', 'otherwise)', 'on', 'the', 'Fund,', 'the', 'Management', 'Company', 'or', 'the', 'General', 'Partner,', 'as', 'determined', 'by', 'the', 'General', 'Partner,', '(b)', 'such', 'transferee', 'is', 'not', 'a', 'competitor', 'of', '(directly', 'or', 'indirectly)', 'or', 'otherwise', 'affiliated', 'with', 'any', 'competitor', 'of', 'the', 'Fund,', 'the', 'General', 'Partner,', 'the', 'Management', 'Company', 'or', 'their', 'respective', 'Affiliates,', 'as', 'determined', 'in', 'good', 'faith', 'by', 'the', 'General', 'Partner,', '(c)', 'such', 'transferee', 'is', 'determined', 'to', 'be', 'sufficiently', 'creditworthy', 'to', 'assume', 'the', 'Limited', \"Partner's\", 'obligations', 'with', 'respect', 'to', 'the', 'Interest', 'being', 'transferred', 'and', 'clears', 'any', 'anti-money', 'laundering', '(AML),', 'know', 'your', 'customer', '(KYC)', 'and', 'similar', 'reviews', 'conducted', 'by', 'or', 'on', 'behalf', 'of', 'the', 'Fund', 'or', 'its', 'administrator', 'and', 'consistent', 'with', 'their', 'policies', 'and', 'procedures,', 'and', '(d)', 'such', 'transfer', 'is', 'documented', 'in', 'writing', 'in', 'a', 'form', 'reasonably', 'DOC', 'ID', '-', '36972123.18', '-6-', 'Page', '6', 'acceptable', 'to', 'the', 'General', 'Partner', 'and', 'such', 'transferee', 'makes', 'such', 'representations,', 'warranties,', 'covenants', 'and', 'undertakings', 'as', 'may', 'be', 'reasonably', 'required', 'by', 'the', 'General', 'Partner', 'in', 'connection', 'with', 'such', 'transfer,', 'including', 'representations,', 'warranties,', 'covenants', 'and', 'undertakings', 'comparable', 'to', 'those', 'included', 'in', 'the', \"Investor's\", 'Subscription', 'Agreement.', 'The', 'rights', 'and', 'obligations', 'arising', 'under', 'this', 'Letter', 'Agreement', 'may', 'be', 'assigned', 'by', 'the', 'Investor', 'to', 'any', 'such', 'transferee,', 'and', 'will', 'apply', 'equally', 'to', 'such', 'transferee,', 'in', 'connection', 'with', 'such', 'transfer;', 'provided,', 'however,', 'that', 'the', 'rights', 'arising']\n",
      "[0, 0, 1, 2, 15, 2, 16, 16, 0, 11, 12, 12, 11, 0, 11, 12, 12, 3, 0, 4, 7, 7, 11, 12, 12, 0, 0, 0, 0, 0, 0, 0, 1, 2, 15, 2, 16, 0, 0, 1, 15, 14, 0, 0, 0, 13, 14, 0, 13, 0, 0, 0, 0, 0, 0, 0, 0, 0, 0, 7, 0, 0, 0, 0, 15, 14, 0, 0, 0, 2, 0, 0, 0, 0, 0, 0, 0, 0, 0, 0, 0, 0, 0, 0, 0, 0, 0, 13, 0, 14, 15, 14, 14, 0, 0, 2, 0, 0, 0, 3, 0, 4, 0, 13, 14, 0, 0, 14, 14, 0, 0, 15, 0, 0, 2, 0, 0, 0, 0, 0, 0, 0, 13, 0, 0, 0, 0, 0, 0, 0, 0, 0, 0, 0, 0, 0, 0, 0, 0, 0, 0, 0, 15, 0, 0, 0, 0, 0, 0, 0, 0, 0, 0, 0, 0, 0, 0, 0, 13, 0, 1, 16, 16, 0, 0, 0, 1, 15, 2, 2, 0, 15, 0, 0, 0, 0, 0, 0, 0, 0, 0, 0, 0, 0, 0, 0, 15, 0, 0, 0, 0, 1, 0, 0, 0, 0, 15, 0, 0, 0, 0, 0, 0, 0, 0, 0, 0, 0, 0, 0, 0, 0, 0, 0, 0, 0, 15, 0, 0, 3, 0, 4, 0, 0, 0, 0, 0, 0, 1, 0, 0, 0, 0, 15, 0, 0, 0, 0, 0, 0, 0, 0, 0, 0, 0, 0, 0, 0, 0, 0, 0, 0, 0, 0, 0, 0, 0, 0, 0, 0, 0, 0, 0, 0, 0, 0, 0, 0, 0, 0, 15, 16, 0, 0, 0, 0, 15, 0, 0, 0, 13, 14, 0, 0, 0, 0, 0, 0, 0, 0, 0, 15, 15, 0, 0, 0, 0, 1, 2, 15, 2, 16, 16, 0, 1, 0, 0, 0, 16, 15, 0, 15, 0, 1, 0, 0, 0, 0, 0, 0, 0, 0, 0, 13, 14, 0, 15, 0, 0, 13, 0, 0, 0, 0, 0, 0, 0, 13, 14, 0, 0, 0, 0, 15, 15, 0, 0, 0, 0, 0, 0, 0, 0, 0, 0, 0, 15, 15, 0, 0, 0, 0, 0, 0, 0, 15, 15, 0, 0, 0, 0, 0, 0, 0, 0, 0, 0, 15, 0, 0, 13, 14, 0, 0, 15, 14, 0, 0, 15, 0, 0, 0, 0, 0, 15, 16, 0, 0, 5, 6, 0, 0, 0, 0, 0, 0, 0, 0, 0, 13, 0, 0, 0, 0, 0, 0, 0, 0, 0, 0, 13, 14, 0, 0, 0, 0, 0, 0, 0, 0, 0, 0, 0, 15, 0, 0, 0, 0, 0, 0, 0, 0, 0, 0, 0, 0, 13, 14, 0, 0, 0, 0, 0, 0, 0, 0, 0, 0, 0, 0, 0, 0, 0, 0, 0, 0, 0, 0, 0, 0, 13, 14, 0, 0, 0, 0, 0, 0, 0, 0, 0, 0, 0, 0, 0, 0, 0, 0, 0, 0, 0, 15, 16, 15, 0, 0, 0, 0, 15, 16, 13, 0, 0, 0, 0, 0, 0, 0, 0, 15, 16, 0, 16, 0, 0, 16, 0, 0, 0, 0, 0, 0, 15, 0, 0, 0, 0, 0, 0, 0, 0, 0, 0, 0, 0, 15, 16, 15, 0, 0, 0, 15, 0, 0, 0, 0, 0, 0, 0, 0, 0, 0, 0, 0, 0, 0, 0, 0, 0, 0, 15, 16, 15, 0, 0, 0, 1, 0, 0, 0, 0, 1, 2, 0, 0, 1, 0, 0, 0, 0, 15, 0, 0, 0, 0, 0, 0, 0, 0, 0, 0, 0, 15, 16, 15, 0, 0, 0, 0, 0, 0, 0, 0, 0, 1, 2, 0, 0, 0, 0, 0, 0, 0, 0, 0, 0, 0, 0, 0, 0, 1, 2, 0, 0, 0, 0, 0, 1, 2, 0, 0, 0, 0, 0, 0, 0, 0, 0, 0, 0, 1, 0, 0, 0, 15, 16, 0, 0, 0, 0, 13, 14, 0, 0, 0, 0, 0, 0, 0, 0, 0, 1, 2, 0, 0, 0, 0, 0, 0, 15, 16, 13, 0, 0, 0, 0, 0, 0, 0, 0, 0, 0, 0, 0, 0, 0, 0, 0, 0, 0, 0, 0, 0, 0, 0, 0, 0, 0, 0, 0, 0, 15, 16, 0, 0, 0, 15, 16, 15, 0, 0, 16, 16, 0, 0, 0, 0, 1, 2, 0, 0, 1, 2, 0, 0, 0, 0, 0, 0, 13, 0, 16, 16, 0, 0, 0, 0, 1, 2, 0, 0, 1, 0, 0, 0, 0, 0, 0, 0, 0, 0, 15, 16, 15, 0, 0, 15, 0, 0, 1, 0, 0, 15, 16, 15, 0, 0, 0, 0, 1, 2, 0, 0, 1, 2, 0, 0, 0, 0, 0, 0, 15, 0, 0, 0, 0, 0, 0, 0, 0, 16, 16, 0, 0, 0, 0, 1, 2, 0, 0, 1, 2, 0, 0, 0, 0, 0, 0, 0, 0, 0, 0, 0, 0, 0, 0, 0, 0, 0, 0, 0, 0, 0, 0, 0, 0, 0, 0, 0, 0, 0, 0, 0, 0, 0, 0, 0, 0, 0, 0, 0, 0, 0, 0, 0, 0, 0, 0, 0, 0, 0, 0, 0, 0, 0, 0, 15, 16, 15, 0, 0, 0, 0, 0, 0, 0, 0, 0, 0, 0, 0, 0, 0, 0, 0, 0, 0, 0, 0, 0, 0, 0, 0, 0, 0, 0, 0, 16, 16, 0, 0, 0, 0, 15, 0, 0, 0, 0, 1, 2, 0, 0, 1, 2, 0, 0, 0, 15, 16, 0, 0, 0, 0, 16, 16, 0, 0, 0, 0, 0, 0, 0, 0, 0, 0, 0, 0, 0, 0, 0, 0, 15, 16, 15, 0, 0, 0, 0, 13, 14, 0, 0, 0, 0, 0, 15, 16, 15, 0, 0, 0, 0, 11, 0, 0, 0, 15, 16, 15, 0, 0, 0, 0, 0, 15, 15, 0, 0, 0, 0, 0, 15, 16, 15, 0, 0, 0, 0, 0, 0, 0, 15, 16, 15, 0, 0, 16, 16, 0, 0, 0, 0, 11, 0, 0, 0, 15, 16, 15, 0, 0, 16, 16, 0, 0, 0, 0, 0, 0, 0, 0, 15, 15, 0, 0, 0, 15, 16, 0, 0, 0, 0, 0, 0, 0, 0, 15, 16, 0, 0, 0, 0, 15, 16, 0, 0, 1, 2, 0, 0, 15, 16, 0, 0, 1, 2, 15, 16, 16, 0, 0, 0, 0, 0, 0, 0, 0, 0, 0, 0, 0, 1, 2, 0, 0, 1, 2, 0, 0, 0, 0, 0, 0, 0, 0, 0, 0, 0, 0, 0, 0, 0, 0, 0, 0, 0, 0, 0, 0, 0, 0, 0, 0, 0, 0, 0, 15, 0, 0, 1, 2, 0, 0, 0, 0, 0, 0, 0, 0, 0, 0, 0, 0, 0, 0, 14, 0, 0, 0, 0, 0, 0, 0, 0, 0, 0, 0, 0, 0, 0, 0, 0, 0, 0, 0, 0, 0, 0, 15, 16, 0, 16, 0, 0, 0, 0, 0, 0, 0, 0, 0, 0, 0, 0, 0, 0, 0, 0, 0, 0, 0, 0, 0, 0, 0, 0, 0, 0, 0, 0, 0, 0, 0, 0, 0, 0, 0, 0, 0, 0, 0, 0, 0, 0, 0, 0, 0, 0, 0, 0, 0, 0, 0, 0, 0, 0, 0, 0, 0, 7, 0, 7, 0, 0, 15, 0, 0, 1, 2, 0, 0, 0, 0, 0, 0, 0, 0, 0, 0, 0, 0, 0, 0, 0, 0, 0, 0, 0, 0, 0, 0, 0, 0, 0, 0, 0, 1, 2, 0, 0, 0, 0, 0, 0, 1, 0, 0, 0, 0, 0, 1, 2, 0, 0, 0, 1, 0, 0, 0, 0, 0, 0, 0, 0, 0, 15, 0, 0, 1, 2, 0, 0, 0, 0, 0, 0, 0, 0, 0, 0, 0, 0, 0, 0, 0, 0, 0, 16, 16, 0, 0, 0, 0, 0, 0, 0, 0, 0, 0, 15, 0, 0, 0, 14, 14, 0, 0, 0, 0, 0, 0, 0, 0, 0, 0, 16, 16, 0, 0, 10, 0, 0, 0, 0, 0, 15, 0, 0, 0, 0, 0, 0, 16, 16, 0, 0, 0, 0, 13, 14, 0, 0, 0, 0, 0, 0, 0, 0, 0, 0, 0, 0, 0, 0, 15, 0, 0, 2, 0, 0, 0, 0, 0, 0, 0, 0, 0, 13, 0, 16, 0, 0, 0, 0, 0, 0, 0, 0, 0, 0, 0, 0, 0, 0, 0, 0, 0, 0, 0, 0, 15, 0, 0, 2, 0, 0, 0, 0, 0, 0, 0, 0, 0, 0, 0, 2, 0, 0, 0, 0, 0, 0, 15, 16, 0, 0, 0, 0, 0, 2, 0, 0, 1, 0, 0, 0, 0, 0, 0, 0, 0, 0, 0, 0, 0, 0, 15, 16, 0, 0, 0, 0, 0, 0, 0, 0, 16, 0, 0, 15, 0, 0, 0, 0, 0, 0, 0, 0, 0, 0, 15, 0, 0, 0, 0, 0, 0, 0, 0, 0, 0, 0, 0, 0, 0, 0, 0, 0, 0, 0, 0, 0, 0, 0, 15, 0, 0, 2, 0, 0, 0, 0, 0, 0, 0, 0, 0, 0, 2, 0, 0, 0, 0, 0, 0, 15, 16, 0, 0, 0, 0, 0, 2, 0, 0, 1, 0, 0, 0, 0, 0, 0, 0, 0, 15, 16, 0, 0, 0, 0, 0, 0, 0, 0, 0, 0, 0, 0, 0, 0, 0, 0, 0, 15, 0, 0, 16, 16, 0, 0, 0, 0, 0, 0, 0, 0, 0, 0, 0, 0, 0, 0, 0, 0, 0, 0, 0, 0, 0, 0, 15, 16, 0, 0, 0, 0, 0, 0, 15, 0, 0, 15, 16, 0, 0, 0, 0, 13, 14, 0, 0, 0, 0, 15, 0, 0, 0, 0, 0, 0, 0, 0, 0, 13, 16, 16, 0, 0, 0, 0, 0, 0, 0, 0, 0, 0, 0, 0, 0, 0, 13, 16, 16, 0, 0, 0, 0, 0, 0, 0, 0, 0, 16, 16, 0, 0, 0, 0, 0, 0, 0, 0, 0, 13, 0, 0, 13, 0, 0, 0, 0, 0, 0, 15, 0, 0, 15, 16, 0, 0, 0, 16, 16, 0, 0, 0, 0, 15, 0, 0, 0, 0, 0, 0, 0, 0, 0, 0, 16, 0, 0, 0, 0, 0, 0, 0, 0, 0, 0, 0, 16, 0, 0, 0, 0, 0, 15, 0, 0, 0, 15, 0, 0, 0, 0, 0, 0, 0, 0, 0, 0, 16, 0, 0, 0, 0, 0, 2, 0, 0, 0, 0, 0, 0, 0, 0, 0, 0, 0, 0, 0, 16, 0, 0, 0, 0, 0, 0, 13, 16, 0, 0, 15, 0, 0, 0, 0, 0, 0, 0, 0, 16, 16, 0, 0, 0, 0, 0, 15, 16, 0, 16, 0, 0, 16, 0, 13, 14, 0, 0, 0, 0, 0, 15, 0, 0, 0, 0, 0, 0, 0, 0, 0, 0, 0, 13, 14, 0, 0, 0, 0, 0, 15, 16, 15, 0, 0, 0, 0, 0, 0, 0, 0, 0, 0, 0, 0, 0, 13, 14, 0, 0, 0, 0, 0, 0, 0, 0, 15, 0, 0, 15, 0, 0, 0, 0, 0, 0, 0, 15, 16, 0, 0, 0, 0, 15, 0, 0, 0, 0, 13, 14, 0, 0, 0, 0, 0, 0, 0, 0, 0, 0, 0, 0, 0, 0, 15, 16, 15, 0, 0, 0, 0, 0, 0, 0, 0, 0, 15, 16, 0, 0, 0, 0, 0, 0, 0, 0, 0, 0, 0, 0, 0, 0, 0, 0, 13, 14, 0, 1, 2, 0, 0, 0, 0, 13, 0, 0, 0, 15, 16, 0, 0, 0, 0, 0, 0, 15, 0, 0, 15, 16, 0, 0, 2, 0, 0, 0, 16, 16, 0, 0, 0, 0, 10, 0, 0, 0, 0, 0, 0, 0, 13, 16, 16, 0, 0, 0, 0, 0, 0, 15, 16, 0, 0, 0, 15, 16, 0, 0, 0, 0, 0, 0, 0, 0, 0, 0, 0, 15, 0, 0, 15, 16, 0, 0, 0, 15, 0, 0, 0, 0, 0, 0, 0, 0, 0, 0, 0, 2, 0, 0, 2, 0, 0, 0, 15, 16, 0, 0, 15, 14, 14, 0, 1, 0, 0, 0, 0, 0, 1, 2, 0, 0, 0, 0, 15, 16, 0, 0, 0, 0, 0, 0, 0, 0, 15, 0, 0, 2, 0, 0, 0, 0, 0, 0, 0, 0, 0, 0, 0, 0, 0, 0, 0, 0, 0, 15, 16, 0, 0, 0, 0, 1, 2, 0, 0, 0, 0, 0, 0, 0, 0, 0, 0, 0, 0, 0, 0, 0, 0, 0, 0, 1, 2, 0, 0, 15, 0, 0, 0, 0, 0, 0, 0, 0, 2, 0, 0, 1, 2, 0, 0, 0, 0, 0, 0, 15, 0, 0, 0, 0, 0, 0, 0, 0, 1, 2, 0, 0, 0, 0, 0, 0, 0, 0, 0, 0, 0, 0, 15, 0, 0, 15, 16, 0, 15, 0, 0, 0, 1, 2, 0, 0, 0, 0, 0, 0, 0, 0, 0, 0, 15, 16, 0, 0, 15, 14, 14, 0, 1, 2, 0, 0, 0, 0, 0, 0, 2, 0, 0, 1, 2, 0, 0, 0, 0, 15, 0, 0, 0, 0, 0, 0, 0, 1, 2, 0, 0, 0, 0, 0, 1, 0, 0, 1, 2, 0, 0, 0, 0, 15, 0, 0, 0, 0, 0, 0, 0, 13, 14, 0, 0, 1, 2, 0, 0, 0, 1, 2, 0, 0, 0, 0, 0, 0, 0, 0, 0, 0, 15, 0, 0, 0, 0, 0, 0, 0, 0, 0, 0, 2, 0, 0, 15, 16, 0, 0, 0, 0, 0, 0, 0, 0, 0, 0, 15, 16, 0, 0, 0, 0, 0, 0, 0, 0, 0, 0, 0, 0, 0, 0, 0, 0, 15, 0, 0, 0, 0, 0, 14, 0, 0, 0, 0, 0, 0, 0, 0, 0, 0, 0, 0, 0, 0, 0, 0, 0, 0, 0, 0, 0, 0, 0, 0, 0, 0, 0, 0, 0, 0, 0, 0, 0, 0, 0, 1, 2, 0, 0, 15, 0, 0, 0, 0, 0, 15, 0, 0, 0, 0, 0, 0, 0, 0, 0, 0, 0, 0, 0, 0, 0, 0, 0, 0, 0, 0, 0, 0, 15, 0, 0, 1, 2, 0, 0, 0, 0, 0, 0, 0, 0, 0, 0, 0, 15, 0, 0, 0, 0, 0, 0, 0, 0, 0, 0, 0, 0, 0, 15, 16, 0, 0, 0, 0, 0, 0, 0, 0, 0, 0, 0, 15, 16, 0, 15, 16, 16, 0, 0, 0, 0, 0, 0, 0, 0, 0, 0, 0, 2, 0, 0, 0, 0, 0, 0, 0, 0, 0, 0, 0, 0, 0, 0, 0, 0, 0, 0, 0, 0, 0, 0, 15, 16, 0, 16, 0, 0, 0, 0, 0, 0, 15, 16, 0, 0, 0, 0, 0, 0, 0, 0, 0, 0, 0, 0, 0, 0, 0, 0, 0, 15, 16, 0, 0, 0, 0, 0, 0, 0, 0, 0, 0, 0, 0, 0, 0, 0, 0, 0, 13, 14, 14, 0, 0, 0, 0, 0, 0, 0, 13, 14, 0, 0, 0, 0, 0, 15, 0, 0, 0, 0, 0, 0, 0, 0, 0, 0, 0, 0, 0, 0, 0, 0, 0, 0, 0, 0, 0, 0]\n"
     ]
    }
   ],
   "source": [
    "text = data[\"annotations\"][0][0]\n",
    "tags = data[\"annotations\"][0][1][\"entities\"]\n",
    "classes = data[\"classes\"]\n",
    "\n",
    "classes_dict = {}\n",
    "for i in range(len(classes)):\n",
    "  classes_dict[classes[i]] = i\n",
    "\n",
    "# print(classes_dict)\n",
    "\n",
    "tokens = []\n",
    "named_tags = []\n",
    "\n",
    "for tag in tags:\n",
    "  tokens.append(text[tag[0]:tag[1]])\n",
    "  named_tags.append(tag[2])\n",
    "\n",
    "\n",
    "anno_dict = dict(zip(tokens, named_tags))\n",
    "print(anno_dict)\n",
    "\n",
    "all_tokens = text.split(\" \")\n",
    "named_labels = []\n",
    "numbered_labels = []\n",
    "\n",
    "for token in all_tokens:\n",
    "  if token not in anno_dict:\n",
    "    named_labels.append(\"NONE\")\n",
    "  else:\n",
    "    named_labels.append(anno_dict[token])\n",
    "\n",
    "for label in named_labels:\n",
    "  numbered_labels.append(classes_dict[label])\n",
    "\n",
    "print(all_tokens)\n",
    "# print(named_labels)\n",
    "print(numbered_labels)"
   ]
  },
  {
   "cell_type": "code",
   "execution_count": 6,
   "metadata": {
    "colab": {
     "base_uri": "https://localhost:8080/"
    },
    "id": "KftkrqVERtU_",
    "outputId": "01a0a9c4-f487-464a-bc98-3b5538fa32d2"
   },
   "outputs": [
    {
     "name": "stdout",
     "output_type": "stream",
     "text": [
      "[['EXECUTION', 'VERSION', 'Inveniam', 'Private', 'Equity', 'Fund', 'Demo', 'IV.', '.', '8500', 'World'], ['Trade', 'New', 'York,', 'New', 'York', '10022', 'January', '1,', '2019', 'Maria'], ['Sharapova', '31', 'Blandford', 'Street', 'London,', 'W1U', '3DN', 'Ladies', 'and', 'Gentlemen:'], ['RE:', 'Inveniam', 'Private', 'Equity', 'Fund', 'Demo', 'IV,', 'a', 'Delaware', 'limited'], ['partnership', '(the', '\"Fund\")', 'This', 'letter', 'agreement', '(this', '\"Letter', 'Agreement\")', 'is'], ['entered', 'into', 'in', 'connection', 'with', 'the', 'purchase', 'by', 'Sharapova', '(the'], ['\"Investor\")', 'of', 'a', 'limited', 'partnership', 'interest', 'in', 'the', 'Fund.', 'Capitalized'], ['terms', 'used', 'and', 'not', 'defined', 'herein', 'shall', 'have', 'the', 'meanings'], ['given', 'to', 'them', 'in', 'the', 'Fourth', 'Amended', 'and', 'Restated', 'Limited'], ['Partnership', 'Agreement', 'of', 'the', 'Fund', 'dated', 'as', 'of', 'August', '27,'], ['2021', '(the', '\"Limited', 'Partnership', 'Agreement\"),', 'the', 'Subscription', 'Agreement', 'between', 'the'], ['Investor', 'and', 'the', 'Fund', 'dated', 'as', 'of', 'the', 'date', 'hereof'], ['(the', '\"Subscription', 'Agreement\"),', 'including', 'any', 'amendments', 'and', 'supplements', 'to', 'all'], ['of', 'the', 'foregoing', '(collectively,', 'the', '\"Fund', 'Documents\").', 'In', 'consideration', 'for'], ['the', 'Investor', 'making', 'an', 'aggregate', 'capital', 'commitment', 'of', 'at', 'least'], ['$50,000,000', 'as', 'of', 'the', 'date', 'hereof', '(the', '\"Capital', 'Commitment\"),', 'Inveniam'], ['Capital', 'Partners', 'GP,', 'L.L.C.,', 'a', 'Delaware', 'limited', 'liability', 'company', '(the'], ['\"General', 'Partner\"),', 'in', 'its', 'capacity', 'as', 'the', 'general', 'partner', 'of'], ['the', 'Fund,', 'agrees', 'with', 'the', 'Investor', 'as', 'follows:', '1.', 'Reduced'], ['Management', 'Fee', 'Rate.', 'If', 'the', 'Investor', 'has', 'submitted', 'a', 'withdrawal'], ['request', 'and', 'the', 'amount', 'of', 'such', 'withdrawal', 'request', 'has', 'not'], ['been', 'fully', 'paid', 'to', 'the', 'Investor', 'by', 'the', 'January', '1,'], ['2019', 'of', 'the', 'applicable', 'Withdrawal', 'Date,', 'the', 'Management', 'Fee', 'charged'], ['to', 'the', 'Investor', 'with', 'respect', 'to', 'the', 'amount', 'that', 'has'], ['not', 'been', 'paid', 'will', 'be', 'reduced', 'in', 'accordance', 'with', 'the'], ['following', 'schedule', 'until', 'any', 'such', 'unsatisfied', 'withdrawal', 'request', 'will', 'be'], ['0.85%', 'Page', '2', '-2-', '2.', 'Most', 'Favored', 'Nation.', 'The', 'General'], ['Partner', 'shall', 'disclose', 'to', 'the', 'Investor', 'any', 'and', 'all', 'Other'], ['Agreements', '(which', 'may', 'be', 'redacted', 'to', 'remove', 'identifying', 'information)', 'with'], ['Comparable', 'Investors', 'admitted', 'to', 'the', 'Fund,', 'Inveniam', 'Private', 'Equity', 'Fund'], ['Demo', 'IV.', '(the', '\"Sister', 'Fund\")', 'and/or', 'AC', 'Partners', 'Overseas', 'Partners,'], ['L.P.', '(the', '\"SFRO', 'Feeder\")', 'entered', 'into', 'after', 'the', 'date', 'hereof'], ['(all', 'such', 'Other', 'Agreements', 'with', 'Comparable', 'Investors,', '\"Applicable', 'Other', 'Agreements\"),'], ['and,', 'to', 'the', 'extent', 'any', 'Applicable', 'Other', 'Agreement', 'entered', 'into'], ['with', 'any', 'Comparable', 'Investor', 'has', 'the', 'effect', 'of', 'establishing', 'rights'], ['or', 'otherwise', 'benefiting', 'such', 'other', 'Comparable', 'Investor', 'in', 'a', 'manner'], ['more', 'favorable', 'to', 'such', 'Comparable', 'Investor', 'than', 'the', 'rights', 'and'], ['benefits', 'established', 'in', 'favor', 'of', 'the', 'Investor', 'by', 'this', 'Letter'], ['Agreement', 'and', 'the', 'Limited', 'Partnership', 'Agreement,', 'the', 'Investor', 'shall,', 'upon'], ['request', 'to', 'the', 'General', 'Partner', 'made', 'within', '30', 'days', 'of'], ['being', 'notified', 'of', 'the', 'terms', 'of', 'such', 'Applicable', 'Other', 'Agreements,'], ['receive', 'the', 'same', 'rights', 'and', 'benefits', 'of', 'such', 'Applicable', 'Other'], ['Agreement', '(the', '\"Relevant', 'Terms\")', 'and', 'are', 'so', 'requested,', 'but', 'only'], ['if', 'the', 'Investor', 'agrees', 'to', 'be', 'bound', 'by', 'the', 'obligations'], ['or', 'restrictions', 'in', 'such', 'Applicable', 'Other', 'Agreement', 'directly', 'relating', 'to'], ['the', 'Relevant', 'Terms;', 'provided,', 'however,', 'that', 'Relevant', 'Terms', 'shall', 'exclude'], ['any', '\"most', 'favored', 'nation\"', 'rights', 'granted', 'in', 'any', 'Applicable', 'Other'], ['Agreement.', 'For', 'the', 'avoidance', 'of', 'doubt,', 'Relevant', 'Terms', 'do', 'not'], ['include', 'rights', 'or', 'benefits', 'that', '(1)', 'are', 'granted', 'to', 'any'], ['Third', 'Party', 'Investor', 'in', 'connection', 'with', 'such', 'Third', 'Party', \"Investor's\"], ['legal,', 'regulatory', 'or', 'tax', 'status', 'that', 'is', 'not', 'DOC', 'ID'], ['-', '36972123.18', '-3-', 'Page', '3', 'shared', 'by,', 'nor', 'applicable', 'to,'], ['the', 'Investor', 'or', 'is', 'otherwise', 'based', 'upon', 'laws,', 'rules', 'or'], ['regulations', 'applicable', 'to', 'such', 'Third', 'Party', 'Investor', 'to', 'which', 'the'], ['Investor', 'is', 'not', 'also', 'subject,', '(2)', 'are', 'granted', 'based', 'on'], ['a', 'requirement', 'under', 'a', 'formal', 'written', 'policy', 'of', 'such', 'Third'], ['Party', 'Investor', 'unrelated', 'to', 'its', 'investment', 'in', 'the', 'Fund,', 'the'], ['Sister', 'Fund', 'or', 'the', 'SFRO', 'Feeder,', 'to', 'which', 'the', 'Investor'], ['is', 'also', 'not', 'subject,', '(3)', 'relate', 'to', 'any', 'representation', 'by'], ['such', 'Third', 'Party', 'Investor', 'on,', 'or', 'any', 'observer', 'rights', 'with'], ['respect', 'to,', 'the', 'Advisory', 'Board', '(including,', 'without', 'limitation,', 'designation', 'of'], ['a', 'representative', 'to', 'serve', 'as', 'a', 'member', 'of', 'the', 'Advisory'], ['Board', 'or', 'attend', 'meetings', 'of', 'the', 'Advisory', 'Board', 'or', 'receive'], ['or', 'have', 'access', 'to', 'any', 'materials', 'provided', 'to', 'the', 'Advisory'], ['Board),', 'unless', 'the', 'Limited', 'Partner', 'to', 'which', 'such', 'Applicable', 'Other'], ['Agreement', 'is', 'disclosed', 'has', 'also', 'designated', 'a', 'member', 'of', 'the'], ['Advisory', 'Board', 'or', '(4)', 'are', 'based', 'upon', 'such', 'Third', 'Party'], [\"Investor's\", 'place', 'of', 'organization', 'or', 'headquarters', 'or', 'organizational', 'form', '(in'], ['each', 'case,', 'if', 'different', 'from', 'that', 'of', 'the', 'Investor).', 'As'], ['used', 'herein,', 'the', 'following', 'terms', 'shall', 'have', 'the', 'following', 'meanings:'], ['\"Comparable', 'Investor\"', 'shall', 'mean', 'any', 'Third', 'Party', 'Investor', 'having', 'a'], ['Capital', 'Commitment', 'to', 'the', 'Fund,', 'the', 'Sister', 'Fund', 'or', 'the'], ['SFRO', 'Feeder', 'equal', 'to', 'or', 'less', 'than', 'the', \"Investor's\", 'aggregate'], ['Capital', 'Commitment', 'to', 'the', 'Fund,', 'the', 'Sister', 'Fund', 'or', 'the'], ['SFRO', 'Feeder;', 'provided', 'that', 'for', 'purposes', 'of', 'determining', 'whether', 'any'], ['Third', 'Party', 'Investor', 'is', 'a', 'Comparable', 'Investor,', 'the', 'investment', 'of'], ['such', 'Third', 'Party', 'Investor', 'in', 'the', 'Fund,', 'the', 'Sister', 'Fund'], ['or', 'the', 'SFRO', 'Feeder', 'may,', 'in', 'the', 'discretion', 'of', 'the'], ['General', 'Partner,', 'be', 'aggregated', 'with', 'the', 'aggregate', 'amount', 'of', 'Capital'], ['Commitments', 'to', 'the', 'Fund,', 'the', 'Sister', 'Fund', 'or', 'the', 'SFRO'], ['Feeder', 'by', 'any', 'Affiliates', 'thereof', 'and', 'any', 'other', 'related', 'Persons'], ['thereof', '(including', 'any', 'such', 'Persons', 'treated', 'as', 'affiliated', 'or', 'related'], ['for', 'such', 'purposes', 'as', 'a', 'result', 'of', 'being', 'clients', 'of,'], ['or', 'otherwise', 'managed', 'or', 'advised', 'by,', 'the', 'same', 'Person', 'or'], ['by', 'an', 'Affiliate', 'thereof)', 'and', 'the', 'aggregate', 'amount', 'of', 'any'], ['requested', 'subscription', 'amounts', 'of', 'the', 'Third', 'Party', 'Investor', 'or', 'any'], ['of', 'the', 'foregoing', 'which', 'were', 'not', 'accepted', 'due', 'to', 'legal'], ['or', 'regulatory', 'limitations', '(including,', 'without', 'limitation,', 'in', 'order', 'to', 'ensure'], ['that', 'the', 'aggregate', 'direct', 'and', 'indirect', 'Capital', 'Commitments', 'by', 'all'], ['Benefit', 'Plan', 'Investors', 'to', 'the', 'Fund,', 'the', 'Sister', 'Fund', 'or'], ['the', 'SFRO', 'Feeder', 'are', 'less', 'than', 'twenty-five', 'percent', '(25%)', 'of'], ['the', 'total', 'Capital', 'Commitments', 'to', 'such', 'vehicle),', 'in', 'each', 'case,'], ['to', 'the', 'extent', 'deemed', 'to', 'have', 'been', 'made', 'by', 'such'], ['Third', 'Party', 'Investor', 'for', 'purposes', 'of', 'its', 'Other', 'Agreement', 'as'], ['so', 'designated', 'therein;', 'A', 'Third', 'Party', 'Investor', 'that', 'has', 'materially'], ['less', 'U.S.', 'ownership', 'than', 'another', 'Third', 'Party', 'Investor', 'will', 'not'], ['be', 'considered', 'a', 'Comparable', 'Investor', 'with', 'respect', 'to', 'such', 'other'], ['Third', 'Party', 'Investor', 'solely', 'for', 'economic', 'purposes.', 'For', 'example,', 'a'], ['Third', 'Party', 'Investor', 'making', 'a', 'Capital', 'Commitment', 'comprised', 'of', '25%'], ['more', 'U.S.', 'ownership', 'than', 'another', 'Third', 'Party', 'Investor', 'making', 'a'], ['Capital', 'Commitment', 'of', 'the', 'same', 'size', 'would', 'not', 'be', 'considered'], ['Comparable', 'Investors', 'for', 'economic', 'purposes.', '\"Other', 'Agreements\"', 'shall', 'mean', 'side'], ['letters', 'or', 'similar', 'agreements', 'with', 'Limited', 'Partners', 'of', 'the', 'Fund,'], ['the', 'limited', 'partners', 'of', 'the', 'Sister', 'Fund', 'or', 'the', 'limited'], ['partners', 'of', 'the', 'SFRO', 'Feeder.', '\"Third', 'Party', 'Investor\"', 'means', 'any'], ['Person', 'that', 'subscribes', 'to', 'or', 'invests', 'in', 'the', 'Fund,', 'the'], ['Sister', 'Fund', 'or', 'the', 'SFRO', 'Feeder', 'other', 'than:', '(i)', 'any'], ['current', 'or', 'former', '(x)', 'member,', 'partner,', 'director,', 'officer,', 'employee,', 'principal,'], ['or', 'consultant', '(provided', 'such', 'consultant', 'is', 'generally', 'subject', 'to', 'AC'], [\"Partners'\", 'compliance', 'policies)', 'of', 'the', 'General', 'Partner,', 'the', 'Management', 'Company'], ['or', 'any', 'of', 'their', 'Affiliates,', 'or', '(y)', 'any', 'Related', 'Investor,'], ['or', 'other', 'account,', 'trust,', 'partnership', 'or', 'entity', 'primarily', 'for', 'the'], ['benefit', 'of', 'any', 'of', 'the', 'foregoing', 'or', 'any', 'of', 'their'], ['families;', '(ii)', 'any', 'Person', '(or', 'any', 'Persons', 'DOC', 'ID', '-'], ['36972123.18', '-4-', 'Page', '4', 'affiliated', 'with', 'or', 'related', 'to', 'such'], ['Person)', 'including,', 'without', 'limitation,', 'one', 'individual', 'who', 'may', 'assist', 'in'], ['raising', 'capital', 'through', 'such', \"individual's\", \"employer's\", 'private', 'client', 'platform', '(subject'], ['to', 'applicable', 'law', 'and', 'such', \"individual's\", \"employer's\", 'policies', 'and', 'procedures'], ['around', 'making', 'such', 'investments)', 'that', 'is', 'a', 'current', 'or', 'former'], ['joint', 'venture', 'partner', 'or', 'strategic', 'partner', 'of,', 'or', 'co-manager', 'or'], ['co-adviser', 'with,', 'the', 'General', 'Partner,', 'the', 'Management', 'Company', 'or', 'any'], ['of', 'their', 'Affiliates,', '(iii)', 'any', 'Person', '(or', 'any', 'Persons', 'affiliated'], ['with', 'or', 'related', 'to', 'such', 'Person)', 'currently', 'or', 'previously', 'serving'], ['or', 'having', 'representatives', 'on', 'any', 'investment', 'committee', '(or', 'similar', 'body'], ['or', 'structure', 'exercising', 'investment', 'discretion)', 'of', 'the', 'Fund,', 'the', 'Sister'], ['Fund', 'or', 'of', 'any', 'investment', 'fund,', 'vehicle', 'or', 'account', 'co-managed'], ['or', 'co-advised', 'by', 'the', 'General', 'Partner,', 'the', 'Management', 'Company', 'or'], ['any', 'of', 'their', 'Affiliates,', 'or', '(iv)', 'any', 'subsequent', 'successor,', 'heir'], ['or', 'assign', 'of', 'the', 'foregoing.', '3.', 'Capital', 'Commitments', 'by', 'Benefit'], ['Plan', 'Investors.', 'The', 'parties', 'hereto', 'acknowledge', 'that', 'the', 'Investor', 'has'], ['submitted', 'a', 'Subscription', 'Agreement', 'on', 'or', 'prior', 'to', 'the', 'date'], ['hereof', 'requesting', 'an', 'aggregate', 'Capital', 'Commitment', 'of', '$50', 'million', '(the'], ['\"Requested', 'Commitment\"),', 'and', 'the', 'Investor', 'shall', 'be', 'deemed', 'to', 'have'], ['such', 'Capital', 'Commitment', 'for', 'purposes', 'of', 'this', 'Letter', 'Agreement.', 'Notwithstanding'], ['the', 'foregoing,', 'the', 'parties', 'hereto', 'agree', 'that,', 'in', 'the', 'sole'], ['discretion', 'of', 'the', 'General', 'Partner,', 'the', 'Fund', 'shall', 'accept', 'less'], ['than', 'the', 'full', 'amount', 'of', 'the', \"Investor's\", 'Requested', 'Commitment', 'on'], ['the', 'date', 'hereof', 'in', 'order', 'to', 'ensure', 'that', 'the', 'aggregate'], ['direct', 'and', 'indirect', 'capital', 'commitments', 'by', 'all', 'Benefit', 'Plan', 'Investors'], ['to', 'the', 'Fund', 'are', 'less', 'than', '25%', 'of', 'the', 'total'], ['capital', 'commitments', 'to', 'the', 'Fund', '(excluding', 'any', 'capital', 'commitments', 'by'], ['the', 'General', 'Partner', 'or', 'its', 'Affiliates', 'to', 'the', 'Fund', 'or'], ['the', 'SFRO', 'Feeder).', 'In', 'such', 'event,', 'at', 'each', 'subsequent', 'Closing'], ['following', 'the', 'date', 'hereof,', 'the', 'General', 'Partner', 'shall', 'accept', 'additional'], ['portions', 'of', 'the', 'remaining', 'Requested', 'Commitment', 'of', 'the', 'Investor', '(each,'], ['an', '\"Adjustment\")', 'if', 'and', 'to', 'the', 'extent', 'that', 'the', 'General'], ['Partner,', 'in', 'its', 'sole', 'discretion,', 'determines', 'that', 'doing', 'so', 'would'], ['not', 'cause', 'the', 'aggregate', 'direct', 'and', 'indirect', 'capital', 'commitments', 'by'], ['all', 'Benefit', 'Plan', 'Investors', 'to', 'the', 'Fund', 'to', 'exceed', '25%'], ['of', 'the', 'total', 'capital', 'commitments', 'to', 'the', 'Fund', '(excluding', 'any'], ['capital', 'commitments', 'by', 'the', 'General', 'Partner', 'or', 'its', 'Affiliates', 'to'], ['the', 'Fund', 'or', 'the', 'SFRO', 'Feeder).', 'Such', 'Adjustments', 'shall', 'be'], ['accepted', 'by', 'the', 'General', 'Partner', 'on', 'not', 'less', 'than', 'a'], ['pro', 'rata', 'basis', 'with', 'any', 'similar', 'adjustments', 'for', 'any', 'other'], ['Benefit', 'Plan', 'Investors', 'whose', 'requested', 'Capital', 'Commitment', 'was', 'not', 'accepted'], ['in', 'full', 'on', 'or', 'prior', 'to', 'the', 'date', 'hereof.', 'Notwithstanding'], ['the', 'foregoing,', 'at', 'one', 'or', 'more', 'subsequent', 'Closings,', 'the', 'General'], ['Partner', 'may', 'admit', 'any', 'other', 'Benefit', 'Plan', 'Investor', 'as', 'a'], ['Limited', 'Partner', 'and', 'enter', 'into', 'an', 'Other', 'Agreement', 'with', 'such'], ['Benefit', 'Plan', 'Investor', 'that', 'provides', 'for', 'the', 'acceptance', 'of', 'such'], ['Benefit', 'Plan', \"Investor's\", 'Capital', 'Commitment', 'on', 'a', 'similarly', 'conditional', 'basis,'], ['provided', 'that', 'the', \"Fund's\", 'acceptance', 'of', 'such', 'Benefit', 'Plan', \"Investor's\"], ['Capital', 'Commitment', 'in', 'full', 'is', 'only', 'to', 'the', 'extent', 'that'], ['such', 'Capital', 'Commitment', 'is', 'later', 'in', 'priority', 'to', 'the', 'acceptance'], ['of', 'the', \"Investor's\", 'Requested', 'Commitment.', 'Other', 'than', 'as', 'set', 'forth'], ['in', 'this', 'Section', '3,', 'the', 'General', 'Partner', 'shall', 'not', 'accept'], ['Capital', 'Commitments', 'from', 'any', 'Benefit', 'Plan', 'Investors', 'until', 'such', 'time'], ['as', 'the', 'entire', 'amount', 'of', 'the', 'Requested', 'Commitment', 'has', 'been'], ['accepted.', 'For', 'the', 'avoidance', 'of', 'doubt,', '(i)', 'the', 'Requested', 'Commitment'], ['shall', 'be', 'irrevocable', 'by', 'the', 'Investor', 'and', '(ii)', 'the', 'Investor'], ['shall', 'be', 'obligated', 'to', 'fund', 'each', 'portion', 'of', 'the', 'Requested'], ['Commitment', 'that', 'is', 'accepted', 'by', 'the', 'Fund', 'at', 'each', 'subsequent'], ['Closing.', 'Further,', 'for', 'purposes', 'of', 'determining', 'the', 'Lock-Up', 'and', 'the'], ['Commitment', 'Lock-Up', 'Expiration', 'Date', 'applicable', 'to', 'the', \"Investor's\", 'Capital', 'Commitment,'], ['the', 'Investor', 'shall', 'be', 'deemed', 'to', 'have', 'made', 'its', 'entire'], ['Capital', 'Commitment', 'as', 'of', 'the', 'date', 'hereof.', 'DOC', 'ID', '-'], ['36972123.18', '-5-', 'Page', '5', '4.', 'Other', 'Agreements.', 'For', 'so', 'long'], ['as', 'the', 'Investor', 'holds', 'an', 'Interest', 'in', 'the', 'Fund,', 'to'], ['the', 'extent', 'that', 'any', 'Other', 'Agreement', 'is', 'entered', 'into', 'with'], ['a', 'Third', 'Party', 'Investor', 'with', 'respect', 'to', 'its', 'interest', 'in'], ['the', 'Fund,', 'and', 'a', 'copy', 'of', 'such', 'Other', 'Agreement', 'is'], ['not', 'required', 'to', 'be', 'provided', 'to', 'the', 'Investor', 'pursuant', 'to'], ['Section', '2', 'above,', 'then', 'in', 'such', 'event,', 'the', 'General', 'Partner'], ['shall', 'provide', 'to', 'the', 'Investor', 'a', 'copy', 'of', 'such', 'Other'], ['Agreement', '(which', 'such', 'copy', 'may', 'be', 'redacted', 'for', 'any', 'identifying'], ['information', 'with', 'respect', 'to', 'the', 'Third', 'Party', 'Investor', 'or', 'any'], ['other', 'information', 'not', 'relevant', 'hereto)', 'unless', 'the', 'General', 'Partner', 'is'], ['otherwise', 'restricted', 'by', 'confidentiality', 'or', 'non-', 'disclosure', 'obligations', 'with', 'respect'], ['to', 'the', 'provision', 'of', 'such', 'Other', 'Agreement.', '5.', 'Advisory', 'Board.'], ['In', 'consideration', 'of', 'the', \"Investor's\", 'admission', 'as', 'a', 'Limited', 'Partner'], ['and', 'for', 'so', 'long', 'as', 'the', 'Investor', 'is', 'a', 'Limited'], ['Partner', 'in', 'the', 'Fund', 'and', 'maintains', 'a', 'Capital', 'Commitment', 'of'], ['at', 'least', '$50', 'million', '(or', 'such', 'lesser', 'aggregate', 'amount', 'of'], ['the', \"Investor's\", 'Capital', 'Commitment', 'that', 'has', 'been', 'accepted', 'by', 'the'], ['General', 'Partner', 'in', 'accordance', 'with', 'Section', '3', 'above', 'as', 'of'], ['the', 'relevant', 'date),', 'and', 'is', 'not', 'a', 'Defaulting', 'Limited', 'Partner,'], ['the', 'General', 'Partner', 'agrees', 'that', 'the', 'Investor', 'shall', 'be', 'entitled'], ['to', 'designate', 'one', 'member', 'to', 'serve', 'on', 'a', 'committee', 'of'], ['the', 'Fund', 'established', 'pursuant', 'to', 'Section', '5.6', 'of', 'the', 'Limited'], ['Partnership', 'Agreement', '(the', '\"Advisory', 'Board\").', 'The', 'appointment', 'of', 'an', 'Advisory'], ['Board', 'member', 'pursuant', 'to', 'this', 'Section', '5', 'shall', 'be', 'effective'], ['upon', 'written', 'notice', 'from', 'the', 'Investor', 'to', 'the', 'Fund', 'of'], ['the', 'name', 'and', 'contact', 'information', 'of', 'the', 'individual', 'so', 'appointed.'], ['If', 'the', 'individual', 'appointed', 'pursuant', 'this', 'Section', '5', 'to', 'act'], ['as', 'the', 'Advisory', 'Board', 'member', 'is', 'no', 'longer', 'affiliated', 'with'], ['the', 'Investor,', 'or', 'no', 'longer', 'able', 'or', 'willing', 'to', 'act'], ['as', 'the', 'Advisory', 'Board', 'member,', 'the', 'Investor', 'shall', 'provide', 'prompt'], ['written', 'notice', 'thereof', 'to', 'the', 'Fund', 'and', 'such', 'Advisory', 'Board'], ['member', 'shall', 'automatically', 'be', 'removed.', 'The', 'Investor', 'shall', 'be', 'entitled'], ['to', 'remove', 'or', 'replace', 'any', 'Advisory', 'Board', 'member', 'at', 'any'], ['time', 'pursuant', 'to', 'prior', 'written', 'notice', 'provided', 'by', 'the', 'Investor'], ['to', 'the', 'General', 'Partner.', 'The', 'Investor', 'acknowledges', 'that', 'the', 'Advisory'], ['Board', 'member', 'shall', 'be', 'bound', 'by', 'the', 'confidentiality', 'provisions', 'described'], ['in', 'Section', '14.2', 'of', 'the', 'Limited', 'Partnership', 'Agreement.', 'The', 'Advisory'], ['Board', 'may', 'act', 'on', 'behalf', 'of', 'the', 'Fund', 'and', 'the'], ['Sister', 'Fund', 'if', 'requested', 'by', 'the', 'General', 'Partner,', 'provided', 'that'], ['in', 'the', 'event', 'the', 'Advisory', 'Board', 'acts', 'on', 'behalf', 'of'], ['the', 'Sister', 'Fund,', 'the', 'Advisory', 'Board', 'representative', 'appointed', 'by', 'the'], ['Investor', 'shall', 'be', 'indemnified', 'pursuant', 'to', 'a', 'separate', 'indemnification', 'agreement'], ['between', 'such', 'Advisory', 'Board', 'representative', 'and', 'the', 'Sister', 'Fund.', '6.'], ['Transfers.', 'In', 'connection', 'with', 'any', 'proposed', 'transfer', 'by', 'the', 'Investor'], ['of', 'all', 'or', 'a', 'portion', 'of', 'its', 'Interest', 'in', 'the'], ['Fund', 'to', 'a', 'Lockheed', 'Party', '(as', 'defined', 'below),', 'at', 'the'], ['request', 'of', 'the', 'Investor,', 'the', 'General', 'Partner', 'shall', 'not', 'unreasonably'], ['withhold', 'its', 'written', 'consent', 'to', 'such', 'transfer', 'and', 'the', \"transferee's\"], ['substitution', 'as', 'a', 'Limited', 'Partner,', 'as', 'required', 'by', 'the', 'Subscription'], ['Agreement;', 'provided', '(a)', 'such', 'transfer', 'will', 'not', 'result', 'in', 'a'], ['violation', 'of', 'any', 'applicable', 'laws,', 'rules', 'or', 'regulations', 'or', 'have'], ['any', 'material', 'adverse', 'impact', '(whether', 'legal,', 'financial,', 'tax,', 'regulatory,', 'or'], ['otherwise)', 'on', 'the', 'Fund,', 'the', 'Management', 'Company', 'or', 'the', 'General'], ['Partner,', 'as', 'determined', 'by', 'the', 'General', 'Partner,', '(b)', 'such', 'transferee'], ['is', 'not', 'a', 'competitor', 'of', '(directly', 'or', 'indirectly)', 'or', 'otherwise'], ['affiliated', 'with', 'any', 'competitor', 'of', 'the', 'Fund,', 'the', 'General', 'Partner,'], ['the', 'Management', 'Company', 'or', 'their', 'respective', 'Affiliates,', 'as', 'determined', 'in'], ['good', 'faith', 'by', 'the', 'General', 'Partner,', '(c)', 'such', 'transferee', 'is'], ['determined', 'to', 'be', 'sufficiently', 'creditworthy', 'to', 'assume', 'the', 'Limited', \"Partner's\"], ['obligations', 'with', 'respect', 'to', 'the', 'Interest', 'being', 'transferred', 'and', 'clears'], ['any', 'anti-money', 'laundering', '(AML),', 'know', 'your', 'customer', '(KYC)', 'and', 'similar'], ['reviews', 'conducted', 'by', 'or', 'on', 'behalf', 'of', 'the', 'Fund', 'or'], ['its', 'administrator', 'and', 'consistent', 'with', 'their', 'policies', 'and', 'procedures,', 'and'], ['(d)', 'such', 'transfer', 'is', 'documented', 'in', 'writing', 'in', 'a', 'form'], ['reasonably', 'DOC', 'ID', '-', '36972123.18', '-6-', 'Page', '6', 'acceptable', 'to'], ['the', 'General', 'Partner', 'and', 'such', 'transferee', 'makes', 'such', 'representations,', 'warranties,'], ['covenants', 'and', 'undertakings', 'as', 'may', 'be', 'reasonably', 'required', 'by', 'the'], ['General', 'Partner', 'in', 'connection', 'with', 'such', 'transfer,', 'including', 'representations,', 'warranties,'], ['covenants', 'and', 'undertakings', 'comparable', 'to', 'those', 'included', 'in', 'the', \"Investor's\"], ['Subscription', 'Agreement.', 'The', 'rights', 'and', 'obligations', 'arising', 'under', 'this', 'Letter'], ['Agreement', 'may', 'be', 'assigned', 'by', 'the', 'Investor', 'to', 'any', 'such'], ['transferee,', 'and', 'will', 'apply', 'equally', 'to', 'such', 'transferee,', 'in', 'connection'], ['with', 'such', 'transfer;', 'provided,', 'however,', 'that', 'the', 'rights', 'arising']]\n",
      "[[0, 0, 1, 2, 15, 2, 16, 16, 0, 11, 12], [12, 11, 0, 11, 12, 12, 3, 0, 4, 7], [7, 11, 12, 12, 0, 0, 0, 0, 0, 0], [0, 1, 2, 15, 2, 16, 0, 0, 1, 15], [14, 0, 0, 0, 13, 14, 0, 13, 0, 0], [0, 0, 0, 0, 0, 0, 0, 0, 7, 0], [0, 0, 0, 15, 14, 0, 0, 0, 2, 0], [0, 0, 0, 0, 0, 0, 0, 0, 0, 0], [0, 0, 0, 0, 0, 0, 13, 0, 14, 15], [14, 14, 0, 0, 2, 0, 0, 0, 3, 0], [4, 0, 13, 14, 0, 0, 14, 14, 0, 0], [15, 0, 0, 2, 0, 0, 0, 0, 0, 0], [0, 13, 0, 0, 0, 0, 0, 0, 0, 0], [0, 0, 0, 0, 0, 0, 0, 0, 0, 0], [0, 15, 0, 0, 0, 0, 0, 0, 0, 0], [0, 0, 0, 0, 0, 0, 0, 13, 0, 1], [16, 16, 0, 0, 0, 1, 15, 2, 2, 0], [15, 0, 0, 0, 0, 0, 0, 0, 0, 0], [0, 0, 0, 0, 0, 15, 0, 0, 0, 0], [1, 0, 0, 0, 0, 15, 0, 0, 0, 0], [0, 0, 0, 0, 0, 0, 0, 0, 0, 0], [0, 0, 0, 0, 0, 15, 0, 0, 3, 0], [4, 0, 0, 0, 0, 0, 0, 1, 0, 0], [0, 0, 15, 0, 0, 0, 0, 0, 0, 0], [0, 0, 0, 0, 0, 0, 0, 0, 0, 0], [0, 0, 0, 0, 0, 0, 0, 0, 0, 0], [0, 0, 0, 0, 0, 0, 0, 0, 0, 15], [16, 0, 0, 0, 0, 15, 0, 0, 0, 13], [14, 0, 0, 0, 0, 0, 0, 0, 0, 0], [15, 15, 0, 0, 0, 0, 1, 2, 15, 2], [16, 16, 0, 1, 0, 0, 0, 16, 15, 0], [15, 0, 1, 0, 0, 0, 0, 0, 0, 0], [0, 0, 13, 14, 0, 15, 0, 0, 13, 0], [0, 0, 0, 0, 0, 0, 13, 14, 0, 0], [0, 0, 15, 15, 0, 0, 0, 0, 0, 0], [0, 0, 0, 0, 0, 15, 15, 0, 0, 0], [0, 0, 0, 0, 15, 15, 0, 0, 0, 0], [0, 0, 0, 0, 0, 0, 15, 0, 0, 13], [14, 0, 0, 15, 14, 0, 0, 15, 0, 0], [0, 0, 0, 15, 16, 0, 0, 5, 6, 0], [0, 0, 0, 0, 0, 0, 0, 0, 13, 0], [0, 0, 0, 0, 0, 0, 0, 0, 0, 13], [14, 0, 0, 0, 0, 0, 0, 0, 0, 0], [0, 0, 15, 0, 0, 0, 0, 0, 0, 0], [0, 0, 0, 0, 0, 13, 14, 0, 0, 0], [0, 0, 0, 0, 0, 0, 0, 0, 0, 0], [0, 0, 0, 0, 0, 0, 0, 0, 0, 13], [14, 0, 0, 0, 0, 0, 0, 0, 0, 0], [0, 0, 0, 0, 0, 0, 0, 0, 0, 0], [15, 16, 15, 0, 0, 0, 0, 15, 16, 13], [0, 0, 0, 0, 0, 0, 0, 0, 15, 16], [0, 16, 0, 0, 16, 0, 0, 0, 0, 0], [0, 15, 0, 0, 0, 0, 0, 0, 0, 0], [0, 0, 0, 0, 15, 16, 15, 0, 0, 0], [15, 0, 0, 0, 0, 0, 0, 0, 0, 0], [0, 0, 0, 0, 0, 0, 0, 0, 0, 15], [16, 15, 0, 0, 0, 1, 0, 0, 0, 0], [1, 2, 0, 0, 1, 0, 0, 0, 0, 15], [0, 0, 0, 0, 0, 0, 0, 0, 0, 0], [0, 15, 16, 15, 0, 0, 0, 0, 0, 0], [0, 0, 0, 1, 2, 0, 0, 0, 0, 0], [0, 0, 0, 0, 0, 0, 0, 0, 0, 1], [2, 0, 0, 0, 0, 0, 1, 2, 0, 0], [0, 0, 0, 0, 0, 0, 0, 0, 0, 1], [0, 0, 0, 15, 16, 0, 0, 0, 0, 13], [14, 0, 0, 0, 0, 0, 0, 0, 0, 0], [1, 2, 0, 0, 0, 0, 0, 0, 15, 16], [13, 0, 0, 0, 0, 0, 0, 0, 0, 0], [0, 0, 0, 0, 0, 0, 0, 0, 0, 0], [0, 0, 0, 0, 0, 0, 0, 0, 0, 0], [15, 16, 0, 0, 0, 15, 16, 15, 0, 0], [16, 16, 0, 0, 0, 0, 1, 2, 0, 0], [1, 2, 0, 0, 0, 0, 0, 0, 13, 0], [16, 16, 0, 0, 0, 0, 1, 2, 0, 0], [1, 0, 0, 0, 0, 0, 0, 0, 0, 0], [15, 16, 15, 0, 0, 15, 0, 0, 1, 0], [0, 15, 16, 15, 0, 0, 0, 0, 1, 2], [0, 0, 1, 2, 0, 0, 0, 0, 0, 0], [15, 0, 0, 0, 0, 0, 0, 0, 0, 16], [16, 0, 0, 0, 0, 1, 2, 0, 0, 1], [2, 0, 0, 0, 0, 0, 0, 0, 0, 0], [0, 0, 0, 0, 0, 0, 0, 0, 0, 0], [0, 0, 0, 0, 0, 0, 0, 0, 0, 0], [0, 0, 0, 0, 0, 0, 0, 0, 0, 0], [0, 0, 0, 0, 0, 0, 0, 0, 0, 0], [0, 0, 0, 0, 0, 15, 16, 15, 0, 0], [0, 0, 0, 0, 0, 0, 0, 0, 0, 0], [0, 0, 0, 0, 0, 0, 0, 0, 0, 0], [0, 0, 0, 0, 0, 0, 16, 16, 0, 0], [0, 0, 15, 0, 0, 0, 0, 1, 2, 0], [0, 1, 2, 0, 0, 0, 15, 16, 0, 0], [0, 0, 16, 16, 0, 0, 0, 0, 0, 0], [0, 0, 0, 0, 0, 0, 0, 0, 0, 0], [15, 16, 15, 0, 0, 0, 0, 13, 14, 0], [0, 0, 0, 0, 15, 16, 15, 0, 0, 0], [0, 11, 0, 0, 0, 15, 16, 15, 0, 0], [0, 0, 0, 15, 15, 0, 0, 0, 0, 0], [15, 16, 15, 0, 0, 0, 0, 0, 0, 0], [15, 16, 15, 0, 0, 16, 16, 0, 0, 0], [0, 11, 0, 0, 0, 15, 16, 15, 0, 0], [16, 16, 0, 0, 0, 0, 0, 0, 0, 0], [15, 15, 0, 0, 0, 15, 16, 0, 0, 0], [0, 0, 0, 0, 0, 15, 16, 0, 0, 0], [0, 15, 16, 0, 0, 1, 2, 0, 0, 15], [16, 0, 0, 1, 2, 15, 16, 16, 0, 0], [0, 0, 0, 0, 0, 0, 0, 0, 0, 0], [1, 2, 0, 0, 1, 2, 0, 0, 0, 0], [0, 0, 0, 0, 0, 0, 0, 0, 0, 0], [0, 0, 0, 0, 0, 0, 0, 0, 0, 0], [0, 0, 0, 0, 0, 15, 0, 0, 1, 2], [0, 0, 0, 0, 0, 0, 0, 0, 0, 0], [0, 0, 0, 0, 14, 0, 0, 0, 0, 0], [0, 0, 0, 0, 0, 0, 0, 0, 0, 0], [0, 0, 0, 0, 0, 0, 0, 15, 16, 0], [16, 0, 0, 0, 0, 0, 0, 0, 0, 0], [0, 0, 0, 0, 0, 0, 0, 0, 0, 0], [0, 0, 0, 0, 0, 0, 0, 0, 0, 0], [0, 0, 0, 0, 0, 0, 0, 0, 0, 0], [0, 0, 0, 0, 0, 0, 0, 0, 0, 0], [0, 0, 0, 0, 0, 0, 0, 0, 7, 0], [7, 0, 0, 15, 0, 0, 1, 2, 0, 0], [0, 0, 0, 0, 0, 0, 0, 0, 0, 0], [0, 0, 0, 0, 0, 0, 0, 0, 0, 0], [0, 0, 0, 0, 0, 1, 2, 0, 0, 0], [0, 0, 0, 1, 0, 0, 0, 0, 0, 1], [2, 0, 0, 0, 1, 0, 0, 0, 0, 0], [0, 0, 0, 0, 15, 0, 0, 1, 2, 0], [0, 0, 0, 0, 0, 0, 0, 0, 0, 0], [0, 0, 0, 0, 0, 0, 16, 16, 0, 0], [0, 0, 0, 0, 0, 0, 0, 0, 15, 0], [0, 0, 14, 14, 0, 0, 0, 0, 0, 0], [0, 0, 0, 0, 16, 16, 0, 0, 10, 0], [0, 0, 0, 0, 15, 0, 0, 0, 0, 0], [0, 16, 16, 0, 0, 0, 0, 13, 14, 0], [0, 0, 0, 0, 0, 0, 0, 0, 0, 0], [0, 0, 0, 15, 0, 0, 2, 0, 0, 0], [0, 0, 0, 0, 0, 0, 13, 0, 16, 0], [0, 0, 0, 0, 0, 0, 0, 0, 0, 0], [0, 0, 0, 0, 0, 0, 0, 0, 0, 15], [0, 0, 2, 0, 0, 0, 0, 0, 0, 0], [0, 0, 0, 0, 2, 0, 0, 0, 0, 0], [0, 15, 16, 0, 0, 0, 0, 0, 2, 0], [0, 1, 0, 0, 0, 0, 0, 0, 0, 0], [0, 0, 0, 0, 0, 15, 16, 0, 0, 0], [0, 0, 0, 0, 0, 16, 0, 0, 15, 0], [0, 0, 0, 0, 0, 0, 0, 0, 0, 15], [0, 0, 0, 0, 0, 0, 0, 0, 0, 0], [0, 0, 0, 0, 0, 0, 0, 0, 0, 0], [0, 0, 0, 15, 0, 0, 2, 0, 0, 0], [0, 0, 0, 0, 0, 0, 0, 2, 0, 0], [0, 0, 0, 0, 15, 16, 0, 0, 0, 0], [0, 2, 0, 0, 1, 0, 0, 0, 0, 0], [0, 0, 0, 15, 16, 0, 0, 0, 0, 0], [0, 0, 0, 0, 0, 0, 0, 0, 0, 0], [0, 0, 15, 0, 0, 16, 16, 0, 0, 0], [0, 0, 0, 0, 0, 0, 0, 0, 0, 0], [0, 0, 0, 0, 0, 0, 0, 0, 0, 15], [16, 0, 0, 0, 0, 0, 0, 15, 0, 0], [15, 16, 0, 0, 0, 0, 13, 14, 0, 0], [0, 0, 15, 0, 0, 0, 0, 0, 0, 0], [0, 0, 13, 16, 16, 0, 0, 0, 0, 0], [0, 0, 0, 0, 0, 0, 0, 0, 0, 13], [16, 16, 0, 0, 0, 0, 0, 0, 0, 0], [0, 16, 16, 0, 0, 0, 0, 0, 0, 0], [0, 0, 13, 0, 0, 13, 0, 0, 0, 0], [0, 0, 15, 0, 0, 15, 16, 0, 0, 0], [16, 16, 0, 0, 0, 0, 15, 0, 0, 0], [0, 0, 0, 0, 0, 0, 0, 16, 0, 0], [0, 0, 0, 0, 0, 0, 0, 0, 0, 16], [0, 0, 0, 0, 0, 15, 0, 0, 0, 15], [0, 0, 0, 0, 0, 0, 0, 0, 0, 0], [16, 0, 0, 0, 0, 0, 2, 0, 0, 0], [0, 0, 0, 0, 0, 0, 0, 0, 0, 0], [16, 0, 0, 0, 0, 0, 0, 13, 16, 0], [0, 15, 0, 0, 0, 0, 0, 0, 0, 0], [16, 16, 0, 0, 0, 0, 0, 15, 16, 0], [16, 0, 0, 16, 0, 13, 14, 0, 0, 0], [0, 0, 15, 0, 0, 0, 0, 0, 0, 0], [0, 0, 0, 0, 13, 14, 0, 0, 0, 0], [0, 15, 16, 15, 0, 0, 0, 0, 0, 0], [0, 0, 0, 0, 0, 0, 0, 13, 14, 0], [0, 0, 0, 0, 0, 0, 0, 15, 0, 0], [15, 0, 0, 0, 0, 0, 0, 0, 15, 16], [0, 0, 0, 0, 15, 0, 0, 0, 0, 13], [14, 0, 0, 0, 0, 0, 0, 0, 0, 0], [0, 0, 0, 0, 0, 15, 16, 15, 0, 0], [0, 0, 0, 0, 0, 0, 0, 15, 16, 0], [0, 0, 0, 0, 0, 0, 0, 0, 0, 0], [0, 0, 0, 0, 0, 13, 14, 0, 1, 2], [0, 0, 0, 0, 13, 0, 0, 0, 15, 16], [0, 0, 0, 0, 0, 0, 15, 0, 0, 15], [16, 0, 0, 2, 0, 0, 0, 16, 16, 0], [0, 0, 0, 10, 0, 0, 0, 0, 0, 0], [0, 13, 16, 16, 0, 0, 0, 0, 0, 0], [15, 16, 0, 0, 0, 15, 16, 0, 0, 0], [0, 0, 0, 0, 0, 0, 0, 0, 15, 0], [0, 15, 16, 0, 0, 0, 15, 0, 0, 0], [0, 0, 0, 0, 0, 0, 0, 0, 2, 0], [0, 2, 0, 0, 0, 15, 16, 0, 0, 15], [14, 14, 0, 1, 0, 0, 0, 0, 0, 1], [2, 0, 0, 0, 0, 15, 16, 0, 0, 0], [0, 0, 0, 0, 0, 15, 0, 0, 2, 0], [0, 0, 0, 0, 0, 0, 0, 0, 0, 0], [0, 0, 0, 0, 0, 0, 15, 16, 0, 0], [0, 0, 1, 2, 0, 0, 0, 0, 0, 0], [0, 0, 0, 0, 0, 0, 0, 0, 0, 0], [0, 0, 1, 2, 0, 0, 15, 0, 0, 0], [0, 0, 0, 0, 0, 2, 0, 0, 1, 2], [0, 0, 0, 0, 0, 0, 15, 0, 0, 0], [0, 0, 0, 0, 0, 1, 2, 0, 0, 0], [0, 0, 0, 0, 0, 0, 0, 0, 0, 15], [0, 0, 15, 16, 0, 15, 0, 0, 0, 1], [2, 0, 0, 0, 0, 0, 0, 0, 0, 0], [0, 15, 16, 0, 0, 15, 14, 14, 0, 1], [2, 0, 0, 0, 0, 0, 0, 2, 0, 0], [1, 2, 0, 0, 0, 0, 15, 0, 0, 0], [0, 0, 0, 0, 1, 2, 0, 0, 0, 0], [0, 1, 0, 0, 1, 2, 0, 0, 0, 0], [15, 0, 0, 0, 0, 0, 0, 0, 13, 14], [0, 0, 1, 2, 0, 0, 0, 1, 2, 0], [0, 0, 0, 0, 0, 0, 0, 0, 0, 15], [0, 0, 0, 0, 0, 0, 0, 0, 0, 0], [2, 0, 0, 15, 16, 0, 0, 0, 0, 0], [0, 0, 0, 0, 0, 15, 16, 0, 0, 0], [0, 0, 0, 0, 0, 0, 0, 0, 0, 0], [0, 0, 0, 15, 0, 0, 0, 0, 0, 14], [0, 0, 0, 0, 0, 0, 0, 0, 0, 0], [0, 0, 0, 0, 0, 0, 0, 0, 0, 0], [0, 0, 0, 0, 0, 0, 0, 0, 0, 0], [0, 0, 0, 0, 0, 1, 2, 0, 0, 15], [0, 0, 0, 0, 0, 15, 0, 0, 0, 0], [0, 0, 0, 0, 0, 0, 0, 0, 0, 0], [0, 0, 0, 0, 0, 0, 0, 0, 15, 0], [0, 1, 2, 0, 0, 0, 0, 0, 0, 0], [0, 0, 0, 0, 15, 0, 0, 0, 0, 0], [0, 0, 0, 0, 0, 0, 0, 0, 15, 16], [0, 0, 0, 0, 0, 0, 0, 0, 0, 0], [0, 15, 16, 0, 15, 16, 16, 0, 0, 0], [0, 0, 0, 0, 0, 0, 0, 0, 2, 0], [0, 0, 0, 0, 0, 0, 0, 0, 0, 0], [0, 0, 0, 0, 0, 0, 0, 0, 0, 0], [0, 15, 16, 0, 16, 0, 0, 0, 0, 0], [0, 15, 16, 0, 0, 0, 0, 0, 0, 0], [0, 0, 0, 0, 0, 0, 0, 0, 0, 0], [15, 16, 0, 0, 0, 0, 0, 0, 0, 0], [0, 0, 0, 0, 0, 0, 0, 0, 0, 13], [14, 14, 0, 0, 0, 0, 0, 0, 0, 13], [14, 0, 0, 0, 0, 0, 15, 0, 0, 0], [0, 0, 0, 0, 0, 0, 0, 0, 0, 0], [0, 0, 0, 0, 0, 0, 0, 0, 0]]\n"
     ]
    }
   ],
   "source": [
    "all_tokens_array = []\n",
    "numbered_labels_array = []\n",
    "\n",
    "temp1 = []\n",
    "temp2 = []\n",
    "for i in range(len(all_tokens)):\n",
    "  temp1.append(all_tokens[i])\n",
    "  temp2.append(numbered_labels[i])\n",
    "  if i%10 == 0 and i != 0:\n",
    "    all_tokens_array.append(temp1)\n",
    "    numbered_labels_array.append(temp2)\n",
    "    temp1 = []\n",
    "    temp2 = []\n",
    "all_tokens_array.append(temp1)\n",
    "numbered_labels_array.append(temp2)\n",
    "\n",
    "\n",
    "print(all_tokens_array)\n",
    "print(numbered_labels_array)"
   ]
  },
  {
   "cell_type": "code",
   "execution_count": 7,
   "metadata": {
    "colab": {
     "base_uri": "https://localhost:8080/"
    },
    "id": "piHTq6s4dZVS",
    "outputId": "0458d57e-f0bb-42de-94d1-edd9ea97aace"
   },
   "outputs": [
    {
     "name": "stdout",
     "output_type": "stream",
     "text": [
      "{'NONE': 0, 'B-ORG': 1, 'I-ORG': 2, 'B-DATE': 3, 'I-DATE': 4, 'B-TIME': 5, 'I-TIME': 6, 'B-PER': 7, 'I-PER': 8, 'B-CURR': 9, 'I-CURR': 10, 'B-LOC': 11, 'I-LOC': 12, 'B-AGRE': 13, 'I-AGRE': 14, 'B-MISC': 15, 'I-MISC': 16}\n"
     ]
    }
   ],
   "source": [
    "print(classes_dict)"
   ]
  },
  {
   "cell_type": "code",
   "execution_count": 8,
   "metadata": {
    "colab": {
     "base_uri": "https://localhost:8080/"
    },
    "id": "i7OIKlNFag43",
    "outputId": "cbac058a-0100-4eda-b1aa-35a74083019f"
   },
   "outputs": [
    {
     "name": "stdout",
     "output_type": "stream",
     "text": [
      "DatasetDict({\n",
      "    train: Dataset({\n",
      "        features: ['tokens', 'labels'],\n",
      "        num_rows: 250\n",
      "    })\n",
      "})\n"
     ]
    }
   ],
   "source": [
    "data_dict = {\n",
    "    \"tokens\" : all_tokens_array,\n",
    "    \"labels\" : numbered_labels_array\n",
    "}\n",
    "\n",
    "dataset = Dataset.from_dict(data_dict)\n",
    "\n",
    "dataset_dict = DatasetDict({\"train\": dataset})\n",
    "\n",
    "print(dataset_dict)"
   ]
  },
  {
   "cell_type": "code",
   "execution_count": 9,
   "metadata": {
    "colab": {
     "base_uri": "https://localhost:8080/"
    },
    "id": "EsOoXdkMfA46",
    "outputId": "a9cf1824-ace3-452b-ee3a-32abe37048fd"
   },
   "outputs": [
    {
     "data": {
      "text/plain": [
       "{'tokens': ['$50,000,000',\n",
       "  'as',\n",
       "  'of',\n",
       "  'the',\n",
       "  'date',\n",
       "  'hereof',\n",
       "  '(the',\n",
       "  '\"Capital',\n",
       "  'Commitment\"),',\n",
       "  'Inveniam'],\n",
       " 'labels': [0, 0, 0, 0, 0, 0, 0, 13, 0, 1]}"
      ]
     },
     "execution_count": 9,
     "metadata": {},
     "output_type": "execute_result"
    }
   ],
   "source": [
    "dataset_dict['train'][15]"
   ]
  },
  {
   "cell_type": "code",
   "execution_count": 89,
   "metadata": {
    "id": "BUSfs92hMhc9"
   },
   "outputs": [],
   "source": [
    "model_id = \"roberta-base\"\n",
    "tokenizer = RobertaTokenizerFast.from_pretrained(model_id, add_prefix_space=True)"
   ]
  },
  {
   "cell_type": "code",
   "execution_count": 11,
   "metadata": {
    "colab": {
     "base_uri": "https://localhost:8080/"
    },
    "id": "tXAafDulQKMX",
    "outputId": "da1fcdb4-b74a-423d-cdfb-14670fe88915"
   },
   "outputs": [
    {
     "data": {
      "text/plain": [
       "['<s>',\n",
       " 'Ġ$',\n",
       " '50',\n",
       " ',',\n",
       " '000',\n",
       " ',',\n",
       " '000',\n",
       " 'Ġas',\n",
       " 'Ġof',\n",
       " 'Ġthe',\n",
       " 'Ġdate',\n",
       " 'Ġhere',\n",
       " 'of',\n",
       " 'Ġ(',\n",
       " 'the',\n",
       " 'Ġ\"',\n",
       " 'Capital',\n",
       " 'ĠCommit',\n",
       " 'ment',\n",
       " '\"),',\n",
       " 'ĠIn',\n",
       " 'ven',\n",
       " 'iam',\n",
       " '</s>']"
      ]
     },
     "execution_count": 11,
     "metadata": {},
     "output_type": "execute_result"
    }
   ],
   "source": [
    "inputs = tokenizer(dataset_dict[\"train\"][15][\"tokens\"], is_split_into_words=True,)\n",
    "inputs.tokens()"
   ]
  },
  {
   "cell_type": "code",
   "execution_count": 72,
   "metadata": {
    "id": "2RrIzyYaS_po"
   },
   "outputs": [],
   "source": [
    "def align_labels_with_tokens(labels, word_ids):\n",
    "    new_labels = []\n",
    "    current_word = None\n",
    "    for word_id in word_ids:\n",
    "        if word_id != current_word:\n",
    "            # Start of a new word!\n",
    "            current_word = word_id\n",
    "            label = -100 if word_id is None else labels[word_id]\n",
    "            new_labels.append(label)\n",
    "        elif word_id is None:\n",
    "            # Special token\n",
    "            new_labels.append(-100)\n",
    "        else:\n",
    "            # Same word as previous token\n",
    "            label = labels[word_id]\n",
    "            # If the label is B-XXX we change it to I-XXX\n",
    "            if label % 2 == 1:\n",
    "                label += 1\n",
    "            new_labels.append(label)\n",
    "\n",
    "    return new_labels"
   ]
  },
  {
   "cell_type": "code",
   "execution_count": 73,
   "metadata": {
    "colab": {
     "base_uri": "https://localhost:8080/"
    },
    "id": "bhCP3K2UcJg3",
    "outputId": "ed06721c-0bf8-465a-950d-cedec7df4271"
   },
   "outputs": [
    {
     "name": "stdout",
     "output_type": "stream",
     "text": [
      "['<s>', 'ĠTrade', 'ĠNew', 'ĠYork', ',', 'ĠNew', 'ĠYork', 'Ġ100', '22', 'ĠJanuary', 'Ġ1', ',', 'Ġ2019', 'ĠMaria', '</s>']\n",
      "['Trade', 'New', 'York,', 'New', 'York', '10022', 'January', '1,', '2019', 'Maria']\n",
      "[12, 11, 0, 11, 12, 12, 3, 0, 4, 7]\n",
      "[None, 0, 1, 2, 2, 3, 4, 5, 5, 6, 7, 7, 8, 9, None]\n",
      "[-100, 12, 11, 0, 0, 11, 12, 12, 12, 3, 0, 0, 4, 7, -100]\n"
     ]
    }
   ],
   "source": [
    "inputs = tokenizer(dataset_dict[\"train\"][1][\"tokens\"], is_split_into_words=True,)\n",
    "print(inputs.tokens())\n",
    "print(dataset_dict[\"train\"][1][\"tokens\"])\n",
    "print(dataset_dict['train'][1]['labels'])\n",
    "print(inputs.word_ids())\n",
    "print(align_labels_with_tokens(dataset_dict['train'][1]['labels'], inputs.word_ids()))"
   ]
  },
  {
   "cell_type": "code",
   "execution_count": 79,
   "metadata": {},
   "outputs": [
    {
     "name": "stdout",
     "output_type": "stream",
     "text": [
      "[0, 0, 15, 0, 0, 0, 0, 0, 0, 0]\n",
      "[-100, 0, 0, 15, 16, 0, 0, 0, 0, 0, 0, 0, 0, 0, -100]\n"
     ]
    }
   ],
   "source": [
    "labels = dataset_dict[\"train\"][23][\"labels\"]\n",
    "word_ids = inputs.word_ids()\n",
    "print(labels)\n",
    "print(align_labels_with_tokens(labels, word_ids))"
   ]
  },
  {
   "cell_type": "code",
   "execution_count": 74,
   "metadata": {
    "colab": {
     "base_uri": "https://localhost:8080/"
    },
    "id": "cqdHGbUzUUzX",
    "outputId": "b00a2902-24d4-4cf6-bb95-bdbdd9715a73"
   },
   "outputs": [],
   "source": [
    "# print(dataset_dict['train']['labels'])"
   ]
  },
  {
   "cell_type": "code",
   "execution_count": 90,
   "metadata": {
    "id": "Tyuj8zQ0cdd5"
   },
   "outputs": [],
   "source": [
    "def tokenizer_function(dataset):\n",
    "  out = tokenizer(dataset['tokens'],truncation=True,is_split_into_words=True,)\n",
    "#   print(\"out ----> \", out)\n",
    "  out['labels'] = align_labels_with_tokens(dataset['labels'],out.word_ids())\n",
    "  return out"
   ]
  },
  {
   "cell_type": "code",
   "execution_count": 91,
   "metadata": {},
   "outputs": [
    {
     "data": {
      "text/plain": [
       "{'tokens': ['$50,000,000',\n",
       "  'as',\n",
       "  'of',\n",
       "  'the',\n",
       "  'date',\n",
       "  'hereof',\n",
       "  '(the',\n",
       "  '\"Capital',\n",
       "  'Commitment\"),',\n",
       "  'Inveniam'],\n",
       " 'labels': [0, 0, 0, 0, 0, 0, 0, 13, 0, 1]}"
      ]
     },
     "execution_count": 91,
     "metadata": {},
     "output_type": "execute_result"
    }
   ],
   "source": [
    "dataset_dict['train'][15]"
   ]
  },
  {
   "cell_type": "code",
   "execution_count": 92,
   "metadata": {
    "colab": {
     "base_uri": "https://localhost:8080/",
     "height": 185
    },
    "id": "Ay8_f_2Ji8Mu",
    "outputId": "117af963-4606-4921-9d3d-a93a0077730d"
   },
   "outputs": [
    {
     "data": {
      "application/vnd.jupyter.widget-view+json": {
       "model_id": "",
       "version_major": 2,
       "version_minor": 0
      },
      "text/plain": [
       "Map:   0%|          | 0/250 [00:00<?, ? examples/s]"
      ]
     },
     "metadata": {},
     "output_type": "display_data"
    }
   ],
   "source": [
    "# print(dataset_dict)\n",
    "tokenized_dataset = dataset_dict.map(tokenizer_function, remove_columns=['tokens'])"
   ]
  },
  {
   "cell_type": "code",
   "execution_count": 96,
   "metadata": {
    "id": "miDNxMmcjFOV"
   },
   "outputs": [],
   "source": [
    "# tokenized_dataset['train'][15]"
   ]
  },
  {
   "cell_type": "code",
   "execution_count": null,
   "metadata": {},
   "outputs": [],
   "source": [
    "data_collator = DataCollatorForTokenClassification(\n",
    "    tokenizer=tokenizer, return_tensors=\"tf\"\n",
    ")"
   ]
  }
 ],
 "metadata": {
  "colab": {
   "provenance": []
  },
  "kernelspec": {
   "display_name": "Python 3 (ipykernel)",
   "language": "python",
   "name": "python3"
  },
  "language_info": {
   "codemirror_mode": {
    "name": "ipython",
    "version": 3
   },
   "file_extension": ".py",
   "mimetype": "text/x-python",
   "name": "python",
   "nbconvert_exporter": "python",
   "pygments_lexer": "ipython3",
   "version": "3.9.16"
  }
 },
 "nbformat": 4,
 "nbformat_minor": 1
}
